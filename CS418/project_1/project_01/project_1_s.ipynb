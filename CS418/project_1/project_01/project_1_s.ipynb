{
 "cells": [
  {
   "cell_type": "code",
   "execution_count": 1,
   "metadata": {},
   "outputs": [],
   "source": [
    "import pandas as pd\n",
    "import numpy as np\n",
    "import scipy.stats as st\n",
    "import matplotlib.pyplot as plt\n",
    "import seaborn as sns"
   ]
  },
  {
   "cell_type": "code",
   "execution_count": 2,
   "metadata": {},
   "outputs": [],
   "source": [
    "states_map = {\n",
    "    'AZ':'Arizona',\n",
    "    'CT':'Connecticut',\n",
    "    'DE':'Delaware',\n",
    "    'FL':'Florida',\n",
    "    'HI':'Hawaii',\n",
    "    'IN':'Indiana',\n",
    "    'MA':'Massachusetts',\n",
    "    'MD':'Maryland',\n",
    "    'ME':'Maine',\n",
    "    'MI':'Michigan',\n",
    "    'MN':'Minnesota',\n",
    "    'MT':'Montana',\n",
    "    'ND':'North Dakota',\n",
    "    'NE':'Nebraska',\n",
    "    'NJ':'New Jersey',\n",
    "    'NM':'New Mexico',\n",
    "    'NV':'Nevada',\n",
    "    'NY':'New York',\n",
    "    'OH':'Ohio',\n",
    "    'PA':'Pennsylvania',\n",
    "    'RI':'Rhode Island',\n",
    "    'TN':'Tennessee',\n",
    "    'TX':'Texas',\n",
    "    'UT':'Utah',\n",
    "    'VA':'Virginia',\n",
    "    'VT':'Vermont',\n",
    "    'WA':'Washington',\n",
    "    'WI':'Wisconsin',\n",
    "    'WV':'West Virginia',\n",
    "    'WY':'Wyoming'\n",
    "}\n"
   ]
  },
  {
   "cell_type": "code",
   "execution_count": 10,
   "metadata": {},
   "outputs": [],
   "source": [
    "demographics = pd.read_csv('demographics_train.csv')\n",
    "election = pd.read_csv('election_train.csv')"
   ]
  },
  {
   "cell_type": "markdown",
   "metadata": {},
   "source": [
    "## TASK 1"
   ]
  },
  {
   "cell_type": "code",
   "execution_count": 11,
   "metadata": {},
   "outputs": [],
   "source": [
    "election = election.pivot_table(\n",
    "    index = ['State','County','Office','Year']\n",
    "    ,columns = 'Party'\n",
    "    ,values= 'Votes'\n",
    ").reset_index()"
   ]
  },
  {
   "cell_type": "code",
   "execution_count": 12,
   "metadata": {},
   "outputs": [
    {
     "data": {
      "text/html": [
       "<div>\n",
       "<style scoped>\n",
       "    .dataframe tbody tr th:only-of-type {\n",
       "        vertical-align: middle;\n",
       "    }\n",
       "\n",
       "    .dataframe tbody tr th {\n",
       "        vertical-align: top;\n",
       "    }\n",
       "\n",
       "    .dataframe thead th {\n",
       "        text-align: right;\n",
       "    }\n",
       "</style>\n",
       "<table border=\"1\" class=\"dataframe\">\n",
       "  <thead>\n",
       "    <tr style=\"text-align: right;\">\n",
       "      <th>Party</th>\n",
       "      <th>State</th>\n",
       "      <th>County</th>\n",
       "      <th>Office</th>\n",
       "      <th>Year</th>\n",
       "      <th>Democratic</th>\n",
       "      <th>Republican</th>\n",
       "    </tr>\n",
       "  </thead>\n",
       "  <tbody>\n",
       "    <tr>\n",
       "      <th>0</th>\n",
       "      <td>AZ</td>\n",
       "      <td>Apache County</td>\n",
       "      <td>US Senator</td>\n",
       "      <td>2018</td>\n",
       "      <td>16298.0</td>\n",
       "      <td>7810.0</td>\n",
       "    </tr>\n",
       "    <tr>\n",
       "      <th>1</th>\n",
       "      <td>AZ</td>\n",
       "      <td>Cochise County</td>\n",
       "      <td>US Senator</td>\n",
       "      <td>2018</td>\n",
       "      <td>17383.0</td>\n",
       "      <td>26929.0</td>\n",
       "    </tr>\n",
       "    <tr>\n",
       "      <th>2</th>\n",
       "      <td>AZ</td>\n",
       "      <td>Coconino County</td>\n",
       "      <td>US Senator</td>\n",
       "      <td>2018</td>\n",
       "      <td>34240.0</td>\n",
       "      <td>19249.0</td>\n",
       "    </tr>\n",
       "    <tr>\n",
       "      <th>3</th>\n",
       "      <td>AZ</td>\n",
       "      <td>Gila County</td>\n",
       "      <td>US Senator</td>\n",
       "      <td>2018</td>\n",
       "      <td>7643.0</td>\n",
       "      <td>12180.0</td>\n",
       "    </tr>\n",
       "    <tr>\n",
       "      <th>4</th>\n",
       "      <td>AZ</td>\n",
       "      <td>Graham County</td>\n",
       "      <td>US Senator</td>\n",
       "      <td>2018</td>\n",
       "      <td>3368.0</td>\n",
       "      <td>6870.0</td>\n",
       "    </tr>\n",
       "  </tbody>\n",
       "</table>\n",
       "</div>"
      ],
      "text/plain": [
       "Party State           County      Office  Year  Democratic  Republican\n",
       "0        AZ    Apache County  US Senator  2018     16298.0      7810.0\n",
       "1        AZ   Cochise County  US Senator  2018     17383.0     26929.0\n",
       "2        AZ  Coconino County  US Senator  2018     34240.0     19249.0\n",
       "3        AZ      Gila County  US Senator  2018      7643.0     12180.0\n",
       "4        AZ    Graham County  US Senator  2018      3368.0      6870.0"
      ]
     },
     "execution_count": 12,
     "metadata": {},
     "output_type": "execute_result"
    }
   ],
   "source": [
    "election.head(5)"
   ]
  },
  {
   "cell_type": "markdown",
   "metadata": {},
   "source": [
    "## TASK 2"
   ]
  },
  {
   "cell_type": "code",
   "execution_count": 13,
   "metadata": {},
   "outputs": [
    {
     "data": {
      "text/html": [
       "<div>\n",
       "<style scoped>\n",
       "    .dataframe tbody tr th:only-of-type {\n",
       "        vertical-align: middle;\n",
       "    }\n",
       "\n",
       "    .dataframe tbody tr th {\n",
       "        vertical-align: top;\n",
       "    }\n",
       "\n",
       "    .dataframe thead th {\n",
       "        text-align: right;\n",
       "    }\n",
       "</style>\n",
       "<table border=\"1\" class=\"dataframe\">\n",
       "  <thead>\n",
       "    <tr style=\"text-align: right;\">\n",
       "      <th>Party</th>\n",
       "      <th>State</th>\n",
       "      <th>County</th>\n",
       "      <th>Office</th>\n",
       "      <th>Year</th>\n",
       "      <th>Democratic</th>\n",
       "      <th>Republican</th>\n",
       "    </tr>\n",
       "  </thead>\n",
       "  <tbody>\n",
       "    <tr>\n",
       "      <th>0</th>\n",
       "      <td>AZ</td>\n",
       "      <td>Apache County</td>\n",
       "      <td>US Senator</td>\n",
       "      <td>2018</td>\n",
       "      <td>16298.0</td>\n",
       "      <td>7810.0</td>\n",
       "    </tr>\n",
       "  </tbody>\n",
       "</table>\n",
       "</div>"
      ],
      "text/plain": [
       "Party State         County      Office  Year  Democratic  Republican\n",
       "0        AZ  Apache County  US Senator  2018     16298.0      7810.0"
      ]
     },
     "execution_count": 13,
     "metadata": {},
     "output_type": "execute_result"
    }
   ],
   "source": [
    "election.head(1)"
   ]
  },
  {
   "cell_type": "code",
   "execution_count": 14,
   "metadata": {},
   "outputs": [
    {
     "data": {
      "text/html": [
       "<div>\n",
       "<style scoped>\n",
       "    .dataframe tbody tr th:only-of-type {\n",
       "        vertical-align: middle;\n",
       "    }\n",
       "\n",
       "    .dataframe tbody tr th {\n",
       "        vertical-align: top;\n",
       "    }\n",
       "\n",
       "    .dataframe thead th {\n",
       "        text-align: right;\n",
       "    }\n",
       "</style>\n",
       "<table border=\"1\" class=\"dataframe\">\n",
       "  <thead>\n",
       "    <tr style=\"text-align: right;\">\n",
       "      <th>Party</th>\n",
       "      <th>State</th>\n",
       "      <th>County</th>\n",
       "      <th>Office</th>\n",
       "      <th>Year</th>\n",
       "      <th>Democratic</th>\n",
       "      <th>Republican</th>\n",
       "    </tr>\n",
       "  </thead>\n",
       "  <tbody>\n",
       "    <tr>\n",
       "      <th>0</th>\n",
       "      <td>arizona</td>\n",
       "      <td>apache county</td>\n",
       "      <td>US Senator</td>\n",
       "      <td>2018</td>\n",
       "      <td>16298.0</td>\n",
       "      <td>7810.0</td>\n",
       "    </tr>\n",
       "    <tr>\n",
       "      <th>1</th>\n",
       "      <td>arizona</td>\n",
       "      <td>cochise county</td>\n",
       "      <td>US Senator</td>\n",
       "      <td>2018</td>\n",
       "      <td>17383.0</td>\n",
       "      <td>26929.0</td>\n",
       "    </tr>\n",
       "    <tr>\n",
       "      <th>2</th>\n",
       "      <td>arizona</td>\n",
       "      <td>coconino county</td>\n",
       "      <td>US Senator</td>\n",
       "      <td>2018</td>\n",
       "      <td>34240.0</td>\n",
       "      <td>19249.0</td>\n",
       "    </tr>\n",
       "  </tbody>\n",
       "</table>\n",
       "</div>"
      ],
      "text/plain": [
       "Party    State           County      Office  Year  Democratic  Republican\n",
       "0      arizona    apache county  US Senator  2018     16298.0      7810.0\n",
       "1      arizona   cochise county  US Senator  2018     17383.0     26929.0\n",
       "2      arizona  coconino county  US Senator  2018     34240.0     19249.0"
      ]
     },
     "execution_count": 14,
     "metadata": {},
     "output_type": "execute_result"
    }
   ],
   "source": [
    "#map the state initials to the actual full state name\n",
    "election['State'] = election['State'].map(states_map) #DO THIS ONLY ONCE\n",
    "election['State'] = election['State'].str.lower()\n",
    "\n",
    "#get all the indexes where the county doesnt have 'county' in the name already \n",
    "no_county_name = election[election[\"County\"].str.contains(\"County\") == False]\n",
    "add_county = [no_county_name.index.values]\n",
    "\n",
    "#add 'county' into those that are missing it\n",
    "for index_val in add_county:\n",
    "    election.loc[index_val,'County'] = election.loc[index_val,'County'] + ' County'\n",
    "election.County = election.County.str.lower()\n",
    "\n",
    "    \n",
    "election.head(3)"
   ]
  },
  {
   "cell_type": "code",
   "execution_count": 15,
   "metadata": {},
   "outputs": [
    {
     "data": {
      "text/html": [
       "<div>\n",
       "<style scoped>\n",
       "    .dataframe tbody tr th:only-of-type {\n",
       "        vertical-align: middle;\n",
       "    }\n",
       "\n",
       "    .dataframe tbody tr th {\n",
       "        vertical-align: top;\n",
       "    }\n",
       "\n",
       "    .dataframe thead th {\n",
       "        text-align: right;\n",
       "    }\n",
       "</style>\n",
       "<table border=\"1\" class=\"dataframe\">\n",
       "  <thead>\n",
       "    <tr style=\"text-align: right;\">\n",
       "      <th></th>\n",
       "      <th>State</th>\n",
       "      <th>County</th>\n",
       "      <th>FIPS</th>\n",
       "      <th>Total Population</th>\n",
       "      <th>Citizen Voting-Age Population</th>\n",
       "      <th>Percent White, not Hispanic or Latino</th>\n",
       "      <th>Percent Black, not Hispanic or Latino</th>\n",
       "      <th>Percent Hispanic or Latino</th>\n",
       "      <th>Percent Foreign Born</th>\n",
       "      <th>Percent Female</th>\n",
       "      <th>Percent Age 29 and Under</th>\n",
       "      <th>Percent Age 65 and Older</th>\n",
       "      <th>Median Household Income</th>\n",
       "      <th>Percent Unemployed</th>\n",
       "      <th>Percent Less than High School Degree</th>\n",
       "      <th>Percent Less than Bachelor's Degree</th>\n",
       "      <th>Percent Rural</th>\n",
       "    </tr>\n",
       "  </thead>\n",
       "  <tbody>\n",
       "    <tr>\n",
       "      <th>0</th>\n",
       "      <td>wisconsin</td>\n",
       "      <td>la crosse county</td>\n",
       "      <td>55063</td>\n",
       "      <td>117538</td>\n",
       "      <td>0</td>\n",
       "      <td>90.537528</td>\n",
       "      <td>1.214075</td>\n",
       "      <td>1.724549</td>\n",
       "      <td>2.976059</td>\n",
       "      <td>51.171536</td>\n",
       "      <td>43.241335</td>\n",
       "      <td>14.702479</td>\n",
       "      <td>51477</td>\n",
       "      <td>4.796952</td>\n",
       "      <td>5.474767</td>\n",
       "      <td>67.529757</td>\n",
       "      <td>16.827753</td>\n",
       "    </tr>\n",
       "    <tr>\n",
       "      <th>1</th>\n",
       "      <td>virginia</td>\n",
       "      <td>alleghany county</td>\n",
       "      <td>51005</td>\n",
       "      <td>15919</td>\n",
       "      <td>12705</td>\n",
       "      <td>91.940449</td>\n",
       "      <td>5.207614</td>\n",
       "      <td>1.432251</td>\n",
       "      <td>1.300333</td>\n",
       "      <td>51.077329</td>\n",
       "      <td>31.660280</td>\n",
       "      <td>23.902255</td>\n",
       "      <td>45538</td>\n",
       "      <td>4.560986</td>\n",
       "      <td>15.537543</td>\n",
       "      <td>83.711604</td>\n",
       "      <td>52.393846</td>\n",
       "    </tr>\n",
       "    <tr>\n",
       "      <th>2</th>\n",
       "      <td>indiana</td>\n",
       "      <td>fountain county</td>\n",
       "      <td>18045</td>\n",
       "      <td>16741</td>\n",
       "      <td>12750</td>\n",
       "      <td>95.705155</td>\n",
       "      <td>0.400215</td>\n",
       "      <td>2.359477</td>\n",
       "      <td>1.547100</td>\n",
       "      <td>49.770026</td>\n",
       "      <td>35.899887</td>\n",
       "      <td>18.941521</td>\n",
       "      <td>45924</td>\n",
       "      <td>7.978789</td>\n",
       "      <td>12.032155</td>\n",
       "      <td>85.538940</td>\n",
       "      <td>65.951276</td>\n",
       "    </tr>\n",
       "  </tbody>\n",
       "</table>\n",
       "</div>"
      ],
      "text/plain": [
       "       State            County   FIPS  Total Population  \\\n",
       "0  wisconsin  la crosse county  55063            117538   \n",
       "1   virginia  alleghany county  51005             15919   \n",
       "2    indiana   fountain county  18045             16741   \n",
       "\n",
       "   Citizen Voting-Age Population  Percent White, not Hispanic or Latino  \\\n",
       "0                              0                              90.537528   \n",
       "1                          12705                              91.940449   \n",
       "2                          12750                              95.705155   \n",
       "\n",
       "   Percent Black, not Hispanic or Latino  Percent Hispanic or Latino  \\\n",
       "0                               1.214075                    1.724549   \n",
       "1                               5.207614                    1.432251   \n",
       "2                               0.400215                    2.359477   \n",
       "\n",
       "   Percent Foreign Born  Percent Female  Percent Age 29 and Under  \\\n",
       "0              2.976059       51.171536                 43.241335   \n",
       "1              1.300333       51.077329                 31.660280   \n",
       "2              1.547100       49.770026                 35.899887   \n",
       "\n",
       "   Percent Age 65 and Older  Median Household Income  Percent Unemployed  \\\n",
       "0                 14.702479                    51477            4.796952   \n",
       "1                 23.902255                    45538            4.560986   \n",
       "2                 18.941521                    45924            7.978789   \n",
       "\n",
       "   Percent Less than High School Degree  Percent Less than Bachelor's Degree  \\\n",
       "0                              5.474767                            67.529757   \n",
       "1                             15.537543                            83.711604   \n",
       "2                             12.032155                            85.538940   \n",
       "\n",
       "   Percent Rural  \n",
       "0      16.827753  \n",
       "1      52.393846  \n",
       "2      65.951276  "
      ]
     },
     "execution_count": 15,
     "metadata": {},
     "output_type": "execute_result"
    }
   ],
   "source": [
    "#check if County has any that already contain the word 'county' / none do\n",
    "demographics[demographics[\"County\"].str.contains(\"County\") == True] \n",
    "demographics['State'] = demographics['State'].str.lower()\n",
    "\n",
    "demographics.County = demographics.County + ' County' #DO THIS ONLY ONCE \n",
    "demographics.County = demographics.County.str.lower()\n",
    "\n",
    "demographics.head(3)"
   ]
  },
  {
   "cell_type": "code",
   "execution_count": 16,
   "metadata": {},
   "outputs": [],
   "source": [
    "merged_df = pd.merge(\n",
    "    demographics, election, how = 'inner', \n",
    "    on = ['State','County']\n",
    ")\n"
   ]
  },
  {
   "cell_type": "code",
   "execution_count": 17,
   "metadata": {},
   "outputs": [
    {
     "data": {
      "text/plain": [
       "1195"
      ]
     },
     "execution_count": 17,
     "metadata": {},
     "output_type": "execute_result"
    }
   ],
   "source": [
    "len(merged_df) #we have 1200 rows which aligns with the hint"
   ]
  },
  {
   "cell_type": "markdown",
   "metadata": {},
   "source": [
    "## TASK 3"
   ]
  },
  {
   "cell_type": "code",
   "execution_count": 18,
   "metadata": {},
   "outputs": [
    {
     "data": {
      "text/plain": [
       "State                                     object\n",
       "County                                    object\n",
       "FIPS                                       int64\n",
       "Total Population                           int64\n",
       "Citizen Voting-Age Population              int64\n",
       "Percent White, not Hispanic or Latino    float64\n",
       "Percent Black, not Hispanic or Latino    float64\n",
       "Percent Hispanic or Latino               float64\n",
       "Percent Foreign Born                     float64\n",
       "Percent Female                           float64\n",
       "Percent Age 29 and Under                 float64\n",
       "Percent Age 65 and Older                 float64\n",
       "Median Household Income                    int64\n",
       "Percent Unemployed                       float64\n",
       "Percent Less than High School Degree     float64\n",
       "Percent Less than Bachelor's Degree      float64\n",
       "Percent Rural                            float64\n",
       "Office                                    object\n",
       "Year                                       int64\n",
       "Democratic                               float64\n",
       "Republican                               float64\n",
       "dtype: object"
      ]
     },
     "execution_count": 18,
     "metadata": {},
     "output_type": "execute_result"
    }
   ],
   "source": [
    "len(merged_df.columns) #21 variables\n",
    "merged_df.dtypes"
   ]
  },
  {
   "cell_type": "markdown",
   "metadata": {},
   "source": [
    "> FIPS - Take out variable - The FIPS (federal information processing standard) is not necessary. This is a code that helps identify locations, but since we already have the state and county and have votes based on these two regional identifiers, we don't need the FIPS. \n",
    "\n",
    "> Total Population - Take out variable - The total population will not have any effect on the number of people that are going to vote. The voting-age population is more representative of who has the ability to vote.\n",
    "\n",
    "> Year and Office - Take out variable - both of these are all the same for each variable and so hold no value"
   ]
  },
  {
   "cell_type": "code",
   "execution_count": 19,
   "metadata": {},
   "outputs": [],
   "source": [
    "new_df = merged_df.copy(deep=True) #copy the dataset so that any modifications on new_df, \n",
    "                                   #no changes happen to merged_df in case we need to backtrack"
   ]
  },
  {
   "cell_type": "code",
   "execution_count": 22,
   "metadata": {},
   "outputs": [],
   "source": [
    "fips_df = merged_df[['State','County','FIPS']]"
   ]
  },
  {
   "cell_type": "code",
   "execution_count": 13,
   "metadata": {},
   "outputs": [],
   "source": [
    "\n",
    "new_df = new_df.drop([\"FIPS\",\"Year\",\"Office\",\"Percent Unemployed\"], axis=1) #drop vars"
   ]
  },
  {
   "cell_type": "code",
   "execution_count": 14,
   "metadata": {},
   "outputs": [
    {
     "data": {
      "text/html": [
       "<div>\n",
       "<style scoped>\n",
       "    .dataframe tbody tr th:only-of-type {\n",
       "        vertical-align: middle;\n",
       "    }\n",
       "\n",
       "    .dataframe tbody tr th {\n",
       "        vertical-align: top;\n",
       "    }\n",
       "\n",
       "    .dataframe thead th {\n",
       "        text-align: right;\n",
       "    }\n",
       "</style>\n",
       "<table border=\"1\" class=\"dataframe\">\n",
       "  <thead>\n",
       "    <tr style=\"text-align: right;\">\n",
       "      <th></th>\n",
       "      <th>State</th>\n",
       "      <th>County</th>\n",
       "      <th>Total Population</th>\n",
       "      <th>Citizen Voting-Age Population</th>\n",
       "      <th>Percent White, not Hispanic or Latino</th>\n",
       "      <th>Percent Black, not Hispanic or Latino</th>\n",
       "      <th>Percent Hispanic or Latino</th>\n",
       "      <th>Percent Foreign Born</th>\n",
       "      <th>Percent Female</th>\n",
       "      <th>Percent Age 29 and Under</th>\n",
       "      <th>Percent Age 65 and Older</th>\n",
       "      <th>Median Household Income</th>\n",
       "      <th>Percent Less than High School Degree</th>\n",
       "      <th>Percent Less than Bachelor's Degree</th>\n",
       "      <th>Percent Rural</th>\n",
       "      <th>Democratic</th>\n",
       "      <th>Republican</th>\n",
       "    </tr>\n",
       "  </thead>\n",
       "  <tbody>\n",
       "    <tr>\n",
       "      <th>0</th>\n",
       "      <td>wisconsin</td>\n",
       "      <td>la crosse county</td>\n",
       "      <td>117538</td>\n",
       "      <td>0</td>\n",
       "      <td>90.537528</td>\n",
       "      <td>1.214075</td>\n",
       "      <td>1.724549</td>\n",
       "      <td>2.976059</td>\n",
       "      <td>51.171536</td>\n",
       "      <td>43.241335</td>\n",
       "      <td>14.702479</td>\n",
       "      <td>51477</td>\n",
       "      <td>5.474767</td>\n",
       "      <td>67.529757</td>\n",
       "      <td>16.827753</td>\n",
       "      <td>35731.0</td>\n",
       "      <td>21160.0</td>\n",
       "    </tr>\n",
       "  </tbody>\n",
       "</table>\n",
       "</div>"
      ],
      "text/plain": [
       "       State            County  Total Population  \\\n",
       "0  wisconsin  la crosse county            117538   \n",
       "\n",
       "   Citizen Voting-Age Population  Percent White, not Hispanic or Latino  \\\n",
       "0                              0                              90.537528   \n",
       "\n",
       "   Percent Black, not Hispanic or Latino  Percent Hispanic or Latino  \\\n",
       "0                               1.214075                    1.724549   \n",
       "\n",
       "   Percent Foreign Born  Percent Female  Percent Age 29 and Under  \\\n",
       "0              2.976059       51.171536                 43.241335   \n",
       "\n",
       "   Percent Age 65 and Older  Median Household Income  \\\n",
       "0                 14.702479                    51477   \n",
       "\n",
       "   Percent Less than High School Degree  Percent Less than Bachelor's Degree  \\\n",
       "0                              5.474767                            67.529757   \n",
       "\n",
       "   Percent Rural  Democratic  Republican  \n",
       "0      16.827753     35731.0     21160.0  "
      ]
     },
     "execution_count": 14,
     "metadata": {},
     "output_type": "execute_result"
    }
   ],
   "source": [
    "new_df.head(1)"
   ]
  },
  {
   "cell_type": "markdown",
   "metadata": {},
   "source": [
    "## TASK 4"
   ]
  },
  {
   "cell_type": "code",
   "execution_count": 15,
   "metadata": {},
   "outputs": [
    {
     "name": "stdout",
     "output_type": "stream",
     "text": [
      "Max rows 1195\n",
      "\n",
      "Columns with zero values\n",
      "                                    Column Rows with zero\n",
      "1                                   State              0\n",
      "2                                  County              0\n",
      "3                        Total Population              0\n",
      "4           Citizen Voting-Age Population            675\n",
      "5   Percent White, not Hispanic or Latino              0\n",
      "6   Percent Black, not Hispanic or Latino             45\n",
      "7              Percent Hispanic or Latino              5\n",
      "8                    Percent Foreign Born              3\n",
      "9                          Percent Female              0\n",
      "10               Percent Age 29 and Under              0\n",
      "11               Percent Age 65 and Older              0\n",
      "12                Median Household Income              0\n",
      "13   Percent Less than High School Degree              0\n",
      "14    Percent Less than Bachelor's Degree              0\n",
      "15                          Percent Rural             19\n",
      "16                             Democratic              0\n",
      "17                             Republican              0\n",
      "\n",
      "Columns with NA values\n",
      " []\n"
     ]
    },
    {
     "data": {
      "text/plain": [
       "1195"
      ]
     },
     "execution_count": 15,
     "metadata": {},
     "output_type": "execute_result"
    }
   ],
   "source": [
    "print(\"Max rows\", len(new_df)) #this shows the total number of rows\n",
    "\n",
    "#this will give us the columns with zeroes and the num of zeroes\n",
    "cols_zeroes = pd.DataFrame(columns = [\"Column\",\"Rows with zero\"])\n",
    "\n",
    "index = 0\n",
    "for column in new_df:\n",
    "    count = len(new_df[new_df[column] == 0])\n",
    "    index +=1\n",
    "    cols_zeroes.loc[index] = [column,count]\n",
    "\n",
    "print(\"\\nColumns with zero values\\n\", cols_zeroes)\n",
    "#we can see that the citizen voting-age population has 680/1200 rows missing data\n",
    "#i think it is better to drop the column rather than the rows. let me know what you think\n",
    "\n",
    "new_df.drop(\"Citizen Voting-Age Population\", axis=1,inplace=True)\n",
    "\n",
    "#we also have other zero values, however...\n",
    "new_df[new_df[\"Percent Black, not Hispanic or Latino\"] == 0]\n",
    "#the majority populations are very small in nature, and are predominantly white\n",
    "#it is not outlandish to reason that there may be a population of zero black.\n",
    "#this is similar reasoning pushed onto the remaining zero values, where it is \n",
    "#not impossible to have values of zero.\n",
    "\n",
    "#____________________________________________________________________________________\n",
    "#this will show us which columns have NA values\n",
    "has_na_vals = []\n",
    "for column in new_df:\n",
    "    check_na = new_df[new_df[column].isna()]\n",
    "    if check_na.empty == False:\n",
    "        has_na_vals.append([column,len(check_na)])\n",
    "\n",
    "print(\"\\nColumns with NA values\\n\", has_na_vals)\n",
    "\n",
    "#we have 5 rows of dem/rep row missing\n",
    "\n",
    "#this shows the missing rows are both in the same columns. it is a small subset, so opt to take those out\n",
    "temp_df = new_df[new_df[\"Republican\"] == 0]\n",
    "zero_party_rows = temp_df.index\n",
    "\n",
    "fips_df.drop(zero_party_rows, axis=0, inplace=True)\n",
    "new_df.drop(zero_party_rows, axis=0, inplace=True)\n",
    "\n",
    "temp_df = new_df[new_df[\"Republican\"].isna()]\n",
    "na_rows = temp_df.index\n",
    "\n",
    "new_df.drop(na_rows, axis=0, inplace=True)\n",
    "\n",
    "#confirms we dropped it, we now have 1195 rows\n",
    "len(new_df)"
   ]
  },
  {
   "cell_type": "markdown",
   "metadata": {},
   "source": [
    "## TASK 5"
   ]
  },
  {
   "cell_type": "code",
   "execution_count": 16,
   "metadata": {},
   "outputs": [
    {
     "data": {
      "text/html": [
       "<div>\n",
       "<style scoped>\n",
       "    .dataframe tbody tr th:only-of-type {\n",
       "        vertical-align: middle;\n",
       "    }\n",
       "\n",
       "    .dataframe tbody tr th {\n",
       "        vertical-align: top;\n",
       "    }\n",
       "\n",
       "    .dataframe thead th {\n",
       "        text-align: right;\n",
       "    }\n",
       "</style>\n",
       "<table border=\"1\" class=\"dataframe\">\n",
       "  <thead>\n",
       "    <tr style=\"text-align: right;\">\n",
       "      <th></th>\n",
       "      <th>State</th>\n",
       "      <th>County</th>\n",
       "      <th>Total Population</th>\n",
       "      <th>Percent White, not Hispanic or Latino</th>\n",
       "      <th>Percent Black, not Hispanic or Latino</th>\n",
       "      <th>Percent Hispanic or Latino</th>\n",
       "      <th>Percent Foreign Born</th>\n",
       "      <th>Percent Female</th>\n",
       "      <th>Percent Age 29 and Under</th>\n",
       "      <th>Percent Age 65 and Older</th>\n",
       "      <th>Median Household Income</th>\n",
       "      <th>Percent Less than High School Degree</th>\n",
       "      <th>Percent Less than Bachelor's Degree</th>\n",
       "      <th>Percent Rural</th>\n",
       "      <th>Democratic</th>\n",
       "      <th>Republican</th>\n",
       "      <th>Party</th>\n",
       "    </tr>\n",
       "  </thead>\n",
       "  <tbody>\n",
       "    <tr>\n",
       "      <th>0</th>\n",
       "      <td>wisconsin</td>\n",
       "      <td>la crosse county</td>\n",
       "      <td>117538</td>\n",
       "      <td>90.537528</td>\n",
       "      <td>1.214075</td>\n",
       "      <td>1.724549</td>\n",
       "      <td>2.976059</td>\n",
       "      <td>51.171536</td>\n",
       "      <td>43.241335</td>\n",
       "      <td>14.702479</td>\n",
       "      <td>51477</td>\n",
       "      <td>5.474767</td>\n",
       "      <td>67.529757</td>\n",
       "      <td>16.827753</td>\n",
       "      <td>35731.0</td>\n",
       "      <td>21160.0</td>\n",
       "      <td>1</td>\n",
       "    </tr>\n",
       "  </tbody>\n",
       "</table>\n",
       "</div>"
      ],
      "text/plain": [
       "       State            County  Total Population  \\\n",
       "0  wisconsin  la crosse county            117538   \n",
       "\n",
       "   Percent White, not Hispanic or Latino  \\\n",
       "0                              90.537528   \n",
       "\n",
       "   Percent Black, not Hispanic or Latino  Percent Hispanic or Latino  \\\n",
       "0                               1.214075                    1.724549   \n",
       "\n",
       "   Percent Foreign Born  Percent Female  Percent Age 29 and Under  \\\n",
       "0              2.976059       51.171536                 43.241335   \n",
       "\n",
       "   Percent Age 65 and Older  Median Household Income  \\\n",
       "0                 14.702479                    51477   \n",
       "\n",
       "   Percent Less than High School Degree  Percent Less than Bachelor's Degree  \\\n",
       "0                              5.474767                            67.529757   \n",
       "\n",
       "   Percent Rural  Democratic  Republican  Party  \n",
       "0      16.827753     35731.0     21160.0      1  "
      ]
     },
     "execution_count": 16,
     "metadata": {},
     "output_type": "execute_result"
    }
   ],
   "source": [
    "new_df[\"Party\"] = np.where(new_df[\"Democratic\"] > new_df[\"Republican\"], 1,0)\n",
    "new_df.head(1)"
   ]
  },
  {
   "cell_type": "markdown",
   "metadata": {},
   "source": [
    "## TASK 6"
   ]
  },
  {
   "cell_type": "code",
   "execution_count": null,
   "metadata": {},
   "outputs": [],
   "source": [
    "fips_df = merged_df"
   ]
  },
  {
   "cell_type": "code",
   "execution_count": 17,
   "metadata": {},
   "outputs": [
    {
     "name": "stdout",
     "output_type": "stream",
     "text": [
      "dem mean:  300998.3169230769 \n",
      "rep mean:  53864.6724137931\n",
      "dem std:  553600.0257123302 \n",
      "rep std:  94192.57279397613 \n",
      "\n",
      "8.004638577960957\n",
      "1.0239358801486512e-14\n"
     ]
    }
   ],
   "source": [
    "dem_pop = new_df[new_df['Party'] == 1]['Total Population'].mean()\n",
    "rep_pop = new_df[new_df['Party'] == 0]['Total Population'].mean()\n",
    "\n",
    "dem_std = new_df[new_df['Party'] == 1]['Total Population'].std()\n",
    "rep_std = new_df[new_df['Party'] == 0]['Total Population'].std() #wide var difference\n",
    "\n",
    "print(\"dem mean: \", dem_pop,\"\\nrep mean: \", rep_pop) #democratic population is higher\n",
    "print(\"dem std: \",dem_std,\"\\nrep std: \", rep_std,\"\\n\")\n",
    "\n",
    "#null = population difference is within reasonable bounds\n",
    "#alternate = population difference is statistically significant\n",
    "\n",
    "dem_pop_array = new_df[new_df['Party'] == 1]['Total Population']\n",
    "rep_pop_array = new_df[new_df['Party'] == 0]['Total Population']\n",
    "\n",
    "[statistic, pvalue] = st.ttest_ind(dem_pop_array, rep_pop_array, equal_var = False)\n",
    "print(statistic)\n",
    "print(pvalue/2) #is e^-14, so it is a very small number\n",
    "\n",
    "#based on this, this is statistically significant. we reject the null hypothesis based on pval"
   ]
  },
  {
   "cell_type": "markdown",
   "metadata": {},
   "source": [
    "## TASK 7"
   ]
  },
  {
   "cell_type": "code",
   "execution_count": 18,
   "metadata": {},
   "outputs": [
    {
     "name": "stdout",
     "output_type": "stream",
     "text": [
      "dem mean:  53798.732307692306 \n",
      "rep mean:  48746.81954022989\n",
      "dem std:  15289.130077404618 \n",
      "rep std:  10670.72941182022 \n",
      "\n",
      "5.479141589767388\n",
      "3.574718681591286e-08\n"
     ]
    }
   ],
   "source": [
    "dem_med = new_df[new_df['Party'] == 1]['Median Household Income'].mean()\n",
    "rep_med = new_df[new_df['Party'] == 0]['Median Household Income'].mean()\n",
    "\n",
    "dem_std = new_df[new_df['Party'] == 1]['Median Household Income'].std()\n",
    "rep_std = new_df[new_df['Party'] == 0]['Median Household Income'].std() #wide var difference\n",
    "\n",
    "print(\"dem mean: \", dem_med,\"\\nrep mean: \", rep_med) #democratic mean median household income is higher\n",
    "print(\"dem std: \",dem_std,\"\\nrep std: \", rep_std,\"\\n\")\n",
    "\n",
    "#null = population income is within reasonable bounds\n",
    "#alternate = population income is statistically significant\n",
    "\n",
    "dem_med_array = new_df[new_df['Party'] == 1]['Median Household Income']\n",
    "rep_med_array = new_df[new_df['Party'] == 0]['Median Household Income']\n",
    "\n",
    "[statistic, pvalue] = st.ttest_ind(dem_med_array, rep_med_array, equal_var = False)\n",
    "print(statistic)\n",
    "print(pvalue/2) #is e^-08, so it is a very small number\n",
    "\n",
    "#based on this, this is statistically significant. we reject the null hypothesis based on pval"
   ]
  },
  {
   "cell_type": "markdown",
   "metadata": {},
   "source": [
    "## TASK 8"
   ]
  },
  {
   "cell_type": "code",
   "execution_count": 19,
   "metadata": {},
   "outputs": [
    {
     "data": {
      "text/plain": [
       "Total Population                         300998.316923\n",
       "Percent White, not Hispanic or Latino        69.683766\n",
       "Percent Black, not Hispanic or Latino         9.242649\n",
       "Percent Hispanic or Latino                   12.587391\n",
       "Percent Foreign Born                          7.986330\n",
       "Percent Female                               50.385433\n",
       "Percent Age 29 and Under                     38.726959\n",
       "Percent Age 65 and Older                     16.194826\n",
       "Median Household Income                   53798.732308\n",
       "Percent Less than High School Degree         11.883760\n",
       "Percent Less than Bachelor's Degree          71.968225\n",
       "Percent Rural                                36.123281\n",
       "Democratic                                71193.172308\n",
       "Republican                                41322.861538\n",
       "Party                                         1.000000\n",
       "dtype: float64"
      ]
     },
     "execution_count": 19,
     "metadata": {},
     "output_type": "execute_result"
    }
   ],
   "source": [
    "new_df[new_df['Party'] == 1].mean() #Democratic county Averages"
   ]
  },
  {
   "cell_type": "code",
   "execution_count": 20,
   "metadata": {},
   "outputs": [
    {
     "data": {
      "text/plain": [
       "Total Population                         53864.672414\n",
       "Percent White, not Hispanic or Latino       82.656646\n",
       "Percent Black, not Hispanic or Latino        4.189241\n",
       "Percent Hispanic or Latino                   9.733094\n",
       "Percent Foreign Born                         3.990096\n",
       "Percent Female                              49.630898\n",
       "Percent Age 29 and Under                    36.005719\n",
       "Percent Age 65 and Older                    18.828267\n",
       "Median Household Income                  48746.819540\n",
       "Percent Less than High School Degree        14.009112\n",
       "Percent Less than Bachelor's Degree         81.095427\n",
       "Percent Rural                               63.274485\n",
       "Democratic                                7926.549425\n",
       "Republican                               12644.403448\n",
       "Party                                        0.000000\n",
       "dtype: float64"
      ]
     },
     "execution_count": 20,
     "metadata": {},
     "output_type": "execute_result"
    }
   ],
   "source": [
    "new_df[new_df['Party'] == 0].mean() #Republican county Averages "
   ]
  },
  {
   "cell_type": "code",
   "execution_count": 21,
   "metadata": {},
   "outputs": [
    {
     "data": {
      "text/html": [
       "<div>\n",
       "<style scoped>\n",
       "    .dataframe tbody tr th:only-of-type {\n",
       "        vertical-align: middle;\n",
       "    }\n",
       "\n",
       "    .dataframe tbody tr th {\n",
       "        vertical-align: top;\n",
       "    }\n",
       "\n",
       "    .dataframe thead th {\n",
       "        text-align: right;\n",
       "    }\n",
       "</style>\n",
       "<table border=\"1\" class=\"dataframe\">\n",
       "  <thead>\n",
       "    <tr style=\"text-align: right;\">\n",
       "      <th></th>\n",
       "      <th>Total Population</th>\n",
       "      <th>Percent White, not Hispanic or Latino</th>\n",
       "      <th>Percent Black, not Hispanic or Latino</th>\n",
       "      <th>Percent Hispanic or Latino</th>\n",
       "      <th>Percent Foreign Born</th>\n",
       "      <th>Percent Female</th>\n",
       "      <th>Percent Age 29 and Under</th>\n",
       "      <th>Percent Age 65 and Older</th>\n",
       "      <th>Median Household Income</th>\n",
       "      <th>Percent Less than High School Degree</th>\n",
       "      <th>Percent Less than Bachelor's Degree</th>\n",
       "      <th>Percent Rural</th>\n",
       "      <th>Democratic</th>\n",
       "      <th>Republican</th>\n",
       "      <th>Party</th>\n",
       "    </tr>\n",
       "  </thead>\n",
       "  <tbody>\n",
       "    <tr>\n",
       "      <th>count</th>\n",
       "      <td>3.250000e+02</td>\n",
       "      <td>325.000000</td>\n",
       "      <td>325.000000</td>\n",
       "      <td>325.000000</td>\n",
       "      <td>325.000000</td>\n",
       "      <td>325.000000</td>\n",
       "      <td>325.000000</td>\n",
       "      <td>325.000000</td>\n",
       "      <td>325.000000</td>\n",
       "      <td>325.000000</td>\n",
       "      <td>325.000000</td>\n",
       "      <td>325.000000</td>\n",
       "      <td>325.000000</td>\n",
       "      <td>325.000000</td>\n",
       "      <td>325.0</td>\n",
       "    </tr>\n",
       "    <tr>\n",
       "      <th>mean</th>\n",
       "      <td>3.009983e+05</td>\n",
       "      <td>69.683766</td>\n",
       "      <td>9.242649</td>\n",
       "      <td>12.587391</td>\n",
       "      <td>7.986330</td>\n",
       "      <td>50.385433</td>\n",
       "      <td>38.726959</td>\n",
       "      <td>16.194826</td>\n",
       "      <td>53798.732308</td>\n",
       "      <td>11.883760</td>\n",
       "      <td>71.968225</td>\n",
       "      <td>36.123281</td>\n",
       "      <td>71193.172308</td>\n",
       "      <td>41322.861538</td>\n",
       "      <td>1.0</td>\n",
       "    </tr>\n",
       "    <tr>\n",
       "      <th>std</th>\n",
       "      <td>5.536000e+05</td>\n",
       "      <td>24.981502</td>\n",
       "      <td>13.351340</td>\n",
       "      <td>19.575030</td>\n",
       "      <td>8.330740</td>\n",
       "      <td>2.149359</td>\n",
       "      <td>6.252786</td>\n",
       "      <td>4.282422</td>\n",
       "      <td>15289.130077</td>\n",
       "      <td>6.505613</td>\n",
       "      <td>11.192404</td>\n",
       "      <td>32.259481</td>\n",
       "      <td>125306.803889</td>\n",
       "      <td>74689.108440</td>\n",
       "      <td>0.0</td>\n",
       "    </tr>\n",
       "    <tr>\n",
       "      <th>min</th>\n",
       "      <td>1.969000e+03</td>\n",
       "      <td>2.776702</td>\n",
       "      <td>0.000000</td>\n",
       "      <td>0.193349</td>\n",
       "      <td>0.179769</td>\n",
       "      <td>34.245291</td>\n",
       "      <td>23.156452</td>\n",
       "      <td>6.653188</td>\n",
       "      <td>21190.000000</td>\n",
       "      <td>3.215803</td>\n",
       "      <td>26.335440</td>\n",
       "      <td>0.000000</td>\n",
       "      <td>521.000000</td>\n",
       "      <td>220.000000</td>\n",
       "      <td>1.0</td>\n",
       "    </tr>\n",
       "    <tr>\n",
       "      <th>25%</th>\n",
       "      <td>2.364500e+04</td>\n",
       "      <td>53.271579</td>\n",
       "      <td>0.839103</td>\n",
       "      <td>2.531017</td>\n",
       "      <td>2.470508</td>\n",
       "      <td>49.854280</td>\n",
       "      <td>34.488444</td>\n",
       "      <td>13.106233</td>\n",
       "      <td>44140.000000</td>\n",
       "      <td>7.893714</td>\n",
       "      <td>65.711800</td>\n",
       "      <td>5.928800</td>\n",
       "      <td>5242.000000</td>\n",
       "      <td>3611.000000</td>\n",
       "      <td>1.0</td>\n",
       "    </tr>\n",
       "    <tr>\n",
       "      <th>50%</th>\n",
       "      <td>8.204900e+04</td>\n",
       "      <td>77.786090</td>\n",
       "      <td>3.485992</td>\n",
       "      <td>5.039747</td>\n",
       "      <td>5.105490</td>\n",
       "      <td>50.653830</td>\n",
       "      <td>38.074151</td>\n",
       "      <td>15.698087</td>\n",
       "      <td>51477.000000</td>\n",
       "      <td>10.370080</td>\n",
       "      <td>72.736143</td>\n",
       "      <td>26.862739</td>\n",
       "      <td>18159.000000</td>\n",
       "      <td>12348.000000</td>\n",
       "      <td>1.0</td>\n",
       "    </tr>\n",
       "    <tr>\n",
       "      <th>75%</th>\n",
       "      <td>2.847880e+05</td>\n",
       "      <td>90.300749</td>\n",
       "      <td>11.058843</td>\n",
       "      <td>11.857116</td>\n",
       "      <td>10.144555</td>\n",
       "      <td>51.492075</td>\n",
       "      <td>42.161162</td>\n",
       "      <td>18.806426</td>\n",
       "      <td>59132.000000</td>\n",
       "      <td>13.637059</td>\n",
       "      <td>79.903653</td>\n",
       "      <td>60.670737</td>\n",
       "      <td>72677.000000</td>\n",
       "      <td>46403.000000</td>\n",
       "      <td>1.0</td>\n",
       "    </tr>\n",
       "    <tr>\n",
       "      <th>max</th>\n",
       "      <td>4.434257e+06</td>\n",
       "      <td>98.063495</td>\n",
       "      <td>63.953279</td>\n",
       "      <td>95.479801</td>\n",
       "      <td>52.229868</td>\n",
       "      <td>56.418468</td>\n",
       "      <td>67.367823</td>\n",
       "      <td>31.642106</td>\n",
       "      <td>125672.000000</td>\n",
       "      <td>49.673777</td>\n",
       "      <td>94.849957</td>\n",
       "      <td>100.000000</td>\n",
       "      <td>881802.000000</td>\n",
       "      <td>672505.000000</td>\n",
       "      <td>1.0</td>\n",
       "    </tr>\n",
       "  </tbody>\n",
       "</table>\n",
       "</div>"
      ],
      "text/plain": [
       "       Total Population  Percent White, not Hispanic or Latino  \\\n",
       "count      3.250000e+02                             325.000000   \n",
       "mean       3.009983e+05                              69.683766   \n",
       "std        5.536000e+05                              24.981502   \n",
       "min        1.969000e+03                               2.776702   \n",
       "25%        2.364500e+04                              53.271579   \n",
       "50%        8.204900e+04                              77.786090   \n",
       "75%        2.847880e+05                              90.300749   \n",
       "max        4.434257e+06                              98.063495   \n",
       "\n",
       "       Percent Black, not Hispanic or Latino  Percent Hispanic or Latino  \\\n",
       "count                             325.000000                  325.000000   \n",
       "mean                                9.242649                   12.587391   \n",
       "std                                13.351340                   19.575030   \n",
       "min                                 0.000000                    0.193349   \n",
       "25%                                 0.839103                    2.531017   \n",
       "50%                                 3.485992                    5.039747   \n",
       "75%                                11.058843                   11.857116   \n",
       "max                                63.953279                   95.479801   \n",
       "\n",
       "       Percent Foreign Born  Percent Female  Percent Age 29 and Under  \\\n",
       "count            325.000000      325.000000                325.000000   \n",
       "mean               7.986330       50.385433                 38.726959   \n",
       "std                8.330740        2.149359                  6.252786   \n",
       "min                0.179769       34.245291                 23.156452   \n",
       "25%                2.470508       49.854280                 34.488444   \n",
       "50%                5.105490       50.653830                 38.074151   \n",
       "75%               10.144555       51.492075                 42.161162   \n",
       "max               52.229868       56.418468                 67.367823   \n",
       "\n",
       "       Percent Age 65 and Older  Median Household Income  \\\n",
       "count                325.000000               325.000000   \n",
       "mean                  16.194826             53798.732308   \n",
       "std                    4.282422             15289.130077   \n",
       "min                    6.653188             21190.000000   \n",
       "25%                   13.106233             44140.000000   \n",
       "50%                   15.698087             51477.000000   \n",
       "75%                   18.806426             59132.000000   \n",
       "max                   31.642106            125672.000000   \n",
       "\n",
       "       Percent Less than High School Degree  \\\n",
       "count                            325.000000   \n",
       "mean                              11.883760   \n",
       "std                                6.505613   \n",
       "min                                3.215803   \n",
       "25%                                7.893714   \n",
       "50%                               10.370080   \n",
       "75%                               13.637059   \n",
       "max                               49.673777   \n",
       "\n",
       "       Percent Less than Bachelor's Degree  Percent Rural     Democratic  \\\n",
       "count                           325.000000     325.000000     325.000000   \n",
       "mean                             71.968225      36.123281   71193.172308   \n",
       "std                              11.192404      32.259481  125306.803889   \n",
       "min                              26.335440       0.000000     521.000000   \n",
       "25%                              65.711800       5.928800    5242.000000   \n",
       "50%                              72.736143      26.862739   18159.000000   \n",
       "75%                              79.903653      60.670737   72677.000000   \n",
       "max                              94.849957     100.000000  881802.000000   \n",
       "\n",
       "          Republican  Party  \n",
       "count     325.000000  325.0  \n",
       "mean    41322.861538    1.0  \n",
       "std     74689.108440    0.0  \n",
       "min       220.000000    1.0  \n",
       "25%      3611.000000    1.0  \n",
       "50%     12348.000000    1.0  \n",
       "75%     46403.000000    1.0  \n",
       "max    672505.000000    1.0  "
      ]
     },
     "execution_count": 21,
     "metadata": {},
     "output_type": "execute_result"
    }
   ],
   "source": [
    "new_df[new_df['Party'] == 1].describe() # Democratic counties Descriptive Stats"
   ]
  },
  {
   "cell_type": "code",
   "execution_count": 22,
   "metadata": {},
   "outputs": [
    {
     "data": {
      "text/html": [
       "<div>\n",
       "<style scoped>\n",
       "    .dataframe tbody tr th:only-of-type {\n",
       "        vertical-align: middle;\n",
       "    }\n",
       "\n",
       "    .dataframe tbody tr th {\n",
       "        vertical-align: top;\n",
       "    }\n",
       "\n",
       "    .dataframe thead th {\n",
       "        text-align: right;\n",
       "    }\n",
       "</style>\n",
       "<table border=\"1\" class=\"dataframe\">\n",
       "  <thead>\n",
       "    <tr style=\"text-align: right;\">\n",
       "      <th></th>\n",
       "      <th>Total Population</th>\n",
       "      <th>Percent White, not Hispanic or Latino</th>\n",
       "      <th>Percent Black, not Hispanic or Latino</th>\n",
       "      <th>Percent Hispanic or Latino</th>\n",
       "      <th>Percent Foreign Born</th>\n",
       "      <th>Percent Female</th>\n",
       "      <th>Percent Age 29 and Under</th>\n",
       "      <th>Percent Age 65 and Older</th>\n",
       "      <th>Median Household Income</th>\n",
       "      <th>Percent Less than High School Degree</th>\n",
       "      <th>Percent Less than Bachelor's Degree</th>\n",
       "      <th>Percent Rural</th>\n",
       "      <th>Democratic</th>\n",
       "      <th>Republican</th>\n",
       "      <th>Party</th>\n",
       "    </tr>\n",
       "  </thead>\n",
       "  <tbody>\n",
       "    <tr>\n",
       "      <th>count</th>\n",
       "      <td>8.700000e+02</td>\n",
       "      <td>870.000000</td>\n",
       "      <td>870.000000</td>\n",
       "      <td>870.000000</td>\n",
       "      <td>870.000000</td>\n",
       "      <td>870.000000</td>\n",
       "      <td>870.000000</td>\n",
       "      <td>870.000000</td>\n",
       "      <td>870.000000</td>\n",
       "      <td>870.000000</td>\n",
       "      <td>870.000000</td>\n",
       "      <td>870.000000</td>\n",
       "      <td>870.000000</td>\n",
       "      <td>870.000000</td>\n",
       "      <td>870.0</td>\n",
       "    </tr>\n",
       "    <tr>\n",
       "      <th>mean</th>\n",
       "      <td>5.386467e+04</td>\n",
       "      <td>82.656646</td>\n",
       "      <td>4.189241</td>\n",
       "      <td>9.733094</td>\n",
       "      <td>3.990096</td>\n",
       "      <td>49.630898</td>\n",
       "      <td>36.005719</td>\n",
       "      <td>18.828267</td>\n",
       "      <td>48746.819540</td>\n",
       "      <td>14.009112</td>\n",
       "      <td>81.095427</td>\n",
       "      <td>63.274485</td>\n",
       "      <td>7926.549425</td>\n",
       "      <td>12644.403448</td>\n",
       "      <td>0.0</td>\n",
       "    </tr>\n",
       "    <tr>\n",
       "      <th>std</th>\n",
       "      <td>9.419257e+04</td>\n",
       "      <td>16.056122</td>\n",
       "      <td>6.721695</td>\n",
       "      <td>14.049576</td>\n",
       "      <td>4.507786</td>\n",
       "      <td>2.429013</td>\n",
       "      <td>5.181522</td>\n",
       "      <td>4.733155</td>\n",
       "      <td>10670.729412</td>\n",
       "      <td>6.303126</td>\n",
       "      <td>6.815537</td>\n",
       "      <td>28.766224</td>\n",
       "      <td>17538.649168</td>\n",
       "      <td>22601.266060</td>\n",
       "      <td>0.0</td>\n",
       "    </tr>\n",
       "    <tr>\n",
       "      <th>min</th>\n",
       "      <td>7.600000e+01</td>\n",
       "      <td>18.758977</td>\n",
       "      <td>0.000000</td>\n",
       "      <td>0.000000</td>\n",
       "      <td>0.000000</td>\n",
       "      <td>21.513413</td>\n",
       "      <td>11.842105</td>\n",
       "      <td>6.954387</td>\n",
       "      <td>24000.000000</td>\n",
       "      <td>2.134454</td>\n",
       "      <td>43.419470</td>\n",
       "      <td>0.000000</td>\n",
       "      <td>6.000000</td>\n",
       "      <td>46.000000</td>\n",
       "      <td>0.0</td>\n",
       "    </tr>\n",
       "    <tr>\n",
       "      <th>25%</th>\n",
       "      <td>9.559500e+03</td>\n",
       "      <td>75.016397</td>\n",
       "      <td>0.460419</td>\n",
       "      <td>1.704539</td>\n",
       "      <td>1.320101</td>\n",
       "      <td>49.222905</td>\n",
       "      <td>32.983652</td>\n",
       "      <td>15.784982</td>\n",
       "      <td>41506.500000</td>\n",
       "      <td>9.662491</td>\n",
       "      <td>78.108424</td>\n",
       "      <td>40.738057</td>\n",
       "      <td>951.500000</td>\n",
       "      <td>2544.000000</td>\n",
       "      <td>0.0</td>\n",
       "    </tr>\n",
       "    <tr>\n",
       "      <th>50%</th>\n",
       "      <td>2.546500e+04</td>\n",
       "      <td>89.434849</td>\n",
       "      <td>1.318311</td>\n",
       "      <td>3.427435</td>\n",
       "      <td>2.326317</td>\n",
       "      <td>50.176792</td>\n",
       "      <td>35.846532</td>\n",
       "      <td>18.377896</td>\n",
       "      <td>47168.500000</td>\n",
       "      <td>12.572435</td>\n",
       "      <td>82.406700</td>\n",
       "      <td>63.415088</td>\n",
       "      <td>2807.500000</td>\n",
       "      <td>5932.500000</td>\n",
       "      <td>0.0</td>\n",
       "    </tr>\n",
       "    <tr>\n",
       "      <th>75%</th>\n",
       "      <td>5.372100e+04</td>\n",
       "      <td>94.466596</td>\n",
       "      <td>4.753831</td>\n",
       "      <td>10.709696</td>\n",
       "      <td>5.149429</td>\n",
       "      <td>50.829770</td>\n",
       "      <td>38.539787</td>\n",
       "      <td>21.112847</td>\n",
       "      <td>53423.250000</td>\n",
       "      <td>17.447168</td>\n",
       "      <td>85.546272</td>\n",
       "      <td>91.701077</td>\n",
       "      <td>7010.750000</td>\n",
       "      <td>12632.750000</td>\n",
       "      <td>0.0</td>\n",
       "    </tr>\n",
       "    <tr>\n",
       "      <th>max</th>\n",
       "      <td>1.092518e+06</td>\n",
       "      <td>99.627329</td>\n",
       "      <td>41.563041</td>\n",
       "      <td>78.397012</td>\n",
       "      <td>37.058317</td>\n",
       "      <td>55.885023</td>\n",
       "      <td>58.749116</td>\n",
       "      <td>37.622759</td>\n",
       "      <td>108177.000000</td>\n",
       "      <td>47.812773</td>\n",
       "      <td>97.014925</td>\n",
       "      <td>100.000000</td>\n",
       "      <td>215190.000000</td>\n",
       "      <td>219990.000000</td>\n",
       "      <td>0.0</td>\n",
       "    </tr>\n",
       "  </tbody>\n",
       "</table>\n",
       "</div>"
      ],
      "text/plain": [
       "       Total Population  Percent White, not Hispanic or Latino  \\\n",
       "count      8.700000e+02                             870.000000   \n",
       "mean       5.386467e+04                              82.656646   \n",
       "std        9.419257e+04                              16.056122   \n",
       "min        7.600000e+01                              18.758977   \n",
       "25%        9.559500e+03                              75.016397   \n",
       "50%        2.546500e+04                              89.434849   \n",
       "75%        5.372100e+04                              94.466596   \n",
       "max        1.092518e+06                              99.627329   \n",
       "\n",
       "       Percent Black, not Hispanic or Latino  Percent Hispanic or Latino  \\\n",
       "count                             870.000000                  870.000000   \n",
       "mean                                4.189241                    9.733094   \n",
       "std                                 6.721695                   14.049576   \n",
       "min                                 0.000000                    0.000000   \n",
       "25%                                 0.460419                    1.704539   \n",
       "50%                                 1.318311                    3.427435   \n",
       "75%                                 4.753831                   10.709696   \n",
       "max                                41.563041                   78.397012   \n",
       "\n",
       "       Percent Foreign Born  Percent Female  Percent Age 29 and Under  \\\n",
       "count            870.000000      870.000000                870.000000   \n",
       "mean               3.990096       49.630898                 36.005719   \n",
       "std                4.507786        2.429013                  5.181522   \n",
       "min                0.000000       21.513413                 11.842105   \n",
       "25%                1.320101       49.222905                 32.983652   \n",
       "50%                2.326317       50.176792                 35.846532   \n",
       "75%                5.149429       50.829770                 38.539787   \n",
       "max               37.058317       55.885023                 58.749116   \n",
       "\n",
       "       Percent Age 65 and Older  Median Household Income  \\\n",
       "count                870.000000               870.000000   \n",
       "mean                  18.828267             48746.819540   \n",
       "std                    4.733155             10670.729412   \n",
       "min                    6.954387             24000.000000   \n",
       "25%                   15.784982             41506.500000   \n",
       "50%                   18.377896             47168.500000   \n",
       "75%                   21.112847             53423.250000   \n",
       "max                   37.622759            108177.000000   \n",
       "\n",
       "       Percent Less than High School Degree  \\\n",
       "count                            870.000000   \n",
       "mean                              14.009112   \n",
       "std                                6.303126   \n",
       "min                                2.134454   \n",
       "25%                                9.662491   \n",
       "50%                               12.572435   \n",
       "75%                               17.447168   \n",
       "max                               47.812773   \n",
       "\n",
       "       Percent Less than Bachelor's Degree  Percent Rural     Democratic  \\\n",
       "count                           870.000000     870.000000     870.000000   \n",
       "mean                             81.095427      63.274485    7926.549425   \n",
       "std                               6.815537      28.766224   17538.649168   \n",
       "min                              43.419470       0.000000       6.000000   \n",
       "25%                              78.108424      40.738057     951.500000   \n",
       "50%                              82.406700      63.415088    2807.500000   \n",
       "75%                              85.546272      91.701077    7010.750000   \n",
       "max                              97.014925     100.000000  215190.000000   \n",
       "\n",
       "          Republican  Party  \n",
       "count     870.000000  870.0  \n",
       "mean    12644.403448    0.0  \n",
       "std     22601.266060    0.0  \n",
       "min        46.000000    0.0  \n",
       "25%      2544.000000    0.0  \n",
       "50%      5932.500000    0.0  \n",
       "75%     12632.750000    0.0  \n",
       "max    219990.000000    0.0  "
      ]
     },
     "execution_count": 22,
     "metadata": {},
     "output_type": "execute_result"
    }
   ],
   "source": [
    "new_df[new_df['Party'] == 0].describe() # Republican counties Descriptive Stats"
   ]
  },
  {
   "cell_type": "code",
   "execution_count": 23,
   "metadata": {},
   "outputs": [
    {
     "data": {
      "text/plain": [
       "<matplotlib.axes._subplots.AxesSubplot at 0x1a16251fd0>"
      ]
     },
     "execution_count": 23,
     "metadata": {},
     "output_type": "execute_result"
    },
    {
     "data": {
      "image/png": "[encoded data removed]",
      "text/plain": [
       "<Figure size 432x288 with 1 Axes>"
      ]
     },
     "metadata": {},
     "output_type": "display_data"
    }
   ],
   "source": [
    "# The next few plots show the distribution by Age between Democratic and Republican counties\n",
    "new_df.groupby('Party')\n",
    "sns.boxplot(x = new_df['Party'], y = new_df['Percent Age 29 and Under'])"
   ]
  },
  {
   "cell_type": "code",
   "execution_count": 24,
   "metadata": {},
   "outputs": [
    {
     "data": {
      "text/plain": [
       "<matplotlib.axes._subplots.AxesSubplot at 0x10f4e4630>"
      ]
     },
     "execution_count": 24,
     "metadata": {},
     "output_type": "execute_result"
    },
    {
     "data": {
      "image/png": "[encoded data removed]",
      "text/plain": [
       "<Figure size 432x288 with 1 Axes>"
      ]
     },
     "metadata": {},
     "output_type": "display_data"
    }
   ],
   "source": [
    "new_df.groupby('Party')\n",
    "sns.boxplot(x = new_df['Party'], y = new_df['Percent Age 65 and Older'])"
   ]
  },
  {
   "cell_type": "code",
   "execution_count": 25,
   "metadata": {},
   "outputs": [
    {
     "data": {
      "text/plain": [
       "<matplotlib.axes._subplots.AxesSubplot at 0x10f5149b0>"
      ]
     },
     "execution_count": 25,
     "metadata": {},
     "output_type": "execute_result"
    },
    {
     "data": {
      "image/png": "[encoded data removed]",
      "text/plain": [
       "<Figure size 432x288 with 1 Axes>"
      ]
     },
     "metadata": {},
     "output_type": "display_data"
    }
   ],
   "source": [
    "# Visualize the percentage of females for each party\n",
    "new_df.groupby('Party')\n",
    "sns.violinplot(x = new_df['Party'], y = new_df['Percent Female'])"
   ]
  },
  {
   "cell_type": "code",
   "execution_count": 26,
   "metadata": {},
   "outputs": [
    {
     "data": {
      "text/plain": [
       "<matplotlib.axes._subplots.AxesSubplot at 0x1a163d8d68>"
      ]
     },
     "execution_count": 26,
     "metadata": {},
     "output_type": "execute_result"
    },
    {
     "data": {
      "image/png": "[encoded data removed]",
      "text/plain": [
       "<Figure size 432x288 with 1 Axes>"
      ]
     },
     "metadata": {},
     "output_type": "display_data"
    }
   ],
   "source": [
    "sns.boxplot(x = new_df['Party'], y = new_df['Percent White, not Hispanic or Latino'])"
   ]
  },
  {
   "cell_type": "code",
   "execution_count": 27,
   "metadata": {},
   "outputs": [
    {
     "data": {
      "text/plain": [
       "<matplotlib.axes._subplots.AxesSubplot at 0x1a16422908>"
      ]
     },
     "execution_count": 27,
     "metadata": {},
     "output_type": "execute_result"
    },
    {
     "data": {
      "image/png": "[encoded data removed]",
      "text/plain": [
       "<Figure size 432x288 with 1 Axes>"
      ]
     },
     "metadata": {},
     "output_type": "display_data"
    }
   ],
   "source": [
    "sns.violinplot(x = new_df['Party'], y = new_df['Percent Black, not Hispanic or Latino'])"
   ]
  },
  {
   "cell_type": "code",
   "execution_count": 28,
   "metadata": {},
   "outputs": [
    {
     "data": {
      "text/plain": [
       "<matplotlib.axes._subplots.AxesSubplot at 0x1a164e84a8>"
      ]
     },
     "execution_count": 28,
     "metadata": {},
     "output_type": "execute_result"
    },
    {
     "data": {
      "image/png": "[encoded data removed]",
      "text/plain": [
       "<Figure size 432x288 with 1 Axes>"
      ]
     },
     "metadata": {},
     "output_type": "display_data"
    }
   ],
   "source": [
    "sns.violinplot(x = new_df['Party'], y = new_df['Percent Hispanic or Latino'])"
   ]
  },
  {
   "cell_type": "code",
   "execution_count": 29,
   "metadata": {},
   "outputs": [
    {
     "data": {
      "text/plain": [
       "<matplotlib.axes._subplots.AxesSubplot at 0x1a1664ac88>"
      ]
     },
     "execution_count": 29,
     "metadata": {},
     "output_type": "execute_result"
    },
    {
     "data": {
      "image/png": "[encoded data removed]",
      "text/plain": [
       "<Figure size 432x288 with 1 Axes>"
      ]
     },
     "metadata": {},
     "output_type": "display_data"
    }
   ],
   "source": [
    "sns.boxplot(x = new_df['Party'], y = new_df['Percent Less than High School Degree'])"
   ]
  },
  {
   "cell_type": "code",
   "execution_count": 30,
   "metadata": {},
   "outputs": [
    {
     "data": {
      "text/plain": [
       "<matplotlib.axes._subplots.AxesSubplot at 0x1a16723c88>"
      ]
     },
     "execution_count": 30,
     "metadata": {},
     "output_type": "execute_result"
    },
    {
     "data": {
      "image/png": "[encoded data removed]",
      "text/plain": [
       "<Figure size 432x288 with 1 Axes>"
      ]
     },
     "metadata": {},
     "output_type": "display_data"
    }
   ],
   "source": [
    "sns.boxplot(x = new_df['Party'], y = new_df['Percent Less than Bachelor\\'s Degree'])"
   ]
  },
  {
   "cell_type": "code",
   "execution_count": 31,
   "metadata": {},
   "outputs": [
    {
     "data": {
      "text/plain": [
       "<matplotlib.axes._subplots.AxesSubplot at 0x1a16861cc0>"
      ]
     },
     "execution_count": 31,
     "metadata": {},
     "output_type": "execute_result"
    },
    {
     "data": {
      "image/png": "[encoded data removed]",
      "text/plain": [
       "<Figure size 432x288 with 1 Axes>"
      ]
     },
     "metadata": {},
     "output_type": "display_data"
    }
   ],
   "source": [
    "sns.boxplot(x = new_df['Party'], y = new_df['Percent Rural'])"
   ]
  },
  {
   "cell_type": "code",
   "execution_count": 32,
   "metadata": {},
   "outputs": [
    {
     "data": {
      "text/plain": [
       "<matplotlib.axes._subplots.AxesSubplot at 0x1a169387b8>"
      ]
     },
     "execution_count": 32,
     "metadata": {},
     "output_type": "execute_result"
    },
    {
     "data": {
      "image/png": "[encoded data removed]",
      "text/plain": [
       "<Figure size 432x288 with 1 Axes>"
      ]
     },
     "metadata": {},
     "output_type": "display_data"
    }
   ],
   "source": [
    "sns.boxplot(x = new_df['Party'], y = new_df['Percent Foreign Born'])"
   ]
  },
  {
   "cell_type": "markdown",
   "metadata": {},
   "source": [
    "## Task 9"
   ]
  },
  {
   "cell_type": "markdown",
   "metadata": {},
   "source": [
    "The most helpful variables in helping determine whether a county leans towards voting Democratic or Republican are:\n",
    "Age, Education, and Percent Rural - More Explanation to come in the PDF written report"
   ]
  },
  {
   "cell_type": "markdown",
   "metadata": {},
   "source": [
    "## Task 10"
   ]
  },
  {
   "cell_type": "code",
   "execution_count": 33,
   "metadata": {},
   "outputs": [],
   "source": [
    "#Creating a new column to help with labeling the map\n",
    "new_df[\"PartyNames\"] = np.where(new_df[\"Democratic\"] > new_df[\"Republican\"], 'Democratic', 'Republican')"
   ]
  },
  {
   "cell_type": "code",
   "execution_count": 34,
   "metadata": {},
   "outputs": [
    {
     "name": "stderr",
     "output_type": "stream",
     "text": [
      "/anaconda3/lib/python3.6/site-packages/pandas/core/frame.py:7138: FutureWarning:\n",
      "\n",
      "Sorting because non-concatenation axis is not aligned. A future version\n",
      "of pandas will change to not sort by default.\n",
      "\n",
      "To accept the future behavior, pass 'sort=False'.\n",
      "\n",
      "To retain the current behavior and silence the warning, pass 'sort=True'.\n",
      "\n",
      "\n"
     ]
    }
   ],
   "source": [
    "import plotly.figure_factory as ff\n",
    "values = new_df['PartyNames']\n",
    "fips = merged_df['FIPS']\n",
    "colorscale = ['rgb(0,0,255)','rgb(255,0,0)']\n",
    "fig = ff.create_choropleth(fips = fips, values = values,\n",
    "                           county_outline={'color': 'rgb(0,0,0)', 'width': 0.5},\n",
    "                           colorscale = colorscale, legend_title = 'Political Parties', \n",
    "                           title = 'Democratic Vs Republican Counties By FIPS COde')\n",
    "# fig.layout.template = None\n",
    "# fig.show()"
   ]
  },
  {
   "cell_type": "code",
   "execution_count": null,
   "metadata": {},
   "outputs": [],
   "source": []
  },
  {
   "cell_type": "code",
   "execution_count": null,
   "metadata": {},
   "outputs": [],
   "source": []
  }
 ],
 "metadata": {
  "kernelspec": {
   "display_name": "Python 3",
   "language": "python",
   "name": "python3"
  },
  "language_info": {
   "codemirror_mode": {
    "name": "ipython",
    "version": 3
   },
   "file_extension": ".py",
   "mimetype": "text/x-python",
   "name": "python",
   "nbconvert_exporter": "python",
   "pygments_lexer": "ipython3",
   "version": "3.6.6"
  }
 },
 "nbformat": 4,
 "nbformat_minor": 4
}
