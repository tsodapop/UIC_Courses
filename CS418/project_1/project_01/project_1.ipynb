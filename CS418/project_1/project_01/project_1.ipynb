{
 "cells": [
  {
   "cell_type": "code",
   "execution_count": 1,
   "metadata": {},
   "outputs": [],
   "source": [
    "import pandas as pd\n",
    "import numpy as np\n",
    "import scipy.stats as st"
   ]
  },
  {
   "cell_type": "code",
   "execution_count": 2,
   "metadata": {},
   "outputs": [],
   "source": [
    "states_map = {\n",
    "    'AZ':'Arizona',\n",
    "    'CT':'Connecticut',\n",
    "    'DE':'Delaware',\n",
    "    'FL':'Florida',\n",
    "    'HI':'Hawaii',\n",
    "    'IN':'Indiana',\n",
    "    'MA':'Massachusetts',\n",
    "    'MD':'Maryland',\n",
    "    'ME':'Maine',\n",
    "    'MI':'Michigan',\n",
    "    'MN':'Minnesota',\n",
    "    'MT':'Montana',\n",
    "    'ND':'North Dakota',\n",
    "    'NE':'Nebraska',\n",
    "    'NJ':'New Jersey',\n",
    "    'NM':'New Mexico',\n",
    "    'NV':'Nevada',\n",
    "    'NY':'New York',\n",
    "    'OH':'Ohio',\n",
    "    'PA':'Pennsylvania',\n",
    "    'RI':'Rhode Island',\n",
    "    'TN':'Tennessee',\n",
    "    'TX':'Texas',\n",
    "    'UT':'Utah',\n",
    "    'VA':'Virginia',\n",
    "    'VT':'Vermont',\n",
    "    'WA':'Washington',\n",
    "    'WI':'Wisconsin',\n",
    "    'WV':'West Virginia',\n",
    "    'WY':'Wyoming'\n",
    "}"
   ]
  },
  {
   "cell_type": "code",
   "execution_count": 3,
   "metadata": {},
   "outputs": [],
   "source": [
    "demographics = pd.read_csv('demographics_train.csv')\n",
    "election = pd.read_csv('election_train.csv')"
   ]
  },
  {
   "cell_type": "markdown",
   "metadata": {},
   "source": [
    "## TASK 1"
   ]
  },
  {
   "cell_type": "code",
   "execution_count": 4,
   "metadata": {},
   "outputs": [],
   "source": [
    "election = election.pivot_table(\n",
    "    index = ['State','County','Office','Year']\n",
    "    ,columns = 'Party'\n",
    "    ,values= 'Votes'\n",
    ").reset_index()"
   ]
  },
  {
   "cell_type": "code",
   "execution_count": 5,
   "metadata": {},
   "outputs": [
    {
     "data": {
      "text/html": [
       "<div>\n",
       "<style scoped>\n",
       "    .dataframe tbody tr th:only-of-type {\n",
       "        vertical-align: middle;\n",
       "    }\n",
       "\n",
       "    .dataframe tbody tr th {\n",
       "        vertical-align: top;\n",
       "    }\n",
       "\n",
       "    .dataframe thead th {\n",
       "        text-align: right;\n",
       "    }\n",
       "</style>\n",
       "<table border=\"1\" class=\"dataframe\">\n",
       "  <thead>\n",
       "    <tr style=\"text-align: right;\">\n",
       "      <th>Party</th>\n",
       "      <th>State</th>\n",
       "      <th>County</th>\n",
       "      <th>Office</th>\n",
       "      <th>Year</th>\n",
       "      <th>Democratic</th>\n",
       "      <th>Republican</th>\n",
       "    </tr>\n",
       "  </thead>\n",
       "  <tbody>\n",
       "    <tr>\n",
       "      <th>425</th>\n",
       "      <td>NE</td>\n",
       "      <td>Lancaster County</td>\n",
       "      <td>US Senator</td>\n",
       "      <td>2018</td>\n",
       "      <td>NaN</td>\n",
       "      <td>NaN</td>\n",
       "    </tr>\n",
       "    <tr>\n",
       "      <th>716</th>\n",
       "      <td>TN</td>\n",
       "      <td>Meigs County</td>\n",
       "      <td>US Senator</td>\n",
       "      <td>2018</td>\n",
       "      <td>NaN</td>\n",
       "      <td>NaN</td>\n",
       "    </tr>\n",
       "    <tr>\n",
       "      <th>753</th>\n",
       "      <td>TX</td>\n",
       "      <td>Bee County</td>\n",
       "      <td>US Senator</td>\n",
       "      <td>2018</td>\n",
       "      <td>NaN</td>\n",
       "      <td>NaN</td>\n",
       "    </tr>\n",
       "    <tr>\n",
       "      <th>869</th>\n",
       "      <td>TX</td>\n",
       "      <td>Menard County</td>\n",
       "      <td>US Senator</td>\n",
       "      <td>2018</td>\n",
       "      <td>NaN</td>\n",
       "      <td>NaN</td>\n",
       "    </tr>\n",
       "    <tr>\n",
       "      <th>1119</th>\n",
       "      <td>WI</td>\n",
       "      <td>Lafayette County</td>\n",
       "      <td>US Senator</td>\n",
       "      <td>2018</td>\n",
       "      <td>NaN</td>\n",
       "      <td>NaN</td>\n",
       "    </tr>\n",
       "  </tbody>\n",
       "</table>\n",
       "</div>"
      ],
      "text/plain": [
       "Party State            County      Office  Year  Democratic  Republican\n",
       "425      NE  Lancaster County  US Senator  2018         NaN         NaN\n",
       "716      TN      Meigs County  US Senator  2018         NaN         NaN\n",
       "753      TX        Bee County  US Senator  2018         NaN         NaN\n",
       "869      TX     Menard County  US Senator  2018         NaN         NaN\n",
       "1119     WI  Lafayette County  US Senator  2018         NaN         NaN"
      ]
     },
     "execution_count": 5,
     "metadata": {},
     "output_type": "execute_result"
    }
   ],
   "source": [
    "election[election[\"Democratic\"].isna()]"
   ]
  },
  {
   "cell_type": "markdown",
   "metadata": {},
   "source": [
    "## TASK 2"
   ]
  },
  {
   "cell_type": "code",
   "execution_count": 6,
   "metadata": {},
   "outputs": [
    {
     "data": {
      "text/html": [
       "<div>\n",
       "<style scoped>\n",
       "    .dataframe tbody tr th:only-of-type {\n",
       "        vertical-align: middle;\n",
       "    }\n",
       "\n",
       "    .dataframe tbody tr th {\n",
       "        vertical-align: top;\n",
       "    }\n",
       "\n",
       "    .dataframe thead th {\n",
       "        text-align: right;\n",
       "    }\n",
       "</style>\n",
       "<table border=\"1\" class=\"dataframe\">\n",
       "  <thead>\n",
       "    <tr style=\"text-align: right;\">\n",
       "      <th>Party</th>\n",
       "      <th>State</th>\n",
       "      <th>County</th>\n",
       "      <th>Office</th>\n",
       "      <th>Year</th>\n",
       "      <th>Democratic</th>\n",
       "      <th>Republican</th>\n",
       "    </tr>\n",
       "  </thead>\n",
       "  <tbody>\n",
       "    <tr>\n",
       "      <th>0</th>\n",
       "      <td>AZ</td>\n",
       "      <td>Apache County</td>\n",
       "      <td>US Senator</td>\n",
       "      <td>2018</td>\n",
       "      <td>16298.0</td>\n",
       "      <td>7810.0</td>\n",
       "    </tr>\n",
       "  </tbody>\n",
       "</table>\n",
       "</div>"
      ],
      "text/plain": [
       "Party State         County      Office  Year  Democratic  Republican\n",
       "0        AZ  Apache County  US Senator  2018     16298.0      7810.0"
      ]
     },
     "execution_count": 6,
     "metadata": {},
     "output_type": "execute_result"
    }
   ],
   "source": [
    "election.head(1)"
   ]
  },
  {
   "cell_type": "code",
   "execution_count": 7,
   "metadata": {},
   "outputs": [
    {
     "data": {
      "text/html": [
       "<div>\n",
       "<style scoped>\n",
       "    .dataframe tbody tr th:only-of-type {\n",
       "        vertical-align: middle;\n",
       "    }\n",
       "\n",
       "    .dataframe tbody tr th {\n",
       "        vertical-align: top;\n",
       "    }\n",
       "\n",
       "    .dataframe thead th {\n",
       "        text-align: right;\n",
       "    }\n",
       "</style>\n",
       "<table border=\"1\" class=\"dataframe\">\n",
       "  <thead>\n",
       "    <tr style=\"text-align: right;\">\n",
       "      <th>Party</th>\n",
       "      <th>State</th>\n",
       "      <th>County</th>\n",
       "      <th>Office</th>\n",
       "      <th>Year</th>\n",
       "      <th>Democratic</th>\n",
       "      <th>Republican</th>\n",
       "    </tr>\n",
       "  </thead>\n",
       "  <tbody>\n",
       "    <tr>\n",
       "      <th>0</th>\n",
       "      <td>arizona</td>\n",
       "      <td>apache county</td>\n",
       "      <td>US Senator</td>\n",
       "      <td>2018</td>\n",
       "      <td>16298.0</td>\n",
       "      <td>7810.0</td>\n",
       "    </tr>\n",
       "    <tr>\n",
       "      <th>1</th>\n",
       "      <td>arizona</td>\n",
       "      <td>cochise county</td>\n",
       "      <td>US Senator</td>\n",
       "      <td>2018</td>\n",
       "      <td>17383.0</td>\n",
       "      <td>26929.0</td>\n",
       "    </tr>\n",
       "    <tr>\n",
       "      <th>2</th>\n",
       "      <td>arizona</td>\n",
       "      <td>coconino county</td>\n",
       "      <td>US Senator</td>\n",
       "      <td>2018</td>\n",
       "      <td>34240.0</td>\n",
       "      <td>19249.0</td>\n",
       "    </tr>\n",
       "  </tbody>\n",
       "</table>\n",
       "</div>"
      ],
      "text/plain": [
       "Party    State           County      Office  Year  Democratic  Republican\n",
       "0      arizona    apache county  US Senator  2018     16298.0      7810.0\n",
       "1      arizona   cochise county  US Senator  2018     17383.0     26929.0\n",
       "2      arizona  coconino county  US Senator  2018     34240.0     19249.0"
      ]
     },
     "execution_count": 7,
     "metadata": {},
     "output_type": "execute_result"
    }
   ],
   "source": [
    "#map the state initials to the actual full state name\n",
    "election['State'] = election['State'].map(states_map) #DO THIS ONLY ONCE\n",
    "election['State'] = election['State'].str.lower()\n",
    "\n",
    "#get all the indexes where the county doesnt have 'county' in the name already \n",
    "no_county_name = election[election[\"County\"].str.contains(\"County\") == False]\n",
    "add_county = [no_county_name.index.values]\n",
    "\n",
    "#add 'county' into those that are missing it\n",
    "for index_val in add_county:\n",
    "    election.loc[index_val,'County'] = election.loc[index_val,'County'] + ' County'\n",
    "election.County = election.County.str.lower()\n",
    "\n",
    "    \n",
    "election.head(3)"
   ]
  },
  {
   "cell_type": "code",
   "execution_count": 8,
   "metadata": {},
   "outputs": [
    {
     "data": {
      "text/html": [
       "<div>\n",
       "<style scoped>\n",
       "    .dataframe tbody tr th:only-of-type {\n",
       "        vertical-align: middle;\n",
       "    }\n",
       "\n",
       "    .dataframe tbody tr th {\n",
       "        vertical-align: top;\n",
       "    }\n",
       "\n",
       "    .dataframe thead th {\n",
       "        text-align: right;\n",
       "    }\n",
       "</style>\n",
       "<table border=\"1\" class=\"dataframe\">\n",
       "  <thead>\n",
       "    <tr style=\"text-align: right;\">\n",
       "      <th></th>\n",
       "      <th>State</th>\n",
       "      <th>County</th>\n",
       "      <th>FIPS</th>\n",
       "      <th>Total Population</th>\n",
       "      <th>Citizen Voting-Age Population</th>\n",
       "      <th>Percent White, not Hispanic or Latino</th>\n",
       "      <th>Percent Black, not Hispanic or Latino</th>\n",
       "      <th>Percent Hispanic or Latino</th>\n",
       "      <th>Percent Foreign Born</th>\n",
       "      <th>Percent Female</th>\n",
       "      <th>Percent Age 29 and Under</th>\n",
       "      <th>Percent Age 65 and Older</th>\n",
       "      <th>Median Household Income</th>\n",
       "      <th>Percent Unemployed</th>\n",
       "      <th>Percent Less than High School Degree</th>\n",
       "      <th>Percent Less than Bachelor's Degree</th>\n",
       "      <th>Percent Rural</th>\n",
       "    </tr>\n",
       "  </thead>\n",
       "  <tbody>\n",
       "    <tr>\n",
       "      <th>0</th>\n",
       "      <td>wisconsin</td>\n",
       "      <td>la crosse county</td>\n",
       "      <td>55063</td>\n",
       "      <td>117538</td>\n",
       "      <td>0</td>\n",
       "      <td>90.537528</td>\n",
       "      <td>1.214075</td>\n",
       "      <td>1.724549</td>\n",
       "      <td>2.976059</td>\n",
       "      <td>51.171536</td>\n",
       "      <td>43.241335</td>\n",
       "      <td>14.702479</td>\n",
       "      <td>51477</td>\n",
       "      <td>4.796952</td>\n",
       "      <td>5.474767</td>\n",
       "      <td>67.529757</td>\n",
       "      <td>16.827753</td>\n",
       "    </tr>\n",
       "    <tr>\n",
       "      <th>1</th>\n",
       "      <td>virginia</td>\n",
       "      <td>alleghany county</td>\n",
       "      <td>51005</td>\n",
       "      <td>15919</td>\n",
       "      <td>12705</td>\n",
       "      <td>91.940449</td>\n",
       "      <td>5.207614</td>\n",
       "      <td>1.432251</td>\n",
       "      <td>1.300333</td>\n",
       "      <td>51.077329</td>\n",
       "      <td>31.660280</td>\n",
       "      <td>23.902255</td>\n",
       "      <td>45538</td>\n",
       "      <td>4.560986</td>\n",
       "      <td>15.537543</td>\n",
       "      <td>83.711604</td>\n",
       "      <td>52.393846</td>\n",
       "    </tr>\n",
       "    <tr>\n",
       "      <th>2</th>\n",
       "      <td>indiana</td>\n",
       "      <td>fountain county</td>\n",
       "      <td>18045</td>\n",
       "      <td>16741</td>\n",
       "      <td>12750</td>\n",
       "      <td>95.705155</td>\n",
       "      <td>0.400215</td>\n",
       "      <td>2.359477</td>\n",
       "      <td>1.547100</td>\n",
       "      <td>49.770026</td>\n",
       "      <td>35.899887</td>\n",
       "      <td>18.941521</td>\n",
       "      <td>45924</td>\n",
       "      <td>7.978789</td>\n",
       "      <td>12.032155</td>\n",
       "      <td>85.538940</td>\n",
       "      <td>65.951276</td>\n",
       "    </tr>\n",
       "  </tbody>\n",
       "</table>\n",
       "</div>"
      ],
      "text/plain": [
       "       State            County   FIPS  Total Population  \\\n",
       "0  wisconsin  la crosse county  55063            117538   \n",
       "1   virginia  alleghany county  51005             15919   \n",
       "2    indiana   fountain county  18045             16741   \n",
       "\n",
       "   Citizen Voting-Age Population  Percent White, not Hispanic or Latino  \\\n",
       "0                              0                              90.537528   \n",
       "1                          12705                              91.940449   \n",
       "2                          12750                              95.705155   \n",
       "\n",
       "   Percent Black, not Hispanic or Latino  Percent Hispanic or Latino  \\\n",
       "0                               1.214075                    1.724549   \n",
       "1                               5.207614                    1.432251   \n",
       "2                               0.400215                    2.359477   \n",
       "\n",
       "   Percent Foreign Born  Percent Female  Percent Age 29 and Under  \\\n",
       "0              2.976059       51.171536                 43.241335   \n",
       "1              1.300333       51.077329                 31.660280   \n",
       "2              1.547100       49.770026                 35.899887   \n",
       "\n",
       "   Percent Age 65 and Older  Median Household Income  Percent Unemployed  \\\n",
       "0                 14.702479                    51477            4.796952   \n",
       "1                 23.902255                    45538            4.560986   \n",
       "2                 18.941521                    45924            7.978789   \n",
       "\n",
       "   Percent Less than High School Degree  Percent Less than Bachelor's Degree  \\\n",
       "0                              5.474767                            67.529757   \n",
       "1                             15.537543                            83.711604   \n",
       "2                             12.032155                            85.538940   \n",
       "\n",
       "   Percent Rural  \n",
       "0      16.827753  \n",
       "1      52.393846  \n",
       "2      65.951276  "
      ]
     },
     "execution_count": 8,
     "metadata": {},
     "output_type": "execute_result"
    }
   ],
   "source": [
    "#check if County has any that already contain the word 'county' / none do\n",
    "demographics[demographics[\"County\"].str.contains(\"County\") == True] \n",
    "demographics['State'] = demographics['State'].str.lower()\n",
    "\n",
    "demographics.County = demographics.County + ' County' #DO THIS ONLY ONCE \n",
    "demographics.County = demographics.County.str.lower()\n",
    "\n",
    "demographics.head(3)"
   ]
  },
  {
   "cell_type": "code",
   "execution_count": 9,
   "metadata": {},
   "outputs": [],
   "source": [
    "merged_df = pd.merge(\n",
    "    demographics, election, how = 'inner', \n",
    "    on = ['State','County']\n",
    ")\n"
   ]
  },
  {
   "cell_type": "code",
   "execution_count": 10,
   "metadata": {},
   "outputs": [
    {
     "data": {
      "text/plain": [
       "1200"
      ]
     },
     "execution_count": 10,
     "metadata": {},
     "output_type": "execute_result"
    }
   ],
   "source": [
    "len(merged_df) #we have 1200 rows which aligns with the hint"
   ]
  },
  {
   "cell_type": "markdown",
   "metadata": {},
   "source": [
    "## TASK 3"
   ]
  },
  {
   "cell_type": "code",
   "execution_count": 11,
   "metadata": {},
   "outputs": [
    {
     "data": {
      "text/plain": [
       "State                                     object\n",
       "County                                    object\n",
       "FIPS                                       int64\n",
       "Total Population                           int64\n",
       "Citizen Voting-Age Population              int64\n",
       "Percent White, not Hispanic or Latino    float64\n",
       "Percent Black, not Hispanic or Latino    float64\n",
       "Percent Hispanic or Latino               float64\n",
       "Percent Foreign Born                     float64\n",
       "Percent Female                           float64\n",
       "Percent Age 29 and Under                 float64\n",
       "Percent Age 65 and Older                 float64\n",
       "Median Household Income                    int64\n",
       "Percent Unemployed                       float64\n",
       "Percent Less than High School Degree     float64\n",
       "Percent Less than Bachelor's Degree      float64\n",
       "Percent Rural                            float64\n",
       "Office                                    object\n",
       "Year                                       int64\n",
       "Democratic                               float64\n",
       "Republican                               float64\n",
       "dtype: object"
      ]
     },
     "execution_count": 11,
     "metadata": {},
     "output_type": "execute_result"
    }
   ],
   "source": [
    "len(merged_df.columns) #21 variables\n",
    "merged_df.dtypes"
   ]
  },
  {
   "cell_type": "markdown",
   "metadata": {},
   "source": [
    "> FIPS - Take out variable - The FIPS (federal information processing standard) is not necessary. This is a code that helps identify locations, but since we already have the state and county and have votes based on these two regional identifiers, we don't need the FIPS. \n",
    "\n",
    "> Total Population - Take out variable - The total population will not have any effect on the number of people that are going to vote. The voting-age population is more representative of who has the ability to vote.\n",
    "\n",
    "> Year and Office - Take out variable - both of these are all the same for each variable and so hold no value"
   ]
  },
  {
   "cell_type": "code",
   "execution_count": 12,
   "metadata": {},
   "outputs": [],
   "source": [
    "new_df = merged_df.copy(deep=True) #copy the dataset so that any modifications on new_df, \n",
    "                                   #no changes happen to merged_df in case we need to backtrack"
   ]
  },
  {
   "cell_type": "code",
   "execution_count": 13,
   "metadata": {},
   "outputs": [],
   "source": [
    "new_df = new_df.drop([\"FIPS\",\"Year\",\"Office\"], axis=1) #drop vars"
   ]
  },
  {
   "cell_type": "code",
   "execution_count": 14,
   "metadata": {},
   "outputs": [
    {
     "data": {
      "text/html": [
       "<div>\n",
       "<style scoped>\n",
       "    .dataframe tbody tr th:only-of-type {\n",
       "        vertical-align: middle;\n",
       "    }\n",
       "\n",
       "    .dataframe tbody tr th {\n",
       "        vertical-align: top;\n",
       "    }\n",
       "\n",
       "    .dataframe thead th {\n",
       "        text-align: right;\n",
       "    }\n",
       "</style>\n",
       "<table border=\"1\" class=\"dataframe\">\n",
       "  <thead>\n",
       "    <tr style=\"text-align: right;\">\n",
       "      <th></th>\n",
       "      <th>State</th>\n",
       "      <th>County</th>\n",
       "      <th>Total Population</th>\n",
       "      <th>Citizen Voting-Age Population</th>\n",
       "      <th>Percent White, not Hispanic or Latino</th>\n",
       "      <th>Percent Black, not Hispanic or Latino</th>\n",
       "      <th>Percent Hispanic or Latino</th>\n",
       "      <th>Percent Foreign Born</th>\n",
       "      <th>Percent Female</th>\n",
       "      <th>Percent Age 29 and Under</th>\n",
       "      <th>Percent Age 65 and Older</th>\n",
       "      <th>Median Household Income</th>\n",
       "      <th>Percent Unemployed</th>\n",
       "      <th>Percent Less than High School Degree</th>\n",
       "      <th>Percent Less than Bachelor's Degree</th>\n",
       "      <th>Percent Rural</th>\n",
       "      <th>Democratic</th>\n",
       "      <th>Republican</th>\n",
       "    </tr>\n",
       "  </thead>\n",
       "  <tbody>\n",
       "    <tr>\n",
       "      <th>0</th>\n",
       "      <td>wisconsin</td>\n",
       "      <td>la crosse county</td>\n",
       "      <td>117538</td>\n",
       "      <td>0</td>\n",
       "      <td>90.537528</td>\n",
       "      <td>1.214075</td>\n",
       "      <td>1.724549</td>\n",
       "      <td>2.976059</td>\n",
       "      <td>51.171536</td>\n",
       "      <td>43.241335</td>\n",
       "      <td>14.702479</td>\n",
       "      <td>51477</td>\n",
       "      <td>4.796952</td>\n",
       "      <td>5.474767</td>\n",
       "      <td>67.529757</td>\n",
       "      <td>16.827753</td>\n",
       "      <td>35731.0</td>\n",
       "      <td>21160.0</td>\n",
       "    </tr>\n",
       "  </tbody>\n",
       "</table>\n",
       "</div>"
      ],
      "text/plain": [
       "       State            County  Total Population  \\\n",
       "0  wisconsin  la crosse county            117538   \n",
       "\n",
       "   Citizen Voting-Age Population  Percent White, not Hispanic or Latino  \\\n",
       "0                              0                              90.537528   \n",
       "\n",
       "   Percent Black, not Hispanic or Latino  Percent Hispanic or Latino  \\\n",
       "0                               1.214075                    1.724549   \n",
       "\n",
       "   Percent Foreign Born  Percent Female  Percent Age 29 and Under  \\\n",
       "0              2.976059       51.171536                 43.241335   \n",
       "\n",
       "   Percent Age 65 and Older  Median Household Income  Percent Unemployed  \\\n",
       "0                 14.702479                    51477            4.796952   \n",
       "\n",
       "   Percent Less than High School Degree  Percent Less than Bachelor's Degree  \\\n",
       "0                              5.474767                            67.529757   \n",
       "\n",
       "   Percent Rural  Democratic  Republican  \n",
       "0      16.827753     35731.0     21160.0  "
      ]
     },
     "execution_count": 14,
     "metadata": {},
     "output_type": "execute_result"
    }
   ],
   "source": [
    "new_df.head(1)"
   ]
  },
  {
   "cell_type": "markdown",
   "metadata": {},
   "source": [
    "## TASK 4"
   ]
  },
  {
   "cell_type": "code",
   "execution_count": 15,
   "metadata": {},
   "outputs": [
    {
     "name": "stdout",
     "output_type": "stream",
     "text": [
      "Max rows 1200\n",
      "\n",
      "Columns with zero values\n",
      "                                    Column Rows with zero\n",
      "1                                   State              0\n",
      "2                                  County              0\n",
      "3                        Total Population              0\n",
      "4           Citizen Voting-Age Population            680\n",
      "5   Percent White, not Hispanic or Latino              0\n",
      "6   Percent Black, not Hispanic or Latino             45\n",
      "7              Percent Hispanic or Latino              5\n",
      "8                    Percent Foreign Born              3\n",
      "9                          Percent Female              0\n",
      "10               Percent Age 29 and Under              0\n",
      "11               Percent Age 65 and Older              0\n",
      "12                Median Household Income              0\n",
      "13                     Percent Unemployed              3\n",
      "14   Percent Less than High School Degree              0\n",
      "15    Percent Less than Bachelor's Degree              0\n",
      "16                          Percent Rural             19\n",
      "17                             Democratic              0\n",
      "18                             Republican              0\n",
      "\n",
      "Columns with NA values\n",
      " [['Democratic', 5], ['Republican', 5]]\n"
     ]
    },
    {
     "data": {
      "text/plain": [
       "1195"
      ]
     },
     "execution_count": 15,
     "metadata": {},
     "output_type": "execute_result"
    }
   ],
   "source": [
    "print(\"Max rows\", len(new_df)) #this shows the total number of rows\n",
    "\n",
    "#this will give us the columns with zeroes and the num of zeroes\n",
    "cols_zeroes = pd.DataFrame(columns = [\"Column\",\"Rows with zero\"])\n",
    "\n",
    "index = 0\n",
    "for column in new_df:\n",
    "    count = len(new_df[new_df[column] == 0])\n",
    "    index +=1\n",
    "    cols_zeroes.loc[index] = [column,count]\n",
    "\n",
    "print(\"\\nColumns with zero values\\n\", cols_zeroes)\n",
    "#we can see that the citizen voting-age population has 680/1200 rows missing data\n",
    "#i think it is better to drop the column rather than the rows. let me know what you think\n",
    "\n",
    "new_df.drop(\"Citizen Voting-Age Population\", axis=1,inplace=True)\n",
    "\n",
    "#we also have other zero values, however...\n",
    "new_df[new_df[\"Percent Black, not Hispanic or Latino\"] == 0]\n",
    "#the majority populations are very small in nature, and are predominantly white\n",
    "#it is not outlandish to reason that there may be a population of zero black.\n",
    "#this is similar reasoning pushed onto the remaining zero values, where it is \n",
    "#not impossible to have values of zero.\n",
    "\n",
    "#____________________________________________________________________________________\n",
    "#this will show us which columns have NA values\n",
    "has_na_vals = []\n",
    "for column in new_df:\n",
    "    check_na = new_df[new_df[column].isna()]\n",
    "    if check_na.empty == False:\n",
    "        has_na_vals.append([column,len(check_na)])\n",
    "\n",
    "print(\"\\nColumns with NA values\\n\", has_na_vals)\n",
    "\n",
    "#we have 5 rows of dem/rep row missing\n",
    "\n",
    "#this shows the missing rows are both in the same columns. it is a small subset, so opt to take those out\n",
    "temp_df = new_df[new_df[\"Republican\"].isna()]\n",
    "na_rows = temp_df.index\n",
    "\n",
    "new_df.drop(na_rows, axis=0, inplace=True)\n",
    "\n",
    "#confirms we dropped it, we now have 1195 rows\n",
    "len(new_df)"
   ]
  },
  {
   "cell_type": "markdown",
   "metadata": {},
   "source": [
    "## TASK 5"
   ]
  },
  {
   "cell_type": "code",
   "execution_count": 16,
   "metadata": {},
   "outputs": [
    {
     "data": {
      "text/html": [
       "<div>\n",
       "<style scoped>\n",
       "    .dataframe tbody tr th:only-of-type {\n",
       "        vertical-align: middle;\n",
       "    }\n",
       "\n",
       "    .dataframe tbody tr th {\n",
       "        vertical-align: top;\n",
       "    }\n",
       "\n",
       "    .dataframe thead th {\n",
       "        text-align: right;\n",
       "    }\n",
       "</style>\n",
       "<table border=\"1\" class=\"dataframe\">\n",
       "  <thead>\n",
       "    <tr style=\"text-align: right;\">\n",
       "      <th></th>\n",
       "      <th>State</th>\n",
       "      <th>County</th>\n",
       "      <th>Total Population</th>\n",
       "      <th>Percent White, not Hispanic or Latino</th>\n",
       "      <th>Percent Black, not Hispanic or Latino</th>\n",
       "      <th>Percent Hispanic or Latino</th>\n",
       "      <th>Percent Foreign Born</th>\n",
       "      <th>Percent Female</th>\n",
       "      <th>Percent Age 29 and Under</th>\n",
       "      <th>Percent Age 65 and Older</th>\n",
       "      <th>Median Household Income</th>\n",
       "      <th>Percent Unemployed</th>\n",
       "      <th>Percent Less than High School Degree</th>\n",
       "      <th>Percent Less than Bachelor's Degree</th>\n",
       "      <th>Percent Rural</th>\n",
       "      <th>Democratic</th>\n",
       "      <th>Republican</th>\n",
       "      <th>Party</th>\n",
       "    </tr>\n",
       "  </thead>\n",
       "  <tbody>\n",
       "    <tr>\n",
       "      <th>0</th>\n",
       "      <td>wisconsin</td>\n",
       "      <td>la crosse county</td>\n",
       "      <td>117538</td>\n",
       "      <td>90.537528</td>\n",
       "      <td>1.214075</td>\n",
       "      <td>1.724549</td>\n",
       "      <td>2.976059</td>\n",
       "      <td>51.171536</td>\n",
       "      <td>43.241335</td>\n",
       "      <td>14.702479</td>\n",
       "      <td>51477</td>\n",
       "      <td>4.796952</td>\n",
       "      <td>5.474767</td>\n",
       "      <td>67.529757</td>\n",
       "      <td>16.827753</td>\n",
       "      <td>35731.0</td>\n",
       "      <td>21160.0</td>\n",
       "      <td>1</td>\n",
       "    </tr>\n",
       "  </tbody>\n",
       "</table>\n",
       "</div>"
      ],
      "text/plain": [
       "       State            County  Total Population  \\\n",
       "0  wisconsin  la crosse county            117538   \n",
       "\n",
       "   Percent White, not Hispanic or Latino  \\\n",
       "0                              90.537528   \n",
       "\n",
       "   Percent Black, not Hispanic or Latino  Percent Hispanic or Latino  \\\n",
       "0                               1.214075                    1.724549   \n",
       "\n",
       "   Percent Foreign Born  Percent Female  Percent Age 29 and Under  \\\n",
       "0              2.976059       51.171536                 43.241335   \n",
       "\n",
       "   Percent Age 65 and Older  Median Household Income  Percent Unemployed  \\\n",
       "0                 14.702479                    51477            4.796952   \n",
       "\n",
       "   Percent Less than High School Degree  Percent Less than Bachelor's Degree  \\\n",
       "0                              5.474767                            67.529757   \n",
       "\n",
       "   Percent Rural  Democratic  Republican  Party  \n",
       "0      16.827753     35731.0     21160.0      1  "
      ]
     },
     "execution_count": 16,
     "metadata": {},
     "output_type": "execute_result"
    }
   ],
   "source": [
    "new_df[\"Party\"] = np.where(new_df[\"Democratic\"] > new_df[\"Republican\"], 1,0)\n",
    "new_df.head(1)"
   ]
  },
  {
   "cell_type": "markdown",
   "metadata": {},
   "source": [
    "## TASK 6"
   ]
  },
  {
   "cell_type": "code",
   "execution_count": 17,
   "metadata": {},
   "outputs": [
    {
     "name": "stdout",
     "output_type": "stream",
     "text": [
      "dem mean:  300998.3169230769 \n",
      "rep mean:  53864.6724137931\n",
      "dem std:  553600.0257123302 \n",
      "rep std:  94192.57279397613 \n",
      "\n",
      "8.004638577960957\n",
      "1.0239358801486512e-14\n"
     ]
    }
   ],
   "source": [
    "dem_pop = new_df[new_df['Party'] == 1]['Total Population'].mean()\n",
    "rep_pop = new_df[new_df['Party'] == 0]['Total Population'].mean()\n",
    "\n",
    "dem_std = new_df[new_df['Party'] == 1]['Total Population'].std()\n",
    "rep_std = new_df[new_df['Party'] == 0]['Total Population'].std() #wide var difference\n",
    "\n",
    "print(\"dem mean: \", dem_pop,\"\\nrep mean: \", rep_pop) #democratic population is higher\n",
    "print(\"dem std: \",dem_std,\"\\nrep std: \", rep_std,\"\\n\")\n",
    "\n",
    "#null = population difference is within reasonable bounds\n",
    "#alternate = population difference is statistically significant\n",
    "\n",
    "dem_pop_array = new_df[new_df['Party'] == 1]['Total Population']\n",
    "rep_pop_array = new_df[new_df['Party'] == 0]['Total Population']\n",
    "\n",
    "[statistic, pvalue] = st.ttest_ind(dem_pop_array, rep_pop_array, equal_var = False)\n",
    "print(statistic)\n",
    "print(pvalue/2) #is e^-14, so it is a very small number\n",
    "\n",
    "#based on this, this is statistically significant. we reject the null hypothesis based on pval"
   ]
  },
  {
   "cell_type": "markdown",
   "metadata": {},
   "source": [
    "## TASK 7"
   ]
  },
  {
   "cell_type": "code",
   "execution_count": 18,
   "metadata": {},
   "outputs": [
    {
     "name": "stdout",
     "output_type": "stream",
     "text": [
      "dem mean:  53798.732307692306 \n",
      "rep mean:  48746.81954022989\n",
      "dem std:  15289.130077404618 \n",
      "rep std:  10670.72941182022 \n",
      "\n",
      "5.479141589767388\n",
      "3.574718681591286e-08\n"
     ]
    }
   ],
   "source": [
    "dem_med = new_df[new_df['Party'] == 1]['Median Household Income'].mean()\n",
    "rep_med = new_df[new_df['Party'] == 0]['Median Household Income'].mean()\n",
    "\n",
    "dem_std = new_df[new_df['Party'] == 1]['Median Household Income'].std()\n",
    "rep_std = new_df[new_df['Party'] == 0]['Median Household Income'].std() #wide var difference\n",
    "\n",
    "print(\"dem mean: \", dem_med,\"\\nrep mean: \", rep_med) #democratic population is higher\n",
    "print(\"dem std: \",dem_std,\"\\nrep std: \", rep_std,\"\\n\")\n",
    "\n",
    "#null = population income is within reasonable bounds\n",
    "#alternate = population income is statistically significant\n",
    "\n",
    "dem_med_array = new_df[new_df['Party'] == 1]['Median Household Income']\n",
    "rep_med_array = new_df[new_df['Party'] == 0]['Median Household Income']\n",
    "\n",
    "[statistic, pvalue] = st.ttest_ind(dem_med_array, rep_med_array, equal_var = False)\n",
    "print(statistic)\n",
    "print(pvalue/2) #is e^-08, so it is a very small number\n",
    "\n",
    "#based on this, this is statistically significant. we reject the null hypothesis based on pval"
   ]
  },
  {
   "cell_type": "code",
   "execution_count": 22,
   "metadata": {},
   "outputs": [],
   "source": [
    "# new_df\n",
    "import plotly"
   ]
  },
  {
   "cell_type": "code",
   "execution_count": null,
   "metadata": {},
   "outputs": [],
   "source": []
  }
 ],
 "metadata": {
  "kernelspec": {
   "display_name": "Python 3",
   "language": "python",
   "name": "python3"
  },
  "language_info": {
   "codemirror_mode": {
    "name": "ipython",
    "version": 3
   },
   "file_extension": ".py",
   "mimetype": "text/x-python",
   "name": "python",
   "nbconvert_exporter": "python",
   "pygments_lexer": "ipython3",
   "version": "3.6.6"
  }
 },
 "nbformat": 4,
 "nbformat_minor": 2
}
