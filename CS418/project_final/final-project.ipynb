{
 "cells": [
  {
   "cell_type": "code",
   "execution_count": 88,
   "metadata": {},
   "outputs": [],
   "source": [
    "#load all modules/libraries\n",
    "import pandas as pd\n",
    "import numpy as np\n",
    "import matplotlib.pyplot as plt\n",
    "import seaborn as sns\n",
    "from sklearn.model_selection import train_test_split\n",
    "from sklearn.preprocessing import StandardScaler\n",
    "from sklearn import linear_model\n",
    "\n",
    "pd.set_option('display.max_columns', 500)"
   ]
  },
  {
   "cell_type": "code",
   "execution_count": 89,
   "metadata": {},
   "outputs": [],
   "source": [
    "#will lowercase all items in a list and return the lowercased one\n",
    "def lowercase_columns(list):\n",
    "    new_list = []\n",
    "\n",
    "    for item in list:\n",
    "        new_list.append(item.lower())\n",
    "    \n",
    "    return new_list"
   ]
  },
  {
   "cell_type": "code",
   "execution_count": 90,
   "metadata": {},
   "outputs": [],
   "source": [
    "#Problem statement\n",
    "#Most students in the US are in public schools and people complain public is not up to par\n",
    "#what factors impact performance in public schools?"
   ]
  },
  {
   "cell_type": "markdown",
   "metadata": {},
   "source": [
    "## Data Collection"
   ]
  },
  {
   "cell_type": "code",
   "execution_count": 91,
   "metadata": {},
   "outputs": [],
   "source": [
    "#QUESTION 2\n",
    "data = pd.read_csv('Chicago_Public_Schools_-_School_Progress_Reports_SY1819.csv')\n",
    "data2 = pd.read_csv('Chicago_Public_Schools_-_School_Profile_Information_SY1819.csv')"
   ]
  },
  {
   "cell_type": "markdown",
   "metadata": {},
   "source": [
    "## Data Preparation"
   ]
  },
  {
   "cell_type": "code",
   "execution_count": 92,
   "metadata": {},
   "outputs": [],
   "source": [
    "#lower casing all of the columns in data\n",
    "data.columns = lowercase_columns(data.columns)\n",
    "data2.columns = lowercase_columns(data2.columns)"
   ]
  },
  {
   "cell_type": "code",
   "execution_count": 93,
   "metadata": {},
   "outputs": [],
   "source": [
    "#drop every column that has growth in it, we're not interested in growth, only attainment\n",
    "for column in data.columns:\n",
    "    if 'growth' in column:\n",
    "        data.drop(column, axis = 1, inplace=True)"
   ]
  },
  {
   "cell_type": "code",
   "execution_count": 94,
   "metadata": {},
   "outputs": [],
   "source": [
    "#dropping columns due to..\n",
    "#1.too much garbage data\n",
    "#2.too many missing values\n",
    "#3.irrelevant data\n",
    "columns_to_drop = [\n",
    "    'long_name',\n",
    "    'address',\n",
    "    'city',\n",
    "    'state',\n",
    "    'phone',\n",
    "    'fax',\n",
    "    'cps_school_profile',\n",
    "    'website',\n",
    "    'progress_report_year',\n",
    "    'blue_ribbon_award_year',\n",
    "    'spot_light_award_year',\n",
    "    'improvement_award_year',\n",
    "    'excellence_award_year',\n",
    "    'student_attainment_description',\n",
    "    'school_survey_student_response_rate_avg_pct',\n",
    "    'School_Survey_Teacher_Response_Rate_Avg_Pct',\n",
    "    'School_Survey_Parent_Response_Rate_Avg_Pct',\n",
    "    'Suspensions_Per_100_Students_Year_2_Pct',\n",
    "    'Suspensions_Per_100_Students_Avg_Pct',\n",
    "    'Misconducts_To_Suspensions_Year_2_Pct',\n",
    "    'Misconducts_To_Suspensions_Avg_Pct',\n",
    "    'Average_Length_Suspension_Year_2_Pct',\n",
    "    'Average_Length_Suspension_Avg_Pct',\n",
    "    'Behavior_Discipline_Year_2',\n",
    "    'Student_Attendance_Year_2_Pct',\n",
    "    'Teacher_Attendance_Year_2_Pct',\n",
    "    'One_Year_Dropout_Rate_Year_1_Pct',\n",
    "    'One_Year_Dropout_Rate_Year_2_Pct',\n",
    "    'One_Year_Dropout_Rate_Avg_Pct',\n",
    "    'Freshmen_On_Track_School_Pct_Year_2',\n",
    "    'Student_Attendance_Avg_Pct',\n",
    "    'Teacher_Attendance_Avg_Pct',\n",
    "    'Freshmen_On_Track_CPS_Pct_Year_2',\n",
    "    'Freshmen_On_Track_School_Pct_Year_1',\n",
    "    'Freshmen_On_Track_CPS_Pct_Year_1',\n",
    "    'Graduation_4_Year_School_Pct_Year_2',\n",
    "    'Graduation_4_Year_CPS_Pct_Year_2',\n",
    "    'Graduation_4_Year_School_Pct_Year_1',\n",
    "    'Graduation_4_Year_CPS_Pct_Year_1',\n",
    "    'Graduation_5_Year_School_Pct_Year_2',\n",
    "    'Graduation_5_Year_CPS_Pct_Year_2',\n",
    "    'Graduation_5_Year_School_Pct_Year_1',\n",
    "    'Graduation_5_Year_CPS_Pct_Year_1',\n",
    "    'College_Enrollment_School_Pct_Year_2',\n",
    "    'College_Enrollment_CPS_Pct_Year_2',\n",
    "    'College_Enrollment_School_Pct_Year_1',\n",
    "    'College_Enrollment_CPS_Pct_Year_1',\n",
    "    'College_Persistence_School_Pct_Year_2',\n",
    "    'College_Persistence_CPS_Pct_Year_2',\n",
    "    'College_Persistence_School_Pct_Year_1',\n",
    "    'College_Persistence_CPS_Pct_Year_1',\n",
    "    'State_School_Report_Card_URL',\n",
    "    'Other_Metrics_Year_1',\n",
    "    'Other_Metrics_Year_2',\n",
    "    'Mobility_Rate_Pct',\n",
    "    'Culture_Climate_Description',\n",
    "    'Empty_Progress_Report_Message',\n",
    "    'School_Survey_Rating_Description',\n",
    "    'Supportive_School_Award_Desc',\n",
    "    'Parent_Survey_Results_Year',\n",
    "    'SAT_Grade_11_Score_CPS_Avg',\n",
    "    'PSAT_Grade_9_Score_School_Avg',\n",
    "    'PSAT_Grade_10_Score_School_Avg',\n",
    "    'SAT_Grade_11_Score_School_Avg',\n",
    "    'Attainment_PSAT_Grade_9_School_Pct',\n",
    "    'Attainment_PSAT_Grade_9_School_Lbl',\n",
    "    'Attainment_PSAT_Grade_10_School_Pct',\n",
    "    'Attainment_PSAT_Grade_10_School_Lbl',\n",
    "    'Attainment_SAT_Grade_11_School_Pct',\n",
    "    'Attainment_SAT_Grade_11_School_Lbl',\n",
    "    'Attainment_All_Grades_School_Pct',\n",
    "    'Attainment_All_Grades_School_Lbl',\n",
    "    'Behavior_Discipline_Year_1',\n",
    "    'Excelerate_Award_Gold_Year',\n",
    "    'Attainment_Reading_Lbl_ES',\n",
    "    'Attainment_Math_Lbl_ES',\n",
    "    'Healthy_School_Certification',\n",
    "    'Healthy_School_Certification_Description',\n",
    "    'Creative_School_Certification_Description',\n",
    "    'Suspensions_Per_100_Students_Year_1_Pct',\n",
    "    'Misconducts_To_Suspensions_Year_1_Pct',\n",
    "    'Average_Length_Suspension_Year_1_Pct',\n",
    "    'Progress_Toward_Graduation_Year_1',\n",
    "    'Progress_Toward_Graduation_Year_2',\n",
    "    'school_survey_quality_of_facilities',\n",
    "    'school_survey_parent_teacher_partnership',\n",
    "    'school_survey_school_community',\n",
    "    'School_Survey_Student_Response_Rate_Pct',\n",
    "    'School_Survey_Teacher_Response_Rate_Pct',\n",
    "    'School_Survey_Parent_Response_Rate_Pct',\n",
    "    'Supportive_School_Award'\n",
    "]\n",
    "\n",
    "columns_to_drop = lowercase_columns(columns_to_drop)\n",
    "\n",
    "#drop the columns above from the dataset\n",
    "data.drop(columns_to_drop, axis=1, inplace=True)"
   ]
  },
  {
   "cell_type": "code",
   "execution_count": 95,
   "metadata": {},
   "outputs": [
    {
     "data": {
      "text/html": [
       "<div>\n",
       "<style scoped>\n",
       "    .dataframe tbody tr th:only-of-type {\n",
       "        vertical-align: middle;\n",
       "    }\n",
       "\n",
       "    .dataframe tbody tr th {\n",
       "        vertical-align: top;\n",
       "    }\n",
       "\n",
       "    .dataframe thead th {\n",
       "        text-align: right;\n",
       "    }\n",
       "</style>\n",
       "<table border=\"1\" class=\"dataframe\">\n",
       "  <thead>\n",
       "    <tr style=\"text-align: right;\">\n",
       "      <th></th>\n",
       "      <th>school_id</th>\n",
       "      <th>short_name</th>\n",
       "      <th>school_type</th>\n",
       "      <th>primary_category</th>\n",
       "      <th>zip</th>\n",
       "      <th>student_attainment_rating</th>\n",
       "      <th>attainment_reading_pct_es</th>\n",
       "      <th>attainment_math_pct_es</th>\n",
       "      <th>culture_climate_rating</th>\n",
       "      <th>creative_school_certification</th>\n",
       "      <th>nwea_reading_attainment_grade_2_pct</th>\n",
       "      <th>nwea_reading_attainment_grade_2_lbl</th>\n",
       "      <th>nwea_reading_attainment_grade_3_pct</th>\n",
       "      <th>nwea_reading_attainment_grade_3_lbl</th>\n",
       "      <th>nwea_reading_attainment_grade_4_pct</th>\n",
       "      <th>nwea_reading_attainment_grade_4_lbl</th>\n",
       "      <th>nwea_reading_attainment_grade_5_pct</th>\n",
       "      <th>nwea_reading_attainment_grade_5_lbl</th>\n",
       "      <th>nwea_reading_attainment_grade_6_pct</th>\n",
       "      <th>nwea_reading_attainment_grade_6_lbl</th>\n",
       "      <th>nwea_reading_attainment_grade_7_pct</th>\n",
       "      <th>nwea_reading_attainment_grade_7_lbl</th>\n",
       "      <th>nwea_reading_attainment_grade_8_pct</th>\n",
       "      <th>nwea_reading_attainment_grade_8_lbl</th>\n",
       "      <th>nwea_math_attainment_grade_2_pct</th>\n",
       "      <th>nwea_math_attainment_grade_2_lbl</th>\n",
       "      <th>nwea_math_attainment_grade_3_pct</th>\n",
       "      <th>nwea_math_attainment_grade_3_lbl</th>\n",
       "      <th>nwea_math_attainment_grade_4_pct</th>\n",
       "      <th>nwea_math_attainment_grade_4_lbl</th>\n",
       "      <th>nwea_math_attainment_grade_5_pct</th>\n",
       "      <th>nwea_math_attainment_grade_5_lbl</th>\n",
       "      <th>nwea_math_attainment_grade_6_pct</th>\n",
       "      <th>nwea_math_attainment_grade_6_lbl</th>\n",
       "      <th>nwea_math_attainment_grade_7_pct</th>\n",
       "      <th>nwea_math_attainment_grade_7_lbl</th>\n",
       "      <th>nwea_math_attainment_grade_8_pct</th>\n",
       "      <th>nwea_math_attainment_grade_8_lbl</th>\n",
       "      <th>school_survey_involved_families</th>\n",
       "      <th>school_survey_supportive_environment</th>\n",
       "      <th>school_survey_ambitious_instruction</th>\n",
       "      <th>school_survey_effective_leaders</th>\n",
       "      <th>school_survey_collaborative_teachers</th>\n",
       "      <th>school_survey_safety</th>\n",
       "      <th>student_attendance_year_1_pct</th>\n",
       "      <th>teacher_attendance_year_1_pct</th>\n",
       "      <th>chronic_truancy_pct</th>\n",
       "      <th>school_latitude</th>\n",
       "      <th>school_longitude</th>\n",
       "    </tr>\n",
       "  </thead>\n",
       "  <tbody>\n",
       "    <tr>\n",
       "      <th>0</th>\n",
       "      <td>400,116</td>\n",
       "      <td>MONTESSORI ENGLEWOOD</td>\n",
       "      <td>Charter</td>\n",
       "      <td>ES</td>\n",
       "      <td>60,636</td>\n",
       "      <td>FAR BELOW AVERAGE</td>\n",
       "      <td>1.0</td>\n",
       "      <td>2.0</td>\n",
       "      <td>NOT YET ORGANIZED</td>\n",
       "      <td>DEVELOPING</td>\n",
       "      <td>1.0</td>\n",
       "      <td>1st</td>\n",
       "      <td>1.0</td>\n",
       "      <td>1st</td>\n",
       "      <td>3.0</td>\n",
       "      <td>3rd</td>\n",
       "      <td>2.0</td>\n",
       "      <td>2nd</td>\n",
       "      <td>1.0</td>\n",
       "      <td>1st</td>\n",
       "      <td>3.0</td>\n",
       "      <td>3rd</td>\n",
       "      <td>NaN</td>\n",
       "      <td>NaN</td>\n",
       "      <td>1.0</td>\n",
       "      <td>1st</td>\n",
       "      <td>1.0</td>\n",
       "      <td>1st</td>\n",
       "      <td>2.0</td>\n",
       "      <td>2nd</td>\n",
       "      <td>1.0</td>\n",
       "      <td>1st</td>\n",
       "      <td>1.0</td>\n",
       "      <td>1st</td>\n",
       "      <td>9.0</td>\n",
       "      <td>9th</td>\n",
       "      <td>NaN</td>\n",
       "      <td>NaN</td>\n",
       "      <td>WEAK</td>\n",
       "      <td>NOT ENOUGH DATA</td>\n",
       "      <td>NOT ENOUGH DATA</td>\n",
       "      <td>WEAK</td>\n",
       "      <td>WEAK</td>\n",
       "      <td>NOT ENOUGH DATA</td>\n",
       "      <td>94.6</td>\n",
       "      <td>NaN</td>\n",
       "      <td>49.6</td>\n",
       "      <td>41.774572</td>\n",
       "      <td>-87.676147</td>\n",
       "    </tr>\n",
       "    <tr>\n",
       "      <th>1</th>\n",
       "      <td>400,115</td>\n",
       "      <td>CATALYST - MARIA</td>\n",
       "      <td>Charter</td>\n",
       "      <td>ES</td>\n",
       "      <td>60,629</td>\n",
       "      <td>AVERAGE</td>\n",
       "      <td>47.0</td>\n",
       "      <td>28.0</td>\n",
       "      <td>ORGANIZED</td>\n",
       "      <td>DEVELOPING</td>\n",
       "      <td>19.0</td>\n",
       "      <td>19th</td>\n",
       "      <td>54.0</td>\n",
       "      <td>54th</td>\n",
       "      <td>27.0</td>\n",
       "      <td>27th</td>\n",
       "      <td>64.0</td>\n",
       "      <td>64th</td>\n",
       "      <td>46.0</td>\n",
       "      <td>46th</td>\n",
       "      <td>57.0</td>\n",
       "      <td>57th</td>\n",
       "      <td>57.0</td>\n",
       "      <td>57th</td>\n",
       "      <td>20.0</td>\n",
       "      <td>20th</td>\n",
       "      <td>34.0</td>\n",
       "      <td>34th</td>\n",
       "      <td>18.0</td>\n",
       "      <td>18th</td>\n",
       "      <td>39.0</td>\n",
       "      <td>39th</td>\n",
       "      <td>15.0</td>\n",
       "      <td>15th</td>\n",
       "      <td>23.0</td>\n",
       "      <td>23rd</td>\n",
       "      <td>37.0</td>\n",
       "      <td>37th</td>\n",
       "      <td>STRONG</td>\n",
       "      <td>WEAK</td>\n",
       "      <td>NEUTRAL</td>\n",
       "      <td>NEUTRAL</td>\n",
       "      <td>STRONG</td>\n",
       "      <td>WEAK</td>\n",
       "      <td>95.9</td>\n",
       "      <td>NaN</td>\n",
       "      <td>22.4</td>\n",
       "      <td>41.770992</td>\n",
       "      <td>-87.693075</td>\n",
       "    </tr>\n",
       "    <tr>\n",
       "      <th>2</th>\n",
       "      <td>400,056</td>\n",
       "      <td>NOBLE - ROWE CLARK HS</td>\n",
       "      <td>Charter</td>\n",
       "      <td>HS</td>\n",
       "      <td>60,651</td>\n",
       "      <td>BELOW EXPECTATIONS</td>\n",
       "      <td>NaN</td>\n",
       "      <td>NaN</td>\n",
       "      <td>WELL ORGANIZED</td>\n",
       "      <td>INCOMPLETE DATA</td>\n",
       "      <td>NaN</td>\n",
       "      <td>NaN</td>\n",
       "      <td>NaN</td>\n",
       "      <td>NaN</td>\n",
       "      <td>NaN</td>\n",
       "      <td>NaN</td>\n",
       "      <td>NaN</td>\n",
       "      <td>NaN</td>\n",
       "      <td>NaN</td>\n",
       "      <td>NaN</td>\n",
       "      <td>NaN</td>\n",
       "      <td>NaN</td>\n",
       "      <td>NaN</td>\n",
       "      <td>NaN</td>\n",
       "      <td>NaN</td>\n",
       "      <td>NaN</td>\n",
       "      <td>NaN</td>\n",
       "      <td>NaN</td>\n",
       "      <td>NaN</td>\n",
       "      <td>NaN</td>\n",
       "      <td>NaN</td>\n",
       "      <td>NaN</td>\n",
       "      <td>NaN</td>\n",
       "      <td>NaN</td>\n",
       "      <td>NaN</td>\n",
       "      <td>NaN</td>\n",
       "      <td>NaN</td>\n",
       "      <td>NaN</td>\n",
       "      <td>STRONG</td>\n",
       "      <td>STRONG</td>\n",
       "      <td>VERY STRONG</td>\n",
       "      <td>STRONG</td>\n",
       "      <td>STRONG</td>\n",
       "      <td>VERY WEAK</td>\n",
       "      <td>88.6</td>\n",
       "      <td>NaN</td>\n",
       "      <td>71.0</td>\n",
       "      <td>41.895362</td>\n",
       "      <td>-87.718047</td>\n",
       "    </tr>\n",
       "    <tr>\n",
       "      <th>3</th>\n",
       "      <td>610,588</td>\n",
       "      <td>RICHARDSON</td>\n",
       "      <td>Neighborhood</td>\n",
       "      <td>MS</td>\n",
       "      <td>60,629</td>\n",
       "      <td>AVERAGE</td>\n",
       "      <td>65.0</td>\n",
       "      <td>43.0</td>\n",
       "      <td>WELL ORGANIZED</td>\n",
       "      <td>STRONG</td>\n",
       "      <td>NaN</td>\n",
       "      <td>NaN</td>\n",
       "      <td>NaN</td>\n",
       "      <td>NaN</td>\n",
       "      <td>NaN</td>\n",
       "      <td>NaN</td>\n",
       "      <td>58.0</td>\n",
       "      <td>58th</td>\n",
       "      <td>56.0</td>\n",
       "      <td>56th</td>\n",
       "      <td>67.0</td>\n",
       "      <td>67th</td>\n",
       "      <td>75.0</td>\n",
       "      <td>75th</td>\n",
       "      <td>NaN</td>\n",
       "      <td>NaN</td>\n",
       "      <td>NaN</td>\n",
       "      <td>NaN</td>\n",
       "      <td>NaN</td>\n",
       "      <td>NaN</td>\n",
       "      <td>27.0</td>\n",
       "      <td>27th</td>\n",
       "      <td>26.0</td>\n",
       "      <td>26th</td>\n",
       "      <td>47.0</td>\n",
       "      <td>47th</td>\n",
       "      <td>71.0</td>\n",
       "      <td>71st</td>\n",
       "      <td>STRONG</td>\n",
       "      <td>WEAK</td>\n",
       "      <td>STRONG</td>\n",
       "      <td>STRONG</td>\n",
       "      <td>STRONG</td>\n",
       "      <td>VERY WEAK</td>\n",
       "      <td>94.8</td>\n",
       "      <td>95.4</td>\n",
       "      <td>15.0</td>\n",
       "      <td>41.783826</td>\n",
       "      <td>-87.725422</td>\n",
       "    </tr>\n",
       "    <tr>\n",
       "      <th>4</th>\n",
       "      <td>610,548</td>\n",
       "      <td>STEM</td>\n",
       "      <td>Magnet</td>\n",
       "      <td>ES</td>\n",
       "      <td>60,607</td>\n",
       "      <td>FAR ABOVE AVERAGE</td>\n",
       "      <td>93.0</td>\n",
       "      <td>94.0</td>\n",
       "      <td>WELL ORGANIZED</td>\n",
       "      <td>EXCELLING</td>\n",
       "      <td>95.0</td>\n",
       "      <td>95th</td>\n",
       "      <td>91.0</td>\n",
       "      <td>91st</td>\n",
       "      <td>98.0</td>\n",
       "      <td>98th</td>\n",
       "      <td>93.0</td>\n",
       "      <td>93rd</td>\n",
       "      <td>90.0</td>\n",
       "      <td>90th</td>\n",
       "      <td>87.0</td>\n",
       "      <td>87th</td>\n",
       "      <td>92.0</td>\n",
       "      <td>92nd</td>\n",
       "      <td>91.0</td>\n",
       "      <td>91st</td>\n",
       "      <td>99.0</td>\n",
       "      <td>99th</td>\n",
       "      <td>99.0</td>\n",
       "      <td>99th</td>\n",
       "      <td>96.0</td>\n",
       "      <td>96th</td>\n",
       "      <td>85.0</td>\n",
       "      <td>85th</td>\n",
       "      <td>73.0</td>\n",
       "      <td>73rd</td>\n",
       "      <td>92.0</td>\n",
       "      <td>92nd</td>\n",
       "      <td>VERY STRONG</td>\n",
       "      <td>NEUTRAL</td>\n",
       "      <td>STRONG</td>\n",
       "      <td>VERY STRONG</td>\n",
       "      <td>VERY STRONG</td>\n",
       "      <td>NEUTRAL</td>\n",
       "      <td>96.6</td>\n",
       "      <td>96.1</td>\n",
       "      <td>11.2</td>\n",
       "      <td>41.868576</td>\n",
       "      <td>-87.664969</td>\n",
       "    </tr>\n",
       "  </tbody>\n",
       "</table>\n",
       "</div>"
      ],
      "text/plain": [
       "  school_id             short_name   school_type primary_category     zip  \\\n",
       "0   400,116   MONTESSORI ENGLEWOOD       Charter               ES  60,636   \n",
       "1   400,115       CATALYST - MARIA       Charter               ES  60,629   \n",
       "2   400,056  NOBLE - ROWE CLARK HS       Charter               HS  60,651   \n",
       "3   610,588             RICHARDSON  Neighborhood               MS  60,629   \n",
       "4   610,548                   STEM        Magnet               ES  60,607   \n",
       "\n",
       "  student_attainment_rating  attainment_reading_pct_es  \\\n",
       "0         FAR BELOW AVERAGE                        1.0   \n",
       "1                   AVERAGE                       47.0   \n",
       "2        BELOW EXPECTATIONS                        NaN   \n",
       "3                   AVERAGE                       65.0   \n",
       "4         FAR ABOVE AVERAGE                       93.0   \n",
       "\n",
       "   attainment_math_pct_es culture_climate_rating  \\\n",
       "0                     2.0      NOT YET ORGANIZED   \n",
       "1                    28.0              ORGANIZED   \n",
       "2                     NaN         WELL ORGANIZED   \n",
       "3                    43.0         WELL ORGANIZED   \n",
       "4                    94.0         WELL ORGANIZED   \n",
       "\n",
       "  creative_school_certification  nwea_reading_attainment_grade_2_pct  \\\n",
       "0                    DEVELOPING                                  1.0   \n",
       "1                    DEVELOPING                                 19.0   \n",
       "2               INCOMPLETE DATA                                  NaN   \n",
       "3                        STRONG                                  NaN   \n",
       "4                     EXCELLING                                 95.0   \n",
       "\n",
       "  nwea_reading_attainment_grade_2_lbl  nwea_reading_attainment_grade_3_pct  \\\n",
       "0                                 1st                                  1.0   \n",
       "1                                19th                                 54.0   \n",
       "2                                 NaN                                  NaN   \n",
       "3                                 NaN                                  NaN   \n",
       "4                                95th                                 91.0   \n",
       "\n",
       "  nwea_reading_attainment_grade_3_lbl  nwea_reading_attainment_grade_4_pct  \\\n",
       "0                                 1st                                  3.0   \n",
       "1                                54th                                 27.0   \n",
       "2                                 NaN                                  NaN   \n",
       "3                                 NaN                                  NaN   \n",
       "4                                91st                                 98.0   \n",
       "\n",
       "  nwea_reading_attainment_grade_4_lbl  nwea_reading_attainment_grade_5_pct  \\\n",
       "0                                 3rd                                  2.0   \n",
       "1                                27th                                 64.0   \n",
       "2                                 NaN                                  NaN   \n",
       "3                                 NaN                                 58.0   \n",
       "4                                98th                                 93.0   \n",
       "\n",
       "  nwea_reading_attainment_grade_5_lbl  nwea_reading_attainment_grade_6_pct  \\\n",
       "0                                 2nd                                  1.0   \n",
       "1                                64th                                 46.0   \n",
       "2                                 NaN                                  NaN   \n",
       "3                                58th                                 56.0   \n",
       "4                                93rd                                 90.0   \n",
       "\n",
       "  nwea_reading_attainment_grade_6_lbl  nwea_reading_attainment_grade_7_pct  \\\n",
       "0                                 1st                                  3.0   \n",
       "1                                46th                                 57.0   \n",
       "2                                 NaN                                  NaN   \n",
       "3                                56th                                 67.0   \n",
       "4                                90th                                 87.0   \n",
       "\n",
       "  nwea_reading_attainment_grade_7_lbl  nwea_reading_attainment_grade_8_pct  \\\n",
       "0                                 3rd                                  NaN   \n",
       "1                                57th                                 57.0   \n",
       "2                                 NaN                                  NaN   \n",
       "3                                67th                                 75.0   \n",
       "4                                87th                                 92.0   \n",
       "\n",
       "  nwea_reading_attainment_grade_8_lbl  nwea_math_attainment_grade_2_pct  \\\n",
       "0                                 NaN                               1.0   \n",
       "1                                57th                              20.0   \n",
       "2                                 NaN                               NaN   \n",
       "3                                75th                               NaN   \n",
       "4                                92nd                              91.0   \n",
       "\n",
       "  nwea_math_attainment_grade_2_lbl  nwea_math_attainment_grade_3_pct  \\\n",
       "0                              1st                               1.0   \n",
       "1                             20th                              34.0   \n",
       "2                              NaN                               NaN   \n",
       "3                              NaN                               NaN   \n",
       "4                             91st                              99.0   \n",
       "\n",
       "  nwea_math_attainment_grade_3_lbl  nwea_math_attainment_grade_4_pct  \\\n",
       "0                              1st                               2.0   \n",
       "1                             34th                              18.0   \n",
       "2                              NaN                               NaN   \n",
       "3                              NaN                               NaN   \n",
       "4                             99th                              99.0   \n",
       "\n",
       "  nwea_math_attainment_grade_4_lbl  nwea_math_attainment_grade_5_pct  \\\n",
       "0                              2nd                               1.0   \n",
       "1                             18th                              39.0   \n",
       "2                              NaN                               NaN   \n",
       "3                              NaN                              27.0   \n",
       "4                             99th                              96.0   \n",
       "\n",
       "  nwea_math_attainment_grade_5_lbl  nwea_math_attainment_grade_6_pct  \\\n",
       "0                              1st                               1.0   \n",
       "1                             39th                              15.0   \n",
       "2                              NaN                               NaN   \n",
       "3                             27th                              26.0   \n",
       "4                             96th                              85.0   \n",
       "\n",
       "  nwea_math_attainment_grade_6_lbl  nwea_math_attainment_grade_7_pct  \\\n",
       "0                              1st                               9.0   \n",
       "1                             15th                              23.0   \n",
       "2                              NaN                               NaN   \n",
       "3                             26th                              47.0   \n",
       "4                             85th                              73.0   \n",
       "\n",
       "  nwea_math_attainment_grade_7_lbl  nwea_math_attainment_grade_8_pct  \\\n",
       "0                              9th                               NaN   \n",
       "1                             23rd                              37.0   \n",
       "2                              NaN                               NaN   \n",
       "3                             47th                              71.0   \n",
       "4                             73rd                              92.0   \n",
       "\n",
       "  nwea_math_attainment_grade_8_lbl school_survey_involved_families  \\\n",
       "0                              NaN                            WEAK   \n",
       "1                             37th                          STRONG   \n",
       "2                              NaN                          STRONG   \n",
       "3                             71st                          STRONG   \n",
       "4                             92nd                     VERY STRONG   \n",
       "\n",
       "  school_survey_supportive_environment school_survey_ambitious_instruction  \\\n",
       "0                      NOT ENOUGH DATA                     NOT ENOUGH DATA   \n",
       "1                                 WEAK                             NEUTRAL   \n",
       "2                               STRONG                         VERY STRONG   \n",
       "3                                 WEAK                              STRONG   \n",
       "4                              NEUTRAL                              STRONG   \n",
       "\n",
       "  school_survey_effective_leaders school_survey_collaborative_teachers  \\\n",
       "0                            WEAK                                 WEAK   \n",
       "1                         NEUTRAL                               STRONG   \n",
       "2                          STRONG                               STRONG   \n",
       "3                          STRONG                               STRONG   \n",
       "4                     VERY STRONG                          VERY STRONG   \n",
       "\n",
       "  school_survey_safety  student_attendance_year_1_pct  \\\n",
       "0      NOT ENOUGH DATA                           94.6   \n",
       "1                 WEAK                           95.9   \n",
       "2            VERY WEAK                           88.6   \n",
       "3            VERY WEAK                           94.8   \n",
       "4              NEUTRAL                           96.6   \n",
       "\n",
       "   teacher_attendance_year_1_pct  chronic_truancy_pct  school_latitude  \\\n",
       "0                            NaN                 49.6        41.774572   \n",
       "1                            NaN                 22.4        41.770992   \n",
       "2                            NaN                 71.0        41.895362   \n",
       "3                           95.4                 15.0        41.783826   \n",
       "4                           96.1                 11.2        41.868576   \n",
       "\n",
       "   school_longitude  \n",
       "0        -87.676147  \n",
       "1        -87.693075  \n",
       "2        -87.718047  \n",
       "3        -87.725422  \n",
       "4        -87.664969  "
      ]
     },
     "execution_count": 95,
     "metadata": {},
     "output_type": "execute_result"
    }
   ],
   "source": [
    "data.head(5)"
   ]
  },
  {
   "cell_type": "code",
   "execution_count": 96,
   "metadata": {},
   "outputs": [],
   "source": [
    "columns_to_drop = [\n",
    "    'legacy_unit_id', 'finance_id', 'short_name', 'long_name',\n",
    "    'primary_category', 'is_high_school', 'is_middle_school',\n",
    "    'is_elementary_school', 'is_pre_school', 'summary',\n",
    "    'administrator_title', 'administrator', 'secondary_contact_title',\n",
    "    'secondary_contact', 'address', 'city', 'state', 'zip', 'phone',\n",
    "    'fax', 'cps_school_profile', 'website', 'facebook', 'twitter',\n",
    "    'youtube', 'pinterest', 'attendance_boundaries',\n",
    "    'grades_offered_all', 'grades_offered', 'student_count_asian_pacific_islander',\n",
    "    'student_count_multi', 'student_count_hawaiian_pacific_islander',\n",
    "    'student_count_ethnicity_not_available', 'statistics_description',\n",
    "    'demographic_description', 'dress_code', 'prek_school_day',\n",
    "    'kindergarten_school_day', 'school_hours', 'freshman_start_end_time',\n",
    "    'after_school_hours', 'earliest_drop_off_time', 'classroom_languages',\n",
    "    'bilingual_services', 'refugee_services', 'title_1_eligible',\n",
    "    'preschool_inclusive', 'preschool_instructional', 'significantly_modified',\n",
    "    'hard_of_hearing', 'visual_impairments', 'transportation_bus', \n",
    "    'transportation_el', 'transportation_metra', 'school_latitude', \n",
    "    'school_longitude', 'average_act_school', 'mean_act',\n",
    "    'college_enrollment_rate_school', 'college_enrollment_rate_mean',\n",
    "    'graduation_rate_school', 'graduation_rate_mean', 'overall_rating',\n",
    "    'rating_status', 'rating_statement', 'classification_description',\n",
    "    'school_year', 'third_contact_title', 'third_contact_name',\n",
    "    'fourth_contact_title', 'fourth_contact_name', 'fifth_contact_title',\n",
    "    'fifth_contact_name', 'sixth_contact_title', 'sixth_contact_name',\n",
    "    'seventh_contact_title', 'seventh_contact_name', 'network',\n",
    "    'is_gocps_participant', 'is_gocps_prek', 'is_gocps_elementary',\n",
    "    'is_gocps_high_school', 'open_for_enrollment_date', \n",
    "    'closed_for_enrollment_date']\n",
    "    \n",
    "#drop the columns above from the dataset\n",
    "data2.drop(columns_to_drop, axis=1, inplace=True)    "
   ]
  },
  {
   "cell_type": "code",
   "execution_count": 97,
   "metadata": {},
   "outputs": [
    {
     "data": {
      "text/html": [
       "<div>\n",
       "<style scoped>\n",
       "    .dataframe tbody tr th:only-of-type {\n",
       "        vertical-align: middle;\n",
       "    }\n",
       "\n",
       "    .dataframe tbody tr th {\n",
       "        vertical-align: top;\n",
       "    }\n",
       "\n",
       "    .dataframe thead th {\n",
       "        text-align: right;\n",
       "    }\n",
       "</style>\n",
       "<table border=\"1\" class=\"dataframe\">\n",
       "  <thead>\n",
       "    <tr style=\"text-align: right;\">\n",
       "      <th></th>\n",
       "      <th>school_id</th>\n",
       "      <th>student_count_total</th>\n",
       "      <th>student_count_low_income</th>\n",
       "      <th>student_count_special_ed</th>\n",
       "      <th>student_count_english_learners</th>\n",
       "      <th>student_count_black</th>\n",
       "      <th>student_count_hispanic</th>\n",
       "      <th>student_count_white</th>\n",
       "      <th>student_count_asian</th>\n",
       "      <th>student_count_native_american</th>\n",
       "      <th>student_count_other_ethnicity</th>\n",
       "    </tr>\n",
       "  </thead>\n",
       "  <tbody>\n",
       "    <tr>\n",
       "      <th>0</th>\n",
       "      <td>610,334</td>\n",
       "      <td>265</td>\n",
       "      <td>252</td>\n",
       "      <td>86</td>\n",
       "      <td>12</td>\n",
       "      <td>240</td>\n",
       "      <td>22</td>\n",
       "      <td>1</td>\n",
       "      <td>1</td>\n",
       "      <td>0</td>\n",
       "      <td>0</td>\n",
       "    </tr>\n",
       "    <tr>\n",
       "      <th>1</th>\n",
       "      <td>610,191</td>\n",
       "      <td>607</td>\n",
       "      <td>319</td>\n",
       "      <td>52</td>\n",
       "      <td>121</td>\n",
       "      <td>142</td>\n",
       "      <td>98</td>\n",
       "      <td>171</td>\n",
       "      <td>166</td>\n",
       "      <td>2</td>\n",
       "      <td>0</td>\n",
       "    </tr>\n",
       "    <tr>\n",
       "      <th>2</th>\n",
       "      <td>609,885</td>\n",
       "      <td>337</td>\n",
       "      <td>325</td>\n",
       "      <td>32</td>\n",
       "      <td>13</td>\n",
       "      <td>307</td>\n",
       "      <td>25</td>\n",
       "      <td>4</td>\n",
       "      <td>0</td>\n",
       "      <td>0</td>\n",
       "      <td>0</td>\n",
       "    </tr>\n",
       "    <tr>\n",
       "      <th>3</th>\n",
       "      <td>610,209</td>\n",
       "      <td>817</td>\n",
       "      <td>725</td>\n",
       "      <td>77</td>\n",
       "      <td>542</td>\n",
       "      <td>19</td>\n",
       "      <td>521</td>\n",
       "      <td>39</td>\n",
       "      <td>171</td>\n",
       "      <td>0</td>\n",
       "      <td>0</td>\n",
       "    </tr>\n",
       "    <tr>\n",
       "      <th>4</th>\n",
       "      <td>609,995</td>\n",
       "      <td>581</td>\n",
       "      <td>318</td>\n",
       "      <td>77</td>\n",
       "      <td>114</td>\n",
       "      <td>6</td>\n",
       "      <td>258</td>\n",
       "      <td>235</td>\n",
       "      <td>47</td>\n",
       "      <td>2</td>\n",
       "      <td>0</td>\n",
       "    </tr>\n",
       "  </tbody>\n",
       "</table>\n",
       "</div>"
      ],
      "text/plain": [
       "  school_id student_count_total student_count_low_income  \\\n",
       "0   610,334                 265                      252   \n",
       "1   610,191                 607                      319   \n",
       "2   609,885                 337                      325   \n",
       "3   610,209                 817                      725   \n",
       "4   609,995                 581                      318   \n",
       "\n",
       "   student_count_special_ed  student_count_english_learners  \\\n",
       "0                        86                              12   \n",
       "1                        52                             121   \n",
       "2                        32                              13   \n",
       "3                        77                             542   \n",
       "4                        77                             114   \n",
       "\n",
       "  student_count_black student_count_hispanic student_count_white  \\\n",
       "0                 240                     22                   1   \n",
       "1                 142                     98                 171   \n",
       "2                 307                     25                   4   \n",
       "3                  19                    521                  39   \n",
       "4                   6                    258                 235   \n",
       "\n",
       "  student_count_asian  student_count_native_american  \\\n",
       "0                   1                              0   \n",
       "1                 166                              2   \n",
       "2                   0                              0   \n",
       "3                 171                              0   \n",
       "4                  47                              2   \n",
       "\n",
       "   student_count_other_ethnicity  \n",
       "0                              0  \n",
       "1                              0  \n",
       "2                              0  \n",
       "3                              0  \n",
       "4                              0  "
      ]
     },
     "execution_count": 97,
     "metadata": {},
     "output_type": "execute_result"
    }
   ],
   "source": [
    "data2.head()"
   ]
  },
  {
   "cell_type": "code",
   "execution_count": 98,
   "metadata": {},
   "outputs": [],
   "source": [
    "#we realized that the NWEA math and reading scores are strongly correlated to the attainment\n",
    "#scores we are using in our model, so we are cutting them out in this separate section\n",
    "for col in data.columns:\n",
    "    if 'nwea_' in col:\n",
    "        data.drop(col,axis=1, inplace=True)"
   ]
  },
  {
   "cell_type": "code",
   "execution_count": 99,
   "metadata": {},
   "outputs": [],
   "source": [
    "#there is not sufficient data within high school data, so we will be dropping those rows \n",
    "#and looking at middle schools/elementary schools\n",
    "\n",
    "data = data[data['primary_category'] != 'HS']"
   ]
  },
  {
   "cell_type": "code",
   "execution_count": 100,
   "metadata": {},
   "outputs": [],
   "source": [
    "#these columns are being removed but held elsewhere in case we are interested in the specific\n",
    "#demographics that the data represents\n",
    "demo_cols = [\n",
    "    'short_name',\n",
    "    'Zip',\n",
    "    'School_Latitude',\n",
    "    'School_Longitude',\n",
    "    'Primary_Category' #this is useful for data separation, but not for actual modeling\n",
    "]\n",
    "\n",
    "demo_cols = lowercase_columns(demo_cols)\n",
    "\n",
    "data.drop(demo_cols, axis=1, inplace=True)"
   ]
  },
  {
   "cell_type": "code",
   "execution_count": 101,
   "metadata": {},
   "outputs": [],
   "source": [
    "# #student attainment rating column looks correlated to their attainment \n",
    "# #score of math and reading. we exclude this column for that reason\n",
    "# data.drop('student_attainment_rating', axis=1, inplace=True)\n",
    "# data.head(5)"
   ]
  },
  {
   "cell_type": "code",
   "execution_count": 102,
   "metadata": {},
   "outputs": [],
   "source": [
    "#for culture climate rating, we exclude rows that do not have enough data (5 rows)\n",
    "#we update remaining to ordinal values\n",
    "data = data[data['culture_climate_rating'] != 'NOT ENOUGH DATA']\n",
    "\n",
    "#we repeat this ideology for other rows that specify insufficient data in their respective cols\n",
    "data = data[data['creative_school_certification'] != 'INCOMPLETE DATA']\n",
    "data = data[data['school_survey_involved_families'] != 'NOT ENOUGH DATA']\n",
    "\n",
    "data = data[data['school_survey_supportive_environment'] != 'NOT ENOUGH DATA']\n",
    "data = data[data['school_survey_ambitious_instruction'] != 'NOT ENOUGH DATA']\n",
    "data = data[data['school_survey_effective_leaders'] != 'NOT ENOUGH DATA']\n",
    "data = data[data['school_survey_collaborative_teachers'] != 'NOT ENOUGH DATA']\n",
    "data = data[data['school_survey_safety'] != 'NOT ENOUGH DATA']"
   ]
  },
  {
   "cell_type": "code",
   "execution_count": 103,
   "metadata": {},
   "outputs": [],
   "source": [
    "#fit the labels into numeric \n",
    "mapper = {'NOT YET ORGANIZED': 0, \n",
    "          'PARTIALLY ORGANIZED' : 1, \n",
    "          'ORGANIZED' : 2,\n",
    "          'MODERATELY ORGANIZED': 3, \n",
    "          'WELL ORGANIZED': 4}\n",
    "\n",
    "#update the column to be numeric. may cause warning, ignore. printing data.head() will show \n",
    "#the update goes through and not on a copy\n",
    "data['culture_climate_rating'] = data['culture_climate_rating'].replace(mapper)"
   ]
  },
  {
   "cell_type": "code",
   "execution_count": 104,
   "metadata": {},
   "outputs": [],
   "source": [
    "# data['creative_school_certification'].unique()\n",
    "#fit the labels into numeric \n",
    "mapper = {'EMERGING' : 0,\n",
    "          'DEVELOPING' : 1,\n",
    "          'STRONG' : 2,\n",
    "          'EXCELLING' : 3}\n",
    "\n",
    "#update the column to be numeric. may cause warning, ignore. printing data.head() will show \n",
    "#the update goes through and not on a copy\n",
    "data['creative_school_certification'] = data['creative_school_certification'].replace(mapper)"
   ]
  },
  {
   "cell_type": "code",
   "execution_count": 105,
   "metadata": {},
   "outputs": [],
   "source": [
    "data['school_survey_involved_families'].unique()\n",
    "\n",
    "mapper = {'VERY WEAK' : 0,\n",
    "          'WEAK' : 1,\n",
    "          'NEUTRAL' : 2,\n",
    "          'STRONG': 3,\n",
    "          'VERY STRONG': 4}\n",
    "\n",
    "#update the column to be numeric. may cause warning, ignore. printing data.head() will show \n",
    "#the update goes through and not on a copy\n",
    "data['school_survey_involved_families'] = data['school_survey_involved_families'].replace(mapper)\n",
    "data['school_survey_supportive_environment'] = data['school_survey_supportive_environment'].replace(mapper)\n",
    "data['school_survey_ambitious_instruction'] = data['school_survey_ambitious_instruction'].replace(mapper)\n",
    "data['school_survey_effective_leaders'] = data['school_survey_effective_leaders'].replace(mapper)\n",
    "data['school_survey_collaborative_teachers'] = data['school_survey_collaborative_teachers'].replace(mapper)\n",
    "data['school_survey_safety'] = data['school_survey_safety'].replace(mapper)"
   ]
  },
  {
   "cell_type": "code",
   "execution_count": 106,
   "metadata": {},
   "outputs": [],
   "source": [
    "#teacher_attendance_year_1_pct has NA values, so we work to interpolate the values\n",
    "data.interpolate(limit_direction='backward', inplace=True)\n",
    "data.interpolate(method='linear', inplace=True)"
   ]
  },
  {
   "cell_type": "code",
   "execution_count": 107,
   "metadata": {},
   "outputs": [],
   "source": [
    "#Merging two data sets\n",
    "merged_df = data.merge(data2, how = 'inner', on = ['school_id'])\n",
    "\n",
    "#Dropping 'school_id' since the merging is done.\n",
    "merged_df.drop('school_id', axis=1, inplace=True)"
   ]
  },
  {
   "cell_type": "code",
   "execution_count": 108,
   "metadata": {},
   "outputs": [
    {
     "name": "stdout",
     "output_type": "stream",
     "text": [
      "rows: 429\n",
      "columns: 25\n"
     ]
    },
    {
     "data": {
      "text/plain": [
       "Index(['school_type', 'student_attainment_rating', 'attainment_reading_pct_es',\n",
       "       'attainment_math_pct_es', 'culture_climate_rating',\n",
       "       'creative_school_certification', 'school_survey_involved_families',\n",
       "       'school_survey_supportive_environment',\n",
       "       'school_survey_ambitious_instruction',\n",
       "       'school_survey_effective_leaders',\n",
       "       'school_survey_collaborative_teachers', 'school_survey_safety',\n",
       "       'student_attendance_year_1_pct', 'teacher_attendance_year_1_pct',\n",
       "       'chronic_truancy_pct', 'student_count_total',\n",
       "       'student_count_low_income', 'student_count_special_ed',\n",
       "       'student_count_english_learners', 'student_count_black',\n",
       "       'student_count_hispanic', 'student_count_white', 'student_count_asian',\n",
       "       'student_count_native_american', 'student_count_other_ethnicity'],\n",
       "      dtype='object')"
      ]
     },
     "execution_count": 108,
     "metadata": {},
     "output_type": "execute_result"
    }
   ],
   "source": [
    "print(\"rows:\",len(merged_df.index))\n",
    "print(\"columns:\",len(merged_df.columns))\n",
    "\n",
    "merged_df.columns"
   ]
  },
  {
   "cell_type": "code",
   "execution_count": 109,
   "metadata": {},
   "outputs": [
    {
     "data": {
      "text/plain": [
       "array(['AVERAGE', 'FAR ABOVE AVERAGE', 'BELOW AVERAGE', 'ABOVE AVERAGE',\n",
       "       'FAR BELOW AVERAGE'], dtype=object)"
      ]
     },
     "execution_count": 109,
     "metadata": {},
     "output_type": "execute_result"
    }
   ],
   "source": [
    "merged_df.student_attainment_rating.unique()"
   ]
  },
  {
   "cell_type": "code",
   "execution_count": 110,
   "metadata": {},
   "outputs": [
    {
     "data": {
      "text/plain": [
       "array(['AVERAGE', 'ABOVE AVERAGE', 'BELOW AVERAGE'], dtype=object)"
      ]
     },
     "execution_count": 110,
     "metadata": {},
     "output_type": "execute_result"
    }
   ],
   "source": [
    "# Replacing'FAR BELOW AVERAGE' as 'BELOW AVERAGE.' and\n",
    "# 'FAR ABOVE AVERAGE' as 'ABOVE AVERAGE.'\n",
    "mapper = {'FAR BELOW AVERAGE' : 'BELOW AVERAGE',\n",
    "          'FAR ABOVE AVERAGE' : 'ABOVE AVERAGE'}\n",
    "merged_df['student_attainment_rating'] = merged_df['student_attainment_rating'].replace(mapper)\n",
    "\n",
    "merged_df.student_attainment_rating.unique()"
   ]
  },
  {
   "cell_type": "code",
   "execution_count": 111,
   "metadata": {},
   "outputs": [],
   "source": [
    "#fit the labels into numeric \n",
    "mapper = {'BELOW AVERAGE' : 0, \n",
    "          'AVERAGE' : 1,\n",
    "          'ABOVE AVERAGE' : 2}\n",
    "\n",
    "#update the column to be numeric. may cause warning, ignore. printing data.head() will show \n",
    "#the update goes through and not on a copy\n",
    "merged_df['student_attainment_rating'] = merged_df['student_attainment_rating'].replace(mapper)"
   ]
  },
  {
   "cell_type": "code",
   "execution_count": 112,
   "metadata": {},
   "outputs": [
    {
     "name": "stdout",
     "output_type": "stream",
     "text": [
      "<class 'pandas.core.frame.DataFrame'>\n",
      "Int64Index: 429 entries, 0 to 428\n",
      "Data columns (total 25 columns):\n",
      "school_type                             429 non-null object\n",
      "student_attainment_rating               429 non-null int64\n",
      "attainment_reading_pct_es               429 non-null float64\n",
      "attainment_math_pct_es                  429 non-null float64\n",
      "culture_climate_rating                  429 non-null int64\n",
      "creative_school_certification           429 non-null int64\n",
      "school_survey_involved_families         429 non-null int64\n",
      "school_survey_supportive_environment    429 non-null int64\n",
      "school_survey_ambitious_instruction     429 non-null int64\n",
      "school_survey_effective_leaders         429 non-null int64\n",
      "school_survey_collaborative_teachers    429 non-null int64\n",
      "school_survey_safety                    429 non-null int64\n",
      "student_attendance_year_1_pct           429 non-null float64\n",
      "teacher_attendance_year_1_pct           429 non-null float64\n",
      "chronic_truancy_pct                     429 non-null float64\n",
      "student_count_total                     429 non-null object\n",
      "student_count_low_income                429 non-null object\n",
      "student_count_special_ed                429 non-null int64\n",
      "student_count_english_learners          429 non-null int64\n",
      "student_count_black                     429 non-null object\n",
      "student_count_hispanic                  429 non-null object\n",
      "student_count_white                     429 non-null object\n",
      "student_count_asian                     429 non-null object\n",
      "student_count_native_american           429 non-null int64\n",
      "student_count_other_ethnicity           429 non-null int64\n",
      "dtypes: float64(5), int64(13), object(7)\n",
      "memory usage: 87.1+ KB\n"
     ]
    }
   ],
   "source": [
    "merged_df.info()"
   ]
  },
  {
   "cell_type": "code",
   "execution_count": 113,
   "metadata": {},
   "outputs": [
    {
     "name": "stdout",
     "output_type": "stream",
     "text": [
      "<class 'pandas.core.frame.DataFrame'>\n",
      "Int64Index: 429 entries, 0 to 428\n",
      "Data columns (total 25 columns):\n",
      "school_type                             429 non-null object\n",
      "student_attainment_rating               429 non-null int64\n",
      "attainment_reading_pct_es               429 non-null float64\n",
      "attainment_math_pct_es                  429 non-null float64\n",
      "culture_climate_rating                  429 non-null int64\n",
      "creative_school_certification           429 non-null int64\n",
      "school_survey_involved_families         429 non-null int64\n",
      "school_survey_supportive_environment    429 non-null int64\n",
      "school_survey_ambitious_instruction     429 non-null int64\n",
      "school_survey_effective_leaders         429 non-null int64\n",
      "school_survey_collaborative_teachers    429 non-null int64\n",
      "school_survey_safety                    429 non-null int64\n",
      "student_attendance_year_1_pct           429 non-null float64\n",
      "teacher_attendance_year_1_pct           429 non-null float64\n",
      "chronic_truancy_pct                     429 non-null float64\n",
      "student_count_total                     429 non-null int64\n",
      "student_count_low_income                429 non-null int64\n",
      "student_count_special_ed                429 non-null int64\n",
      "student_count_english_learners          429 non-null int64\n",
      "student_count_black                     429 non-null int64\n",
      "student_count_hispanic                  429 non-null int64\n",
      "student_count_white                     429 non-null int64\n",
      "student_count_asian                     429 non-null int64\n",
      "student_count_native_american           429 non-null int64\n",
      "student_count_other_ethnicity           429 non-null int64\n",
      "dtypes: float64(5), int64(19), object(1)\n",
      "memory usage: 87.1+ KB\n"
     ]
    }
   ],
   "source": [
    "#Converting columns of type object to type int\n",
    "merged_df['student_count_total'] = merged_df['student_count_total'].str.replace(',', '').astype(int)\n",
    "merged_df['student_count_low_income'] = merged_df['student_count_low_income'].str.replace(',', '').astype(int)\n",
    "merged_df['student_count_black'] = merged_df['student_count_black'].str.replace(',', '').astype(int)\n",
    "merged_df['student_count_hispanic'] = merged_df['student_count_hispanic'].str.replace(',', '').astype(int)\n",
    "merged_df['student_count_white'] = merged_df['student_count_white'].str.replace(',', '').astype(int)\n",
    "merged_df['student_count_asian'] = merged_df['student_count_asian'].str.replace(',', '').astype(int)\n",
    "\n",
    "merged_df.info()"
   ]
  },
  {
   "cell_type": "code",
   "execution_count": 114,
   "metadata": {},
   "outputs": [
    {
     "data": {
      "text/plain": [
       "array(['Charter', 'Neighborhood', 'Magnet', 'Classical',\n",
       "       'Regional gifted center', 'Small', 'Contract'], dtype=object)"
      ]
     },
     "execution_count": 114,
     "metadata": {},
     "output_type": "execute_result"
    }
   ],
   "source": [
    "merged_df.school_type.unique()"
   ]
  },
  {
   "cell_type": "code",
   "execution_count": 115,
   "metadata": {},
   "outputs": [
    {
     "data": {
      "text/plain": [
       "[Text(0,0,'Charter'),\n",
       " Text(0,0,'Neighborhood'),\n",
       " Text(0,0,'Magnet'),\n",
       " Text(0,0,'Classical'),\n",
       " Text(0,0,'Regional gifted center'),\n",
       " Text(0,0,'Small'),\n",
       " Text(0,0,'Contract')]"
      ]
     },
     "execution_count": 115,
     "metadata": {},
     "output_type": "execute_result"
    },
    {
     "data": {
      "image/png": "[encoded data removed]",
      "text/plain": [
       "<Figure size 432x288 with 1 Axes>"
      ]
     },
     "metadata": {},
     "output_type": "display_data"
    }
   ],
   "source": [
    "# Making boxplots for the reading/math percentiles by type of school (Data Exploration)\n",
    "ax = sns.boxplot(x = 'school_type', y = 'attainment_reading_pct_es', data = merged_df, whis = 10)\n",
    "ax.set(title = 'Reading Attainment by School Type', xlabel = 'School Type', ylabel = 'Reading Percentiles')\n",
    "ax.set_xticklabels(ax.get_xticklabels(), rotation=40, ha=\"right\")"
   ]
  },
  {
   "cell_type": "code",
   "execution_count": 116,
   "metadata": {},
   "outputs": [
    {
     "data": {
      "text/plain": [
       "[Text(0,0,'Charter'),\n",
       " Text(0,0,'Neighborhood'),\n",
       " Text(0,0,'Magnet'),\n",
       " Text(0,0,'Classical'),\n",
       " Text(0,0,'Regional gifted center'),\n",
       " Text(0,0,'Small'),\n",
       " Text(0,0,'Contract')]"
      ]
     },
     "execution_count": 116,
     "metadata": {},
     "output_type": "execute_result"
    },
    {
     "data": {
      "image/png": "[encoded data removed]",
      "text/plain": [
       "<Figure size 432x288 with 1 Axes>"
      ]
     },
     "metadata": {},
     "output_type": "display_data"
    }
   ],
   "source": [
    "ax = sns.boxplot(x = 'school_type', y = 'attainment_math_pct_es', data = merged_df, whis = 10)\n",
    "ax.set(title = 'Math Attainment by School Type', xlabel = 'School Type', ylabel = 'Math Percentiles')\n",
    "ax.set_xticklabels(ax.get_xticklabels(), rotation=40, ha=\"right\")"
   ]
  },
  {
   "cell_type": "code",
   "execution_count": 117,
   "metadata": {},
   "outputs": [
    {
     "data": {
      "text/plain": [
       "array(['charter', 'neighborhood', 'magnet'], dtype=object)"
      ]
     },
     "execution_count": 117,
     "metadata": {},
     "output_type": "execute_result"
    }
   ],
   "source": [
    "#Reducing from 7 labels to 3 labels by grouping similar labels in column 'school_type'.\n",
    "#This is done to reduce the dimensionality of the dataset since 'school_type' is a nominal categorical variable.\n",
    "mapper = {'Contract' : 'neighborhood', \n",
    "          'Neighborhood' : 'neighborhood',\n",
    "          'Magnet' : 'magnet',\n",
    "          'Regional gifted center' : 'magnet',\n",
    "          'Classical' : 'magnet',\n",
    "          'Charter' : 'charter',\n",
    "          'Small' : 'charter'}\n",
    "\n",
    "merged_df['school_type'] = merged_df['school_type'].replace(mapper)\n",
    "merged_df.school_type.unique()"
   ]
  },
  {
   "cell_type": "code",
   "execution_count": 118,
   "metadata": {},
   "outputs": [
    {
     "name": "stdout",
     "output_type": "stream",
     "text": [
      "rows: 429\n",
      "columns: 26\n"
     ]
    },
    {
     "data": {
      "text/html": [
       "<div>\n",
       "<style scoped>\n",
       "    .dataframe tbody tr th:only-of-type {\n",
       "        vertical-align: middle;\n",
       "    }\n",
       "\n",
       "    .dataframe tbody tr th {\n",
       "        vertical-align: top;\n",
       "    }\n",
       "\n",
       "    .dataframe thead th {\n",
       "        text-align: right;\n",
       "    }\n",
       "</style>\n",
       "<table border=\"1\" class=\"dataframe\">\n",
       "  <thead>\n",
       "    <tr style=\"text-align: right;\">\n",
       "      <th></th>\n",
       "      <th>magnet</th>\n",
       "      <th>neighborhood</th>\n",
       "      <th>student_attainment_rating</th>\n",
       "      <th>attainment_reading_pct_es</th>\n",
       "      <th>attainment_math_pct_es</th>\n",
       "      <th>culture_climate_rating</th>\n",
       "      <th>creative_school_certification</th>\n",
       "      <th>school_survey_involved_families</th>\n",
       "      <th>school_survey_supportive_environment</th>\n",
       "      <th>school_survey_ambitious_instruction</th>\n",
       "      <th>school_survey_effective_leaders</th>\n",
       "      <th>school_survey_collaborative_teachers</th>\n",
       "      <th>school_survey_safety</th>\n",
       "      <th>student_attendance_year_1_pct</th>\n",
       "      <th>teacher_attendance_year_1_pct</th>\n",
       "      <th>chronic_truancy_pct</th>\n",
       "      <th>student_count_total</th>\n",
       "      <th>student_count_low_income</th>\n",
       "      <th>student_count_special_ed</th>\n",
       "      <th>student_count_english_learners</th>\n",
       "      <th>student_count_black</th>\n",
       "      <th>student_count_hispanic</th>\n",
       "      <th>student_count_white</th>\n",
       "      <th>student_count_asian</th>\n",
       "      <th>student_count_native_american</th>\n",
       "      <th>student_count_other_ethnicity</th>\n",
       "    </tr>\n",
       "  </thead>\n",
       "  <tbody>\n",
       "    <tr>\n",
       "      <th>0</th>\n",
       "      <td>0</td>\n",
       "      <td>0</td>\n",
       "      <td>1</td>\n",
       "      <td>47.0</td>\n",
       "      <td>28.0</td>\n",
       "      <td>2</td>\n",
       "      <td>1</td>\n",
       "      <td>3</td>\n",
       "      <td>1</td>\n",
       "      <td>2</td>\n",
       "      <td>2</td>\n",
       "      <td>3</td>\n",
       "      <td>1</td>\n",
       "      <td>95.9</td>\n",
       "      <td>95.4</td>\n",
       "      <td>22.4</td>\n",
       "      <td>1068</td>\n",
       "      <td>1035</td>\n",
       "      <td>161</td>\n",
       "      <td>229</td>\n",
       "      <td>472</td>\n",
       "      <td>574</td>\n",
       "      <td>15</td>\n",
       "      <td>1</td>\n",
       "      <td>0</td>\n",
       "      <td>0</td>\n",
       "    </tr>\n",
       "    <tr>\n",
       "      <th>1</th>\n",
       "      <td>0</td>\n",
       "      <td>1</td>\n",
       "      <td>1</td>\n",
       "      <td>65.0</td>\n",
       "      <td>43.0</td>\n",
       "      <td>4</td>\n",
       "      <td>2</td>\n",
       "      <td>3</td>\n",
       "      <td>1</td>\n",
       "      <td>3</td>\n",
       "      <td>3</td>\n",
       "      <td>3</td>\n",
       "      <td>0</td>\n",
       "      <td>94.8</td>\n",
       "      <td>95.4</td>\n",
       "      <td>15.0</td>\n",
       "      <td>1133</td>\n",
       "      <td>1090</td>\n",
       "      <td>118</td>\n",
       "      <td>297</td>\n",
       "      <td>9</td>\n",
       "      <td>1083</td>\n",
       "      <td>22</td>\n",
       "      <td>4</td>\n",
       "      <td>7</td>\n",
       "      <td>0</td>\n",
       "    </tr>\n",
       "    <tr>\n",
       "      <th>2</th>\n",
       "      <td>1</td>\n",
       "      <td>0</td>\n",
       "      <td>2</td>\n",
       "      <td>93.0</td>\n",
       "      <td>94.0</td>\n",
       "      <td>4</td>\n",
       "      <td>3</td>\n",
       "      <td>4</td>\n",
       "      <td>2</td>\n",
       "      <td>3</td>\n",
       "      <td>4</td>\n",
       "      <td>4</td>\n",
       "      <td>2</td>\n",
       "      <td>96.6</td>\n",
       "      <td>96.1</td>\n",
       "      <td>11.2</td>\n",
       "      <td>446</td>\n",
       "      <td>158</td>\n",
       "      <td>32</td>\n",
       "      <td>38</td>\n",
       "      <td>143</td>\n",
       "      <td>120</td>\n",
       "      <td>62</td>\n",
       "      <td>106</td>\n",
       "      <td>1</td>\n",
       "      <td>0</td>\n",
       "    </tr>\n",
       "    <tr>\n",
       "      <th>3</th>\n",
       "      <td>0</td>\n",
       "      <td>1</td>\n",
       "      <td>0</td>\n",
       "      <td>38.0</td>\n",
       "      <td>31.0</td>\n",
       "      <td>4</td>\n",
       "      <td>3</td>\n",
       "      <td>3</td>\n",
       "      <td>2</td>\n",
       "      <td>4</td>\n",
       "      <td>3</td>\n",
       "      <td>3</td>\n",
       "      <td>1</td>\n",
       "      <td>95.4</td>\n",
       "      <td>95.5</td>\n",
       "      <td>41.5</td>\n",
       "      <td>349</td>\n",
       "      <td>321</td>\n",
       "      <td>33</td>\n",
       "      <td>6</td>\n",
       "      <td>338</td>\n",
       "      <td>7</td>\n",
       "      <td>3</td>\n",
       "      <td>0</td>\n",
       "      <td>0</td>\n",
       "      <td>0</td>\n",
       "    </tr>\n",
       "    <tr>\n",
       "      <th>4</th>\n",
       "      <td>0</td>\n",
       "      <td>1</td>\n",
       "      <td>1</td>\n",
       "      <td>52.0</td>\n",
       "      <td>61.0</td>\n",
       "      <td>4</td>\n",
       "      <td>0</td>\n",
       "      <td>3</td>\n",
       "      <td>3</td>\n",
       "      <td>3</td>\n",
       "      <td>2</td>\n",
       "      <td>3</td>\n",
       "      <td>3</td>\n",
       "      <td>95.1</td>\n",
       "      <td>94.8</td>\n",
       "      <td>27.2</td>\n",
       "      <td>560</td>\n",
       "      <td>519</td>\n",
       "      <td>95</td>\n",
       "      <td>278</td>\n",
       "      <td>20</td>\n",
       "      <td>463</td>\n",
       "      <td>37</td>\n",
       "      <td>17</td>\n",
       "      <td>17</td>\n",
       "      <td>0</td>\n",
       "    </tr>\n",
       "  </tbody>\n",
       "</table>\n",
       "</div>"
      ],
      "text/plain": [
       "   magnet  neighborhood  student_attainment_rating  attainment_reading_pct_es  \\\n",
       "0       0             0                          1                       47.0   \n",
       "1       0             1                          1                       65.0   \n",
       "2       1             0                          2                       93.0   \n",
       "3       0             1                          0                       38.0   \n",
       "4       0             1                          1                       52.0   \n",
       "\n",
       "   attainment_math_pct_es  culture_climate_rating  \\\n",
       "0                    28.0                       2   \n",
       "1                    43.0                       4   \n",
       "2                    94.0                       4   \n",
       "3                    31.0                       4   \n",
       "4                    61.0                       4   \n",
       "\n",
       "   creative_school_certification  school_survey_involved_families  \\\n",
       "0                              1                                3   \n",
       "1                              2                                3   \n",
       "2                              3                                4   \n",
       "3                              3                                3   \n",
       "4                              0                                3   \n",
       "\n",
       "   school_survey_supportive_environment  school_survey_ambitious_instruction  \\\n",
       "0                                     1                                    2   \n",
       "1                                     1                                    3   \n",
       "2                                     2                                    3   \n",
       "3                                     2                                    4   \n",
       "4                                     3                                    3   \n",
       "\n",
       "   school_survey_effective_leaders  school_survey_collaborative_teachers  \\\n",
       "0                                2                                     3   \n",
       "1                                3                                     3   \n",
       "2                                4                                     4   \n",
       "3                                3                                     3   \n",
       "4                                2                                     3   \n",
       "\n",
       "   school_survey_safety  student_attendance_year_1_pct  \\\n",
       "0                     1                           95.9   \n",
       "1                     0                           94.8   \n",
       "2                     2                           96.6   \n",
       "3                     1                           95.4   \n",
       "4                     3                           95.1   \n",
       "\n",
       "   teacher_attendance_year_1_pct  chronic_truancy_pct  student_count_total  \\\n",
       "0                           95.4                 22.4                 1068   \n",
       "1                           95.4                 15.0                 1133   \n",
       "2                           96.1                 11.2                  446   \n",
       "3                           95.5                 41.5                  349   \n",
       "4                           94.8                 27.2                  560   \n",
       "\n",
       "   student_count_low_income  student_count_special_ed  \\\n",
       "0                      1035                       161   \n",
       "1                      1090                       118   \n",
       "2                       158                        32   \n",
       "3                       321                        33   \n",
       "4                       519                        95   \n",
       "\n",
       "   student_count_english_learners  student_count_black  \\\n",
       "0                             229                  472   \n",
       "1                             297                    9   \n",
       "2                              38                  143   \n",
       "3                               6                  338   \n",
       "4                             278                   20   \n",
       "\n",
       "   student_count_hispanic  student_count_white  student_count_asian  \\\n",
       "0                     574                   15                    1   \n",
       "1                    1083                   22                    4   \n",
       "2                     120                   62                  106   \n",
       "3                       7                    3                    0   \n",
       "4                     463                   37                   17   \n",
       "\n",
       "   student_count_native_american  student_count_other_ethnicity  \n",
       "0                              0                              0  \n",
       "1                              7                              0  \n",
       "2                              1                              0  \n",
       "3                              0                              0  \n",
       "4                             17                              0  "
      ]
     },
     "execution_count": 118,
     "metadata": {},
     "output_type": "execute_result"
    }
   ],
   "source": [
    "#Applying dummy coding scheme on 'school_type' since its a nominal categorical variable.\n",
    "gen_dummy_features = pd.get_dummies(merged_df['school_type'], drop_first = True)\n",
    "\n",
    "#Concatenating 'gen_dummy_features' with the dataset\n",
    "merged_df = pd.concat([gen_dummy_features, merged_df], axis = 1)\n",
    "\n",
    "#We can now drop 'school_type' column since its no longer required.\n",
    "merged_df.drop('school_type', axis=1, inplace=True)\n",
    "\n",
    "print(\"rows:\",len(merged_df.index)) \n",
    "print(\"columns:\",len(merged_df.columns))  #We now have 26 columns\n",
    "merged_df.head()"
   ]
  },
  {
   "cell_type": "code",
   "execution_count": 119,
   "metadata": {},
   "outputs": [
    {
     "data": {
      "text/plain": [
       "magnet                                  0\n",
       "neighborhood                            0\n",
       "student_attainment_rating               0\n",
       "attainment_reading_pct_es               0\n",
       "attainment_math_pct_es                  0\n",
       "culture_climate_rating                  0\n",
       "creative_school_certification           0\n",
       "school_survey_involved_families         0\n",
       "school_survey_supportive_environment    0\n",
       "school_survey_ambitious_instruction     0\n",
       "school_survey_effective_leaders         0\n",
       "school_survey_collaborative_teachers    0\n",
       "school_survey_safety                    0\n",
       "student_attendance_year_1_pct           0\n",
       "teacher_attendance_year_1_pct           0\n",
       "chronic_truancy_pct                     0\n",
       "student_count_total                     0\n",
       "student_count_low_income                0\n",
       "student_count_special_ed                0\n",
       "student_count_english_learners          0\n",
       "student_count_black                     0\n",
       "student_count_hispanic                  0\n",
       "student_count_white                     0\n",
       "student_count_asian                     0\n",
       "student_count_native_american           0\n",
       "student_count_other_ethnicity           0\n",
       "dtype: int64"
      ]
     },
     "execution_count": 119,
     "metadata": {},
     "output_type": "execute_result"
    }
   ],
   "source": [
    "merged_df.isna().sum()"
   ]
  },
  {
   "cell_type": "markdown",
   "metadata": {},
   "source": [
    "## Data Exploration"
   ]
  },
  {
   "cell_type": "code",
   "execution_count": 120,
   "metadata": {},
   "outputs": [],
   "source": [
    "# Reverse the mappings for the purposes of the graphs, then I'll change it back\n",
    "#fit the labels into strings\n",
    "mapper = {0 : 'BELOW AVERAGE', \n",
    "           1 : 'AVERAGE',\n",
    "          2 : 'ABOVE AVERAGE'}\n",
    "\n",
    "#update the column to be numeric. may cause warning, ignore. printing data.head() will show \n",
    "#the update goes through and not on a copy\n",
    "merged_df['student_attainment_rating'] = merged_df['student_attainment_rating'].replace(mapper)"
   ]
  },
  {
   "cell_type": "code",
   "execution_count": 121,
   "metadata": {},
   "outputs": [
    {
     "data": {
      "text/html": [
       "<div>\n",
       "<style scoped>\n",
       "    .dataframe tbody tr th:only-of-type {\n",
       "        vertical-align: middle;\n",
       "    }\n",
       "\n",
       "    .dataframe tbody tr th {\n",
       "        vertical-align: top;\n",
       "    }\n",
       "\n",
       "    .dataframe thead th {\n",
       "        text-align: right;\n",
       "    }\n",
       "</style>\n",
       "<table border=\"1\" class=\"dataframe\">\n",
       "  <thead>\n",
       "    <tr style=\"text-align: right;\">\n",
       "      <th></th>\n",
       "      <th>magnet</th>\n",
       "      <th>neighborhood</th>\n",
       "      <th>attainment_reading_pct_es</th>\n",
       "      <th>attainment_math_pct_es</th>\n",
       "      <th>culture_climate_rating</th>\n",
       "      <th>creative_school_certification</th>\n",
       "      <th>school_survey_involved_families</th>\n",
       "      <th>school_survey_supportive_environment</th>\n",
       "      <th>school_survey_ambitious_instruction</th>\n",
       "      <th>school_survey_effective_leaders</th>\n",
       "      <th>school_survey_collaborative_teachers</th>\n",
       "      <th>school_survey_safety</th>\n",
       "      <th>student_attendance_year_1_pct</th>\n",
       "      <th>teacher_attendance_year_1_pct</th>\n",
       "      <th>chronic_truancy_pct</th>\n",
       "      <th>student_count_total</th>\n",
       "      <th>student_count_low_income</th>\n",
       "      <th>student_count_special_ed</th>\n",
       "      <th>student_count_english_learners</th>\n",
       "      <th>student_count_black</th>\n",
       "      <th>student_count_hispanic</th>\n",
       "      <th>student_count_white</th>\n",
       "      <th>student_count_asian</th>\n",
       "      <th>student_count_native_american</th>\n",
       "      <th>student_count_other_ethnicity</th>\n",
       "    </tr>\n",
       "  </thead>\n",
       "  <tbody>\n",
       "    <tr>\n",
       "      <th>count</th>\n",
       "      <td>429.000000</td>\n",
       "      <td>429.000000</td>\n",
       "      <td>429.000000</td>\n",
       "      <td>429.000000</td>\n",
       "      <td>429.000000</td>\n",
       "      <td>429.000000</td>\n",
       "      <td>429.000000</td>\n",
       "      <td>429.000000</td>\n",
       "      <td>429.000000</td>\n",
       "      <td>429.000000</td>\n",
       "      <td>429.000000</td>\n",
       "      <td>429.000000</td>\n",
       "      <td>429.000000</td>\n",
       "      <td>429.000000</td>\n",
       "      <td>429.000000</td>\n",
       "      <td>429.000000</td>\n",
       "      <td>429.000000</td>\n",
       "      <td>429.000000</td>\n",
       "      <td>429.000000</td>\n",
       "      <td>429.000000</td>\n",
       "      <td>429.000000</td>\n",
       "      <td>429.000000</td>\n",
       "      <td>429.000000</td>\n",
       "      <td>429.000000</td>\n",
       "      <td>429.0</td>\n",
       "    </tr>\n",
       "    <tr>\n",
       "      <th>mean</th>\n",
       "      <td>0.109557</td>\n",
       "      <td>0.766900</td>\n",
       "      <td>55.967366</td>\n",
       "      <td>51.610723</td>\n",
       "      <td>2.890443</td>\n",
       "      <td>1.967366</td>\n",
       "      <td>2.755245</td>\n",
       "      <td>2.146853</td>\n",
       "      <td>3.226107</td>\n",
       "      <td>2.289044</td>\n",
       "      <td>2.596737</td>\n",
       "      <td>1.650350</td>\n",
       "      <td>94.879021</td>\n",
       "      <td>94.992075</td>\n",
       "      <td>23.379021</td>\n",
       "      <td>522.937063</td>\n",
       "      <td>410.993007</td>\n",
       "      <td>72.811189</td>\n",
       "      <td>119.750583</td>\n",
       "      <td>184.878788</td>\n",
       "      <td>241.055944</td>\n",
       "      <td>63.062937</td>\n",
       "      <td>22.715618</td>\n",
       "      <td>1.512821</td>\n",
       "      <td>0.0</td>\n",
       "    </tr>\n",
       "    <tr>\n",
       "      <th>std</th>\n",
       "      <td>0.312702</td>\n",
       "      <td>0.423299</td>\n",
       "      <td>25.568377</td>\n",
       "      <td>26.732842</td>\n",
       "      <td>1.278736</td>\n",
       "      <td>1.076016</td>\n",
       "      <td>0.863730</td>\n",
       "      <td>0.951816</td>\n",
       "      <td>0.731577</td>\n",
       "      <td>0.800348</td>\n",
       "      <td>0.908469</td>\n",
       "      <td>1.071675</td>\n",
       "      <td>1.327399</td>\n",
       "      <td>0.976155</td>\n",
       "      <td>14.462182</td>\n",
       "      <td>262.376385</td>\n",
       "      <td>236.853226</td>\n",
       "      <td>38.083274</td>\n",
       "      <td>146.461314</td>\n",
       "      <td>175.900658</td>\n",
       "      <td>287.537631</td>\n",
       "      <td>129.766265</td>\n",
       "      <td>75.294396</td>\n",
       "      <td>3.327589</td>\n",
       "      <td>0.0</td>\n",
       "    </tr>\n",
       "    <tr>\n",
       "      <th>min</th>\n",
       "      <td>0.000000</td>\n",
       "      <td>0.000000</td>\n",
       "      <td>4.000000</td>\n",
       "      <td>2.000000</td>\n",
       "      <td>0.000000</td>\n",
       "      <td>0.000000</td>\n",
       "      <td>0.000000</td>\n",
       "      <td>0.000000</td>\n",
       "      <td>1.000000</td>\n",
       "      <td>0.000000</td>\n",
       "      <td>0.000000</td>\n",
       "      <td>0.000000</td>\n",
       "      <td>84.700000</td>\n",
       "      <td>91.200000</td>\n",
       "      <td>0.000000</td>\n",
       "      <td>128.000000</td>\n",
       "      <td>20.000000</td>\n",
       "      <td>3.000000</td>\n",
       "      <td>0.000000</td>\n",
       "      <td>1.000000</td>\n",
       "      <td>0.000000</td>\n",
       "      <td>0.000000</td>\n",
       "      <td>0.000000</td>\n",
       "      <td>0.000000</td>\n",
       "      <td>0.0</td>\n",
       "    </tr>\n",
       "    <tr>\n",
       "      <th>25%</th>\n",
       "      <td>0.000000</td>\n",
       "      <td>1.000000</td>\n",
       "      <td>37.000000</td>\n",
       "      <td>29.000000</td>\n",
       "      <td>2.000000</td>\n",
       "      <td>1.000000</td>\n",
       "      <td>2.000000</td>\n",
       "      <td>2.000000</td>\n",
       "      <td>3.000000</td>\n",
       "      <td>2.000000</td>\n",
       "      <td>2.000000</td>\n",
       "      <td>1.000000</td>\n",
       "      <td>94.300000</td>\n",
       "      <td>94.400000</td>\n",
       "      <td>12.700000</td>\n",
       "      <td>329.000000</td>\n",
       "      <td>242.000000</td>\n",
       "      <td>45.000000</td>\n",
       "      <td>4.000000</td>\n",
       "      <td>23.000000</td>\n",
       "      <td>12.000000</td>\n",
       "      <td>1.000000</td>\n",
       "      <td>0.000000</td>\n",
       "      <td>0.000000</td>\n",
       "      <td>0.0</td>\n",
       "    </tr>\n",
       "    <tr>\n",
       "      <th>50%</th>\n",
       "      <td>0.000000</td>\n",
       "      <td>1.000000</td>\n",
       "      <td>56.000000</td>\n",
       "      <td>50.000000</td>\n",
       "      <td>4.000000</td>\n",
       "      <td>2.000000</td>\n",
       "      <td>3.000000</td>\n",
       "      <td>2.000000</td>\n",
       "      <td>3.000000</td>\n",
       "      <td>2.000000</td>\n",
       "      <td>3.000000</td>\n",
       "      <td>1.000000</td>\n",
       "      <td>95.000000</td>\n",
       "      <td>95.000000</td>\n",
       "      <td>21.100000</td>\n",
       "      <td>458.000000</td>\n",
       "      <td>355.000000</td>\n",
       "      <td>65.000000</td>\n",
       "      <td>54.000000</td>\n",
       "      <td>150.000000</td>\n",
       "      <td>114.000000</td>\n",
       "      <td>5.000000</td>\n",
       "      <td>1.000000</td>\n",
       "      <td>1.000000</td>\n",
       "      <td>0.0</td>\n",
       "    </tr>\n",
       "    <tr>\n",
       "      <th>75%</th>\n",
       "      <td>0.000000</td>\n",
       "      <td>1.000000</td>\n",
       "      <td>78.000000</td>\n",
       "      <td>75.000000</td>\n",
       "      <td>4.000000</td>\n",
       "      <td>3.000000</td>\n",
       "      <td>3.000000</td>\n",
       "      <td>3.000000</td>\n",
       "      <td>4.000000</td>\n",
       "      <td>3.000000</td>\n",
       "      <td>3.000000</td>\n",
       "      <td>2.000000</td>\n",
       "      <td>95.700000</td>\n",
       "      <td>95.600000</td>\n",
       "      <td>31.900000</td>\n",
       "      <td>660.000000</td>\n",
       "      <td>522.000000</td>\n",
       "      <td>92.000000</td>\n",
       "      <td>199.000000</td>\n",
       "      <td>308.000000</td>\n",
       "      <td>404.000000</td>\n",
       "      <td>49.000000</td>\n",
       "      <td>10.000000</td>\n",
       "      <td>2.000000</td>\n",
       "      <td>0.0</td>\n",
       "    </tr>\n",
       "    <tr>\n",
       "      <th>max</th>\n",
       "      <td>1.000000</td>\n",
       "      <td>1.000000</td>\n",
       "      <td>99.000000</td>\n",
       "      <td>99.000000</td>\n",
       "      <td>4.000000</td>\n",
       "      <td>3.000000</td>\n",
       "      <td>4.000000</td>\n",
       "      <td>4.000000</td>\n",
       "      <td>4.000000</td>\n",
       "      <td>4.000000</td>\n",
       "      <td>4.000000</td>\n",
       "      <td>4.000000</td>\n",
       "      <td>98.200000</td>\n",
       "      <td>98.200000</td>\n",
       "      <td>69.700000</td>\n",
       "      <td>1508.000000</td>\n",
       "      <td>1294.000000</td>\n",
       "      <td>252.000000</td>\n",
       "      <td>748.000000</td>\n",
       "      <td>1078.000000</td>\n",
       "      <td>1355.000000</td>\n",
       "      <td>1018.000000</td>\n",
       "      <td>1020.000000</td>\n",
       "      <td>53.000000</td>\n",
       "      <td>0.0</td>\n",
       "    </tr>\n",
       "  </tbody>\n",
       "</table>\n",
       "</div>"
      ],
      "text/plain": [
       "           magnet  neighborhood  attainment_reading_pct_es  \\\n",
       "count  429.000000    429.000000                 429.000000   \n",
       "mean     0.109557      0.766900                  55.967366   \n",
       "std      0.312702      0.423299                  25.568377   \n",
       "min      0.000000      0.000000                   4.000000   \n",
       "25%      0.000000      1.000000                  37.000000   \n",
       "50%      0.000000      1.000000                  56.000000   \n",
       "75%      0.000000      1.000000                  78.000000   \n",
       "max      1.000000      1.000000                  99.000000   \n",
       "\n",
       "       attainment_math_pct_es  culture_climate_rating  \\\n",
       "count              429.000000              429.000000   \n",
       "mean                51.610723                2.890443   \n",
       "std                 26.732842                1.278736   \n",
       "min                  2.000000                0.000000   \n",
       "25%                 29.000000                2.000000   \n",
       "50%                 50.000000                4.000000   \n",
       "75%                 75.000000                4.000000   \n",
       "max                 99.000000                4.000000   \n",
       "\n",
       "       creative_school_certification  school_survey_involved_families  \\\n",
       "count                     429.000000                       429.000000   \n",
       "mean                        1.967366                         2.755245   \n",
       "std                         1.076016                         0.863730   \n",
       "min                         0.000000                         0.000000   \n",
       "25%                         1.000000                         2.000000   \n",
       "50%                         2.000000                         3.000000   \n",
       "75%                         3.000000                         3.000000   \n",
       "max                         3.000000                         4.000000   \n",
       "\n",
       "       school_survey_supportive_environment  \\\n",
       "count                            429.000000   \n",
       "mean                               2.146853   \n",
       "std                                0.951816   \n",
       "min                                0.000000   \n",
       "25%                                2.000000   \n",
       "50%                                2.000000   \n",
       "75%                                3.000000   \n",
       "max                                4.000000   \n",
       "\n",
       "       school_survey_ambitious_instruction  school_survey_effective_leaders  \\\n",
       "count                           429.000000                       429.000000   \n",
       "mean                              3.226107                         2.289044   \n",
       "std                               0.731577                         0.800348   \n",
       "min                               1.000000                         0.000000   \n",
       "25%                               3.000000                         2.000000   \n",
       "50%                               3.000000                         2.000000   \n",
       "75%                               4.000000                         3.000000   \n",
       "max                               4.000000                         4.000000   \n",
       "\n",
       "       school_survey_collaborative_teachers  school_survey_safety  \\\n",
       "count                            429.000000            429.000000   \n",
       "mean                               2.596737              1.650350   \n",
       "std                                0.908469              1.071675   \n",
       "min                                0.000000              0.000000   \n",
       "25%                                2.000000              1.000000   \n",
       "50%                                3.000000              1.000000   \n",
       "75%                                3.000000              2.000000   \n",
       "max                                4.000000              4.000000   \n",
       "\n",
       "       student_attendance_year_1_pct  teacher_attendance_year_1_pct  \\\n",
       "count                     429.000000                     429.000000   \n",
       "mean                       94.879021                      94.992075   \n",
       "std                         1.327399                       0.976155   \n",
       "min                        84.700000                      91.200000   \n",
       "25%                        94.300000                      94.400000   \n",
       "50%                        95.000000                      95.000000   \n",
       "75%                        95.700000                      95.600000   \n",
       "max                        98.200000                      98.200000   \n",
       "\n",
       "       chronic_truancy_pct  student_count_total  student_count_low_income  \\\n",
       "count           429.000000           429.000000                429.000000   \n",
       "mean             23.379021           522.937063                410.993007   \n",
       "std              14.462182           262.376385                236.853226   \n",
       "min               0.000000           128.000000                 20.000000   \n",
       "25%              12.700000           329.000000                242.000000   \n",
       "50%              21.100000           458.000000                355.000000   \n",
       "75%              31.900000           660.000000                522.000000   \n",
       "max              69.700000          1508.000000               1294.000000   \n",
       "\n",
       "       student_count_special_ed  student_count_english_learners  \\\n",
       "count                429.000000                      429.000000   \n",
       "mean                  72.811189                      119.750583   \n",
       "std                   38.083274                      146.461314   \n",
       "min                    3.000000                        0.000000   \n",
       "25%                   45.000000                        4.000000   \n",
       "50%                   65.000000                       54.000000   \n",
       "75%                   92.000000                      199.000000   \n",
       "max                  252.000000                      748.000000   \n",
       "\n",
       "       student_count_black  student_count_hispanic  student_count_white  \\\n",
       "count           429.000000              429.000000           429.000000   \n",
       "mean            184.878788              241.055944            63.062937   \n",
       "std             175.900658              287.537631           129.766265   \n",
       "min               1.000000                0.000000             0.000000   \n",
       "25%              23.000000               12.000000             1.000000   \n",
       "50%             150.000000              114.000000             5.000000   \n",
       "75%             308.000000              404.000000            49.000000   \n",
       "max            1078.000000             1355.000000          1018.000000   \n",
       "\n",
       "       student_count_asian  student_count_native_american  \\\n",
       "count           429.000000                     429.000000   \n",
       "mean             22.715618                       1.512821   \n",
       "std              75.294396                       3.327589   \n",
       "min               0.000000                       0.000000   \n",
       "25%               0.000000                       0.000000   \n",
       "50%               1.000000                       1.000000   \n",
       "75%              10.000000                       2.000000   \n",
       "max            1020.000000                      53.000000   \n",
       "\n",
       "       student_count_other_ethnicity  \n",
       "count                          429.0  \n",
       "mean                             0.0  \n",
       "std                              0.0  \n",
       "min                              0.0  \n",
       "25%                              0.0  \n",
       "50%                              0.0  \n",
       "75%                              0.0  \n",
       "max                              0.0  "
      ]
     },
     "execution_count": 121,
     "metadata": {},
     "output_type": "execute_result"
    }
   ],
   "source": [
    "# Getting some Summary Statistics\n",
    "merged_df.describe()"
   ]
  },
  {
   "cell_type": "code",
   "execution_count": 122,
   "metadata": {},
   "outputs": [
    {
     "data": {
      "image/png": "[encoded data removed]",
      "text/plain": [
       "<Figure size 1080x1152 with 5 Axes>"
      ]
     },
     "metadata": {},
     "output_type": "display_data"
    }
   ],
   "source": [
    "fig, axes = plt.subplots(5, 1, figsize = (15, 16), sharey=True)\n",
    "sns.barplot(x = merged_df['student_attainment_rating'], y = merged_df['culture_climate_rating'], data = data, ax = axes[0], order = ['BELOW AVERAGE','AVERAGE', 'ABOVE AVERAGE'])\n",
    "sns.barplot(x = merged_df['student_attainment_rating'], y = merged_df['creative_school_certification'], data = data, ax = axes[1], order = ['BELOW AVERAGE','AVERAGE', 'ABOVE AVERAGE'])\n",
    "sns.barplot(x = merged_df['student_attainment_rating'], y = merged_df['school_survey_safety'], data = data, ax = axes[2], order = ['BELOW AVERAGE','AVERAGE', 'ABOVE AVERAGE'])\n",
    "sns.barplot(x = merged_df['student_attainment_rating'], y = merged_df['school_survey_involved_families'], data = data, ax = axes[3], order = ['BELOW AVERAGE','AVERAGE', 'ABOVE AVERAGE'])\n",
    "sns.barplot(x = merged_df['student_attainment_rating'], y = merged_df['school_survey_collaborative_teachers'], data = data, ax = axes[4], order = ['BELOW AVERAGE','AVERAGE', 'ABOVE AVERAGE'])\n",
    "plt.tight_layout()"
   ]
  },
  {
   "cell_type": "markdown",
   "metadata": {},
   "source": [
    "The graphs above show us that of the chosen attributes, it appears that 'school_survey_safety' (how safe a school is), 'creative_school_certification', (how the creativity of the school is rated), and 'school_survey_involved_families'(how involve dthe children's families are) seem to have to most drastic impact on setting apart schools that have student attainment ratings of below avergae, average, and above average"
   ]
  },
  {
   "cell_type": "code",
   "execution_count": 123,
   "metadata": {},
   "outputs": [
    {
     "data": {
      "text/plain": [
       "[Text(0,0.5,'Number of Students'),\n",
       " Text(0.5,0,'Student Attainment Rating'),\n",
       " Text(0.5,1,'Attainment Rating by Number of Students')]"
      ]
     },
     "execution_count": 123,
     "metadata": {},
     "output_type": "execute_result"
    },
    {
     "data": {
      "image/png": "[encoded data removed]",
      "text/plain": [
       "<Figure size 432x288 with 1 Axes>"
      ]
     },
     "metadata": {},
     "output_type": "display_data"
    }
   ],
   "source": [
    "# Plot swarm plot for total student count\n",
    "ax = sns.swarmplot(x = 'student_attainment_rating', y = 'student_count_total', data = merged_df,order = ['BELOW AVERAGE','AVERAGE', 'ABOVE AVERAGE'] )\n",
    "ax.set(title = 'Attainment Rating by Number of Students', xlabel = 'Student Attainment Rating', ylabel = 'Number of Students' )"
   ]
  },
  {
   "cell_type": "code",
   "execution_count": 124,
   "metadata": {},
   "outputs": [
    {
     "data": {
      "text/plain": [
       "[Text(0,0.5,'Number of Low-Income Students'),\n",
       " Text(0.5,0,'Student Attainment Rating'),\n",
       " Text(0.5,1,'Attainment Rating by Number of Students')]"
      ]
     },
     "execution_count": 124,
     "metadata": {},
     "output_type": "execute_result"
    },
    {
     "data": {
      "image/png": "[encoded data removed]",
      "text/plain": [
       "<Figure size 432x288 with 1 Axes>"
      ]
     },
     "metadata": {},
     "output_type": "display_data"
    }
   ],
   "source": [
    "# Plot swarm plot for total student count\n",
    "ax = sns.swarmplot(x = 'student_attainment_rating', y = 'student_count_low_income', data = merged_df,order = ['BELOW AVERAGE','AVERAGE', 'ABOVE AVERAGE'] )\n",
    "ax.set(title = 'Attainment Rating by Number of Students', xlabel = 'Student Attainment Rating', ylabel = 'Number of Low-Income Students' )"
   ]
  },
  {
   "cell_type": "code",
   "execution_count": 125,
   "metadata": {},
   "outputs": [],
   "source": [
    "#fit the labels into strings \n",
    "mapper = {0 : 'NOT YET ORGANIZED', \n",
    "          1 : 'PARTIALLY ORGANIZED', \n",
    "          2 : 'ORGANIZED',\n",
    "          3 : 'MODERATELY ORGANIZED', \n",
    "          4 : 'WELL ORGANIZED'}\n",
    "\n",
    "#update the column to be numeric. may cause warning, ignore. printing data.head() will show \n",
    "#the update goes through and not on a copy\n",
    "data['culture_climate_rating'] = data['culture_climate_rating'].replace(mapper)"
   ]
  },
  {
   "cell_type": "code",
   "execution_count": 126,
   "metadata": {},
   "outputs": [
    {
     "data": {
      "text/plain": [
       "[Text(0,0,'NOT YET ORGANIZED'),\n",
       " Text(0,0,'PARTIALLY ORGANIZED'),\n",
       " Text(0,0,'ORGANIZED'),\n",
       " Text(0,0,'MODERATELY ORGANIZED'),\n",
       " Text(0,0,'WELL ORGANIZED')]"
      ]
     },
     "execution_count": 126,
     "metadata": {},
     "output_type": "execute_result"
    },
    {
     "data": {
      "image/png": "[encoded data removed]",
      "text/plain": [
       "<Figure size 432x288 with 1 Axes>"
      ]
     },
     "metadata": {},
     "output_type": "display_data"
    }
   ],
   "source": [
    "# Try getting violin plots for chronic truancy by culture_climate ratings\n",
    "# Plot violin plot\n",
    "ax = sns.violinplot(x = 'culture_climate_rating', y = 'chronic_truancy_pct', data = data, order = ['NOT YET ORGANIZED','PARTIALLY ORGANIZED','ORGANIZED','MODERATELY ORGANIZED','WELL ORGANIZED'])\n",
    "ax.set(title = 'Chronic Truancy by Culture Climate Ratings', xlabel = 'Culture/Climate Ratings', ylabel = 'Chronic Truancy (Percentages)')\n",
    "ax.set_xticklabels(ax.get_xticklabels(), rotation=40, ha=\"right\")"
   ]
  },
  {
   "cell_type": "code",
   "execution_count": 127,
   "metadata": {},
   "outputs": [
    {
     "data": {
      "text/plain": [
       "[Text(0,0.5,'Reading Attainment Percentile'),\n",
       " Text(0.5,0,'Teacher Attendance'),\n",
       " Text(0.5,1,'Teacher Attendance vs. Reading Attainment')]"
      ]
     },
     "execution_count": 127,
     "metadata": {},
     "output_type": "execute_result"
    },
    {
     "data": {
      "image/png": "[encoded data removed]",
      "text/plain": [
       "<Figure size 432x288 with 1 Axes>"
      ]
     },
     "metadata": {},
     "output_type": "display_data"
    }
   ],
   "source": [
    "# Scatter plot to assess the relationship between teacher attendance and math and reading percentiles\n",
    "ax = sns.regplot('teacher_attendance_year_1_pct', 'attainment_reading_pct_es', data = merged_df)\n",
    "ax.set(title = 'Teacher Attendance vs. Reading Attainment', xlabel = 'Teacher Attendance', ylabel = 'Reading Attainment Percentile')"
   ]
  },
  {
   "cell_type": "code",
   "execution_count": 128,
   "metadata": {},
   "outputs": [
    {
     "data": {
      "text/plain": [
       "[Text(0,0.5,'Math Attainment Percentile'),\n",
       " Text(0.5,0,'Teacher Attendance'),\n",
       " Text(0.5,1,'Teacher Attendance vs. Math Attainment')]"
      ]
     },
     "execution_count": 128,
     "metadata": {},
     "output_type": "execute_result"
    },
    {
     "data": {
      "image/png": "[encoded data removed]",
      "text/plain": [
       "<Figure size 432x288 with 1 Axes>"
      ]
     },
     "metadata": {},
     "output_type": "display_data"
    }
   ],
   "source": [
    "ax = sns.regplot('teacher_attendance_year_1_pct', 'attainment_math_pct_es', data = merged_df)\n",
    "ax.set(title = 'Teacher Attendance vs. Math Attainment', xlabel = 'Teacher Attendance', ylabel = 'Math Attainment Percentile')"
   ]
  },
  {
   "cell_type": "code",
   "execution_count": 129,
   "metadata": {},
   "outputs": [
    {
     "data": {
      "text/plain": [
       "[Text(0,0.5,'Reading Attainment Percentile'),\n",
       " Text(0.5,0,'Chronic Truancy Percentage'),\n",
       " Text(0.5,1,'Truancy vs. Reading Attainment')]"
      ]
     },
     "execution_count": 129,
     "metadata": {},
     "output_type": "execute_result"
    },
    {
     "data": {
      "image/png": "[encoded data removed]",
      "text/plain": [
       "<Figure size 432x288 with 1 Axes>"
      ]
     },
     "metadata": {},
     "output_type": "display_data"
    }
   ],
   "source": [
    "#How does chronic truancy impact the school's attainment percentiles?\n",
    "ax = sns.regplot('chronic_truancy_pct', 'attainment_reading_pct_es', data = merged_df)\n",
    "ax.set(title = 'Truancy vs. Reading Attainment', xlabel = 'Chronic Truancy Percentage', ylabel = 'Reading Attainment Percentile')"
   ]
  },
  {
   "cell_type": "code",
   "execution_count": 130,
   "metadata": {},
   "outputs": [
    {
     "data": {
      "text/plain": [
       "[Text(0,0.5,'Math Attainment Percentile'),\n",
       " Text(0.5,0,' Chronic Truancy Percentage'),\n",
       " Text(0.5,1,'Truancy vs. Math Attainment')]"
      ]
     },
     "execution_count": 130,
     "metadata": {},
     "output_type": "execute_result"
    },
    {
     "data": {
      "image/png": "[encoded data removed]",
      "text/plain": [
       "<Figure size 432x288 with 1 Axes>"
      ]
     },
     "metadata": {},
     "output_type": "display_data"
    }
   ],
   "source": [
    "#How does chronic truancy impact the school's attainment percentiles?\n",
    "ax = sns.regplot('chronic_truancy_pct', 'attainment_math_pct_es', data = merged_df)\n",
    "ax.set(title = 'Truancy vs. Math Attainment', xlabel = ' Chronic Truancy Percentage', ylabel = 'Math Attainment Percentile')"
   ]
  },
  {
   "cell_type": "markdown",
   "metadata": {},
   "source": [
    "Conclusions from the Data Exploration:\n",
    "We should expect to see strong correlations with certain varibles as they seem to have an impact on the attainment ratings (in order of importance):\n",
    "1. Attendance Metrics - (Teacher Attendance, Student Attendance, Chronic Truancy)\n",
    "2. School Enviroment Metrics - (School Survey Safety, School Survey involved families, Culture/Climate Ratings, Creative School Certification)\n",
    "3. Demographics - (Number of Low-Income Students, I would expect a multiple linear regression model with all the ethnicity information to give us a better understandign of how well ethnicity correlates to school attainment ratings..)\n",
    "\n"
   ]
  },
  {
   "cell_type": "code",
   "execution_count": 131,
   "metadata": {},
   "outputs": [],
   "source": [
    "# Reverting Mappings for Modeling... \n",
    "#fit the labels into numeric \n",
    "mapper = {'NOT YET ORGANIZED': 0, \n",
    "          'PARTIALLY ORGANIZED' : 1, \n",
    "          'ORGANIZED' : 2,\n",
    "          'MODERATELY ORGANIZED': 3, \n",
    "          'WELL ORGANIZED': 4}\n",
    "\n",
    "#update the column to be numeric. may cause warning, ignore. printing data.head() will show \n",
    "#the update goes through and not on a copy\n",
    "data['culture_climate_rating'] = data['culture_climate_rating'].replace(mapper)"
   ]
  },
  {
   "cell_type": "code",
   "execution_count": 132,
   "metadata": {},
   "outputs": [],
   "source": [
    "#fit the labels into numeric \n",
    "mapper = {'BELOW AVERAGE' : 0, \n",
    "          'AVERAGE' : 1,\n",
    "          'ABOVE AVERAGE' : 2}\n",
    "\n",
    "#update the column to be numeric. may cause warning, ignore. printing data.head() will show \n",
    "#the update goes through and not on a copy\n",
    "merged_df['student_attainment_rating'] = merged_df['student_attainment_rating'].replace(mapper)"
   ]
  },
  {
   "cell_type": "markdown",
   "metadata": {},
   "source": [
    "## Data Modeling"
   ]
  },
  {
   "cell_type": "code",
   "execution_count": 133,
   "metadata": {},
   "outputs": [],
   "source": [
    "#Partition data into training and test sets using holdout method\n",
    "X_train, X_test, Y_train, Y_test = train_test_split(merged_df[['neighborhood', 'magnet', 'culture_climate_rating', 'creative_school_certification', \n",
    "                                                              'school_survey_involved_families', 'school_survey_supportive_environment', \n",
    "                                                              'school_survey_ambitious_instruction', 'school_survey_effective_leaders', \n",
    "                                                              'school_survey_collaborative_teachers', 'school_survey_safety', \n",
    "                                                              'student_attendance_year_1_pct', 'teacher_attendance_year_1_pct','chronic_truancy_pct',\n",
    "                                                              'student_count_total', 'student_count_low_income', 'student_count_special_ed',\n",
    "                                                              'student_count_english_learners', 'student_count_black', 'student_count_hispanic', \n",
    "                                                              'student_count_white', 'student_count_asian', 'student_count_native_american',\n",
    "                                                              'student_count_other_ethnicity']], \n",
    "                                                    merged_df[['student_attainment_rating', 'attainment_reading_pct_es', 'attainment_math_pct_es']],\n",
    "                                                    train_size = .80, test_size = .20, random_state = 1)"
   ]
  },
  {
   "cell_type": "code",
   "execution_count": 134,
   "metadata": {},
   "outputs": [
    {
     "name": "stdout",
     "output_type": "stream",
     "text": [
      "<class 'pandas.core.frame.DataFrame'>\n",
      "Int64Index: 343 entries, 46 to 37\n",
      "Data columns (total 23 columns):\n",
      "neighborhood                            343 non-null uint8\n",
      "magnet                                  343 non-null uint8\n",
      "culture_climate_rating                  343 non-null int64\n",
      "creative_school_certification           343 non-null int64\n",
      "school_survey_involved_families         343 non-null int64\n",
      "school_survey_supportive_environment    343 non-null int64\n",
      "school_survey_ambitious_instruction     343 non-null int64\n",
      "school_survey_effective_leaders         343 non-null int64\n",
      "school_survey_collaborative_teachers    343 non-null int64\n",
      "school_survey_safety                    343 non-null int64\n",
      "student_attendance_year_1_pct           343 non-null float64\n",
      "teacher_attendance_year_1_pct           343 non-null float64\n",
      "chronic_truancy_pct                     343 non-null float64\n",
      "student_count_total                     343 non-null int64\n",
      "student_count_low_income                343 non-null int64\n",
      "student_count_special_ed                343 non-null int64\n",
      "student_count_english_learners          343 non-null int64\n",
      "student_count_black                     343 non-null int64\n",
      "student_count_hispanic                  343 non-null int64\n",
      "student_count_white                     343 non-null int64\n",
      "student_count_asian                     343 non-null int64\n",
      "student_count_native_american           343 non-null int64\n",
      "student_count_other_ethnicity           343 non-null int64\n",
      "dtypes: float64(3), int64(18), uint8(2)\n",
      "memory usage: 59.6 KB\n",
      "None\n"
     ]
    }
   ],
   "source": [
    "print(X_train.info())"
   ]
  },
  {
   "cell_type": "code",
   "execution_count": 135,
   "metadata": {},
   "outputs": [],
   "source": [
    "#Standardizing training and test set\n",
    "scaler = StandardScaler()\n",
    "scaler.fit(X_train)\n",
    "X_train_scaled = scaler.transform(X_train)\n",
    "X_test_scaled = scaler.transform(X_test)"
   ]
  },
  {
   "cell_type": "markdown",
   "metadata": {},
   "source": [
    "## REGRESSION:"
   ]
  },
  {
   "cell_type": "markdown",
   "metadata": {},
   "source": [
    "### Building multiple regression model to predict 'attainment_reading_pct_es'"
   ]
  },
  {
   "cell_type": "code",
   "execution_count": 136,
   "metadata": {},
   "outputs": [
    {
     "name": "stdout",
     "output_type": "stream",
     "text": [
      "R-squared for test set:          0.7033211987251922\n",
      "Adjusted R-squared for test set: 0.5932629337361506\n"
     ]
    }
   ],
   "source": [
    "#Using all predictors\n",
    "model = linear_model.LinearRegression()\n",
    "fitted_model1 = model.fit(X_train_scaled, Y_train['attainment_reading_pct_es'])\n",
    "\n",
    "#Computing coefficient of determination(R squared) for test set \n",
    "score_test1 = fitted_model1.score(X_test_scaled, Y_test['attainment_reading_pct_es'])\n",
    "\n",
    "#Computing Adjusted R2 for test set\n",
    "adj_r_squared_test1 = 1 - (1-score_test1)*(len(Y_test)-1)/(len(Y_test) - X_test_scaled.shape[1]-1)\n",
    "\n",
    "print(\"R-squared for test set:          \" + str(score_test1))\n",
    "print(\"Adjusted R-squared for test set: \" + str(adj_r_squared_test1))"
   ]
  },
  {
   "cell_type": "code",
   "execution_count": 137,
   "metadata": {},
   "outputs": [
    {
     "name": "stdout",
     "output_type": "stream",
     "text": [
      "[-3.3215892   1.92428402  0.          0.39825431  3.89801937 -0.\n",
      "  0.         -0.         -0.          2.61211873  2.60257337  0.5708014\n",
      " -6.74140318  0.03108034 -0.         -0.          0.         -2.79194895\n",
      "  0.          5.85273558  2.31092461  0.15634137  0.        ]\n"
     ]
    }
   ],
   "source": [
    "#Use LASSO regression to see which predictors can be dropped.\n",
    "model = linear_model.Lasso(alpha = 1)\n",
    "fitted_model = model.fit(X_train_scaled, Y_train['attainment_reading_pct_es'])\n",
    "print(fitted_model.coef_)"
   ]
  },
  {
   "cell_type": "code",
   "execution_count": 138,
   "metadata": {},
   "outputs": [
    {
     "name": "stdout",
     "output_type": "stream",
     "text": [
      "[-3.75492171  0.79177654  1.68745046  0.38712636  3.93884996 -3.99422947\n",
      "  2.28953663 -1.36826705 -0.93396312  5.22858248  2.47850531  1.19390508\n",
      " -5.81866038  9.16644431 -9.44928787 -2.28200389  0.22170627 -2.27629035\n",
      "  3.0056931   1.65499838  3.37061482  0.97931663  0.        ]\n"
     ]
    }
   ],
   "source": [
    "#Use Ridge regression to see which predictors can be dropped.\n",
    "#Ridge regression alleviates multicollinearity among predictor variables by shrinking \n",
    "#the coeffiecient estimates of highly correlated variables.\n",
    "model = linear_model.Ridge(alpha = 1)\n",
    "fitted_model = model.fit(X_train_scaled, Y_train['attainment_reading_pct_es'])\n",
    "print(fitted_model.coef_)"
   ]
  },
  {
   "cell_type": "code",
   "execution_count": 139,
   "metadata": {},
   "outputs": [
    {
     "name": "stdout",
     "output_type": "stream",
     "text": [
      "R-squared for test set:          0.6857226301172858\n",
      "Adjusted R-squared for test set: 0.5691358638704725\n"
     ]
    }
   ],
   "source": [
    "#Dropping indices [2,5,6,7,8,13,14,16,18,22] since the coefficients of those indices are 0.\n",
    "model = linear_model.LinearRegression()\n",
    "predictor_indices = [0,1,3,4,9,10,11,12,15,17,19,20,21]\n",
    "fitted_model = model.fit(X_train_scaled[:,predictor_indices], Y_train['attainment_reading_pct_es'])\n",
    "\n",
    "#Computing coefficient of determination(R squared) for test set \n",
    "score_test = fitted_model.score(X_test_scaled[:,predictor_indices], Y_test['attainment_reading_pct_es'])\n",
    "\n",
    "#Computing Adjusted R2 for test set\n",
    "adj_r_squared_test = 1 - (1-score_test)*(len(Y_test)-1)/(len(Y_test) - X_test_scaled.shape[1]-1)\n",
    "\n",
    "print(\"R-squared for test set:          \" + str(score_test))\n",
    "print(\"Adjusted R-squared for test set: \" + str(adj_r_squared_test)) "
   ]
  },
  {
   "cell_type": "code",
   "execution_count": 140,
   "metadata": {},
   "outputs": [
    {
     "name": "stdout",
     "output_type": "stream",
     "text": [
      "R-squared for test set:          0.6710004903471609\n",
      "Adjusted R-squared for test set: 0.5489522851533657\n"
     ]
    }
   ],
   "source": [
    "#Dropping indices [2,3,5,6,7,8,9,13,14,15,16,18,22]\n",
    "model = linear_model.LinearRegression()\n",
    "predictor_indices = [0,1,4,10,11,12,17,19,20,21]\n",
    "fitted_model = model.fit(X_train_scaled[:,predictor_indices], Y_train['attainment_reading_pct_es'])\n",
    "\n",
    "#Computing coefficient of determination(R squared) for test set \n",
    "score_test = fitted_model.score(X_test_scaled[:,predictor_indices], Y_test['attainment_reading_pct_es'])\n",
    "\n",
    "#Computing Adjusted R2 for test set\n",
    "adj_r_squared_test = 1 - (1-score_test)*(len(Y_test)-1)/(len(Y_test) - X_test_scaled.shape[1]-1)\n",
    "\n",
    "print(\"R-squared for test set:          \" + str(score_test))\n",
    "print(\"Adjusted R-squared for test set: \" + str(adj_r_squared_test)) "
   ]
  },
  {
   "cell_type": "code",
   "execution_count": 141,
   "metadata": {},
   "outputs": [
    {
     "name": "stdout",
     "output_type": "stream",
     "text": [
      "R-squared for test set:          0.6567898239928618\n",
      "Adjusted R-squared for test set: 0.5294699199902138\n"
     ]
    }
   ],
   "source": [
    "#Dropping indices [2,3,5,6,7,8,9,13,14,15,16,18,20,21,22] \n",
    "model = linear_model.LinearRegression()\n",
    "predictor_indices = [0,1,4,10,11,12,17,19]\n",
    "fitted_model = model.fit(X_train_scaled[:,predictor_indices], Y_train['attainment_reading_pct_es'])\n",
    "\n",
    "#Computing coefficient of determination(R squared) for test set \n",
    "score_test = fitted_model.score(X_test_scaled[:,predictor_indices], Y_test['attainment_reading_pct_es'])\n",
    "\n",
    "#Computing Adjusted R2 for test set\n",
    "adj_r_squared_test = 1 - (1-score_test)*(len(Y_test)-1)/(len(Y_test) - X_test_scaled.shape[1]-1)\n",
    "\n",
    "print(\"R-squared for test set:          \" + str(score_test))\n",
    "print(\"Adjusted R-squared for test set: \" + str(adj_r_squared_test)) "
   ]
  },
  {
   "cell_type": "markdown",
   "metadata": {},
   "source": [
    "### Building multiple regression model to predict ''attainment_math_pct_es''"
   ]
  },
  {
   "cell_type": "code",
   "execution_count": 142,
   "metadata": {},
   "outputs": [
    {
     "name": "stdout",
     "output_type": "stream",
     "text": [
      "R-squared for test set:          0.6914883961715321\n",
      "Adjusted R-squared for test set: 0.5770405431383908\n"
     ]
    }
   ],
   "source": [
    "#Using all predictors\n",
    "model = linear_model.LinearRegression()\n",
    "fitted_model1 = model.fit(X_train_scaled, Y_train['attainment_math_pct_es'])\n",
    "\n",
    "#Computing coefficient of determination(R squared) for test set \n",
    "score_test1 = fitted_model1.score(X_test_scaled, Y_test['attainment_math_pct_es'])\n",
    "\n",
    "#Computing Adjusted R2 for test set\n",
    "adj_r_squared_test1 = 1 - (1-score_test1)*(len(Y_test)-1)/(len(Y_test) - X_test_scaled.shape[1]-1)\n",
    "\n",
    "print(\"R-squared for test set:          \" + str(score_test1))\n",
    "print(\"Adjusted R-squared for test set: \" + str(adj_r_squared_test1))"
   ]
  },
  {
   "cell_type": "code",
   "execution_count": 143,
   "metadata": {},
   "outputs": [
    {
     "name": "stdout",
     "output_type": "stream",
     "text": [
      "[-1.4829299   2.59061509  0.39739433  0.80729358  2.53771817 -0.\n",
      "  0.          0.          0.          3.35030944  4.07842598  2.24740307\n",
      " -5.76564264  1.3509901  -0.         -0.          0.         -3.35202929\n",
      "  0.          5.35799535  3.49858039  0.          0.        ]\n"
     ]
    }
   ],
   "source": [
    "#Use LASSO regression to see which predictors can be dropped.\n",
    "model = linear_model.Lasso(alpha = 1)\n",
    "fitted_model = model.fit(X_train_scaled, Y_train['attainment_math_pct_es'])\n",
    "print(fitted_model.coef_)"
   ]
  },
  {
   "cell_type": "code",
   "execution_count": 144,
   "metadata": {},
   "outputs": [
    {
     "name": "stdout",
     "output_type": "stream",
     "text": [
      "[-2.18046037  2.23331401  2.02215274  1.0836053   1.49835569 -2.64004698\n",
      "  1.29368051 -1.58249206  1.32720299  5.24842762  4.13866202  2.85156897\n",
      " -4.85245917  7.20876242 -5.4442796  -1.54439596  0.22122079 -3.76829095\n",
      "  1.72375257  2.98065609  4.36428332 -0.01582994  0.        ]\n"
     ]
    }
   ],
   "source": [
    "#Use Ridge regression to see which predictors can be dropped.\n",
    "#Ridge regression alleviates multicollinearity among predictor variables by shrinking \n",
    "#the coeffiecient estimates of highly correlated variables.\n",
    "model = linear_model.Ridge(alpha = 1)\n",
    "fitted_model = model.fit(X_train_scaled, Y_train['attainment_math_pct_es'])\n",
    "print(fitted_model.coef_)"
   ]
  },
  {
   "cell_type": "code",
   "execution_count": 145,
   "metadata": {},
   "outputs": [
    {
     "name": "stdout",
     "output_type": "stream",
     "text": [
      "R-squared for test set:          0.6831747456137085\n",
      "Adjusted R-squared for test set: 0.5656427964058908\n"
     ]
    }
   ],
   "source": [
    "#Dropping indices [5,6,7,14,15,16,18,22] since the coefficients of those indices are 0.\n",
    "model = linear_model.LinearRegression()\n",
    "predictor_indices = [0,1,2,3,4,8,9,10,11,12,13,17,19,20,21]\n",
    "fitted_model = model.fit(X_train_scaled[:,predictor_indices], Y_train['attainment_math_pct_es'])\n",
    "\n",
    "#Computing coefficient of determination(R squared) for test set \n",
    "score_test = fitted_model.score(X_test_scaled[:,predictor_indices], Y_test['attainment_math_pct_es'])\n",
    "\n",
    "#Computing Adjusted R2 for test set\n",
    "adj_r_squared_test = 1 - (1-score_test)*(len(Y_test)-1)/(len(Y_test) - X_test_scaled.shape[1]-1)\n",
    "\n",
    "print(\"R-squared for test set:          \" + str(score_test))\n",
    "print(\"Adjusted R-squared for test set: \" + str(adj_r_squared_test)) "
   ]
  },
  {
   "cell_type": "code",
   "execution_count": 146,
   "metadata": {},
   "outputs": [
    {
     "name": "stdout",
     "output_type": "stream",
     "text": [
      "R-squared for test set:          0.6585917219356995\n",
      "Adjusted R-squared for test set: 0.5319402639441042\n"
     ]
    }
   ],
   "source": [
    "#Dropping indices [0,5,6,7,14,15,16,18,21,22] \n",
    "model = linear_model.LinearRegression()\n",
    "predictor_indices = [1,2,3,4,8,9,10,11,12,13,17,19,20]\n",
    "fitted_model = model.fit(X_train_scaled[:,predictor_indices], Y_train['attainment_math_pct_es'])\n",
    "\n",
    "#Computing coefficient of determination(R squared) for test set \n",
    "score_test = fitted_model.score(X_test_scaled[:,predictor_indices], Y_test['attainment_math_pct_es'])\n",
    "\n",
    "#Computing Adjusted R2 for test set\n",
    "adj_r_squared_test = 1 - (1-score_test)*(len(Y_test)-1)/(len(Y_test) - X_test_scaled.shape[1]-1)\n",
    "\n",
    "print(\"R-squared for test set:          \" + str(score_test))\n",
    "print(\"Adjusted R-squared for test set: \" + str(adj_r_squared_test)) "
   ]
  },
  {
   "cell_type": "code",
   "execution_count": 147,
   "metadata": {},
   "outputs": [
    {
     "name": "stdout",
     "output_type": "stream",
     "text": [
      "R-squared for test set:          0.6366753266117918\n",
      "Adjusted R-squared for test set: 0.501893592935521\n"
     ]
    }
   ],
   "source": [
    "#Dropping indices [0,2,3,5,6,7,8,9,14,15,16,18,20,21,22] \n",
    "model = linear_model.LinearRegression()\n",
    "predictor_indices = [1,4,10,11,12,13,17,19]\n",
    "fitted_model = model.fit(X_train_scaled[:,predictor_indices], Y_train['attainment_math_pct_es'])\n",
    "\n",
    "#Computing coefficient of determination(R squared) for test set \n",
    "score_test = fitted_model.score(X_test_scaled[:,predictor_indices], Y_test['attainment_math_pct_es'])\n",
    "\n",
    "#Computing Adjusted R2 for test set\n",
    "adj_r_squared_test = 1 - (1-score_test)*(len(Y_test)-1)/(len(Y_test) - X_test_scaled.shape[1]-1)\n",
    "\n",
    "print(\"R-squared for test set:          \" + str(score_test))\n",
    "print(\"Adjusted R-squared for test set: \" + str(adj_r_squared_test)) "
   ]
  },
  {
   "cell_type": "code",
   "execution_count": 148,
   "metadata": {},
   "outputs": [
    {
     "name": "stdout",
     "output_type": "stream",
     "text": [
      "<class 'pandas.core.frame.DataFrame'>\n",
      "Int64Index: 343 entries, 46 to 37\n",
      "Data columns (total 23 columns):\n",
      "neighborhood                            343 non-null uint8\n",
      "magnet                                  343 non-null uint8\n",
      "culture_climate_rating                  343 non-null int64\n",
      "creative_school_certification           343 non-null int64\n",
      "school_survey_involved_families         343 non-null int64\n",
      "school_survey_supportive_environment    343 non-null int64\n",
      "school_survey_ambitious_instruction     343 non-null int64\n",
      "school_survey_effective_leaders         343 non-null int64\n",
      "school_survey_collaborative_teachers    343 non-null int64\n",
      "school_survey_safety                    343 non-null int64\n",
      "student_attendance_year_1_pct           343 non-null float64\n",
      "teacher_attendance_year_1_pct           343 non-null float64\n",
      "chronic_truancy_pct                     343 non-null float64\n",
      "student_count_total                     343 non-null int64\n",
      "student_count_low_income                343 non-null int64\n",
      "student_count_special_ed                343 non-null int64\n",
      "student_count_english_learners          343 non-null int64\n",
      "student_count_black                     343 non-null int64\n",
      "student_count_hispanic                  343 non-null int64\n",
      "student_count_white                     343 non-null int64\n",
      "student_count_asian                     343 non-null int64\n",
      "student_count_native_american           343 non-null int64\n",
      "student_count_other_ethnicity           343 non-null int64\n",
      "dtypes: float64(3), int64(18), uint8(2)\n",
      "memory usage: 59.6 KB\n"
     ]
    }
   ],
   "source": [
    "X_train.info()"
   ]
  },
  {
   "cell_type": "markdown",
   "metadata": {},
   "source": [
    "## CLASSIFICATION"
   ]
  },
  {
   "cell_type": "code",
   "execution_count": 149,
   "metadata": {},
   "outputs": [],
   "source": [
    "from sklearn.naive_bayes import GaussianNB\n",
    "from sklearn.tree import DecisionTreeClassifier\n",
    "from sklearn.neighbors import KNeighborsClassifier \n",
    "from sklearn.svm import SVC\n",
    "from sklearn import metrics"
   ]
  },
  {
   "cell_type": "code",
   "execution_count": 150,
   "metadata": {},
   "outputs": [
    {
     "name": "stdout",
     "output_type": "stream",
     "text": [
      "\n",
      "Best summed precision: 2.2153846153846155 \n",
      "From columns: [3, 18] \n",
      "With split: [0.8        0.61538462 0.8       ] \n",
      "And jump: 1\n",
      "\n",
      "Best summed recall: 2.23009009009009 \n",
      "From columns: [3, 18] \n",
      "With split: [0.83333333 0.64       0.75675676] \n",
      "And jump: 1\n",
      "\n",
      "Best tot f1_score: 2.2215552887821794 \n",
      "From columns: [3, 18] \n",
      "With split: [0.81632653 0.62745098 0.77777778] \n",
      "And jump: 1\n"
     ]
    }
   ],
   "source": [
    "#isolate what we are interested in, which is the student_attainment_rating\n",
    "classifier = GaussianNB()  \n",
    "\n",
    "y5_train = Y_train['student_attainment_rating']\n",
    "y5_test = Y_test['student_attainment_rating']\n",
    "\n",
    "min_cols = 0\n",
    "max_cols = len(X_train.columns)\n",
    "\n",
    "max_precision = -100\n",
    "best_precision_cols = []\n",
    "best_precision_split = []\n",
    "best_precision_jump = -100\n",
    "\n",
    "max_recall = -100\n",
    "best_recall_cols = []\n",
    "best_recall_split = []\n",
    "best_recall_jump = -100\n",
    "\n",
    "max_f1_score = -100\n",
    "best_f1_split = []\n",
    "best_cols = []\n",
    "best_f1_jump = -100\n",
    "\n",
    "# #for every possible set of columns, get their evaluation metrics\n",
    "jump = 1\n",
    "for start_col in range(min_cols, max_cols-1): #from 0 to 22 in range\n",
    "    for end_col in range(start_col+1, max_cols):#from 1 to 23 in range\n",
    "        while jump != end_col: #we test intervals of variables too\n",
    "            x5_train_scaled = X_train_scaled[:,start_col:end_col:jump]\n",
    "            x5_test_scaled = X_test_scaled[:,start_col:end_col:jump]\n",
    "            classifier.fit(x5_train_scaled, y5_train)\n",
    "            y_pred = classifier.predict(x5_test_scaled)\n",
    "\n",
    "            #get some evaluation metrics for the classifier\n",
    "            accuracy = metrics.accuracy_score(y5_test, y_pred)\n",
    "            error = 1 - accuracy\n",
    "            #The labels that are not predicted at all are simply ignored by using 'labels = np.unique(y_pred)'\n",
    "            #Doing this helps us to get rid of warnings\n",
    "            precision = metrics.precision_score(y5_test, y_pred, average = None, labels = np.unique(y_pred))\n",
    "            recall = metrics.recall_score(y5_test, y_pred, average = None, labels = np.unique(y_pred))\n",
    "            F1_score = metrics.f1_score(y5_test, y_pred, average = None, labels = np.unique(y_pred))\n",
    "\n",
    "            if max_precision <= sum(precision): #returns the last instance of best prec\n",
    "                max_precision = sum(precision)\n",
    "                best_precision_split = precision\n",
    "                best_precision_jump = jump                \n",
    "                best_precision_cols = [start_col, end_col]          \n",
    "\n",
    "            if max_recall <= sum(recall): #returns the last instance of best recall\n",
    "                max_recall = sum(recall)\n",
    "                best_recall_split = recall\n",
    "                best_recall_jump = jump\n",
    "                best_recall_cols = [start_col, end_col]     \n",
    "\n",
    "            if max_f1_score <= sum(F1_score): #returns the last instance of best f1 score\n",
    "                max_f1_score = sum(F1_score)\n",
    "                best_f1_split = F1_score\n",
    "                best_f1_jump = jump\n",
    "                best_cols = [start_col, end_col]\n",
    "            jump = jump + 1\n",
    "        jump = 1\n",
    "\n",
    "#         print(\"\\nStart and end cols:\", [start_col, end_col],\n",
    "#               \"\\nJump is:\", jump,\n",
    "#               \"\\nAccuracy:\", accuracy,\n",
    "#               \"\\nError:\", error,\n",
    "#               \"\\nPrecision:\", precision,\n",
    "#               \"\\nRecall:\", recall,\n",
    "#               \"\\nF1:\", F1_score\n",
    "#              )\n",
    "\n",
    "print(\"\\nBest summed precision:\",max_precision, \n",
    "      \"\\nFrom columns:\", best_precision_cols,\n",
    "      \"\\nWith split:\", best_precision_split,\n",
    "      \"\\nAnd jump:\", best_precision_jump      \n",
    "     )\n",
    "print(\"\\nBest summed recall:\",max_recall, \n",
    "      \"\\nFrom columns:\", best_recall_cols,\n",
    "      \"\\nWith split:\", best_recall_split,\n",
    "      \"\\nAnd jump:\", best_recall_jump\n",
    "     )\n",
    "print(\"\\nBest tot f1_score:\", max_f1_score,\n",
    "      \"\\nFrom columns:\",best_cols,\n",
    "      \"\\nWith split:\",best_f1_split,\n",
    "      \"\\nAnd jump:\", best_f1_jump\n",
    "     )"
   ]
  },
  {
   "cell_type": "markdown",
   "metadata": {},
   "source": [
    "### Building classification model using Naive Baye's technique"
   ]
  },
  {
   "cell_type": "code",
   "execution_count": 151,
   "metadata": {},
   "outputs": [
    {
     "name": "stdout",
     "output_type": "stream",
     "text": [
      "Precision:  [0.8125     0.5        0.65909091]\n",
      "Recall:  [0.54166667 0.52       0.78378378]\n",
      "F1_score:  [0.65       0.50980392 0.71604938]\n",
      "F1_score:  1.8758533042846768\n",
      "[[13  7  4]\n",
      " [ 1 13 11]\n",
      " [ 2  6 29]]\n"
     ]
    },
    {
     "data": {
      "image/png": "[encoded data removed]",
      "text/plain": [
       "<Figure size 432x288 with 2 Axes>"
      ]
     },
     "metadata": {},
     "output_type": "display_data"
    }
   ],
   "source": [
    "#Rebuilding the model with the best attributes that we found using above method \n",
    "#and printing its confusion matrix\n",
    "predictor_indices = [8,12]\n",
    "x5_train_scaled = X_train_scaled[:,predictor_indices]\n",
    "x5_test_scaled = X_test_scaled[:,predictor_indices]\n",
    "y5_train = Y_train['student_attainment_rating']\n",
    "y5_test = Y_test['student_attainment_rating']\n",
    "\n",
    "classifier = GaussianNB()  \n",
    "classifier.fit(x5_train_scaled, y5_train)\n",
    "\n",
    "Y_pred = classifier.predict(x5_test_scaled)\n",
    "precision = metrics.precision_score(y5_test, Y_pred, average = None)\n",
    "recall = metrics.recall_score(y5_test, Y_pred, average = None)           \n",
    "F1_score = metrics.f1_score(y5_test, Y_pred, average = None )\n",
    "\n",
    "print(\"Precision: \", precision)\n",
    "print(\"Recall: \", recall)\n",
    "print(\"F1_score: \", F1_score)\n",
    "print(\"F1_score: \", sum(F1_score))\n",
    "\n",
    "# Plot confusion matrix\n",
    "# Compute confusion matrix\n",
    "conf_matrix = metrics.confusion_matrix(y5_test, Y_pred)\n",
    "print(conf_matrix)\n",
    "sns.heatmap(conf_matrix, annot = True, fmt = \".3f\", square = True, cmap = plt.cm.Blues)\n",
    "plt.ylabel('Actual')\n",
    "plt.xlabel('Predicted')\n",
    "plt.title('Confusion matrix')\n",
    "plt.tight_layout()"
   ]
  },
  {
   "cell_type": "markdown",
   "metadata": {},
   "source": [
    "We get a good F1_score sum using the above attributes which are 'school_survey_collaborative_teachers' and 'chronic_truancy_pct.' We can see from the confusion matrix, that it doesn't do a good job in predicting labels class 1(Average)."
   ]
  },
  {
   "cell_type": "code",
   "execution_count": 152,
   "metadata": {},
   "outputs": [
    {
     "name": "stdout",
     "output_type": "stream",
     "text": [
      "Precision:  [0.75       0.48       0.75675676]\n",
      "Recall:  [0.75       0.48       0.75675676]\n",
      "F1_score:  [0.75       0.48       0.75675676]\n",
      "F1_score:  1.9867567567567566\n",
      "[[18  6  0]\n",
      " [ 4 12  9]\n",
      " [ 2  7 28]]\n"
     ]
    },
    {
     "data": {
      "image/png": "[encoded data removed]",
      "text/plain": [
       "<Figure size 432x288 with 2 Axes>"
      ]
     },
     "metadata": {},
     "output_type": "display_data"
    }
   ],
   "source": [
    "#Trying some more attributes with attribute 8 and 12 to see if we can improve our confusion matrix.\n",
    "predictor_indices = [0,2,3,4,6,8,9,11,12,13]\n",
    "x5_train_scaled = X_train_scaled[:,predictor_indices]\n",
    "x5_test_scaled = X_test_scaled[:,predictor_indices]\n",
    "y5_train = Y_train['student_attainment_rating']\n",
    "y5_test = Y_test['student_attainment_rating']\n",
    "\n",
    "classifier = GaussianNB()  \n",
    "classifier.fit(x5_train_scaled, y5_train)\n",
    "\n",
    "Y_pred = classifier.predict(x5_test_scaled)\n",
    "precision = metrics.precision_score(y5_test, Y_pred, average = None)\n",
    "recall = metrics.recall_score(y5_test, Y_pred, average = None)   \n",
    "F1_score = metrics.f1_score(y5_test, Y_pred, average = None )\n",
    "\n",
    "print(\"Precision: \", precision)\n",
    "print(\"Recall: \", recall)\n",
    "print(\"F1_score: \", F1_score)\n",
    "print(\"F1_score: \", sum(F1_score))\n",
    "\n",
    "# Plot confusion matrix\n",
    "# Compute confusion matrix\n",
    "conf_matrix = metrics.confusion_matrix(y5_test, Y_pred)\n",
    "print(conf_matrix)\n",
    "sns.heatmap(conf_matrix, annot = True, fmt = \".3f\", square = True, cmap = plt.cm.Blues)\n",
    "plt.ylabel('Actual')\n",
    "plt.xlabel('Predicted')\n",
    "plt.title('Confusion matrix')\n",
    "plt.tight_layout()"
   ]
  },
  {
   "cell_type": "code",
   "execution_count": 153,
   "metadata": {},
   "outputs": [
    {
     "name": "stdout",
     "output_type": "stream",
     "text": [
      "Precision:  [0.77777778 0.39285714 0.7       ]\n",
      "Recall:  [0.58333333 0.44       0.75675676]\n",
      "F1_score:  [0.66666667 0.41509434 0.72727273]\n",
      "F1_score:  1.8090337335620355\n",
      "[[14 10  0]\n",
      " [ 2 11 12]\n",
      " [ 2  7 28]]\n"
     ]
    },
    {
     "data": {
      "image/png": "[encoded data removed]",
      "text/plain": [
       "<Figure size 432x288 with 2 Axes>"
      ]
     },
     "metadata": {},
     "output_type": "display_data"
    }
   ],
   "source": [
    "#Trying some more attributes with attribute 8 and 12 to see if we can improve our confusion matrix.\n",
    "predictor_indices = [0,2,3,4,6,7,8,10,11,12,13]\n",
    "x5_train_scaled = X_train_scaled[:,predictor_indices]\n",
    "x5_test_scaled = X_test_scaled[:,predictor_indices]\n",
    "y5_train = Y_train['student_attainment_rating']\n",
    "y5_test = Y_test['student_attainment_rating']\n",
    "\n",
    "classifier = GaussianNB()  \n",
    "classifier.fit(x5_train_scaled, y5_train)\n",
    "\n",
    "Y_pred = classifier.predict(x5_test_scaled)\n",
    "precision = metrics.precision_score(y5_test, Y_pred, average = None)\n",
    "recall = metrics.recall_score(y5_test, Y_pred, average = None)   \n",
    "F1_score = metrics.f1_score(y5_test, Y_pred, average = None )\n",
    "\n",
    "\n",
    "print(\"Precision: \", precision)\n",
    "print(\"Recall: \", recall)\n",
    "print(\"F1_score: \", F1_score)\n",
    "print(\"F1_score: \", sum(F1_score))\n",
    "\n",
    "# Plot confusion matrix\n",
    "# Compute confusion matrix\n",
    "conf_matrix = metrics.confusion_matrix(y5_test, Y_pred)\n",
    "print(conf_matrix)\n",
    "sns.heatmap(conf_matrix, annot = True, fmt = \".3f\", square = True, cmap = plt.cm.Blues)\n",
    "plt.ylabel('Actual')\n",
    "plt.xlabel('Predicted')\n",
    "plt.title('Confusion matrix')\n",
    "plt.tight_layout()"
   ]
  },
  {
   "cell_type": "markdown",
   "metadata": {},
   "source": [
    "### Building classification model using K Nearest Neighbors method"
   ]
  },
  {
   "cell_type": "code",
   "execution_count": 154,
   "metadata": {},
   "outputs": [
    {
     "name": "stdout",
     "output_type": "stream",
     "text": [
      "\n",
      "Best summed precision: 2.320516795865633 \n",
      "Using neighbors = 4 \n",
      "From columns: [8, 22] \n",
      "With split: [0.88888889 0.51162791 0.92      ] \n",
      "And jump: 2\n",
      "\n",
      "Best summed recall: 2.280315315315315 \n",
      "Using neighbors = 5 \n",
      "From columns: [7, 22] \n",
      "With split: [0.79166667 0.84       0.64864865] \n",
      "And jump: 3\n",
      "\n",
      "Best tot f1_score: 2.2374149659863947 \n",
      "Using neighbors = 5 \n",
      "From columns: [7, 22] \n",
      "With split: [0.7755102  0.7        0.76190476] \n",
      "And jump: 3\n"
     ]
    }
   ],
   "source": [
    "#isolate what we are interested in, which is the student_attainment_rating\n",
    "y5_train = Y_train['student_attainment_rating']\n",
    "y5_test = Y_test['student_attainment_rating']\n",
    "\n",
    "min_cols = 0\n",
    "max_cols = len(X_train.columns)\n",
    "\n",
    "max_precision = -100\n",
    "best_precision_cols = []\n",
    "best_precision_split = []\n",
    "best_precision_neighbors = -100\n",
    "best_precision_jump = -100\n",
    "\n",
    "max_recall = -100\n",
    "best_recall_cols = []\n",
    "best_recall_split = []\n",
    "best_recall_neighbors = -100\n",
    "best_recall_jump = -100\n",
    "\n",
    "max_f1_score = -100\n",
    "best_f1_split = []\n",
    "best_cols = []\n",
    "best_f1_neighbors = -100\n",
    "best_f1_jump = -100\n",
    "\n",
    "jump = 1\n",
    "#for every possible set of columns and neighbors 1-5, get their evaluation metrics\n",
    "for start_col in range(min_cols, max_cols-1): #from 0 to 22 in range\n",
    "    for end_col in range(start_col+1, max_cols):#from 1 to 23 in range\n",
    "        while jump != end_col: #we test intervals of variables too        \n",
    "            x5_train_scaled = X_train_scaled[:,start_col:end_col:jump]\n",
    "            x5_test_scaled = X_test_scaled[:,start_col:end_col:jump]\n",
    "\n",
    "            #for number of neighbors from 1 to 5\n",
    "            for neighbors in range(1,6):\n",
    "#                 print(start_col, end_col, jump, neighbors)\n",
    "                classifier = KNeighborsClassifier(n_neighbors = neighbors)  \n",
    "                classifier.fit(x5_train_scaled, y5_train)\n",
    "\n",
    "                y_pred = classifier.predict(x5_test_scaled)\n",
    "\n",
    "                #get some evaluation metrics for the classifier\n",
    "                accuracy = metrics.accuracy_score(y5_test, y_pred)\n",
    "                error = 1 - accuracy\n",
    "                #The labels that are not predicted at all are simply ignored by using 'labels = np.unique(y_pred)'\n",
    "                #Doing this helps us to get rid of warnings\n",
    "                precision = metrics.precision_score(y5_test, y_pred, average = None, labels = np.unique(y_pred))\n",
    "                recall = metrics.recall_score(y5_test, y_pred, average = None, labels = np.unique(y_pred))\n",
    "                F1_score = metrics.f1_score(y5_test, y_pred, average = None, labels = np.unique(y_pred))\n",
    "\n",
    "                if max_precision <= sum(precision): #returns the last instance of best prec\n",
    "                    max_precision = sum(precision)\n",
    "                    best_precision_split = precision\n",
    "                    best_precision_neighbors = neighbors\n",
    "                    best_precision_jump = jump\n",
    "                    best_precision_cols = [start_col, end_col]          \n",
    "\n",
    "                if max_recall <= sum(recall): #returns the last instance of best recall\n",
    "                    max_recall = sum(recall)\n",
    "                    best_recall_split = recall\n",
    "                    best_recall_neighbors = neighbors     \n",
    "                    best_recall_jump = jump                    \n",
    "                    best_recall_cols = [start_col, end_col]     \n",
    "\n",
    "                if max_f1_score <= sum(F1_score): #returns the last instance of best f1 score\n",
    "                    max_f1_score = sum(F1_score)\n",
    "                    best_f1_split = F1_score\n",
    "                    best_f1_neighbors = neighbors\n",
    "                    best_f1_jump = jump\n",
    "                    best_cols = [start_col, end_col]\n",
    "\n",
    "    #             print(\"\\nStart and end cols:\", [start_col, end_col],\n",
    "    #                   \"\\nAccuracy:\", accuracy,\n",
    "    #                   \"\\nError:\", error,\n",
    "    #                   \"\\nPrecision:\", precision,\n",
    "    #                   \"\\nRecall:\", recall,\n",
    "    #                   \"\\nF1:\", F1_score\n",
    "    #                  )\n",
    "            jump = jump + 1\n",
    "        jump = 1\n",
    "\n",
    "print(\"\\nBest summed precision:\",max_precision, \n",
    "      \"\\nUsing neighbors =\", best_precision_neighbors,\n",
    "      \"\\nFrom columns:\", best_precision_cols,\n",
    "      \"\\nWith split:\", best_precision_split,\n",
    "      \"\\nAnd jump:\", best_precision_jump     \n",
    "     )\n",
    "print(\"\\nBest summed recall:\",max_recall, \n",
    "      \"\\nUsing neighbors =\", best_recall_neighbors,      \n",
    "      \"\\nFrom columns:\", best_recall_cols,\n",
    "      \"\\nWith split:\", best_recall_split,\n",
    "      \"\\nAnd jump:\", best_recall_jump      \n",
    "     )\n",
    "print(\"\\nBest tot f1_score:\", max_f1_score,\n",
    "      \"\\nUsing neighbors =\", best_f1_neighbors,      \n",
    "      \"\\nFrom columns:\",best_cols,\n",
    "      \"\\nWith split:\",best_f1_split,\n",
    "      \"\\nAnd jump:\", best_f1_jump\n",
    "     )            \n",
    "\n"
   ]
  },
  {
   "cell_type": "code",
   "execution_count": 155,
   "metadata": {},
   "outputs": [
    {
     "name": "stdout",
     "output_type": "stream",
     "text": [
      "Precision:  [0.82608696 0.52941176 0.79310345]\n",
      "Recall:  [0.79166667 0.72       0.62162162]\n",
      "F1_score:  [0.80851064 0.61016949 0.6969697 ]\n",
      "F1_score:  2.115649826792993\n",
      "[[19  3  2]\n",
      " [ 3 18  4]\n",
      " [ 1 13 23]]\n",
      "[12, 13, 14, 15, 16, 17, 18, 19, 20, 21]\n"
     ]
    },
    {
     "data": {
      "image/png": "[encoded data removed]",
      "text/plain": [
       "<Figure size 432x288 with 2 Axes>"
      ]
     },
     "metadata": {},
     "output_type": "display_data"
    }
   ],
   "source": [
    "#Rebuilding the model with the best attributes in k-nearest-neighbors and printing its confusion matrix\n",
    "predictor_indices = [12,13,14,15,16,17,18,19,20,21]\n",
    "x5_train_scaled = X_train_scaled[:,predictor_indices]\n",
    "x5_test_scaled = X_test_scaled[:,predictor_indices]\n",
    "y5_train = Y_train['student_attainment_rating']\n",
    "y5_test = Y_test['student_attainment_rating']\n",
    "\n",
    "classifier = KNeighborsClassifier(n_neighbors = 5)  \n",
    "classifier.fit(x5_train_scaled, y5_train)\n",
    "\n",
    "Y_pred = classifier.predict(x5_test_scaled)\n",
    "precision = metrics.precision_score(y5_test, Y_pred, average = None)\n",
    "recall = metrics.recall_score(y5_test, Y_pred, average = None)\n",
    "F1_score = metrics.f1_score(y5_test, Y_pred, average = None)\n",
    "\n",
    "print(\"Precision: \", precision)\n",
    "print(\"Recall: \", recall)\n",
    "print(\"F1_score: \", F1_score)\n",
    "print(\"F1_score: \", sum(F1_score))\n",
    "\n",
    "# Plot confusion matrix\n",
    "# Compute confusion matrix\n",
    "conf_matrix = metrics.confusion_matrix(y5_test, Y_pred)\n",
    "print(conf_matrix)\n",
    "sns.heatmap(conf_matrix, annot = True, fmt = \".3f\", square = True, cmap = plt.cm.Blues)\n",
    "plt.ylabel('Actual')\n",
    "plt.xlabel('Predicted')\n",
    "plt.title('Confusion matrix')\n",
    "plt.tight_layout()\n",
    "\n",
    "print(predictor_indices)"
   ]
  },
  {
   "cell_type": "code",
   "execution_count": 156,
   "metadata": {},
   "outputs": [
    {
     "name": "stdout",
     "output_type": "stream",
     "text": [
      "Precision:  [0.52       0.18518519 0.61764706]\n",
      "Recall:  [0.54166667 0.2        0.56756757]\n",
      "F1_score:  [0.53061224 0.19230769 0.5915493 ]\n",
      "sum of F1_score:  1.3144692329802994\n",
      "[[13  9  2]\n",
      " [ 9  5 11]\n",
      " [ 3 13 21]]\n",
      "[0, 1, 2, 3, 4, 6, 8, 9, 11, 12, 13]\n"
     ]
    },
    {
     "data": {
      "image/png": "[encoded data removed]",
      "text/plain": [
       "<Figure size 432x288 with 2 Axes>"
      ]
     },
     "metadata": {},
     "output_type": "display_data"
    }
   ],
   "source": [
    "#Using the attributes that gave the best result for Naive Baye's.\n",
    "predictor_indices = [0,1,2,3,4,6,8,9,11,12,13]\n",
    "x5_train_scaled = X_train_scaled[:,predictor_indices]\n",
    "x5_test_scaled = X_test_scaled[:,predictor_indices]\n",
    "y5_train = Y_train['student_attainment_rating']\n",
    "y5_test = Y_test['student_attainment_rating']\n",
    "\n",
    "classifier = KNeighborsClassifier(n_neighbors = 5)  \n",
    "classifier.fit(x5_train_scaled, y5_train)\n",
    "\n",
    "Y_pred = classifier.predict(x5_test_scaled)\n",
    "precision = metrics.precision_score(y5_test, Y_pred, average = None)\n",
    "recall = metrics.recall_score(y5_test, Y_pred, average = None)\n",
    "F1_score = metrics.f1_score(y5_test, Y_pred, average = None)\n",
    "\n",
    "print(\"Precision: \", precision)\n",
    "print(\"Recall: \", recall)\n",
    "print(\"F1_score: \", F1_score)\n",
    "print(\"sum of F1_score: \", sum(F1_score))\n",
    "\n",
    "# Plot confusion matrix\n",
    "# Compute confusion matrix\n",
    "conf_matrix = metrics.confusion_matrix(y5_test, Y_pred)\n",
    "print(conf_matrix)\n",
    "sns.heatmap(conf_matrix, annot = True, fmt = \".3f\", square = True, cmap = plt.cm.Blues)\n",
    "plt.ylabel('Actual')\n",
    "plt.xlabel('Predicted')\n",
    "plt.title('Confusion matrix')\n",
    "plt.tight_layout()\n",
    "\n",
    "print(predictor_indices)"
   ]
  },
  {
   "cell_type": "markdown",
   "metadata": {},
   "source": [
    "       The two classification methods involved were Naive Baye's and K nearest neighbors. Of the models we observed, Naive Baye's, using indices: 'school_survey_collaborative_teachers'and 'chronic_truancy_pct' provided us with the best f1 score. We used f1 score as our main measurement for deciding which model had the best performance since it accounts for both the precision and recall. Additionally, we had a sum of the f1 score to find which provided a maximal return on deciding all the three labels in our 'student_attainment_rating.' The performance of our best model has an f1 score of 0.85 on 0's(BELOW AVERAGE), 0.6785 on 1's(AVERAGE) and 0.7894 on 2's(ABOVE AVERAGE) respectively. For our variables, we enumerated through many combinations and selected the combination that gave us the best f1 score.\n",
    "      \n",
    "       The parameters of our k-nearest neighbors was switching the values of k from 1-5. No changes were made to the distance parameter, so Minkowski with p=2 (Euclidean) was kept from default. For our variables, we enumerated through many combinations and selected the combination that gave us the best f1 score."
   ]
  },
  {
   "cell_type": "code",
   "execution_count": null,
   "metadata": {},
   "outputs": [],
   "source": []
  }
 ],
 "metadata": {
  "kernelspec": {
   "display_name": "Python 3",
   "language": "python",
   "name": "python3"
  },
  "language_info": {
   "codemirror_mode": {
    "name": "ipython",
    "version": 3
   },
   "file_extension": ".py",
   "mimetype": "text/x-python",
   "name": "python",
   "nbconvert_exporter": "python",
   "pygments_lexer": "ipython3",
   "version": "3.6.6"
  }
 },
 "nbformat": 4,
 "nbformat_minor": 2
}
