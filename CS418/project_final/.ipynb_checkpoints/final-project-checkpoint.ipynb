{
 "cells": [
  {
   "cell_type": "code",
   "execution_count": 1,
   "metadata": {},
   "outputs": [],
   "source": [
    "#load all modules/libraries\n",
    "import pandas as pd\n",
    "import numpy as np\n",
    "import matplotlib.pyplot as plt\n",
    "import seaborn as sns\n",
    "from sklearn.model_selection import train_test_split\n",
    "from sklearn.preprocessing import StandardScaler\n",
    "from sklearn import linear_model\n",
    "\n",
    "pd.set_option('display.max_columns', 500)"
   ]
  },
  {
   "cell_type": "code",
   "execution_count": 2,
   "metadata": {},
   "outputs": [],
   "source": [
    "#will lowercase all items in a list and return the lowercased one\n",
    "def lowercase_columns(list):\n",
    "    new_list = []\n",
    "\n",
    "    for item in list:\n",
    "        new_list.append(item.lower())\n",
    "    \n",
    "    return new_list"
   ]
  },
  {
   "cell_type": "code",
   "execution_count": 3,
   "metadata": {},
   "outputs": [],
   "source": [
    "#Problem statement\n",
    "#Most students in the US are in public schools and people complain public is not up to par\n",
    "#what factors impact performance in public schools?"
   ]
  },
  {
   "cell_type": "markdown",
   "metadata": {},
   "source": [
    "## Data Collection"
   ]
  },
  {
   "cell_type": "code",
   "execution_count": 4,
   "metadata": {},
   "outputs": [
    {
     "ename": "FileNotFoundError",
     "evalue": "[Errno 2] File b'Chicago_Public_Schools_-_School_Progress_Reports_SY1819.csv' does not exist: b'Chicago_Public_Schools_-_School_Progress_Reports_SY1819.csv'",
     "output_type": "error",
     "traceback": [
      "\u001b[0;31m---------------------------------------------------------------------------\u001b[0m",
      "\u001b[0;31mFileNotFoundError\u001b[0m                         Traceback (most recent call last)",
      "\u001b[0;32m<ipython-input-4-a76642ce5388>\u001b[0m in \u001b[0;36m<module>\u001b[0;34m()\u001b[0m\n\u001b[1;32m      1\u001b[0m \u001b[0;31m#QUESTION 2\u001b[0m\u001b[0;34m\u001b[0m\u001b[0;34m\u001b[0m\u001b[0m\n\u001b[0;32m----> 2\u001b[0;31m \u001b[0mdata\u001b[0m \u001b[0;34m=\u001b[0m \u001b[0mpd\u001b[0m\u001b[0;34m.\u001b[0m\u001b[0mread_csv\u001b[0m\u001b[0;34m(\u001b[0m\u001b[0;34m'Chicago_Public_Schools_-_School_Progress_Reports_SY1819.csv'\u001b[0m\u001b[0;34m)\u001b[0m\u001b[0;34m\u001b[0m\u001b[0m\n\u001b[0m\u001b[1;32m      3\u001b[0m \u001b[0mdata2\u001b[0m \u001b[0;34m=\u001b[0m \u001b[0mpd\u001b[0m\u001b[0;34m.\u001b[0m\u001b[0mread_csv\u001b[0m\u001b[0;34m(\u001b[0m\u001b[0;34m'Chicago_Public_Schools_-_School_Profile_Information_SY1819.csv'\u001b[0m\u001b[0;34m)\u001b[0m\u001b[0;34m\u001b[0m\u001b[0m\n",
      "\u001b[0;32m/anaconda3/lib/python3.6/site-packages/pandas/io/parsers.py\u001b[0m in \u001b[0;36mparser_f\u001b[0;34m(filepath_or_buffer, sep, delimiter, header, names, index_col, usecols, squeeze, prefix, mangle_dupe_cols, dtype, engine, converters, true_values, false_values, skipinitialspace, skiprows, skipfooter, nrows, na_values, keep_default_na, na_filter, verbose, skip_blank_lines, parse_dates, infer_datetime_format, keep_date_col, date_parser, dayfirst, cache_dates, iterator, chunksize, compression, thousands, decimal, lineterminator, quotechar, quoting, doublequote, escapechar, comment, encoding, dialect, error_bad_lines, warn_bad_lines, delim_whitespace, low_memory, memory_map, float_precision)\u001b[0m\n\u001b[1;32m    683\u001b[0m         )\n\u001b[1;32m    684\u001b[0m \u001b[0;34m\u001b[0m\u001b[0m\n\u001b[0;32m--> 685\u001b[0;31m         \u001b[0;32mreturn\u001b[0m \u001b[0m_read\u001b[0m\u001b[0;34m(\u001b[0m\u001b[0mfilepath_or_buffer\u001b[0m\u001b[0;34m,\u001b[0m \u001b[0mkwds\u001b[0m\u001b[0;34m)\u001b[0m\u001b[0;34m\u001b[0m\u001b[0m\n\u001b[0m\u001b[1;32m    686\u001b[0m \u001b[0;34m\u001b[0m\u001b[0m\n\u001b[1;32m    687\u001b[0m     \u001b[0mparser_f\u001b[0m\u001b[0;34m.\u001b[0m\u001b[0m__name__\u001b[0m \u001b[0;34m=\u001b[0m \u001b[0mname\u001b[0m\u001b[0;34m\u001b[0m\u001b[0m\n",
      "\u001b[0;32m/anaconda3/lib/python3.6/site-packages/pandas/io/parsers.py\u001b[0m in \u001b[0;36m_read\u001b[0;34m(filepath_or_buffer, kwds)\u001b[0m\n\u001b[1;32m    455\u001b[0m \u001b[0;34m\u001b[0m\u001b[0m\n\u001b[1;32m    456\u001b[0m     \u001b[0;31m# Create the parser.\u001b[0m\u001b[0;34m\u001b[0m\u001b[0;34m\u001b[0m\u001b[0m\n\u001b[0;32m--> 457\u001b[0;31m     \u001b[0mparser\u001b[0m \u001b[0;34m=\u001b[0m \u001b[0mTextFileReader\u001b[0m\u001b[0;34m(\u001b[0m\u001b[0mfp_or_buf\u001b[0m\u001b[0;34m,\u001b[0m \u001b[0;34m**\u001b[0m\u001b[0mkwds\u001b[0m\u001b[0;34m)\u001b[0m\u001b[0;34m\u001b[0m\u001b[0m\n\u001b[0m\u001b[1;32m    458\u001b[0m \u001b[0;34m\u001b[0m\u001b[0m\n\u001b[1;32m    459\u001b[0m     \u001b[0;32mif\u001b[0m \u001b[0mchunksize\u001b[0m \u001b[0;32mor\u001b[0m \u001b[0miterator\u001b[0m\u001b[0;34m:\u001b[0m\u001b[0;34m\u001b[0m\u001b[0m\n",
      "\u001b[0;32m/anaconda3/lib/python3.6/site-packages/pandas/io/parsers.py\u001b[0m in \u001b[0;36m__init__\u001b[0;34m(self, f, engine, **kwds)\u001b[0m\n\u001b[1;32m    893\u001b[0m             \u001b[0mself\u001b[0m\u001b[0;34m.\u001b[0m\u001b[0moptions\u001b[0m\u001b[0;34m[\u001b[0m\u001b[0;34m\"has_index_names\"\u001b[0m\u001b[0;34m]\u001b[0m \u001b[0;34m=\u001b[0m \u001b[0mkwds\u001b[0m\u001b[0;34m[\u001b[0m\u001b[0;34m\"has_index_names\"\u001b[0m\u001b[0;34m]\u001b[0m\u001b[0;34m\u001b[0m\u001b[0m\n\u001b[1;32m    894\u001b[0m \u001b[0;34m\u001b[0m\u001b[0m\n\u001b[0;32m--> 895\u001b[0;31m         \u001b[0mself\u001b[0m\u001b[0;34m.\u001b[0m\u001b[0m_make_engine\u001b[0m\u001b[0;34m(\u001b[0m\u001b[0mself\u001b[0m\u001b[0;34m.\u001b[0m\u001b[0mengine\u001b[0m\u001b[0;34m)\u001b[0m\u001b[0;34m\u001b[0m\u001b[0m\n\u001b[0m\u001b[1;32m    896\u001b[0m \u001b[0;34m\u001b[0m\u001b[0m\n\u001b[1;32m    897\u001b[0m     \u001b[0;32mdef\u001b[0m \u001b[0mclose\u001b[0m\u001b[0;34m(\u001b[0m\u001b[0mself\u001b[0m\u001b[0;34m)\u001b[0m\u001b[0;34m:\u001b[0m\u001b[0;34m\u001b[0m\u001b[0m\n",
      "\u001b[0;32m/anaconda3/lib/python3.6/site-packages/pandas/io/parsers.py\u001b[0m in \u001b[0;36m_make_engine\u001b[0;34m(self, engine)\u001b[0m\n\u001b[1;32m   1133\u001b[0m     \u001b[0;32mdef\u001b[0m \u001b[0m_make_engine\u001b[0m\u001b[0;34m(\u001b[0m\u001b[0mself\u001b[0m\u001b[0;34m,\u001b[0m \u001b[0mengine\u001b[0m\u001b[0;34m=\u001b[0m\u001b[0;34m\"c\"\u001b[0m\u001b[0;34m)\u001b[0m\u001b[0;34m:\u001b[0m\u001b[0;34m\u001b[0m\u001b[0m\n\u001b[1;32m   1134\u001b[0m         \u001b[0;32mif\u001b[0m \u001b[0mengine\u001b[0m \u001b[0;34m==\u001b[0m \u001b[0;34m\"c\"\u001b[0m\u001b[0;34m:\u001b[0m\u001b[0;34m\u001b[0m\u001b[0m\n\u001b[0;32m-> 1135\u001b[0;31m             \u001b[0mself\u001b[0m\u001b[0;34m.\u001b[0m\u001b[0m_engine\u001b[0m \u001b[0;34m=\u001b[0m \u001b[0mCParserWrapper\u001b[0m\u001b[0;34m(\u001b[0m\u001b[0mself\u001b[0m\u001b[0;34m.\u001b[0m\u001b[0mf\u001b[0m\u001b[0;34m,\u001b[0m \u001b[0;34m**\u001b[0m\u001b[0mself\u001b[0m\u001b[0;34m.\u001b[0m\u001b[0moptions\u001b[0m\u001b[0;34m)\u001b[0m\u001b[0;34m\u001b[0m\u001b[0m\n\u001b[0m\u001b[1;32m   1136\u001b[0m         \u001b[0;32melse\u001b[0m\u001b[0;34m:\u001b[0m\u001b[0;34m\u001b[0m\u001b[0m\n\u001b[1;32m   1137\u001b[0m             \u001b[0;32mif\u001b[0m \u001b[0mengine\u001b[0m \u001b[0;34m==\u001b[0m \u001b[0;34m\"python\"\u001b[0m\u001b[0;34m:\u001b[0m\u001b[0;34m\u001b[0m\u001b[0m\n",
      "\u001b[0;32m/anaconda3/lib/python3.6/site-packages/pandas/io/parsers.py\u001b[0m in \u001b[0;36m__init__\u001b[0;34m(self, src, **kwds)\u001b[0m\n\u001b[1;32m   1915\u001b[0m         \u001b[0mkwds\u001b[0m\u001b[0;34m[\u001b[0m\u001b[0;34m\"usecols\"\u001b[0m\u001b[0;34m]\u001b[0m \u001b[0;34m=\u001b[0m \u001b[0mself\u001b[0m\u001b[0;34m.\u001b[0m\u001b[0musecols\u001b[0m\u001b[0;34m\u001b[0m\u001b[0m\n\u001b[1;32m   1916\u001b[0m \u001b[0;34m\u001b[0m\u001b[0m\n\u001b[0;32m-> 1917\u001b[0;31m         \u001b[0mself\u001b[0m\u001b[0;34m.\u001b[0m\u001b[0m_reader\u001b[0m \u001b[0;34m=\u001b[0m \u001b[0mparsers\u001b[0m\u001b[0;34m.\u001b[0m\u001b[0mTextReader\u001b[0m\u001b[0;34m(\u001b[0m\u001b[0msrc\u001b[0m\u001b[0;34m,\u001b[0m \u001b[0;34m**\u001b[0m\u001b[0mkwds\u001b[0m\u001b[0;34m)\u001b[0m\u001b[0;34m\u001b[0m\u001b[0m\n\u001b[0m\u001b[1;32m   1918\u001b[0m         \u001b[0mself\u001b[0m\u001b[0;34m.\u001b[0m\u001b[0munnamed_cols\u001b[0m \u001b[0;34m=\u001b[0m \u001b[0mself\u001b[0m\u001b[0;34m.\u001b[0m\u001b[0m_reader\u001b[0m\u001b[0;34m.\u001b[0m\u001b[0munnamed_cols\u001b[0m\u001b[0;34m\u001b[0m\u001b[0m\n\u001b[1;32m   1919\u001b[0m \u001b[0;34m\u001b[0m\u001b[0m\n",
      "\u001b[0;32mpandas/_libs/parsers.pyx\u001b[0m in \u001b[0;36mpandas._libs.parsers.TextReader.__cinit__\u001b[0;34m()\u001b[0m\n",
      "\u001b[0;32mpandas/_libs/parsers.pyx\u001b[0m in \u001b[0;36mpandas._libs.parsers.TextReader._setup_parser_source\u001b[0;34m()\u001b[0m\n",
      "\u001b[0;31mFileNotFoundError\u001b[0m: [Errno 2] File b'Chicago_Public_Schools_-_School_Progress_Reports_SY1819.csv' does not exist: b'Chicago_Public_Schools_-_School_Progress_Reports_SY1819.csv'"
     ]
    }
   ],
   "source": [
    "#QUESTION 2\n",
    "data = pd.read_csv('Chicago_Public_Schools_-_School_Progress_Reports_SY1819.csv')\n",
    "data2 = pd.read_csv('Chicago_Public_Schools_-_School_Profile_Information_SY1819.csv')"
   ]
  },
  {
   "cell_type": "markdown",
   "metadata": {},
   "source": [
    "## Data Preparation"
   ]
  },
  {
   "cell_type": "code",
   "execution_count": 6,
   "metadata": {},
   "outputs": [],
   "source": [
    "#lower casing all of the columns in data\n",
    "data.columns = lowercase_columns(data.columns)\n",
    "data2.columns = lowercase_columns(data2.columns)"
   ]
  },
  {
   "cell_type": "code",
   "execution_count": 7,
   "metadata": {},
   "outputs": [],
   "source": [
    "#drop every column that has growth in it, we're not interested in growth, only attainment\n",
    "for column in data.columns:\n",
    "    if 'growth' in column:\n",
    "        data.drop(column, axis = 1, inplace=True)"
   ]
  },
  {
   "cell_type": "code",
   "execution_count": 8,
   "metadata": {},
   "outputs": [],
   "source": [
    "#dropping columns due to..\n",
    "#1.too much garbage data\n",
    "#2.too many missing values\n",
    "#3.irrelevant data\n",
    "columns_to_drop = [\n",
    "    'long_name',\n",
    "    'address',\n",
    "    'city',\n",
    "    'state',\n",
    "    'phone',\n",
    "    'fax',\n",
    "    'cps_school_profile',\n",
    "    'website',\n",
    "    'progress_report_year',\n",
    "    'blue_ribbon_award_year',\n",
    "    'spot_light_award_year',\n",
    "    'improvement_award_year',\n",
    "    'excellence_award_year',\n",
    "    'student_attainment_description',\n",
    "    'school_survey_student_response_rate_avg_pct',\n",
    "    'School_Survey_Teacher_Response_Rate_Avg_Pct',\n",
    "    'School_Survey_Parent_Response_Rate_Avg_Pct',\n",
    "    'Suspensions_Per_100_Students_Year_2_Pct',\n",
    "    'Suspensions_Per_100_Students_Avg_Pct',\n",
    "    'Misconducts_To_Suspensions_Year_2_Pct',\n",
    "    'Misconducts_To_Suspensions_Avg_Pct',\n",
    "    'Average_Length_Suspension_Year_2_Pct',\n",
    "    'Average_Length_Suspension_Avg_Pct',\n",
    "    'Behavior_Discipline_Year_2',\n",
    "    'Student_Attendance_Year_2_Pct',\n",
    "    'Teacher_Attendance_Year_2_Pct',\n",
    "    'One_Year_Dropout_Rate_Year_1_Pct',\n",
    "    'One_Year_Dropout_Rate_Year_2_Pct',\n",
    "    'One_Year_Dropout_Rate_Avg_Pct',\n",
    "    'Freshmen_On_Track_School_Pct_Year_2',\n",
    "    'Student_Attendance_Avg_Pct',\n",
    "    'Teacher_Attendance_Avg_Pct',\n",
    "    'Freshmen_On_Track_CPS_Pct_Year_2',\n",
    "    'Freshmen_On_Track_School_Pct_Year_1',\n",
    "    'Freshmen_On_Track_CPS_Pct_Year_1',\n",
    "    'Graduation_4_Year_School_Pct_Year_2',\n",
    "    'Graduation_4_Year_CPS_Pct_Year_2',\n",
    "    'Graduation_4_Year_School_Pct_Year_1',\n",
    "    'Graduation_4_Year_CPS_Pct_Year_1',\n",
    "    'Graduation_5_Year_School_Pct_Year_2',\n",
    "    'Graduation_5_Year_CPS_Pct_Year_2',\n",
    "    'Graduation_5_Year_School_Pct_Year_1',\n",
    "    'Graduation_5_Year_CPS_Pct_Year_1',\n",
    "    'College_Enrollment_School_Pct_Year_2',\n",
    "    'College_Enrollment_CPS_Pct_Year_2',\n",
    "    'College_Enrollment_School_Pct_Year_1',\n",
    "    'College_Enrollment_CPS_Pct_Year_1',\n",
    "    'College_Persistence_School_Pct_Year_2',\n",
    "    'College_Persistence_CPS_Pct_Year_2',\n",
    "    'College_Persistence_School_Pct_Year_1',\n",
    "    'College_Persistence_CPS_Pct_Year_1',\n",
    "    'State_School_Report_Card_URL',\n",
    "    'Other_Metrics_Year_1',\n",
    "    'Other_Metrics_Year_2',\n",
    "    'Mobility_Rate_Pct',\n",
    "    'Culture_Climate_Description',\n",
    "    'Empty_Progress_Report_Message',\n",
    "    'School_Survey_Rating_Description',\n",
    "    'Supportive_School_Award_Desc',\n",
    "    'Parent_Survey_Results_Year',\n",
    "    'SAT_Grade_11_Score_CPS_Avg',\n",
    "    'PSAT_Grade_9_Score_School_Avg',\n",
    "    'PSAT_Grade_10_Score_School_Avg',\n",
    "    'SAT_Grade_11_Score_School_Avg',\n",
    "    'Attainment_PSAT_Grade_9_School_Pct',\n",
    "    'Attainment_PSAT_Grade_9_School_Lbl',\n",
    "    'Attainment_PSAT_Grade_10_School_Pct',\n",
    "    'Attainment_PSAT_Grade_10_School_Lbl',\n",
    "    'Attainment_SAT_Grade_11_School_Pct',\n",
    "    'Attainment_SAT_Grade_11_School_Lbl',\n",
    "    'Attainment_All_Grades_School_Pct',\n",
    "    'Attainment_All_Grades_School_Lbl',\n",
    "    'Behavior_Discipline_Year_1',\n",
    "    'Excelerate_Award_Gold_Year',\n",
    "    'Attainment_Reading_Lbl_ES',\n",
    "    'Attainment_Math_Lbl_ES',\n",
    "    'Healthy_School_Certification',\n",
    "    'Healthy_School_Certification_Description',\n",
    "    'Creative_School_Certification_Description',\n",
    "    'Suspensions_Per_100_Students_Year_1_Pct',\n",
    "    'Misconducts_To_Suspensions_Year_1_Pct',\n",
    "    'Average_Length_Suspension_Year_1_Pct',\n",
    "    'Progress_Toward_Graduation_Year_1',\n",
    "    'Progress_Toward_Graduation_Year_2',\n",
    "    'school_survey_quality_of_facilities',\n",
    "    'school_survey_parent_teacher_partnership',\n",
    "    'school_survey_school_community',\n",
    "    'School_Survey_Student_Response_Rate_Pct',\n",
    "    'School_Survey_Teacher_Response_Rate_Pct',\n",
    "    'School_Survey_Parent_Response_Rate_Pct',\n",
    "    'Supportive_School_Award'\n",
    "]\n",
    "\n",
    "columns_to_drop = lowercase_columns(columns_to_drop)\n",
    "\n",
    "#drop the columns above from the dataset\n",
    "data.drop(columns_to_drop, axis=1, inplace=True)"
   ]
  },
  {
   "cell_type": "code",
   "execution_count": 9,
   "metadata": {},
   "outputs": [
    {
     "data": {
      "text/html": [
       "<div>\n",
       "<style scoped>\n",
       "    .dataframe tbody tr th:only-of-type {\n",
       "        vertical-align: middle;\n",
       "    }\n",
       "\n",
       "    .dataframe tbody tr th {\n",
       "        vertical-align: top;\n",
       "    }\n",
       "\n",
       "    .dataframe thead th {\n",
       "        text-align: right;\n",
       "    }\n",
       "</style>\n",
       "<table border=\"1\" class=\"dataframe\">\n",
       "  <thead>\n",
       "    <tr style=\"text-align: right;\">\n",
       "      <th></th>\n",
       "      <th>school_id</th>\n",
       "      <th>short_name</th>\n",
       "      <th>school_type</th>\n",
       "      <th>primary_category</th>\n",
       "      <th>zip</th>\n",
       "      <th>student_attainment_rating</th>\n",
       "      <th>attainment_reading_pct_es</th>\n",
       "      <th>attainment_math_pct_es</th>\n",
       "      <th>culture_climate_rating</th>\n",
       "      <th>creative_school_certification</th>\n",
       "      <th>nwea_reading_attainment_grade_2_pct</th>\n",
       "      <th>nwea_reading_attainment_grade_2_lbl</th>\n",
       "      <th>nwea_reading_attainment_grade_3_pct</th>\n",
       "      <th>nwea_reading_attainment_grade_3_lbl</th>\n",
       "      <th>nwea_reading_attainment_grade_4_pct</th>\n",
       "      <th>nwea_reading_attainment_grade_4_lbl</th>\n",
       "      <th>nwea_reading_attainment_grade_5_pct</th>\n",
       "      <th>nwea_reading_attainment_grade_5_lbl</th>\n",
       "      <th>nwea_reading_attainment_grade_6_pct</th>\n",
       "      <th>nwea_reading_attainment_grade_6_lbl</th>\n",
       "      <th>nwea_reading_attainment_grade_7_pct</th>\n",
       "      <th>nwea_reading_attainment_grade_7_lbl</th>\n",
       "      <th>nwea_reading_attainment_grade_8_pct</th>\n",
       "      <th>nwea_reading_attainment_grade_8_lbl</th>\n",
       "      <th>nwea_math_attainment_grade_2_pct</th>\n",
       "      <th>nwea_math_attainment_grade_2_lbl</th>\n",
       "      <th>nwea_math_attainment_grade_3_pct</th>\n",
       "      <th>nwea_math_attainment_grade_3_lbl</th>\n",
       "      <th>nwea_math_attainment_grade_4_pct</th>\n",
       "      <th>nwea_math_attainment_grade_4_lbl</th>\n",
       "      <th>nwea_math_attainment_grade_5_pct</th>\n",
       "      <th>nwea_math_attainment_grade_5_lbl</th>\n",
       "      <th>nwea_math_attainment_grade_6_pct</th>\n",
       "      <th>nwea_math_attainment_grade_6_lbl</th>\n",
       "      <th>nwea_math_attainment_grade_7_pct</th>\n",
       "      <th>nwea_math_attainment_grade_7_lbl</th>\n",
       "      <th>nwea_math_attainment_grade_8_pct</th>\n",
       "      <th>nwea_math_attainment_grade_8_lbl</th>\n",
       "      <th>school_survey_involved_families</th>\n",
       "      <th>school_survey_supportive_environment</th>\n",
       "      <th>school_survey_ambitious_instruction</th>\n",
       "      <th>school_survey_effective_leaders</th>\n",
       "      <th>school_survey_collaborative_teachers</th>\n",
       "      <th>school_survey_safety</th>\n",
       "      <th>student_attendance_year_1_pct</th>\n",
       "      <th>teacher_attendance_year_1_pct</th>\n",
       "      <th>chronic_truancy_pct</th>\n",
       "      <th>school_latitude</th>\n",
       "      <th>school_longitude</th>\n",
       "    </tr>\n",
       "  </thead>\n",
       "  <tbody>\n",
       "    <tr>\n",
       "      <th>0</th>\n",
       "      <td>609,869</td>\n",
       "      <td>LANGFORD</td>\n",
       "      <td>Neighborhood</td>\n",
       "      <td>ES</td>\n",
       "      <td>60,636</td>\n",
       "      <td>FAR BELOW AVERAGE</td>\n",
       "      <td>9.0</td>\n",
       "      <td>6.0</td>\n",
       "      <td>NOT YET ORGANIZED</td>\n",
       "      <td>EXCELLING</td>\n",
       "      <td>1.0</td>\n",
       "      <td>1st</td>\n",
       "      <td>4.0</td>\n",
       "      <td>4th</td>\n",
       "      <td>19.0</td>\n",
       "      <td>19th</td>\n",
       "      <td>8.0</td>\n",
       "      <td>8th</td>\n",
       "      <td>12.0</td>\n",
       "      <td>12th</td>\n",
       "      <td>41.0</td>\n",
       "      <td>41st</td>\n",
       "      <td>11.0</td>\n",
       "      <td>11th</td>\n",
       "      <td>1.0</td>\n",
       "      <td>1st</td>\n",
       "      <td>2.0</td>\n",
       "      <td>2nd</td>\n",
       "      <td>7.0</td>\n",
       "      <td>7th</td>\n",
       "      <td>5.0</td>\n",
       "      <td>5th</td>\n",
       "      <td>10.0</td>\n",
       "      <td>10th</td>\n",
       "      <td>28.0</td>\n",
       "      <td>28th</td>\n",
       "      <td>10.0</td>\n",
       "      <td>10th</td>\n",
       "      <td>WEAK</td>\n",
       "      <td>VERY WEAK</td>\n",
       "      <td>NEUTRAL</td>\n",
       "      <td>WEAK</td>\n",
       "      <td>NEUTRAL</td>\n",
       "      <td>VERY WEAK</td>\n",
       "      <td>93.1</td>\n",
       "      <td>94.2</td>\n",
       "      <td>62.6</td>\n",
       "      <td>41.784681</td>\n",
       "      <td>-87.657169</td>\n",
       "    </tr>\n",
       "    <tr>\n",
       "      <th>1</th>\n",
       "      <td>610,225</td>\n",
       "      <td>WHISTLER</td>\n",
       "      <td>Neighborhood</td>\n",
       "      <td>ES</td>\n",
       "      <td>60,643</td>\n",
       "      <td>ABOVE AVERAGE</td>\n",
       "      <td>89.0</td>\n",
       "      <td>72.0</td>\n",
       "      <td>WELL ORGANIZED</td>\n",
       "      <td>STRONG</td>\n",
       "      <td>95.0</td>\n",
       "      <td>95th</td>\n",
       "      <td>65.0</td>\n",
       "      <td>65th</td>\n",
       "      <td>86.0</td>\n",
       "      <td>86th</td>\n",
       "      <td>98.0</td>\n",
       "      <td>98th</td>\n",
       "      <td>76.0</td>\n",
       "      <td>76th</td>\n",
       "      <td>76.0</td>\n",
       "      <td>76th</td>\n",
       "      <td>96.0</td>\n",
       "      <td>96th</td>\n",
       "      <td>97.0</td>\n",
       "      <td>97th</td>\n",
       "      <td>59.0</td>\n",
       "      <td>59th</td>\n",
       "      <td>42.0</td>\n",
       "      <td>42nd</td>\n",
       "      <td>52.0</td>\n",
       "      <td>52nd</td>\n",
       "      <td>68.0</td>\n",
       "      <td>68th</td>\n",
       "      <td>73.0</td>\n",
       "      <td>73rd</td>\n",
       "      <td>90.0</td>\n",
       "      <td>90th</td>\n",
       "      <td>STRONG</td>\n",
       "      <td>STRONG</td>\n",
       "      <td>VERY STRONG</td>\n",
       "      <td>STRONG</td>\n",
       "      <td>STRONG</td>\n",
       "      <td>NEUTRAL</td>\n",
       "      <td>94.3</td>\n",
       "      <td>94.8</td>\n",
       "      <td>22.4</td>\n",
       "      <td>41.683907</td>\n",
       "      <td>-87.655384</td>\n",
       "    </tr>\n",
       "    <tr>\n",
       "      <th>2</th>\n",
       "      <td>609,734</td>\n",
       "      <td>TAFT HS</td>\n",
       "      <td>Neighborhood</td>\n",
       "      <td>HS</td>\n",
       "      <td>60,631</td>\n",
       "      <td>MET EXPECTATIONS</td>\n",
       "      <td>99.0</td>\n",
       "      <td>99.0</td>\n",
       "      <td>ORGANIZED</td>\n",
       "      <td>EXCELLING</td>\n",
       "      <td>NaN</td>\n",
       "      <td>NaN</td>\n",
       "      <td>NaN</td>\n",
       "      <td>NaN</td>\n",
       "      <td>NaN</td>\n",
       "      <td>NaN</td>\n",
       "      <td>NaN</td>\n",
       "      <td>NaN</td>\n",
       "      <td>NaN</td>\n",
       "      <td>NaN</td>\n",
       "      <td>99.0</td>\n",
       "      <td>99th</td>\n",
       "      <td>99.0</td>\n",
       "      <td>99th</td>\n",
       "      <td>NaN</td>\n",
       "      <td>NaN</td>\n",
       "      <td>NaN</td>\n",
       "      <td>NaN</td>\n",
       "      <td>NaN</td>\n",
       "      <td>NaN</td>\n",
       "      <td>NaN</td>\n",
       "      <td>NaN</td>\n",
       "      <td>NaN</td>\n",
       "      <td>NaN</td>\n",
       "      <td>99.0</td>\n",
       "      <td>99th</td>\n",
       "      <td>99.0</td>\n",
       "      <td>99th</td>\n",
       "      <td>NEUTRAL</td>\n",
       "      <td>NEUTRAL</td>\n",
       "      <td>STRONG</td>\n",
       "      <td>NEUTRAL</td>\n",
       "      <td>NEUTRAL</td>\n",
       "      <td>WEAK</td>\n",
       "      <td>89.3</td>\n",
       "      <td>94.8</td>\n",
       "      <td>39.8</td>\n",
       "      <td>41.982961</td>\n",
       "      <td>-87.791547</td>\n",
       "    </tr>\n",
       "    <tr>\n",
       "      <th>3</th>\n",
       "      <td>610,588</td>\n",
       "      <td>RICHARDSON</td>\n",
       "      <td>Neighborhood</td>\n",
       "      <td>MS</td>\n",
       "      <td>60,629</td>\n",
       "      <td>AVERAGE</td>\n",
       "      <td>65.0</td>\n",
       "      <td>43.0</td>\n",
       "      <td>WELL ORGANIZED</td>\n",
       "      <td>STRONG</td>\n",
       "      <td>NaN</td>\n",
       "      <td>NaN</td>\n",
       "      <td>NaN</td>\n",
       "      <td>NaN</td>\n",
       "      <td>NaN</td>\n",
       "      <td>NaN</td>\n",
       "      <td>58.0</td>\n",
       "      <td>58th</td>\n",
       "      <td>56.0</td>\n",
       "      <td>56th</td>\n",
       "      <td>67.0</td>\n",
       "      <td>67th</td>\n",
       "      <td>75.0</td>\n",
       "      <td>75th</td>\n",
       "      <td>NaN</td>\n",
       "      <td>NaN</td>\n",
       "      <td>NaN</td>\n",
       "      <td>NaN</td>\n",
       "      <td>NaN</td>\n",
       "      <td>NaN</td>\n",
       "      <td>27.0</td>\n",
       "      <td>27th</td>\n",
       "      <td>26.0</td>\n",
       "      <td>26th</td>\n",
       "      <td>47.0</td>\n",
       "      <td>47th</td>\n",
       "      <td>71.0</td>\n",
       "      <td>71st</td>\n",
       "      <td>STRONG</td>\n",
       "      <td>WEAK</td>\n",
       "      <td>STRONG</td>\n",
       "      <td>STRONG</td>\n",
       "      <td>STRONG</td>\n",
       "      <td>VERY WEAK</td>\n",
       "      <td>94.8</td>\n",
       "      <td>95.4</td>\n",
       "      <td>15.0</td>\n",
       "      <td>41.783826</td>\n",
       "      <td>-87.725422</td>\n",
       "    </tr>\n",
       "    <tr>\n",
       "      <th>4</th>\n",
       "      <td>609,894</td>\n",
       "      <td>DRAKE</td>\n",
       "      <td>Neighborhood</td>\n",
       "      <td>ES</td>\n",
       "      <td>60,616</td>\n",
       "      <td>BELOW AVERAGE</td>\n",
       "      <td>17.0</td>\n",
       "      <td>8.0</td>\n",
       "      <td>WELL ORGANIZED</td>\n",
       "      <td>DEVELOPING</td>\n",
       "      <td>9.0</td>\n",
       "      <td>9th</td>\n",
       "      <td>5.0</td>\n",
       "      <td>5th</td>\n",
       "      <td>13.0</td>\n",
       "      <td>13th</td>\n",
       "      <td>6.0</td>\n",
       "      <td>6th</td>\n",
       "      <td>32.0</td>\n",
       "      <td>32nd</td>\n",
       "      <td>38.0</td>\n",
       "      <td>38th</td>\n",
       "      <td>51.0</td>\n",
       "      <td>51st</td>\n",
       "      <td>1.0</td>\n",
       "      <td>1st</td>\n",
       "      <td>8.0</td>\n",
       "      <td>8th</td>\n",
       "      <td>4.0</td>\n",
       "      <td>4th</td>\n",
       "      <td>4.0</td>\n",
       "      <td>4th</td>\n",
       "      <td>4.0</td>\n",
       "      <td>4th</td>\n",
       "      <td>15.0</td>\n",
       "      <td>15th</td>\n",
       "      <td>16.0</td>\n",
       "      <td>16th</td>\n",
       "      <td>VERY STRONG</td>\n",
       "      <td>VERY STRONG</td>\n",
       "      <td>VERY STRONG</td>\n",
       "      <td>STRONG</td>\n",
       "      <td>VERY STRONG</td>\n",
       "      <td>STRONG</td>\n",
       "      <td>92.3</td>\n",
       "      <td>94.6</td>\n",
       "      <td>39.4</td>\n",
       "      <td>41.844043</td>\n",
       "      <td>-87.628553</td>\n",
       "    </tr>\n",
       "  </tbody>\n",
       "</table>\n",
       "</div>"
      ],
      "text/plain": [
       "  school_id  short_name   school_type primary_category     zip  \\\n",
       "0   609,869    LANGFORD  Neighborhood               ES  60,636   \n",
       "1   610,225    WHISTLER  Neighborhood               ES  60,643   \n",
       "2   609,734     TAFT HS  Neighborhood               HS  60,631   \n",
       "3   610,588  RICHARDSON  Neighborhood               MS  60,629   \n",
       "4   609,894       DRAKE  Neighborhood               ES  60,616   \n",
       "\n",
       "  student_attainment_rating  attainment_reading_pct_es  \\\n",
       "0         FAR BELOW AVERAGE                        9.0   \n",
       "1             ABOVE AVERAGE                       89.0   \n",
       "2          MET EXPECTATIONS                       99.0   \n",
       "3                   AVERAGE                       65.0   \n",
       "4             BELOW AVERAGE                       17.0   \n",
       "\n",
       "   attainment_math_pct_es culture_climate_rating  \\\n",
       "0                     6.0      NOT YET ORGANIZED   \n",
       "1                    72.0         WELL ORGANIZED   \n",
       "2                    99.0              ORGANIZED   \n",
       "3                    43.0         WELL ORGANIZED   \n",
       "4                     8.0         WELL ORGANIZED   \n",
       "\n",
       "  creative_school_certification  nwea_reading_attainment_grade_2_pct  \\\n",
       "0                     EXCELLING                                  1.0   \n",
       "1                        STRONG                                 95.0   \n",
       "2                     EXCELLING                                  NaN   \n",
       "3                        STRONG                                  NaN   \n",
       "4                    DEVELOPING                                  9.0   \n",
       "\n",
       "  nwea_reading_attainment_grade_2_lbl  nwea_reading_attainment_grade_3_pct  \\\n",
       "0                                 1st                                  4.0   \n",
       "1                                95th                                 65.0   \n",
       "2                                 NaN                                  NaN   \n",
       "3                                 NaN                                  NaN   \n",
       "4                                 9th                                  5.0   \n",
       "\n",
       "  nwea_reading_attainment_grade_3_lbl  nwea_reading_attainment_grade_4_pct  \\\n",
       "0                                 4th                                 19.0   \n",
       "1                                65th                                 86.0   \n",
       "2                                 NaN                                  NaN   \n",
       "3                                 NaN                                  NaN   \n",
       "4                                 5th                                 13.0   \n",
       "\n",
       "  nwea_reading_attainment_grade_4_lbl  nwea_reading_attainment_grade_5_pct  \\\n",
       "0                                19th                                  8.0   \n",
       "1                                86th                                 98.0   \n",
       "2                                 NaN                                  NaN   \n",
       "3                                 NaN                                 58.0   \n",
       "4                                13th                                  6.0   \n",
       "\n",
       "  nwea_reading_attainment_grade_5_lbl  nwea_reading_attainment_grade_6_pct  \\\n",
       "0                                 8th                                 12.0   \n",
       "1                                98th                                 76.0   \n",
       "2                                 NaN                                  NaN   \n",
       "3                                58th                                 56.0   \n",
       "4                                 6th                                 32.0   \n",
       "\n",
       "  nwea_reading_attainment_grade_6_lbl  nwea_reading_attainment_grade_7_pct  \\\n",
       "0                                12th                                 41.0   \n",
       "1                                76th                                 76.0   \n",
       "2                                 NaN                                 99.0   \n",
       "3                                56th                                 67.0   \n",
       "4                                32nd                                 38.0   \n",
       "\n",
       "  nwea_reading_attainment_grade_7_lbl  nwea_reading_attainment_grade_8_pct  \\\n",
       "0                                41st                                 11.0   \n",
       "1                                76th                                 96.0   \n",
       "2                                99th                                 99.0   \n",
       "3                                67th                                 75.0   \n",
       "4                                38th                                 51.0   \n",
       "\n",
       "  nwea_reading_attainment_grade_8_lbl  nwea_math_attainment_grade_2_pct  \\\n",
       "0                                11th                               1.0   \n",
       "1                                96th                              97.0   \n",
       "2                                99th                               NaN   \n",
       "3                                75th                               NaN   \n",
       "4                                51st                               1.0   \n",
       "\n",
       "  nwea_math_attainment_grade_2_lbl  nwea_math_attainment_grade_3_pct  \\\n",
       "0                              1st                               2.0   \n",
       "1                             97th                              59.0   \n",
       "2                              NaN                               NaN   \n",
       "3                              NaN                               NaN   \n",
       "4                              1st                               8.0   \n",
       "\n",
       "  nwea_math_attainment_grade_3_lbl  nwea_math_attainment_grade_4_pct  \\\n",
       "0                              2nd                               7.0   \n",
       "1                             59th                              42.0   \n",
       "2                              NaN                               NaN   \n",
       "3                              NaN                               NaN   \n",
       "4                              8th                               4.0   \n",
       "\n",
       "  nwea_math_attainment_grade_4_lbl  nwea_math_attainment_grade_5_pct  \\\n",
       "0                              7th                               5.0   \n",
       "1                             42nd                              52.0   \n",
       "2                              NaN                               NaN   \n",
       "3                              NaN                              27.0   \n",
       "4                              4th                               4.0   \n",
       "\n",
       "  nwea_math_attainment_grade_5_lbl  nwea_math_attainment_grade_6_pct  \\\n",
       "0                              5th                              10.0   \n",
       "1                             52nd                              68.0   \n",
       "2                              NaN                               NaN   \n",
       "3                             27th                              26.0   \n",
       "4                              4th                               4.0   \n",
       "\n",
       "  nwea_math_attainment_grade_6_lbl  nwea_math_attainment_grade_7_pct  \\\n",
       "0                             10th                              28.0   \n",
       "1                             68th                              73.0   \n",
       "2                              NaN                              99.0   \n",
       "3                             26th                              47.0   \n",
       "4                              4th                              15.0   \n",
       "\n",
       "  nwea_math_attainment_grade_7_lbl  nwea_math_attainment_grade_8_pct  \\\n",
       "0                             28th                              10.0   \n",
       "1                             73rd                              90.0   \n",
       "2                             99th                              99.0   \n",
       "3                             47th                              71.0   \n",
       "4                             15th                              16.0   \n",
       "\n",
       "  nwea_math_attainment_grade_8_lbl school_survey_involved_families  \\\n",
       "0                             10th                            WEAK   \n",
       "1                             90th                          STRONG   \n",
       "2                             99th                         NEUTRAL   \n",
       "3                             71st                          STRONG   \n",
       "4                             16th                     VERY STRONG   \n",
       "\n",
       "  school_survey_supportive_environment school_survey_ambitious_instruction  \\\n",
       "0                            VERY WEAK                             NEUTRAL   \n",
       "1                               STRONG                         VERY STRONG   \n",
       "2                              NEUTRAL                              STRONG   \n",
       "3                                 WEAK                              STRONG   \n",
       "4                          VERY STRONG                         VERY STRONG   \n",
       "\n",
       "  school_survey_effective_leaders school_survey_collaborative_teachers  \\\n",
       "0                            WEAK                              NEUTRAL   \n",
       "1                          STRONG                               STRONG   \n",
       "2                         NEUTRAL                              NEUTRAL   \n",
       "3                          STRONG                               STRONG   \n",
       "4                          STRONG                          VERY STRONG   \n",
       "\n",
       "  school_survey_safety  student_attendance_year_1_pct  \\\n",
       "0            VERY WEAK                           93.1   \n",
       "1              NEUTRAL                           94.3   \n",
       "2                 WEAK                           89.3   \n",
       "3            VERY WEAK                           94.8   \n",
       "4               STRONG                           92.3   \n",
       "\n",
       "   teacher_attendance_year_1_pct  chronic_truancy_pct  school_latitude  \\\n",
       "0                           94.2                 62.6        41.784681   \n",
       "1                           94.8                 22.4        41.683907   \n",
       "2                           94.8                 39.8        41.982961   \n",
       "3                           95.4                 15.0        41.783826   \n",
       "4                           94.6                 39.4        41.844043   \n",
       "\n",
       "   school_longitude  \n",
       "0        -87.657169  \n",
       "1        -87.655384  \n",
       "2        -87.791547  \n",
       "3        -87.725422  \n",
       "4        -87.628553  "
      ]
     },
     "execution_count": 9,
     "metadata": {},
     "output_type": "execute_result"
    }
   ],
   "source": [
    "data.head(5)"
   ]
  },
  {
   "cell_type": "code",
   "execution_count": 10,
   "metadata": {},
   "outputs": [],
   "source": [
    "columns_to_drop = [\n",
    "    'legacy_unit_id', 'finance_id', 'short_name', 'long_name',\n",
    "    'primary_category', 'is_high_school', 'is_middle_school',\n",
    "    'is_elementary_school', 'is_pre_school', 'summary',\n",
    "    'administrator_title', 'administrator', 'secondary_contact_title',\n",
    "    'secondary_contact', 'address', 'city', 'state', 'zip', 'phone',\n",
    "    'fax', 'cps_school_profile', 'website', 'facebook', 'twitter',\n",
    "    'youtube', 'pinterest', 'attendance_boundaries',\n",
    "    'grades_offered_all', 'grades_offered', 'student_count_asian_pacific_islander',\n",
    "    'student_count_multi', 'student_count_hawaiian_pacific_islander',\n",
    "    'student_count_ethnicity_not_available', 'statistics_description',\n",
    "    'demographic_description', 'dress_code', 'prek_school_day',\n",
    "    'kindergarten_school_day', 'school_hours', 'freshman_start_end_time',\n",
    "    'after_school_hours', 'earliest_drop_off_time', 'classroom_languages',\n",
    "    'bilingual_services', 'refugee_services', 'title_1_eligible',\n",
    "    'preschool_inclusive', 'preschool_instructional', 'significantly_modified',\n",
    "    'hard_of_hearing', 'visual_impairments', 'transportation_bus', \n",
    "    'transportation_el', 'transportation_metra', 'school_latitude', \n",
    "    'school_longitude', 'average_act_school', 'mean_act',\n",
    "    'college_enrollment_rate_school', 'college_enrollment_rate_mean',\n",
    "    'graduation_rate_school', 'graduation_rate_mean', 'overall_rating',\n",
    "    'rating_status', 'rating_statement', 'classification_description',\n",
    "    'school_year', 'third_contact_title', 'third_contact_name',\n",
    "    'fourth_contact_title', 'fourth_contact_name', 'fifth_contact_title',\n",
    "    'fifth_contact_name', 'sixth_contact_title', 'sixth_contact_name',\n",
    "    'seventh_contact_title', 'seventh_contact_name', 'network',\n",
    "    'is_gocps_participant', 'is_gocps_prek', 'is_gocps_elementary',\n",
    "    'is_gocps_high_school', 'open_for_enrollment_date', \n",
    "    'closed_for_enrollment_date']\n",
    "    \n",
    "#drop the columns above from the dataset\n",
    "data2.drop(columns_to_drop, axis=1, inplace=True)    "
   ]
  },
  {
   "cell_type": "code",
   "execution_count": 11,
   "metadata": {},
   "outputs": [
    {
     "data": {
      "text/html": [
       "<div>\n",
       "<style scoped>\n",
       "    .dataframe tbody tr th:only-of-type {\n",
       "        vertical-align: middle;\n",
       "    }\n",
       "\n",
       "    .dataframe tbody tr th {\n",
       "        vertical-align: top;\n",
       "    }\n",
       "\n",
       "    .dataframe thead th {\n",
       "        text-align: right;\n",
       "    }\n",
       "</style>\n",
       "<table border=\"1\" class=\"dataframe\">\n",
       "  <thead>\n",
       "    <tr style=\"text-align: right;\">\n",
       "      <th></th>\n",
       "      <th>school_id</th>\n",
       "      <th>student_count_total</th>\n",
       "      <th>student_count_low_income</th>\n",
       "      <th>student_count_special_ed</th>\n",
       "      <th>student_count_english_learners</th>\n",
       "      <th>student_count_black</th>\n",
       "      <th>student_count_hispanic</th>\n",
       "      <th>student_count_white</th>\n",
       "      <th>student_count_asian</th>\n",
       "      <th>student_count_native_american</th>\n",
       "      <th>student_count_other_ethnicity</th>\n",
       "    </tr>\n",
       "  </thead>\n",
       "  <tbody>\n",
       "    <tr>\n",
       "      <th>0</th>\n",
       "      <td>610,334</td>\n",
       "      <td>265</td>\n",
       "      <td>252</td>\n",
       "      <td>86</td>\n",
       "      <td>12</td>\n",
       "      <td>240</td>\n",
       "      <td>22</td>\n",
       "      <td>1</td>\n",
       "      <td>1</td>\n",
       "      <td>0</td>\n",
       "      <td>0</td>\n",
       "    </tr>\n",
       "    <tr>\n",
       "      <th>1</th>\n",
       "      <td>610,191</td>\n",
       "      <td>607</td>\n",
       "      <td>319</td>\n",
       "      <td>52</td>\n",
       "      <td>121</td>\n",
       "      <td>142</td>\n",
       "      <td>98</td>\n",
       "      <td>171</td>\n",
       "      <td>166</td>\n",
       "      <td>2</td>\n",
       "      <td>0</td>\n",
       "    </tr>\n",
       "    <tr>\n",
       "      <th>2</th>\n",
       "      <td>609,885</td>\n",
       "      <td>337</td>\n",
       "      <td>325</td>\n",
       "      <td>32</td>\n",
       "      <td>13</td>\n",
       "      <td>307</td>\n",
       "      <td>25</td>\n",
       "      <td>4</td>\n",
       "      <td>0</td>\n",
       "      <td>0</td>\n",
       "      <td>0</td>\n",
       "    </tr>\n",
       "    <tr>\n",
       "      <th>3</th>\n",
       "      <td>610,209</td>\n",
       "      <td>817</td>\n",
       "      <td>725</td>\n",
       "      <td>77</td>\n",
       "      <td>542</td>\n",
       "      <td>19</td>\n",
       "      <td>521</td>\n",
       "      <td>39</td>\n",
       "      <td>171</td>\n",
       "      <td>0</td>\n",
       "      <td>0</td>\n",
       "    </tr>\n",
       "    <tr>\n",
       "      <th>4</th>\n",
       "      <td>609,995</td>\n",
       "      <td>581</td>\n",
       "      <td>318</td>\n",
       "      <td>77</td>\n",
       "      <td>114</td>\n",
       "      <td>6</td>\n",
       "      <td>258</td>\n",
       "      <td>235</td>\n",
       "      <td>47</td>\n",
       "      <td>2</td>\n",
       "      <td>0</td>\n",
       "    </tr>\n",
       "  </tbody>\n",
       "</table>\n",
       "</div>"
      ],
      "text/plain": [
       "  school_id student_count_total student_count_low_income  \\\n",
       "0   610,334                 265                      252   \n",
       "1   610,191                 607                      319   \n",
       "2   609,885                 337                      325   \n",
       "3   610,209                 817                      725   \n",
       "4   609,995                 581                      318   \n",
       "\n",
       "   student_count_special_ed  student_count_english_learners  \\\n",
       "0                        86                              12   \n",
       "1                        52                             121   \n",
       "2                        32                              13   \n",
       "3                        77                             542   \n",
       "4                        77                             114   \n",
       "\n",
       "  student_count_black student_count_hispanic student_count_white  \\\n",
       "0                 240                     22                   1   \n",
       "1                 142                     98                 171   \n",
       "2                 307                     25                   4   \n",
       "3                  19                    521                  39   \n",
       "4                   6                    258                 235   \n",
       "\n",
       "  student_count_asian  student_count_native_american  \\\n",
       "0                   1                              0   \n",
       "1                 166                              2   \n",
       "2                   0                              0   \n",
       "3                 171                              0   \n",
       "4                  47                              2   \n",
       "\n",
       "   student_count_other_ethnicity  \n",
       "0                              0  \n",
       "1                              0  \n",
       "2                              0  \n",
       "3                              0  \n",
       "4                              0  "
      ]
     },
     "execution_count": 11,
     "metadata": {},
     "output_type": "execute_result"
    }
   ],
   "source": [
    "data2.head()"
   ]
  },
  {
   "cell_type": "code",
   "execution_count": 12,
   "metadata": {},
   "outputs": [],
   "source": [
    "#we realized that the NWEA math and reading scores are strongly correlated to the attainment\n",
    "#scores we are using in our model, so we are cutting them out in this separate section\n",
    "for col in data.columns:\n",
    "    if 'nwea_' in col:\n",
    "        data.drop(col,axis=1, inplace=True)"
   ]
  },
  {
   "cell_type": "code",
   "execution_count": 13,
   "metadata": {},
   "outputs": [],
   "source": [
    "#there is not sufficient data within high school data, so we will be dropping those rows \n",
    "#and looking at middle schools/elementary schools\n",
    "\n",
    "data = data[data['primary_category'] != 'HS']"
   ]
  },
  {
   "cell_type": "code",
   "execution_count": 14,
   "metadata": {},
   "outputs": [],
   "source": [
    "#these columns are being removed but held elsewhere in case we are interested in the specific\n",
    "#demographics that the data represents\n",
    "demo_cols = [\n",
    "    'short_name',\n",
    "    'Zip',\n",
    "    'School_Latitude',\n",
    "    'School_Longitude',\n",
    "    'Primary_Category' #this is useful for data separation, but not for actual modeling\n",
    "]\n",
    "\n",
    "demo_cols = lowercase_columns(demo_cols)\n",
    "\n",
    "data.drop(demo_cols, axis=1, inplace=True)"
   ]
  },
  {
   "cell_type": "code",
   "execution_count": 15,
   "metadata": {},
   "outputs": [],
   "source": [
    "# #student attainment rating column looks correlated to their attainment \n",
    "# #score of math and reading. we exclude this column for that reason\n",
    "# data.drop('student_attainment_rating', axis=1, inplace=True)\n",
    "# data.head(5)"
   ]
  },
  {
   "cell_type": "code",
   "execution_count": 16,
   "metadata": {},
   "outputs": [],
   "source": [
    "#for culture climate rating, we exclude rows that do not have enough data (5 rows)\n",
    "#we update remaining to ordinal values\n",
    "data = data[data['culture_climate_rating'] != 'NOT ENOUGH DATA']\n",
    "\n",
    "#we repeat this ideology for other rows that specify insufficient data in their respective cols\n",
    "data = data[data['creative_school_certification'] != 'INCOMPLETE DATA']\n",
    "data = data[data['school_survey_involved_families'] != 'NOT ENOUGH DATA']\n",
    "\n",
    "data = data[data['school_survey_supportive_environment'] != 'NOT ENOUGH DATA']\n",
    "data = data[data['school_survey_ambitious_instruction'] != 'NOT ENOUGH DATA']\n",
    "data = data[data['school_survey_effective_leaders'] != 'NOT ENOUGH DATA']\n",
    "data = data[data['school_survey_collaborative_teachers'] != 'NOT ENOUGH DATA']\n",
    "data = data[data['school_survey_safety'] != 'NOT ENOUGH DATA']"
   ]
  },
  {
   "cell_type": "code",
   "execution_count": 17,
   "metadata": {},
   "outputs": [],
   "source": [
    "#fit the labels into numeric \n",
    "mapper = {'NOT YET ORGANIZED': 0, \n",
    "          'PARTIALLY ORGANIZED' : 1, \n",
    "          'ORGANIZED' : 2,\n",
    "          'MODERATELY ORGANIZED': 3, \n",
    "          'WELL ORGANIZED': 4}\n",
    "\n",
    "#update the column to be numeric. may cause warning, ignore. printing data.head() will show \n",
    "#the update goes through and not on a copy\n",
    "data['culture_climate_rating'] = data['culture_climate_rating'].replace(mapper)"
   ]
  },
  {
   "cell_type": "code",
   "execution_count": 18,
   "metadata": {},
   "outputs": [],
   "source": [
    "# data['creative_school_certification'].unique()\n",
    "#fit the labels into numeric \n",
    "mapper = {'EMERGING' : 0,\n",
    "          'DEVELOPING' : 1,\n",
    "          'STRONG' : 2,\n",
    "          'EXCELLING' : 3}\n",
    "\n",
    "#update the column to be numeric. may cause warning, ignore. printing data.head() will show \n",
    "#the update goes through and not on a copy\n",
    "data['creative_school_certification'] = data['creative_school_certification'].replace(mapper)"
   ]
  },
  {
   "cell_type": "code",
   "execution_count": 19,
   "metadata": {},
   "outputs": [],
   "source": [
    "data['school_survey_involved_families'].unique()\n",
    "\n",
    "mapper = {'VERY WEAK' : 0,\n",
    "          'WEAK' : 1,\n",
    "          'NEUTRAL' : 2,\n",
    "          'STRONG': 3,\n",
    "          'VERY STRONG': 4}\n",
    "\n",
    "#update the column to be numeric. may cause warning, ignore. printing data.head() will show \n",
    "#the update goes through and not on a copy\n",
    "data['school_survey_involved_families'] = data['school_survey_involved_families'].replace(mapper)\n",
    "data['school_survey_supportive_environment'] = data['school_survey_supportive_environment'].replace(mapper)\n",
    "data['school_survey_ambitious_instruction'] = data['school_survey_ambitious_instruction'].replace(mapper)\n",
    "data['school_survey_effective_leaders'] = data['school_survey_effective_leaders'].replace(mapper)\n",
    "data['school_survey_collaborative_teachers'] = data['school_survey_collaborative_teachers'].replace(mapper)\n",
    "data['school_survey_safety'] = data['school_survey_safety'].replace(mapper)"
   ]
  },
  {
   "cell_type": "code",
   "execution_count": 20,
   "metadata": {},
   "outputs": [],
   "source": [
    "#teacher_attendance_year_1_pct has NA values, so we work to interpolate the values\n",
    "data.interpolate(limit_direction='backward', inplace=True)\n",
    "data.interpolate(method='linear', inplace=True)"
   ]
  },
  {
   "cell_type": "code",
   "execution_count": 21,
   "metadata": {},
   "outputs": [],
   "source": [
    "#Merging two data sets\n",
    "merged_df = data.merge(data2, how = 'inner', on = ['school_id'])\n",
    "\n",
    "#Dropping 'school_id' since the merging is done.\n",
    "merged_df.drop('school_id', axis=1, inplace=True)"
   ]
  },
  {
   "cell_type": "code",
   "execution_count": 22,
   "metadata": {},
   "outputs": [
    {
     "name": "stdout",
     "output_type": "stream",
     "text": [
      "rows: 429\n",
      "columns: 25\n"
     ]
    },
    {
     "data": {
      "text/plain": [
       "Index(['school_type', 'student_attainment_rating', 'attainment_reading_pct_es',\n",
       "       'attainment_math_pct_es', 'culture_climate_rating',\n",
       "       'creative_school_certification', 'school_survey_involved_families',\n",
       "       'school_survey_supportive_environment',\n",
       "       'school_survey_ambitious_instruction',\n",
       "       'school_survey_effective_leaders',\n",
       "       'school_survey_collaborative_teachers', 'school_survey_safety',\n",
       "       'student_attendance_year_1_pct', 'teacher_attendance_year_1_pct',\n",
       "       'chronic_truancy_pct', 'student_count_total',\n",
       "       'student_count_low_income', 'student_count_special_ed',\n",
       "       'student_count_english_learners', 'student_count_black',\n",
       "       'student_count_hispanic', 'student_count_white', 'student_count_asian',\n",
       "       'student_count_native_american', 'student_count_other_ethnicity'],\n",
       "      dtype='object')"
      ]
     },
     "execution_count": 22,
     "metadata": {},
     "output_type": "execute_result"
    }
   ],
   "source": [
    "print(\"rows:\",len(merged_df.index))\n",
    "print(\"columns:\",len(merged_df.columns))\n",
    "\n",
    "merged_df.columns"
   ]
  },
  {
   "cell_type": "code",
   "execution_count": 23,
   "metadata": {},
   "outputs": [
    {
     "data": {
      "text/plain": [
       "array(['FAR BELOW AVERAGE', 'ABOVE AVERAGE', 'AVERAGE', 'BELOW AVERAGE',\n",
       "       'FAR ABOVE AVERAGE'], dtype=object)"
      ]
     },
     "execution_count": 23,
     "metadata": {},
     "output_type": "execute_result"
    }
   ],
   "source": [
    "merged_df.student_attainment_rating.unique()"
   ]
  },
  {
   "cell_type": "code",
   "execution_count": 24,
   "metadata": {},
   "outputs": [
    {
     "data": {
      "text/plain": [
       "array(['BELOW AVERAGE', 'ABOVE AVERAGE', 'AVERAGE'], dtype=object)"
      ]
     },
     "execution_count": 24,
     "metadata": {},
     "output_type": "execute_result"
    }
   ],
   "source": [
    "# Replacing'FAR BELOW AVERAGE' as 'BELOW AVERAGE.' and\n",
    "# 'FAR ABOVE AVERAGE' as 'ABOVE AVERAGE.'\n",
    "mapper = {'FAR BELOW AVERAGE' : 'BELOW AVERAGE',\n",
    "          'FAR ABOVE AVERAGE' : 'ABOVE AVERAGE'}\n",
    "merged_df['student_attainment_rating'] = merged_df['student_attainment_rating'].replace(mapper)\n",
    "\n",
    "merged_df.student_attainment_rating.unique()"
   ]
  },
  {
   "cell_type": "code",
   "execution_count": 25,
   "metadata": {},
   "outputs": [],
   "source": [
    "#fit the labels into numeric \n",
    "mapper = {'BELOW AVERAGE' : 0, \n",
    "          'AVERAGE' : 1,\n",
    "          'ABOVE AVERAGE' : 2}\n",
    "\n",
    "#update the column to be numeric. may cause warning, ignore. printing data.head() will show \n",
    "#the update goes through and not on a copy\n",
    "merged_df['student_attainment_rating'] = merged_df['student_attainment_rating'].replace(mapper)"
   ]
  },
  {
   "cell_type": "code",
   "execution_count": 26,
   "metadata": {},
   "outputs": [
    {
     "name": "stdout",
     "output_type": "stream",
     "text": [
      "<class 'pandas.core.frame.DataFrame'>\n",
      "Int64Index: 429 entries, 0 to 428\n",
      "Data columns (total 25 columns):\n",
      "school_type                             429 non-null object\n",
      "student_attainment_rating               429 non-null int64\n",
      "attainment_reading_pct_es               429 non-null float64\n",
      "attainment_math_pct_es                  429 non-null float64\n",
      "culture_climate_rating                  429 non-null int64\n",
      "creative_school_certification           429 non-null int64\n",
      "school_survey_involved_families         429 non-null int64\n",
      "school_survey_supportive_environment    429 non-null int64\n",
      "school_survey_ambitious_instruction     429 non-null int64\n",
      "school_survey_effective_leaders         429 non-null int64\n",
      "school_survey_collaborative_teachers    429 non-null int64\n",
      "school_survey_safety                    429 non-null int64\n",
      "student_attendance_year_1_pct           429 non-null float64\n",
      "teacher_attendance_year_1_pct           429 non-null float64\n",
      "chronic_truancy_pct                     429 non-null float64\n",
      "student_count_total                     429 non-null object\n",
      "student_count_low_income                429 non-null object\n",
      "student_count_special_ed                429 non-null int64\n",
      "student_count_english_learners          429 non-null int64\n",
      "student_count_black                     429 non-null object\n",
      "student_count_hispanic                  429 non-null object\n",
      "student_count_white                     429 non-null object\n",
      "student_count_asian                     429 non-null object\n",
      "student_count_native_american           429 non-null int64\n",
      "student_count_other_ethnicity           429 non-null int64\n",
      "dtypes: float64(5), int64(13), object(7)\n",
      "memory usage: 87.1+ KB\n"
     ]
    }
   ],
   "source": [
    "merged_df.info()"
   ]
  },
  {
   "cell_type": "code",
   "execution_count": 27,
   "metadata": {},
   "outputs": [
    {
     "name": "stdout",
     "output_type": "stream",
     "text": [
      "<class 'pandas.core.frame.DataFrame'>\n",
      "Int64Index: 429 entries, 0 to 428\n",
      "Data columns (total 25 columns):\n",
      "school_type                             429 non-null object\n",
      "student_attainment_rating               429 non-null int64\n",
      "attainment_reading_pct_es               429 non-null float64\n",
      "attainment_math_pct_es                  429 non-null float64\n",
      "culture_climate_rating                  429 non-null int64\n",
      "creative_school_certification           429 non-null int64\n",
      "school_survey_involved_families         429 non-null int64\n",
      "school_survey_supportive_environment    429 non-null int64\n",
      "school_survey_ambitious_instruction     429 non-null int64\n",
      "school_survey_effective_leaders         429 non-null int64\n",
      "school_survey_collaborative_teachers    429 non-null int64\n",
      "school_survey_safety                    429 non-null int64\n",
      "student_attendance_year_1_pct           429 non-null float64\n",
      "teacher_attendance_year_1_pct           429 non-null float64\n",
      "chronic_truancy_pct                     429 non-null float64\n",
      "student_count_total                     429 non-null int64\n",
      "student_count_low_income                429 non-null int64\n",
      "student_count_special_ed                429 non-null int64\n",
      "student_count_english_learners          429 non-null int64\n",
      "student_count_black                     429 non-null int64\n",
      "student_count_hispanic                  429 non-null int64\n",
      "student_count_white                     429 non-null int64\n",
      "student_count_asian                     429 non-null int64\n",
      "student_count_native_american           429 non-null int64\n",
      "student_count_other_ethnicity           429 non-null int64\n",
      "dtypes: float64(5), int64(19), object(1)\n",
      "memory usage: 87.1+ KB\n"
     ]
    }
   ],
   "source": [
    "#Converting columns of type object to type int\n",
    "merged_df['student_count_total'] = merged_df['student_count_total'].str.replace(',', '').astype(int)\n",
    "merged_df['student_count_low_income'] = merged_df['student_count_low_income'].str.replace(',', '').astype(int)\n",
    "merged_df['student_count_black'] = merged_df['student_count_black'].str.replace(',', '').astype(int)\n",
    "merged_df['student_count_hispanic'] = merged_df['student_count_hispanic'].str.replace(',', '').astype(int)\n",
    "merged_df['student_count_white'] = merged_df['student_count_white'].str.replace(',', '').astype(int)\n",
    "merged_df['student_count_asian'] = merged_df['student_count_asian'].str.replace(',', '').astype(int)\n",
    "\n",
    "merged_df.info()"
   ]
  },
  {
   "cell_type": "code",
   "execution_count": 28,
   "metadata": {},
   "outputs": [
    {
     "data": {
      "text/plain": [
       "array(['Neighborhood', 'Magnet', 'Charter', 'Regional gifted center',\n",
       "       'Small', 'Classical', 'Contract'], dtype=object)"
      ]
     },
     "execution_count": 28,
     "metadata": {},
     "output_type": "execute_result"
    }
   ],
   "source": [
    "merged_df.school_type.unique()"
   ]
  },
  {
   "cell_type": "code",
   "execution_count": 29,
   "metadata": {},
   "outputs": [
    {
     "data": {
      "text/plain": [
       "[Text(0, 0, 'Neighborhood'),\n",
       " Text(0, 0, 'Magnet'),\n",
       " Text(0, 0, 'Charter'),\n",
       " Text(0, 0, 'Regional gifted center'),\n",
       " Text(0, 0, 'Small'),\n",
       " Text(0, 0, 'Classical'),\n",
       " Text(0, 0, 'Contract')]"
      ]
     },
     "execution_count": 29,
     "metadata": {},
     "output_type": "execute_result"
    },
    {
     "data": {
      "image/png": "[encoded data removed]",
      "text/plain": [
       "<Figure size 432x288 with 1 Axes>"
      ]
     },
     "metadata": {
      "needs_background": "light"
     },
     "output_type": "display_data"
    }
   ],
   "source": [
    "# Making boxplots for the reading/math percentiles by type of school (Data Exploration)\n",
    "ax = sns.boxplot(x = 'school_type', y = 'attainment_reading_pct_es', data = merged_df, whis = 10)\n",
    "ax.set(title = 'Reading Attainment by School Type', xlabel = 'School Type', ylabel = 'Reading Percentiles')\n",
    "ax.set_xticklabels(ax.get_xticklabels(), rotation=40, ha=\"right\")"
   ]
  },
  {
   "cell_type": "code",
   "execution_count": 30,
   "metadata": {},
   "outputs": [
    {
     "data": {
      "text/plain": [
       "[Text(0, 0, 'Neighborhood'),\n",
       " Text(0, 0, 'Magnet'),\n",
       " Text(0, 0, 'Charter'),\n",
       " Text(0, 0, 'Regional gifted center'),\n",
       " Text(0, 0, 'Small'),\n",
       " Text(0, 0, 'Classical'),\n",
       " Text(0, 0, 'Contract')]"
      ]
     },
     "execution_count": 30,
     "metadata": {},
     "output_type": "execute_result"
    },
    {
     "data": {
      "image/png": "[encoded data removed]",
      "text/plain": [
       "<Figure size 432x288 with 1 Axes>"
      ]
     },
     "metadata": {
      "needs_background": "light"
     },
     "output_type": "display_data"
    }
   ],
   "source": [
    "ax = sns.boxplot(x = 'school_type', y = 'attainment_math_pct_es', data = merged_df, whis = 10)\n",
    "ax.set(title = 'Math Attainment by School Type', xlabel = 'School Type', ylabel = 'Math Percentiles')\n",
    "ax.set_xticklabels(ax.get_xticklabels(), rotation=40, ha=\"right\")"
   ]
  },
  {
   "cell_type": "code",
   "execution_count": 31,
   "metadata": {},
   "outputs": [
    {
     "data": {
      "text/plain": [
       "array(['neighborhood', 'magnet', 'charter'], dtype=object)"
      ]
     },
     "execution_count": 31,
     "metadata": {},
     "output_type": "execute_result"
    }
   ],
   "source": [
    "#Reducing from 7 labels to 3 labels by grouping similar labels in column 'school_type'.\n",
    "#This is done to reduce the dimensionality of the dataset since 'school_type' is a nominal categorical variable.\n",
    "mapper = {'Contract' : 'neighborhood', \n",
    "          'Neighborhood' : 'neighborhood',\n",
    "          'Magnet' : 'magnet',\n",
    "          'Regional gifted center' : 'magnet',\n",
    "          'Classical' : 'magnet',\n",
    "          'Charter' : 'charter',\n",
    "          'Small' : 'charter'}\n",
    "\n",
    "merged_df['school_type'] = merged_df['school_type'].replace(mapper)\n",
    "merged_df.school_type.unique()"
   ]
  },
  {
   "cell_type": "code",
   "execution_count": 32,
   "metadata": {},
   "outputs": [
    {
     "name": "stdout",
     "output_type": "stream",
     "text": [
      "rows: 429\n",
      "columns: 26\n"
     ]
    },
    {
     "data": {
      "text/html": [
       "<div>\n",
       "<style scoped>\n",
       "    .dataframe tbody tr th:only-of-type {\n",
       "        vertical-align: middle;\n",
       "    }\n",
       "\n",
       "    .dataframe tbody tr th {\n",
       "        vertical-align: top;\n",
       "    }\n",
       "\n",
       "    .dataframe thead th {\n",
       "        text-align: right;\n",
       "    }\n",
       "</style>\n",
       "<table border=\"1\" class=\"dataframe\">\n",
       "  <thead>\n",
       "    <tr style=\"text-align: right;\">\n",
       "      <th></th>\n",
       "      <th>magnet</th>\n",
       "      <th>neighborhood</th>\n",
       "      <th>student_attainment_rating</th>\n",
       "      <th>attainment_reading_pct_es</th>\n",
       "      <th>attainment_math_pct_es</th>\n",
       "      <th>culture_climate_rating</th>\n",
       "      <th>creative_school_certification</th>\n",
       "      <th>school_survey_involved_families</th>\n",
       "      <th>school_survey_supportive_environment</th>\n",
       "      <th>school_survey_ambitious_instruction</th>\n",
       "      <th>school_survey_effective_leaders</th>\n",
       "      <th>school_survey_collaborative_teachers</th>\n",
       "      <th>school_survey_safety</th>\n",
       "      <th>student_attendance_year_1_pct</th>\n",
       "      <th>teacher_attendance_year_1_pct</th>\n",
       "      <th>chronic_truancy_pct</th>\n",
       "      <th>student_count_total</th>\n",
       "      <th>student_count_low_income</th>\n",
       "      <th>student_count_special_ed</th>\n",
       "      <th>student_count_english_learners</th>\n",
       "      <th>student_count_black</th>\n",
       "      <th>student_count_hispanic</th>\n",
       "      <th>student_count_white</th>\n",
       "      <th>student_count_asian</th>\n",
       "      <th>student_count_native_american</th>\n",
       "      <th>student_count_other_ethnicity</th>\n",
       "    </tr>\n",
       "  </thead>\n",
       "  <tbody>\n",
       "    <tr>\n",
       "      <th>0</th>\n",
       "      <td>0</td>\n",
       "      <td>1</td>\n",
       "      <td>0</td>\n",
       "      <td>9.0</td>\n",
       "      <td>6.0</td>\n",
       "      <td>0</td>\n",
       "      <td>3</td>\n",
       "      <td>1</td>\n",
       "      <td>0</td>\n",
       "      <td>2</td>\n",
       "      <td>1</td>\n",
       "      <td>2</td>\n",
       "      <td>0</td>\n",
       "      <td>93.1</td>\n",
       "      <td>94.2</td>\n",
       "      <td>62.6</td>\n",
       "      <td>224</td>\n",
       "      <td>220</td>\n",
       "      <td>24</td>\n",
       "      <td>3</td>\n",
       "      <td>212</td>\n",
       "      <td>12</td>\n",
       "      <td>0</td>\n",
       "      <td>0</td>\n",
       "      <td>0</td>\n",
       "      <td>0</td>\n",
       "    </tr>\n",
       "    <tr>\n",
       "      <th>1</th>\n",
       "      <td>0</td>\n",
       "      <td>1</td>\n",
       "      <td>2</td>\n",
       "      <td>89.0</td>\n",
       "      <td>72.0</td>\n",
       "      <td>4</td>\n",
       "      <td>2</td>\n",
       "      <td>3</td>\n",
       "      <td>3</td>\n",
       "      <td>4</td>\n",
       "      <td>3</td>\n",
       "      <td>3</td>\n",
       "      <td>2</td>\n",
       "      <td>94.3</td>\n",
       "      <td>94.8</td>\n",
       "      <td>22.4</td>\n",
       "      <td>336</td>\n",
       "      <td>293</td>\n",
       "      <td>79</td>\n",
       "      <td>0</td>\n",
       "      <td>331</td>\n",
       "      <td>3</td>\n",
       "      <td>1</td>\n",
       "      <td>0</td>\n",
       "      <td>0</td>\n",
       "      <td>0</td>\n",
       "    </tr>\n",
       "    <tr>\n",
       "      <th>2</th>\n",
       "      <td>0</td>\n",
       "      <td>1</td>\n",
       "      <td>1</td>\n",
       "      <td>65.0</td>\n",
       "      <td>43.0</td>\n",
       "      <td>4</td>\n",
       "      <td>2</td>\n",
       "      <td>3</td>\n",
       "      <td>1</td>\n",
       "      <td>3</td>\n",
       "      <td>3</td>\n",
       "      <td>3</td>\n",
       "      <td>0</td>\n",
       "      <td>94.8</td>\n",
       "      <td>95.4</td>\n",
       "      <td>15.0</td>\n",
       "      <td>1133</td>\n",
       "      <td>1090</td>\n",
       "      <td>118</td>\n",
       "      <td>297</td>\n",
       "      <td>9</td>\n",
       "      <td>1083</td>\n",
       "      <td>22</td>\n",
       "      <td>4</td>\n",
       "      <td>7</td>\n",
       "      <td>0</td>\n",
       "    </tr>\n",
       "    <tr>\n",
       "      <th>3</th>\n",
       "      <td>0</td>\n",
       "      <td>1</td>\n",
       "      <td>0</td>\n",
       "      <td>17.0</td>\n",
       "      <td>8.0</td>\n",
       "      <td>4</td>\n",
       "      <td>1</td>\n",
       "      <td>4</td>\n",
       "      <td>4</td>\n",
       "      <td>4</td>\n",
       "      <td>3</td>\n",
       "      <td>4</td>\n",
       "      <td>3</td>\n",
       "      <td>92.3</td>\n",
       "      <td>94.6</td>\n",
       "      <td>39.4</td>\n",
       "      <td>291</td>\n",
       "      <td>283</td>\n",
       "      <td>54</td>\n",
       "      <td>6</td>\n",
       "      <td>277</td>\n",
       "      <td>11</td>\n",
       "      <td>1</td>\n",
       "      <td>2</td>\n",
       "      <td>0</td>\n",
       "      <td>0</td>\n",
       "    </tr>\n",
       "    <tr>\n",
       "      <th>4</th>\n",
       "      <td>0</td>\n",
       "      <td>1</td>\n",
       "      <td>1</td>\n",
       "      <td>66.0</td>\n",
       "      <td>54.0</td>\n",
       "      <td>4</td>\n",
       "      <td>3</td>\n",
       "      <td>3</td>\n",
       "      <td>2</td>\n",
       "      <td>3</td>\n",
       "      <td>2</td>\n",
       "      <td>3</td>\n",
       "      <td>1</td>\n",
       "      <td>95.2</td>\n",
       "      <td>95.5</td>\n",
       "      <td>15.0</td>\n",
       "      <td>459</td>\n",
       "      <td>334</td>\n",
       "      <td>93</td>\n",
       "      <td>198</td>\n",
       "      <td>30</td>\n",
       "      <td>380</td>\n",
       "      <td>31</td>\n",
       "      <td>2</td>\n",
       "      <td>5</td>\n",
       "      <td>0</td>\n",
       "    </tr>\n",
       "  </tbody>\n",
       "</table>\n",
       "</div>"
      ],
      "text/plain": [
       "   magnet  neighborhood  student_attainment_rating  attainment_reading_pct_es  \\\n",
       "0       0             1                          0                        9.0   \n",
       "1       0             1                          2                       89.0   \n",
       "2       0             1                          1                       65.0   \n",
       "3       0             1                          0                       17.0   \n",
       "4       0             1                          1                       66.0   \n",
       "\n",
       "   attainment_math_pct_es  culture_climate_rating  \\\n",
       "0                     6.0                       0   \n",
       "1                    72.0                       4   \n",
       "2                    43.0                       4   \n",
       "3                     8.0                       4   \n",
       "4                    54.0                       4   \n",
       "\n",
       "   creative_school_certification  school_survey_involved_families  \\\n",
       "0                              3                                1   \n",
       "1                              2                                3   \n",
       "2                              2                                3   \n",
       "3                              1                                4   \n",
       "4                              3                                3   \n",
       "\n",
       "   school_survey_supportive_environment  school_survey_ambitious_instruction  \\\n",
       "0                                     0                                    2   \n",
       "1                                     3                                    4   \n",
       "2                                     1                                    3   \n",
       "3                                     4                                    4   \n",
       "4                                     2                                    3   \n",
       "\n",
       "   school_survey_effective_leaders  school_survey_collaborative_teachers  \\\n",
       "0                                1                                     2   \n",
       "1                                3                                     3   \n",
       "2                                3                                     3   \n",
       "3                                3                                     4   \n",
       "4                                2                                     3   \n",
       "\n",
       "   school_survey_safety  student_attendance_year_1_pct  \\\n",
       "0                     0                           93.1   \n",
       "1                     2                           94.3   \n",
       "2                     0                           94.8   \n",
       "3                     3                           92.3   \n",
       "4                     1                           95.2   \n",
       "\n",
       "   teacher_attendance_year_1_pct  chronic_truancy_pct  student_count_total  \\\n",
       "0                           94.2                 62.6                  224   \n",
       "1                           94.8                 22.4                  336   \n",
       "2                           95.4                 15.0                 1133   \n",
       "3                           94.6                 39.4                  291   \n",
       "4                           95.5                 15.0                  459   \n",
       "\n",
       "   student_count_low_income  student_count_special_ed  \\\n",
       "0                       220                        24   \n",
       "1                       293                        79   \n",
       "2                      1090                       118   \n",
       "3                       283                        54   \n",
       "4                       334                        93   \n",
       "\n",
       "   student_count_english_learners  student_count_black  \\\n",
       "0                               3                  212   \n",
       "1                               0                  331   \n",
       "2                             297                    9   \n",
       "3                               6                  277   \n",
       "4                             198                   30   \n",
       "\n",
       "   student_count_hispanic  student_count_white  student_count_asian  \\\n",
       "0                      12                    0                    0   \n",
       "1                       3                    1                    0   \n",
       "2                    1083                   22                    4   \n",
       "3                      11                    1                    2   \n",
       "4                     380                   31                    2   \n",
       "\n",
       "   student_count_native_american  student_count_other_ethnicity  \n",
       "0                              0                              0  \n",
       "1                              0                              0  \n",
       "2                              7                              0  \n",
       "3                              0                              0  \n",
       "4                              5                              0  "
      ]
     },
     "execution_count": 32,
     "metadata": {},
     "output_type": "execute_result"
    }
   ],
   "source": [
    "#Applying dummy coding scheme on 'school_type' since its a nominal categorical variable.\n",
    "gen_dummy_features = pd.get_dummies(merged_df['school_type'], drop_first = True)\n",
    "\n",
    "#Concatenating 'gen_dummy_features' with the dataset\n",
    "merged_df = pd.concat([gen_dummy_features, merged_df], axis = 1)\n",
    "\n",
    "#We can now drop 'school_type' column since its no longer required.\n",
    "merged_df.drop('school_type', axis=1, inplace=True)\n",
    "\n",
    "print(\"rows:\",len(merged_df.index)) \n",
    "print(\"columns:\",len(merged_df.columns))  #We now have 26 columns\n",
    "merged_df.head()"
   ]
  },
  {
   "cell_type": "code",
   "execution_count": 33,
   "metadata": {},
   "outputs": [
    {
     "data": {
      "text/plain": [
       "magnet                                  0\n",
       "neighborhood                            0\n",
       "student_attainment_rating               0\n",
       "attainment_reading_pct_es               0\n",
       "attainment_math_pct_es                  0\n",
       "culture_climate_rating                  0\n",
       "creative_school_certification           0\n",
       "school_survey_involved_families         0\n",
       "school_survey_supportive_environment    0\n",
       "school_survey_ambitious_instruction     0\n",
       "school_survey_effective_leaders         0\n",
       "school_survey_collaborative_teachers    0\n",
       "school_survey_safety                    0\n",
       "student_attendance_year_1_pct           0\n",
       "teacher_attendance_year_1_pct           0\n",
       "chronic_truancy_pct                     0\n",
       "student_count_total                     0\n",
       "student_count_low_income                0\n",
       "student_count_special_ed                0\n",
       "student_count_english_learners          0\n",
       "student_count_black                     0\n",
       "student_count_hispanic                  0\n",
       "student_count_white                     0\n",
       "student_count_asian                     0\n",
       "student_count_native_american           0\n",
       "student_count_other_ethnicity           0\n",
       "dtype: int64"
      ]
     },
     "execution_count": 33,
     "metadata": {},
     "output_type": "execute_result"
    }
   ],
   "source": [
    "merged_df.isna().sum()"
   ]
  },
  {
   "cell_type": "markdown",
   "metadata": {},
   "source": [
    "## Data Exploration"
   ]
  },
  {
   "cell_type": "code",
   "execution_count": 34,
   "metadata": {},
   "outputs": [],
   "source": [
    "# Reverse the mappings for the purposes of the graphs, then I'll change it back\n",
    "#fit the labels into strings\n",
    "mapper = {0 : 'BELOW AVERAGE', \n",
    "           1 : 'AVERAGE',\n",
    "          2 : 'ABOVE AVERAGE'}\n",
    "\n",
    "#update the column to be numeric. may cause warning, ignore. printing data.head() will show \n",
    "#the update goes through and not on a copy\n",
    "merged_df['student_attainment_rating'] = merged_df['student_attainment_rating'].replace(mapper)"
   ]
  },
  {
   "cell_type": "code",
   "execution_count": 35,
   "metadata": {},
   "outputs": [
    {
     "data": {
      "text/html": [
       "<div>\n",
       "<style scoped>\n",
       "    .dataframe tbody tr th:only-of-type {\n",
       "        vertical-align: middle;\n",
       "    }\n",
       "\n",
       "    .dataframe tbody tr th {\n",
       "        vertical-align: top;\n",
       "    }\n",
       "\n",
       "    .dataframe thead th {\n",
       "        text-align: right;\n",
       "    }\n",
       "</style>\n",
       "<table border=\"1\" class=\"dataframe\">\n",
       "  <thead>\n",
       "    <tr style=\"text-align: right;\">\n",
       "      <th></th>\n",
       "      <th>magnet</th>\n",
       "      <th>neighborhood</th>\n",
       "      <th>attainment_reading_pct_es</th>\n",
       "      <th>attainment_math_pct_es</th>\n",
       "      <th>culture_climate_rating</th>\n",
       "      <th>creative_school_certification</th>\n",
       "      <th>school_survey_involved_families</th>\n",
       "      <th>school_survey_supportive_environment</th>\n",
       "      <th>school_survey_ambitious_instruction</th>\n",
       "      <th>school_survey_effective_leaders</th>\n",
       "      <th>school_survey_collaborative_teachers</th>\n",
       "      <th>school_survey_safety</th>\n",
       "      <th>student_attendance_year_1_pct</th>\n",
       "      <th>teacher_attendance_year_1_pct</th>\n",
       "      <th>chronic_truancy_pct</th>\n",
       "      <th>student_count_total</th>\n",
       "      <th>student_count_low_income</th>\n",
       "      <th>student_count_special_ed</th>\n",
       "      <th>student_count_english_learners</th>\n",
       "      <th>student_count_black</th>\n",
       "      <th>student_count_hispanic</th>\n",
       "      <th>student_count_white</th>\n",
       "      <th>student_count_asian</th>\n",
       "      <th>student_count_native_american</th>\n",
       "      <th>student_count_other_ethnicity</th>\n",
       "    </tr>\n",
       "  </thead>\n",
       "  <tbody>\n",
       "    <tr>\n",
       "      <th>count</th>\n",
       "      <td>429.000000</td>\n",
       "      <td>429.000000</td>\n",
       "      <td>429.000000</td>\n",
       "      <td>429.000000</td>\n",
       "      <td>429.000000</td>\n",
       "      <td>429.000000</td>\n",
       "      <td>429.000000</td>\n",
       "      <td>429.000000</td>\n",
       "      <td>429.000000</td>\n",
       "      <td>429.000000</td>\n",
       "      <td>429.000000</td>\n",
       "      <td>429.000000</td>\n",
       "      <td>429.000000</td>\n",
       "      <td>429.000000</td>\n",
       "      <td>429.000000</td>\n",
       "      <td>429.000000</td>\n",
       "      <td>429.000000</td>\n",
       "      <td>429.000000</td>\n",
       "      <td>429.000000</td>\n",
       "      <td>429.000000</td>\n",
       "      <td>429.000000</td>\n",
       "      <td>429.000000</td>\n",
       "      <td>429.000000</td>\n",
       "      <td>429.000000</td>\n",
       "      <td>429.0</td>\n",
       "    </tr>\n",
       "    <tr>\n",
       "      <th>mean</th>\n",
       "      <td>0.109557</td>\n",
       "      <td>0.766900</td>\n",
       "      <td>55.967366</td>\n",
       "      <td>51.610723</td>\n",
       "      <td>2.890443</td>\n",
       "      <td>1.967366</td>\n",
       "      <td>2.755245</td>\n",
       "      <td>2.146853</td>\n",
       "      <td>3.226107</td>\n",
       "      <td>2.289044</td>\n",
       "      <td>2.596737</td>\n",
       "      <td>1.650350</td>\n",
       "      <td>94.879021</td>\n",
       "      <td>94.978904</td>\n",
       "      <td>23.379021</td>\n",
       "      <td>522.937063</td>\n",
       "      <td>410.993007</td>\n",
       "      <td>72.811189</td>\n",
       "      <td>119.750583</td>\n",
       "      <td>184.878788</td>\n",
       "      <td>241.055944</td>\n",
       "      <td>63.062937</td>\n",
       "      <td>22.715618</td>\n",
       "      <td>1.512821</td>\n",
       "      <td>0.0</td>\n",
       "    </tr>\n",
       "    <tr>\n",
       "      <th>std</th>\n",
       "      <td>0.312702</td>\n",
       "      <td>0.423299</td>\n",
       "      <td>25.568377</td>\n",
       "      <td>26.732842</td>\n",
       "      <td>1.278736</td>\n",
       "      <td>1.076016</td>\n",
       "      <td>0.863730</td>\n",
       "      <td>0.951816</td>\n",
       "      <td>0.731577</td>\n",
       "      <td>0.800348</td>\n",
       "      <td>0.908469</td>\n",
       "      <td>1.071675</td>\n",
       "      <td>1.327399</td>\n",
       "      <td>0.979620</td>\n",
       "      <td>14.462182</td>\n",
       "      <td>262.376385</td>\n",
       "      <td>236.853226</td>\n",
       "      <td>38.083274</td>\n",
       "      <td>146.461314</td>\n",
       "      <td>175.900658</td>\n",
       "      <td>287.537631</td>\n",
       "      <td>129.766265</td>\n",
       "      <td>75.294396</td>\n",
       "      <td>3.327589</td>\n",
       "      <td>0.0</td>\n",
       "    </tr>\n",
       "    <tr>\n",
       "      <th>min</th>\n",
       "      <td>0.000000</td>\n",
       "      <td>0.000000</td>\n",
       "      <td>4.000000</td>\n",
       "      <td>2.000000</td>\n",
       "      <td>0.000000</td>\n",
       "      <td>0.000000</td>\n",
       "      <td>0.000000</td>\n",
       "      <td>0.000000</td>\n",
       "      <td>1.000000</td>\n",
       "      <td>0.000000</td>\n",
       "      <td>0.000000</td>\n",
       "      <td>0.000000</td>\n",
       "      <td>84.700000</td>\n",
       "      <td>91.200000</td>\n",
       "      <td>0.000000</td>\n",
       "      <td>128.000000</td>\n",
       "      <td>20.000000</td>\n",
       "      <td>3.000000</td>\n",
       "      <td>0.000000</td>\n",
       "      <td>1.000000</td>\n",
       "      <td>0.000000</td>\n",
       "      <td>0.000000</td>\n",
       "      <td>0.000000</td>\n",
       "      <td>0.000000</td>\n",
       "      <td>0.0</td>\n",
       "    </tr>\n",
       "    <tr>\n",
       "      <th>25%</th>\n",
       "      <td>0.000000</td>\n",
       "      <td>1.000000</td>\n",
       "      <td>37.000000</td>\n",
       "      <td>29.000000</td>\n",
       "      <td>2.000000</td>\n",
       "      <td>1.000000</td>\n",
       "      <td>2.000000</td>\n",
       "      <td>2.000000</td>\n",
       "      <td>3.000000</td>\n",
       "      <td>2.000000</td>\n",
       "      <td>2.000000</td>\n",
       "      <td>1.000000</td>\n",
       "      <td>94.300000</td>\n",
       "      <td>94.400000</td>\n",
       "      <td>12.700000</td>\n",
       "      <td>329.000000</td>\n",
       "      <td>242.000000</td>\n",
       "      <td>45.000000</td>\n",
       "      <td>4.000000</td>\n",
       "      <td>23.000000</td>\n",
       "      <td>12.000000</td>\n",
       "      <td>1.000000</td>\n",
       "      <td>0.000000</td>\n",
       "      <td>0.000000</td>\n",
       "      <td>0.0</td>\n",
       "    </tr>\n",
       "    <tr>\n",
       "      <th>50%</th>\n",
       "      <td>0.000000</td>\n",
       "      <td>1.000000</td>\n",
       "      <td>56.000000</td>\n",
       "      <td>50.000000</td>\n",
       "      <td>4.000000</td>\n",
       "      <td>2.000000</td>\n",
       "      <td>3.000000</td>\n",
       "      <td>2.000000</td>\n",
       "      <td>3.000000</td>\n",
       "      <td>2.000000</td>\n",
       "      <td>3.000000</td>\n",
       "      <td>1.000000</td>\n",
       "      <td>95.000000</td>\n",
       "      <td>95.000000</td>\n",
       "      <td>21.100000</td>\n",
       "      <td>458.000000</td>\n",
       "      <td>355.000000</td>\n",
       "      <td>65.000000</td>\n",
       "      <td>54.000000</td>\n",
       "      <td>150.000000</td>\n",
       "      <td>114.000000</td>\n",
       "      <td>5.000000</td>\n",
       "      <td>1.000000</td>\n",
       "      <td>1.000000</td>\n",
       "      <td>0.0</td>\n",
       "    </tr>\n",
       "    <tr>\n",
       "      <th>75%</th>\n",
       "      <td>0.000000</td>\n",
       "      <td>1.000000</td>\n",
       "      <td>78.000000</td>\n",
       "      <td>75.000000</td>\n",
       "      <td>4.000000</td>\n",
       "      <td>3.000000</td>\n",
       "      <td>3.000000</td>\n",
       "      <td>3.000000</td>\n",
       "      <td>4.000000</td>\n",
       "      <td>3.000000</td>\n",
       "      <td>3.000000</td>\n",
       "      <td>2.000000</td>\n",
       "      <td>95.700000</td>\n",
       "      <td>95.600000</td>\n",
       "      <td>31.900000</td>\n",
       "      <td>660.000000</td>\n",
       "      <td>522.000000</td>\n",
       "      <td>92.000000</td>\n",
       "      <td>199.000000</td>\n",
       "      <td>308.000000</td>\n",
       "      <td>404.000000</td>\n",
       "      <td>49.000000</td>\n",
       "      <td>10.000000</td>\n",
       "      <td>2.000000</td>\n",
       "      <td>0.0</td>\n",
       "    </tr>\n",
       "    <tr>\n",
       "      <th>max</th>\n",
       "      <td>1.000000</td>\n",
       "      <td>1.000000</td>\n",
       "      <td>99.000000</td>\n",
       "      <td>99.000000</td>\n",
       "      <td>4.000000</td>\n",
       "      <td>3.000000</td>\n",
       "      <td>4.000000</td>\n",
       "      <td>4.000000</td>\n",
       "      <td>4.000000</td>\n",
       "      <td>4.000000</td>\n",
       "      <td>4.000000</td>\n",
       "      <td>4.000000</td>\n",
       "      <td>98.200000</td>\n",
       "      <td>98.200000</td>\n",
       "      <td>69.700000</td>\n",
       "      <td>1508.000000</td>\n",
       "      <td>1294.000000</td>\n",
       "      <td>252.000000</td>\n",
       "      <td>748.000000</td>\n",
       "      <td>1078.000000</td>\n",
       "      <td>1355.000000</td>\n",
       "      <td>1018.000000</td>\n",
       "      <td>1020.000000</td>\n",
       "      <td>53.000000</td>\n",
       "      <td>0.0</td>\n",
       "    </tr>\n",
       "  </tbody>\n",
       "</table>\n",
       "</div>"
      ],
      "text/plain": [
       "           magnet  neighborhood  attainment_reading_pct_es  \\\n",
       "count  429.000000    429.000000                 429.000000   \n",
       "mean     0.109557      0.766900                  55.967366   \n",
       "std      0.312702      0.423299                  25.568377   \n",
       "min      0.000000      0.000000                   4.000000   \n",
       "25%      0.000000      1.000000                  37.000000   \n",
       "50%      0.000000      1.000000                  56.000000   \n",
       "75%      0.000000      1.000000                  78.000000   \n",
       "max      1.000000      1.000000                  99.000000   \n",
       "\n",
       "       attainment_math_pct_es  culture_climate_rating  \\\n",
       "count              429.000000              429.000000   \n",
       "mean                51.610723                2.890443   \n",
       "std                 26.732842                1.278736   \n",
       "min                  2.000000                0.000000   \n",
       "25%                 29.000000                2.000000   \n",
       "50%                 50.000000                4.000000   \n",
       "75%                 75.000000                4.000000   \n",
       "max                 99.000000                4.000000   \n",
       "\n",
       "       creative_school_certification  school_survey_involved_families  \\\n",
       "count                     429.000000                       429.000000   \n",
       "mean                        1.967366                         2.755245   \n",
       "std                         1.076016                         0.863730   \n",
       "min                         0.000000                         0.000000   \n",
       "25%                         1.000000                         2.000000   \n",
       "50%                         2.000000                         3.000000   \n",
       "75%                         3.000000                         3.000000   \n",
       "max                         3.000000                         4.000000   \n",
       "\n",
       "       school_survey_supportive_environment  \\\n",
       "count                            429.000000   \n",
       "mean                               2.146853   \n",
       "std                                0.951816   \n",
       "min                                0.000000   \n",
       "25%                                2.000000   \n",
       "50%                                2.000000   \n",
       "75%                                3.000000   \n",
       "max                                4.000000   \n",
       "\n",
       "       school_survey_ambitious_instruction  school_survey_effective_leaders  \\\n",
       "count                           429.000000                       429.000000   \n",
       "mean                              3.226107                         2.289044   \n",
       "std                               0.731577                         0.800348   \n",
       "min                               1.000000                         0.000000   \n",
       "25%                               3.000000                         2.000000   \n",
       "50%                               3.000000                         2.000000   \n",
       "75%                               4.000000                         3.000000   \n",
       "max                               4.000000                         4.000000   \n",
       "\n",
       "       school_survey_collaborative_teachers  school_survey_safety  \\\n",
       "count                            429.000000            429.000000   \n",
       "mean                               2.596737              1.650350   \n",
       "std                                0.908469              1.071675   \n",
       "min                                0.000000              0.000000   \n",
       "25%                                2.000000              1.000000   \n",
       "50%                                3.000000              1.000000   \n",
       "75%                                3.000000              2.000000   \n",
       "max                                4.000000              4.000000   \n",
       "\n",
       "       student_attendance_year_1_pct  teacher_attendance_year_1_pct  \\\n",
       "count                     429.000000                     429.000000   \n",
       "mean                       94.879021                      94.978904   \n",
       "std                         1.327399                       0.979620   \n",
       "min                        84.700000                      91.200000   \n",
       "25%                        94.300000                      94.400000   \n",
       "50%                        95.000000                      95.000000   \n",
       "75%                        95.700000                      95.600000   \n",
       "max                        98.200000                      98.200000   \n",
       "\n",
       "       chronic_truancy_pct  student_count_total  student_count_low_income  \\\n",
       "count           429.000000           429.000000                429.000000   \n",
       "mean             23.379021           522.937063                410.993007   \n",
       "std              14.462182           262.376385                236.853226   \n",
       "min               0.000000           128.000000                 20.000000   \n",
       "25%              12.700000           329.000000                242.000000   \n",
       "50%              21.100000           458.000000                355.000000   \n",
       "75%              31.900000           660.000000                522.000000   \n",
       "max              69.700000          1508.000000               1294.000000   \n",
       "\n",
       "       student_count_special_ed  student_count_english_learners  \\\n",
       "count                429.000000                      429.000000   \n",
       "mean                  72.811189                      119.750583   \n",
       "std                   38.083274                      146.461314   \n",
       "min                    3.000000                        0.000000   \n",
       "25%                   45.000000                        4.000000   \n",
       "50%                   65.000000                       54.000000   \n",
       "75%                   92.000000                      199.000000   \n",
       "max                  252.000000                      748.000000   \n",
       "\n",
       "       student_count_black  student_count_hispanic  student_count_white  \\\n",
       "count           429.000000              429.000000           429.000000   \n",
       "mean            184.878788              241.055944            63.062937   \n",
       "std             175.900658              287.537631           129.766265   \n",
       "min               1.000000                0.000000             0.000000   \n",
       "25%              23.000000               12.000000             1.000000   \n",
       "50%             150.000000              114.000000             5.000000   \n",
       "75%             308.000000              404.000000            49.000000   \n",
       "max            1078.000000             1355.000000          1018.000000   \n",
       "\n",
       "       student_count_asian  student_count_native_american  \\\n",
       "count           429.000000                     429.000000   \n",
       "mean             22.715618                       1.512821   \n",
       "std              75.294396                       3.327589   \n",
       "min               0.000000                       0.000000   \n",
       "25%               0.000000                       0.000000   \n",
       "50%               1.000000                       1.000000   \n",
       "75%              10.000000                       2.000000   \n",
       "max            1020.000000                      53.000000   \n",
       "\n",
       "       student_count_other_ethnicity  \n",
       "count                          429.0  \n",
       "mean                             0.0  \n",
       "std                              0.0  \n",
       "min                              0.0  \n",
       "25%                              0.0  \n",
       "50%                              0.0  \n",
       "75%                              0.0  \n",
       "max                              0.0  "
      ]
     },
     "execution_count": 35,
     "metadata": {},
     "output_type": "execute_result"
    }
   ],
   "source": [
    "# Getting some Summary Statistics\n",
    "merged_df.describe()"
   ]
  },
  {
   "cell_type": "code",
   "execution_count": 36,
   "metadata": {},
   "outputs": [
    {
     "data": {
      "image/png": "[encoded data removed]",
      "text/plain": [
       "<Figure size 1080x1152 with 5 Axes>"
      ]
     },
     "metadata": {
      "needs_background": "light"
     },
     "output_type": "display_data"
    }
   ],
   "source": [
    "fig, axes = plt.subplots(5, 1, figsize = (15, 16), sharey=True)\n",
    "sns.barplot(x = merged_df['student_attainment_rating'], y = merged_df['culture_climate_rating'], data = data, ax = axes[0], order = ['BELOW AVERAGE','AVERAGE', 'ABOVE AVERAGE'])\n",
    "sns.barplot(x = merged_df['student_attainment_rating'], y = merged_df['creative_school_certification'], data = data, ax = axes[1], order = ['BELOW AVERAGE','AVERAGE', 'ABOVE AVERAGE'])\n",
    "sns.barplot(x = merged_df['student_attainment_rating'], y = merged_df['school_survey_safety'], data = data, ax = axes[2], order = ['BELOW AVERAGE','AVERAGE', 'ABOVE AVERAGE'])\n",
    "sns.barplot(x = merged_df['student_attainment_rating'], y = merged_df['school_survey_involved_families'], data = data, ax = axes[3], order = ['BELOW AVERAGE','AVERAGE', 'ABOVE AVERAGE'])\n",
    "sns.barplot(x = merged_df['student_attainment_rating'], y = merged_df['school_survey_collaborative_teachers'], data = data, ax = axes[4], order = ['BELOW AVERAGE','AVERAGE', 'ABOVE AVERAGE'])\n",
    "plt.tight_layout()"
   ]
  },
  {
   "cell_type": "markdown",
   "metadata": {},
   "source": [
    "The graphs above show us that of the chosen attributes, it appears that 'school_survey_safety' (how safe a school is), 'creative_school_certification', (how the creativity of the school is rated), and 'school_survey_involved_families'(how involve dthe children's families are) seem to have to most drastic impact on setting apart schools that have student attainment ratings of below avergae, average, and above average"
   ]
  },
  {
   "cell_type": "code",
   "execution_count": 37,
   "metadata": {},
   "outputs": [
    {
     "data": {
      "text/plain": [
       "[Text(0, 0.5, 'Number of Students'),\n",
       " Text(0.5, 0, 'Student Attainment Rating'),\n",
       " Text(0.5, 1.0, 'Attainment Rating by Number of Students')]"
      ]
     },
     "execution_count": 37,
     "metadata": {},
     "output_type": "execute_result"
    },
    {
     "data": {
      "image/png": "[encoded data removed]",
      "text/plain": [
       "<Figure size 432x288 with 1 Axes>"
      ]
     },
     "metadata": {
      "needs_background": "light"
     },
     "output_type": "display_data"
    }
   ],
   "source": [
    "# Plot swarm plot for total student count\n",
    "ax = sns.swarmplot(x = 'student_attainment_rating', y = 'student_count_total', data = merged_df,order = ['BELOW AVERAGE','AVERAGE', 'ABOVE AVERAGE'] )\n",
    "ax.set(title = 'Attainment Rating by Number of Students', xlabel = 'Student Attainment Rating', ylabel = 'Number of Students' )"
   ]
  },
  {
   "cell_type": "code",
   "execution_count": 38,
   "metadata": {},
   "outputs": [
    {
     "data": {
      "text/plain": [
       "[Text(0, 0.5, 'Number of Low-Income Students'),\n",
       " Text(0.5, 0, 'Student Attainment Rating'),\n",
       " Text(0.5, 1.0, 'Attainment Rating by Number of Students')]"
      ]
     },
     "execution_count": 38,
     "metadata": {},
     "output_type": "execute_result"
    },
    {
     "data": {
      "image/png": "[encoded data removed]",
      "text/plain": [
       "<Figure size 432x288 with 1 Axes>"
      ]
     },
     "metadata": {
      "needs_background": "light"
     },
     "output_type": "display_data"
    }
   ],
   "source": [
    "# Plot swarm plot for total student count\n",
    "ax = sns.swarmplot(x = 'student_attainment_rating', y = 'student_count_low_income', data = merged_df,order = ['BELOW AVERAGE','AVERAGE', 'ABOVE AVERAGE'] )\n",
    "ax.set(title = 'Attainment Rating by Number of Students', xlabel = 'Student Attainment Rating', ylabel = 'Number of Low-Income Students' )"
   ]
  },
  {
   "cell_type": "code",
   "execution_count": 39,
   "metadata": {},
   "outputs": [],
   "source": [
    "#fit the labels into strings \n",
    "mapper = {0 : 'NOT YET ORGANIZED', \n",
    "          1 : 'PARTIALLY ORGANIZED', \n",
    "          2 : 'ORGANIZED',\n",
    "          3 : 'MODERATELY ORGANIZED', \n",
    "          4 : 'WELL ORGANIZED'}\n",
    "\n",
    "#update the column to be numeric. may cause warning, ignore. printing data.head() will show \n",
    "#the update goes through and not on a copy\n",
    "data['culture_climate_rating'] = data['culture_climate_rating'].replace(mapper)"
   ]
  },
  {
   "cell_type": "code",
   "execution_count": 40,
   "metadata": {},
   "outputs": [
    {
     "data": {
      "text/plain": [
       "[Text(0, 0, 'NOT YET ORGANIZED'),\n",
       " Text(0, 0, 'PARTIALLY ORGANIZED'),\n",
       " Text(0, 0, 'ORGANIZED'),\n",
       " Text(0, 0, 'MODERATELY ORGANIZED'),\n",
       " Text(0, 0, 'WELL ORGANIZED')]"
      ]
     },
     "execution_count": 40,
     "metadata": {},
     "output_type": "execute_result"
    },
    {
     "data": {
      "image/png": "[encoded data removed]",
      "text/plain": [
       "<Figure size 432x288 with 1 Axes>"
      ]
     },
     "metadata": {
      "needs_background": "light"
     },
     "output_type": "display_data"
    }
   ],
   "source": [
    "# Try getting violin plots for chronic truancy by culture_climate ratings\n",
    "# Plot violin plot\n",
    "ax = sns.violinplot(x = 'culture_climate_rating', y = 'chronic_truancy_pct', data = data, order = ['NOT YET ORGANIZED','PARTIALLY ORGANIZED','ORGANIZED','MODERATELY ORGANIZED','WELL ORGANIZED'])\n",
    "ax.set(title = 'Chronic Truancy by Culture Climate Ratings', xlabel = 'Culture/Climate Ratings', ylabel = 'Chronic Truancy (Percentages)')\n",
    "ax.set_xticklabels(ax.get_xticklabels(), rotation=40, ha=\"right\")"
   ]
  },
  {
   "cell_type": "code",
   "execution_count": 41,
   "metadata": {},
   "outputs": [
    {
     "data": {
      "text/plain": [
       "[Text(0, 0.5, 'Reading Attainment Percentile'),\n",
       " Text(0.5, 0, 'Teacher Attendance'),\n",
       " Text(0.5, 1.0, 'Teacher Attendance vs. Reading Attainment')]"
      ]
     },
     "execution_count": 41,
     "metadata": {},
     "output_type": "execute_result"
    },
    {
     "data": {
      "image/png": "[encoded data removed]",
      "text/plain": [
       "<Figure size 432x288 with 1 Axes>"
      ]
     },
     "metadata": {
      "needs_background": "light"
     },
     "output_type": "display_data"
    }
   ],
   "source": [
    "# Scatter plot to assess the relationship between teacher attendance and math and reading percentiles\n",
    "ax = sns.regplot('teacher_attendance_year_1_pct', 'attainment_reading_pct_es', data = merged_df)\n",
    "ax.set(title = 'Teacher Attendance vs. Reading Attainment', xlabel = 'Teacher Attendance', ylabel = 'Reading Attainment Percentile')"
   ]
  },
  {
   "cell_type": "code",
   "execution_count": 42,
   "metadata": {},
   "outputs": [
    {
     "data": {
      "text/plain": [
       "[Text(0, 0.5, 'Math Attainment Percentile'),\n",
       " Text(0.5, 0, 'Teacher Attendance'),\n",
       " Text(0.5, 1.0, 'Teacher Attendance vs. Math Attainment')]"
      ]
     },
     "execution_count": 42,
     "metadata": {},
     "output_type": "execute_result"
    },
    {
     "data": {
      "image/png": "[encoded data removed]",
      "text/plain": [
       "<Figure size 432x288 with 1 Axes>"
      ]
     },
     "metadata": {
      "needs_background": "light"
     },
     "output_type": "display_data"
    }
   ],
   "source": [
    "ax = sns.regplot('teacher_attendance_year_1_pct', 'attainment_math_pct_es', data = merged_df)\n",
    "ax.set(title = 'Teacher Attendance vs. Math Attainment', xlabel = 'Teacher Attendance', ylabel = 'Math Attainment Percentile')"
   ]
  },
  {
   "cell_type": "code",
   "execution_count": 43,
   "metadata": {},
   "outputs": [
    {
     "data": {
      "text/plain": [
       "[Text(0, 0.5, 'Reading Attainment Percentile'),\n",
       " Text(0.5, 0, 'Chronic Truancy Percentage'),\n",
       " Text(0.5, 1.0, 'Truancy vs. Reading Attainment')]"
      ]
     },
     "execution_count": 43,
     "metadata": {},
     "output_type": "execute_result"
    },
    {
     "data": {
      "image/png": "[encoded data removed]",
      "text/plain": [
       "<Figure size 432x288 with 1 Axes>"
      ]
     },
     "metadata": {
      "needs_background": "light"
     },
     "output_type": "display_data"
    }
   ],
   "source": [
    "#How does chronic truancy impact the school's attainment percentiles?\n",
    "ax = sns.regplot('chronic_truancy_pct', 'attainment_reading_pct_es', data = merged_df)\n",
    "ax.set(title = 'Truancy vs. Reading Attainment', xlabel = 'Chronic Truancy Percentage', ylabel = 'Reading Attainment Percentile')"
   ]
  },
  {
   "cell_type": "code",
   "execution_count": 44,
   "metadata": {},
   "outputs": [
    {
     "data": {
      "text/plain": [
       "[Text(0, 0.5, 'Math Attainment Percentile'),\n",
       " Text(0.5, 0, ' Chronic Truancy Percentage'),\n",
       " Text(0.5, 1.0, 'Truancy vs. Math Attainment')]"
      ]
     },
     "execution_count": 44,
     "metadata": {},
     "output_type": "execute_result"
    },
    {
     "data": {
      "image/png": "[encoded data removed]",
      "text/plain": [
       "<Figure size 432x288 with 1 Axes>"
      ]
     },
     "metadata": {
      "needs_background": "light"
     },
     "output_type": "display_data"
    }
   ],
   "source": [
    "#How does chronic truancy impact the school's attainment percentiles?\n",
    "ax = sns.regplot('chronic_truancy_pct', 'attainment_math_pct_es', data = merged_df)\n",
    "ax.set(title = 'Truancy vs. Math Attainment', xlabel = ' Chronic Truancy Percentage', ylabel = 'Math Attainment Percentile')"
   ]
  },
  {
   "cell_type": "markdown",
   "metadata": {},
   "source": [
    "Conclusions from the Data Exploration:\n",
    "We should expect to see strong correlations with certain varibles as they seem to have an impact on the attainment ratings (in order of importance):\n",
    "1. Attendance Metrics - (Teacher Attendance, Student Attendance, Chronic Truancy)\n",
    "2. School Enviroment Metrics - (School Survey Safety, School Survey involved families, Culture/Climate Ratings, Creative School Certification)\n",
    "3. Demographics - (Number of Low-Income Students, I would expect a multiple linear regression model with all the ethnicity information to give us a better understandign of how well ethnicity correlates to school attainment ratings..)\n",
    "\n"
   ]
  },
  {
   "cell_type": "code",
   "execution_count": 45,
   "metadata": {},
   "outputs": [],
   "source": [
    "# Reverting Mappings for Modeling... \n",
    "#fit the labels into numeric \n",
    "mapper = {'NOT YET ORGANIZED': 0, \n",
    "          'PARTIALLY ORGANIZED' : 1, \n",
    "          'ORGANIZED' : 2,\n",
    "          'MODERATELY ORGANIZED': 3, \n",
    "          'WELL ORGANIZED': 4}\n",
    "\n",
    "#update the column to be numeric. may cause warning, ignore. printing data.head() will show \n",
    "#the update goes through and not on a copy\n",
    "data['culture_climate_rating'] = data['culture_climate_rating'].replace(mapper)"
   ]
  },
  {
   "cell_type": "code",
   "execution_count": 46,
   "metadata": {},
   "outputs": [],
   "source": [
    "#fit the labels into numeric \n",
    "mapper = {'BELOW AVERAGE' : 0, \n",
    "          'AVERAGE' : 1,\n",
    "          'ABOVE AVERAGE' : 2}\n",
    "\n",
    "#update the column to be numeric. may cause warning, ignore. printing data.head() will show \n",
    "#the update goes through and not on a copy\n",
    "merged_df['student_attainment_rating'] = merged_df['student_attainment_rating'].replace(mapper)"
   ]
  },
  {
   "cell_type": "markdown",
   "metadata": {},
   "source": [
    "## Data Modeling"
   ]
  },
  {
   "cell_type": "code",
   "execution_count": 47,
   "metadata": {},
   "outputs": [],
   "source": [
    "#Partition data into training and test sets using holdout method\n",
    "X_train, X_test, Y_train, Y_test = train_test_split(merged_df[['neighborhood', 'magnet', 'culture_climate_rating', 'creative_school_certification', \n",
    "                                                              'school_survey_involved_families', 'school_survey_supportive_environment', \n",
    "                                                              'school_survey_ambitious_instruction', 'school_survey_effective_leaders', \n",
    "                                                              'school_survey_collaborative_teachers', 'school_survey_safety', \n",
    "                                                              'student_attendance_year_1_pct', 'teacher_attendance_year_1_pct','chronic_truancy_pct',\n",
    "                                                              'student_count_total', 'student_count_low_income', 'student_count_special_ed',\n",
    "                                                              'student_count_english_learners', 'student_count_black', 'student_count_hispanic', \n",
    "                                                              'student_count_white', 'student_count_asian', 'student_count_native_american',\n",
    "                                                              'student_count_other_ethnicity']], \n",
    "                                                    merged_df[['student_attainment_rating', 'attainment_reading_pct_es', 'attainment_math_pct_es']],\n",
    "                                                    train_size = .80, test_size = .20, random_state = 1)"
   ]
  },
  {
   "cell_type": "code",
   "execution_count": 48,
   "metadata": {},
   "outputs": [
    {
     "name": "stdout",
     "output_type": "stream",
     "text": [
      "<class 'pandas.core.frame.DataFrame'>\n",
      "Int64Index: 343 entries, 46 to 37\n",
      "Data columns (total 23 columns):\n",
      "neighborhood                            343 non-null uint8\n",
      "magnet                                  343 non-null uint8\n",
      "culture_climate_rating                  343 non-null int64\n",
      "creative_school_certification           343 non-null int64\n",
      "school_survey_involved_families         343 non-null int64\n",
      "school_survey_supportive_environment    343 non-null int64\n",
      "school_survey_ambitious_instruction     343 non-null int64\n",
      "school_survey_effective_leaders         343 non-null int64\n",
      "school_survey_collaborative_teachers    343 non-null int64\n",
      "school_survey_safety                    343 non-null int64\n",
      "student_attendance_year_1_pct           343 non-null float64\n",
      "teacher_attendance_year_1_pct           343 non-null float64\n",
      "chronic_truancy_pct                     343 non-null float64\n",
      "student_count_total                     343 non-null int64\n",
      "student_count_low_income                343 non-null int64\n",
      "student_count_special_ed                343 non-null int64\n",
      "student_count_english_learners          343 non-null int64\n",
      "student_count_black                     343 non-null int64\n",
      "student_count_hispanic                  343 non-null int64\n",
      "student_count_white                     343 non-null int64\n",
      "student_count_asian                     343 non-null int64\n",
      "student_count_native_american           343 non-null int64\n",
      "student_count_other_ethnicity           343 non-null int64\n",
      "dtypes: float64(3), int64(18), uint8(2)\n",
      "memory usage: 59.6 KB\n",
      "None\n"
     ]
    }
   ],
   "source": [
    "print(X_train.info())"
   ]
  },
  {
   "cell_type": "code",
   "execution_count": 49,
   "metadata": {},
   "outputs": [],
   "source": [
    "#Standardizing training and test set\n",
    "scaler = StandardScaler()\n",
    "scaler.fit(X_train)\n",
    "X_train_scaled = scaler.transform(X_train)\n",
    "X_test_scaled = scaler.transform(X_test)"
   ]
  },
  {
   "cell_type": "markdown",
   "metadata": {},
   "source": [
    "## REGRESSION:"
   ]
  },
  {
   "cell_type": "markdown",
   "metadata": {},
   "source": [
    "### Building multiple regression model to predict 'attainment_reading_pct_es'"
   ]
  },
  {
   "cell_type": "code",
   "execution_count": 49,
   "metadata": {},
   "outputs": [
    {
     "name": "stdout",
     "output_type": "stream",
     "text": [
      "R-squared for test set:          0.6779430367530132\n",
      "Adjusted R-squared for test set: 0.5584702923226793\n"
     ]
    }
   ],
   "source": [
    "#Using all predictors\n",
    "model = linear_model.LinearRegression()\n",
    "fitted_model1 = model.fit(X_train_scaled, Y_train['attainment_reading_pct_es'])\n",
    "\n",
    "#Computing coefficient of determination(R squared) for test set \n",
    "score_test1 = fitted_model1.score(X_test_scaled, Y_test['attainment_reading_pct_es'])\n",
    "\n",
    "#Computing Adjusted R2 for test set\n",
    "adj_r_squared_test1 = 1 - (1-score_test1)*(len(Y_test)-1)/(len(Y_test) - X_test_scaled.shape[1]-1)\n",
    "\n",
    "print(\"R-squared for test set:          \" + str(score_test1))\n",
    "print(\"Adjusted R-squared for test set: \" + str(adj_r_squared_test1))"
   ]
  },
  {
   "cell_type": "code",
   "execution_count": 50,
   "metadata": {},
   "outputs": [
    {
     "name": "stdout",
     "output_type": "stream",
     "text": [
      "[-4.46017078  1.31681759  0.          0.06096541  2.79342725 -0.\n",
      "  0.          0.          0.          3.58454398  1.73006144  0.26368444\n",
      " -6.88085804  0.         -0.         -0.25146862  0.         -2.93732892\n",
      "  0.          6.06711356  2.65626964  1.17285689  0.        ]\n"
     ]
    }
   ],
   "source": [
    "#Use LASSO regression to see which predictors can be dropped.\n",
    "model = linear_model.Lasso(alpha = 1)\n",
    "fitted_model = model.fit(X_train_scaled, Y_train['attainment_reading_pct_es'])\n",
    "print(fitted_model.coef_)"
   ]
  },
  {
   "cell_type": "code",
   "execution_count": 51,
   "metadata": {},
   "outputs": [
    {
     "name": "stdout",
     "output_type": "stream",
     "text": [
      "[ -4.95092604   0.1363435    0.86434261   0.11710135   2.2814372\n",
      "  -3.50077584   2.30714582   0.05698407  -0.94666823   5.76766669\n",
      "   1.31309046   0.79280974  -5.96971586   9.21388188 -12.03737786\n",
      "  -3.26266127   2.20217643  -0.66437059   4.43894195   2.13738571\n",
      "   4.03539967   1.92782013   0.        ]\n"
     ]
    }
   ],
   "source": [
    "#Use Ridge regression to see which predictors can be dropped.\n",
    "#Ridge regression alleviates multicollinearity among predictor variables by shrinking \n",
    "#the coeffiecient estimates of highly correlated variables.\n",
    "model = linear_model.Ridge(alpha = 1)\n",
    "fitted_model = model.fit(X_train_scaled, Y_train['attainment_reading_pct_es'])\n",
    "print(fitted_model.coef_)"
   ]
  },
  {
   "cell_type": "code",
   "execution_count": 52,
   "metadata": {},
   "outputs": [
    {
     "name": "stdout",
     "output_type": "stream",
     "text": [
      "R-squared for test set:          0.6225680108971642\n",
      "Adjusted R-squared for test set: 0.4825529181654671\n"
     ]
    }
   ],
   "source": [
    "#Dropping indices [2,5,6,7,8,13,14,16,18,22] since the coefficients of those indices are 0.\n",
    "model = linear_model.LinearRegression()\n",
    "predictor_indices = [0,1,3,4,9,10,11,12,15,17,19,20,21]\n",
    "fitted_model = model.fit(X_train_scaled[:,predictor_indices], Y_train['attainment_reading_pct_es'])\n",
    "\n",
    "#Computing coefficient of determination(R squared) for test set \n",
    "score_test = fitted_model.score(X_test_scaled[:,predictor_indices], Y_test['attainment_reading_pct_es'])\n",
    "\n",
    "#Computing Adjusted R2 for test set\n",
    "adj_r_squared_test = 1 - (1-score_test)*(len(Y_test)-1)/(len(Y_test) - X_test_scaled.shape[1]-1)\n",
    "\n",
    "print(\"R-squared for test set:          \" + str(score_test))\n",
    "print(\"Adjusted R-squared for test set: \" + str(adj_r_squared_test)) "
   ]
  },
  {
   "cell_type": "code",
   "execution_count": 53,
   "metadata": {},
   "outputs": [
    {
     "name": "stdout",
     "output_type": "stream",
     "text": [
      "R-squared for test set:          0.692588902619611\n",
      "Adjusted R-squared for test set: 0.5785493019784991\n"
     ]
    }
   ],
   "source": [
    "#Dropping indices [2,3,5,6,7,8,9,13,14,15,16,18,22]\n",
    "model = linear_model.LinearRegression()\n",
    "predictor_indices = [0,1,4,10,11,12,17,19,20,21]\n",
    "fitted_model = model.fit(X_train_scaled[:,predictor_indices], Y_train['attainment_reading_pct_es'])\n",
    "\n",
    "#Computing coefficient of determination(R squared) for test set \n",
    "score_test = fitted_model.score(X_test_scaled[:,predictor_indices], Y_test['attainment_reading_pct_es'])\n",
    "\n",
    "#Computing Adjusted R2 for test set\n",
    "adj_r_squared_test = 1 - (1-score_test)*(len(Y_test)-1)/(len(Y_test) - X_test_scaled.shape[1]-1)\n",
    "\n",
    "print(\"R-squared for test set:          \" + str(score_test))\n",
    "print(\"Adjusted R-squared for test set: \" + str(adj_r_squared_test)) "
   ]
  },
  {
   "cell_type": "code",
   "execution_count": 54,
   "metadata": {},
   "outputs": [
    {
     "name": "stdout",
     "output_type": "stream",
     "text": [
      "R-squared for test set:          0.7191806795906801\n",
      "Adjusted R-squared for test set: 0.6150057704065776\n"
     ]
    }
   ],
   "source": [
    "#Dropping indices [2,3,5,6,7,8,9,13,14,15,16,18,20,21,22] \n",
    "model = linear_model.LinearRegression()\n",
    "predictor_indices = [0,1,4,10,11,12,17,19]\n",
    "fitted_model = model.fit(X_train_scaled[:,predictor_indices], Y_train['attainment_reading_pct_es'])\n",
    "\n",
    "#Computing coefficient of determination(R squared) for test set \n",
    "score_test = fitted_model.score(X_test_scaled[:,predictor_indices], Y_test['attainment_reading_pct_es'])\n",
    "\n",
    "#Computing Adjusted R2 for test set\n",
    "adj_r_squared_test = 1 - (1-score_test)*(len(Y_test)-1)/(len(Y_test) - X_test_scaled.shape[1]-1)\n",
    "\n",
    "print(\"R-squared for test set:          \" + str(score_test))\n",
    "print(\"Adjusted R-squared for test set: \" + str(adj_r_squared_test)) "
   ]
  },
  {
   "cell_type": "markdown",
   "metadata": {},
   "source": [
    "### Building multiple regression model to predict ''attainment_math_pct_es''"
   ]
  },
  {
   "cell_type": "code",
   "execution_count": 55,
   "metadata": {},
   "outputs": [
    {
     "name": "stdout",
     "output_type": "stream",
     "text": [
      "R-squared for test set:          0.6725625250214431\n",
      "Adjusted R-squared for test set: 0.5510937843035912\n"
     ]
    }
   ],
   "source": [
    "#Using all predictors\n",
    "model = linear_model.LinearRegression()\n",
    "fitted_model1 = model.fit(X_train_scaled, Y_train['attainment_math_pct_es'])\n",
    "\n",
    "#Computing coefficient of determination(R squared) for test set \n",
    "score_test1 = fitted_model1.score(X_test_scaled, Y_test['attainment_math_pct_es'])\n",
    "\n",
    "#Computing Adjusted R2 for test set\n",
    "adj_r_squared_test1 = 1 - (1-score_test1)*(len(Y_test)-1)/(len(Y_test) - X_test_scaled.shape[1]-1)\n",
    "\n",
    "print(\"R-squared for test set:          \" + str(score_test1))\n",
    "print(\"Adjusted R-squared for test set: \" + str(adj_r_squared_test1))"
   ]
  },
  {
   "cell_type": "code",
   "execution_count": 56,
   "metadata": {},
   "outputs": [
    {
     "name": "stdout",
     "output_type": "stream",
     "text": [
      "[-3.1386514   1.84763686  0.58635059  0.25824616  0.54985703 -0.\n",
      "  0.          0.          0.01709178  4.37145181  3.50409055  1.78006117\n",
      " -6.28908732  0.63049599 -0.         -0.          0.         -3.41541405\n",
      "  0.          5.78981239  3.98037992  0.36522551  0.        ]\n"
     ]
    }
   ],
   "source": [
    "#Use LASSO regression to see which predictors can be dropped.\n",
    "model = linear_model.Lasso(alpha = 1)\n",
    "fitted_model = model.fit(X_train_scaled, Y_train['attainment_math_pct_es'])\n",
    "print(fitted_model.coef_)"
   ]
  },
  {
   "cell_type": "code",
   "execution_count": 57,
   "metadata": {},
   "outputs": [
    {
     "name": "stdout",
     "output_type": "stream",
     "text": [
      "[-3.77908681  1.41743638  1.61154945  0.55863726 -0.90947426 -2.17083797\n",
      "  1.0109433  -0.08942877  1.09362703  5.88249927  3.33174321  2.27074275\n",
      " -5.11375611  8.28444133 -8.75364133 -2.43290224  2.33109973 -2.37563898\n",
      "  2.53556171  2.93799363  4.79272646  0.77553847  0.        ]\n"
     ]
    }
   ],
   "source": [
    "#Use Ridge regression to see which predictors can be dropped.\n",
    "#Ridge regression alleviates multicollinearity among predictor variables by shrinking \n",
    "#the coeffiecient estimates of highly correlated variables.\n",
    "model = linear_model.Ridge(alpha = 1)\n",
    "fitted_model = model.fit(X_train_scaled, Y_train['attainment_math_pct_es'])\n",
    "print(fitted_model.coef_)"
   ]
  },
  {
   "cell_type": "code",
   "execution_count": 58,
   "metadata": {},
   "outputs": [
    {
     "name": "stdout",
     "output_type": "stream",
     "text": [
      "R-squared for test set:          0.6714795946183736\n",
      "Adjusted R-squared for test set: 0.5496091216542218\n"
     ]
    }
   ],
   "source": [
    "#Dropping indices [5,6,7,14,15,16,18,22] since the coefficients of those indices are 0.\n",
    "model = linear_model.LinearRegression()\n",
    "predictor_indices = [0,1,2,3,4,8,9,10,11,12,13,17,19,20,21]\n",
    "fitted_model = model.fit(X_train_scaled[:,predictor_indices], Y_train['attainment_math_pct_es'])\n",
    "\n",
    "#Computing coefficient of determination(R squared) for test set \n",
    "score_test = fitted_model.score(X_test_scaled[:,predictor_indices], Y_test['attainment_math_pct_es'])\n",
    "\n",
    "#Computing Adjusted R2 for test set\n",
    "adj_r_squared_test = 1 - (1-score_test)*(len(Y_test)-1)/(len(Y_test) - X_test_scaled.shape[1]-1)\n",
    "\n",
    "print(\"R-squared for test set:          \" + str(score_test))\n",
    "print(\"Adjusted R-squared for test set: \" + str(adj_r_squared_test)) "
   ]
  },
  {
   "cell_type": "code",
   "execution_count": 59,
   "metadata": {},
   "outputs": [
    {
     "name": "stdout",
     "output_type": "stream",
     "text": [
      "R-squared for test set:          0.6908718398121234\n",
      "Adjusted R-squared for test set: 0.5761952642585564\n"
     ]
    }
   ],
   "source": [
    "#Dropping indices [0,5,6,7,14,15,16,18,21,22] \n",
    "model = linear_model.LinearRegression()\n",
    "predictor_indices = [1,2,3,4,8,9,10,11,12,13,17,19,20]\n",
    "fitted_model = model.fit(X_train_scaled[:,predictor_indices], Y_train['attainment_math_pct_es'])\n",
    "\n",
    "#Computing coefficient of determination(R squared) for test set \n",
    "score_test = fitted_model.score(X_test_scaled[:,predictor_indices], Y_test['attainment_math_pct_es'])\n",
    "\n",
    "#Computing Adjusted R2 for test set\n",
    "adj_r_squared_test = 1 - (1-score_test)*(len(Y_test)-1)/(len(Y_test) - X_test_scaled.shape[1]-1)\n",
    "\n",
    "print(\"R-squared for test set:          \" + str(score_test))\n",
    "print(\"Adjusted R-squared for test set: \" + str(adj_r_squared_test)) "
   ]
  },
  {
   "cell_type": "code",
   "execution_count": 60,
   "metadata": {},
   "outputs": [
    {
     "name": "stdout",
     "output_type": "stream",
     "text": [
      "R-squared for test set:          0.7154452866543934\n",
      "Adjusted R-squared for test set: 0.6098846671874749\n"
     ]
    }
   ],
   "source": [
    "#Dropping indices [0,2,3,5,6,7,8,9,14,15,16,18,20,21,22] \n",
    "model = linear_model.LinearRegression()\n",
    "predictor_indices = [1,4,10,11,12,13,17,19]\n",
    "fitted_model = model.fit(X_train_scaled[:,predictor_indices], Y_train['attainment_math_pct_es'])\n",
    "\n",
    "#Computing coefficient of determination(R squared) for test set \n",
    "score_test = fitted_model.score(X_test_scaled[:,predictor_indices], Y_test['attainment_math_pct_es'])\n",
    "\n",
    "#Computing Adjusted R2 for test set\n",
    "adj_r_squared_test = 1 - (1-score_test)*(len(Y_test)-1)/(len(Y_test) - X_test_scaled.shape[1]-1)\n",
    "\n",
    "print(\"R-squared for test set:          \" + str(score_test))\n",
    "print(\"Adjusted R-squared for test set: \" + str(adj_r_squared_test)) "
   ]
  },
  {
   "cell_type": "code",
   "execution_count": 61,
   "metadata": {},
   "outputs": [
    {
     "name": "stdout",
     "output_type": "stream",
     "text": [
      "<class 'pandas.core.frame.DataFrame'>\n",
      "Int64Index: 343 entries, 46 to 37\n",
      "Data columns (total 23 columns):\n",
      "neighborhood                            343 non-null uint8\n",
      "magnet                                  343 non-null uint8\n",
      "culture_climate_rating                  343 non-null int64\n",
      "creative_school_certification           343 non-null int64\n",
      "school_survey_involved_families         343 non-null int64\n",
      "school_survey_supportive_environment    343 non-null int64\n",
      "school_survey_ambitious_instruction     343 non-null int64\n",
      "school_survey_effective_leaders         343 non-null int64\n",
      "school_survey_collaborative_teachers    343 non-null int64\n",
      "school_survey_safety                    343 non-null int64\n",
      "student_attendance_year_1_pct           343 non-null float64\n",
      "teacher_attendance_year_1_pct           343 non-null float64\n",
      "chronic_truancy_pct                     343 non-null float64\n",
      "student_count_total                     343 non-null int64\n",
      "student_count_low_income                343 non-null int64\n",
      "student_count_special_ed                343 non-null int64\n",
      "student_count_english_learners          343 non-null int64\n",
      "student_count_black                     343 non-null int64\n",
      "student_count_hispanic                  343 non-null int64\n",
      "student_count_white                     343 non-null int64\n",
      "student_count_asian                     343 non-null int64\n",
      "student_count_native_american           343 non-null int64\n",
      "student_count_other_ethnicity           343 non-null int64\n",
      "dtypes: float64(3), int64(18), uint8(2)\n",
      "memory usage: 59.6 KB\n"
     ]
    }
   ],
   "source": [
    "X_train.info()"
   ]
  },
  {
   "cell_type": "markdown",
   "metadata": {},
   "source": [
    "## CLASSIFICATION"
   ]
  },
  {
   "cell_type": "code",
   "execution_count": 50,
   "metadata": {},
   "outputs": [],
   "source": [
    "from sklearn.naive_bayes import GaussianNB\n",
    "from sklearn.tree import DecisionTreeClassifier\n",
    "from sklearn.neighbors import KNeighborsClassifier \n",
    "from sklearn.svm import SVC\n",
    "from sklearn import metrics"
   ]
  },
  {
   "cell_type": "code",
   "execution_count": 63,
   "metadata": {},
   "outputs": [
    {
     "name": "stdout",
     "output_type": "stream",
     "text": [
      "\n",
      "Best summed precision: 2.396103896103896 \n",
      "From columns: [8, 16] \n",
      "With split: [0.80952381 0.9047619  0.68181818] \n",
      "And jump: 4\n",
      "\n",
      "Best summed recall: 2.375093984962406 \n",
      "From columns: [8, 16] \n",
      "With split: [0.89473684 0.54285714 0.9375    ] \n",
      "And jump: 4\n",
      "\n",
      "Best tot f1_score: 2.318045112781955 \n",
      "From columns: [8, 16] \n",
      "With split: [0.85       0.67857143 0.78947368] \n",
      "And jump: 4\n"
     ]
    }
   ],
   "source": [
    "#isolate what we are interested in, which is the student_attainment_rating\n",
    "classifier = GaussianNB()  \n",
    "\n",
    "y5_train = Y_train['student_attainment_rating']\n",
    "y5_test = Y_test['student_attainment_rating']\n",
    "\n",
    "min_cols = 0\n",
    "max_cols = len(X_train.columns)\n",
    "\n",
    "max_precision = -100\n",
    "best_precision_cols = []\n",
    "best_precision_split = []\n",
    "best_precision_jump = -100\n",
    "\n",
    "max_recall = -100\n",
    "best_recall_cols = []\n",
    "best_recall_split = []\n",
    "best_recall_jump = -100\n",
    "\n",
    "max_f1_score = -100\n",
    "best_f1_split = []\n",
    "best_cols = []\n",
    "best_f1_jump = -100\n",
    "\n",
    "# #for every possible set of columns, get their evaluation metrics\n",
    "jump = 1\n",
    "for start_col in range(min_cols, max_cols-1): #from 0 to 22 in range\n",
    "    for end_col in range(start_col+1, max_cols):#from 1 to 23 in range\n",
    "        while jump != end_col: #we test intervals of variables too\n",
    "            x5_train_scaled = X_train_scaled[:,start_col:end_col:jump]\n",
    "            x5_test_scaled = X_test_scaled[:,start_col:end_col:jump]\n",
    "            classifier.fit(x5_train_scaled, y5_train)\n",
    "            y_pred = classifier.predict(x5_test_scaled)\n",
    "\n",
    "            #get some evaluation metrics for the classifier\n",
    "            accuracy = metrics.accuracy_score(y5_test, y_pred)\n",
    "            error = 1 - accuracy\n",
    "            #The labels that are not predicted at all are simply ignored by using 'labels = np.unique(y_pred)'\n",
    "            #Doing this helps us to get rid of warnings\n",
    "            precision = metrics.precision_score(y5_test, y_pred, average = None, labels = np.unique(y_pred))\n",
    "            recall = metrics.recall_score(y5_test, y_pred, average = None, labels = np.unique(y_pred))\n",
    "            F1_score = metrics.f1_score(y5_test, y_pred, average = None, labels = np.unique(y_pred))\n",
    "\n",
    "            if max_precision <= sum(precision): #returns the last instance of best prec\n",
    "                max_precision = sum(precision)\n",
    "                best_precision_split = precision\n",
    "                best_precision_jump = jump                \n",
    "                best_precision_cols = [start_col, end_col]          \n",
    "\n",
    "            if max_recall <= sum(recall): #returns the last instance of best recall\n",
    "                max_recall = sum(recall)\n",
    "                best_recall_split = recall\n",
    "                best_recall_jump = jump\n",
    "                best_recall_cols = [start_col, end_col]     \n",
    "\n",
    "            if max_f1_score <= sum(F1_score): #returns the last instance of best f1 score\n",
    "                max_f1_score = sum(F1_score)\n",
    "                best_f1_split = F1_score\n",
    "                best_f1_jump = jump\n",
    "                best_cols = [start_col, end_col]\n",
    "            jump = jump + 1\n",
    "        jump = 1\n",
    "\n",
    "#         print(\"\\nStart and end cols:\", [start_col, end_col],\n",
    "#               \"\\nJump is:\", jump,\n",
    "#               \"\\nAccuracy:\", accuracy,\n",
    "#               \"\\nError:\", error,\n",
    "#               \"\\nPrecision:\", precision,\n",
    "#               \"\\nRecall:\", recall,\n",
    "#               \"\\nF1:\", F1_score\n",
    "#              )\n",
    "\n",
    "print(\"\\nBest summed precision:\",max_precision, \n",
    "      \"\\nFrom columns:\", best_precision_cols,\n",
    "      \"\\nWith split:\", best_precision_split,\n",
    "      \"\\nAnd jump:\", best_precision_jump      \n",
    "     )\n",
    "print(\"\\nBest summed recall:\",max_recall, \n",
    "      \"\\nFrom columns:\", best_recall_cols,\n",
    "      \"\\nWith split:\", best_recall_split,\n",
    "      \"\\nAnd jump:\", best_recall_jump\n",
    "     )\n",
    "print(\"\\nBest tot f1_score:\", max_f1_score,\n",
    "      \"\\nFrom columns:\",best_cols,\n",
    "      \"\\nWith split:\",best_f1_split,\n",
    "      \"\\nAnd jump:\", best_f1_jump\n",
    "     )"
   ]
  },
  {
   "cell_type": "markdown",
   "metadata": {},
   "source": [
    "### Building classification model using Naive Baye's technique"
   ]
  },
  {
   "cell_type": "code",
   "execution_count": 57,
   "metadata": {},
   "outputs": [
    {
     "name": "stdout",
     "output_type": "stream",
     "text": [
      "Precision:  [0.80952381 0.9047619  0.68181818]\n",
      "Recall:  [0.89473684 0.54285714 0.9375    ]\n",
      "F1_score:  [0.85       0.67857143 0.78947368]\n",
      "F1_score:  2.318045112781955\n",
      "[[17  1  1]\n",
      " [ 3 19 13]\n",
      " [ 1  1 30]]\n"
     ]
    },
    {
     "data": {
      "image/png": "[encoded data removed]",
      "text/plain": [
       "<Figure size 432x288 with 2 Axes>"
      ]
     },
     "metadata": {
      "needs_background": "light"
     },
     "output_type": "display_data"
    }
   ],
   "source": [
    "#Rebuilding the model with the best attributes that we found using above method \n",
    "#and printing its confusion matrix\n",
    "predictor_indices = [8,12]\n",
    "x5_train_scaled = X_train_scaled[:,predictor_indices]\n",
    "x5_test_scaled = X_test_scaled[:,predictor_indices]\n",
    "y5_train = Y_train['student_attainment_rating']\n",
    "y5_test = Y_test['student_attainment_rating']\n",
    "\n",
    "classifier = GaussianNB()  \n",
    "classifier.fit(x5_train_scaled, y5_train)\n",
    "\n",
    "Y_pred = classifier.predict(x5_test_scaled)\n",
    "precision = metrics.precision_score(y5_test, Y_pred, average = None)\n",
    "recall = metrics.recall_score(y5_test, Y_pred, average = None)           \n",
    "F1_score = metrics.f1_score(y5_test, Y_pred, average = None )\n",
    "\n",
    "print(\"Precision: \", precision)\n",
    "print(\"Recall: \", recall)\n",
    "print(\"F1_score: \", F1_score)\n",
    "print(\"F1_score: \", sum(F1_score))\n",
    "\n",
    "# Plot confusion matrix\n",
    "# Compute confusion matrix\n",
    "conf_matrix = metrics.confusion_matrix(y5_test, Y_pred)\n",
    "print(conf_matrix)\n",
    "sns.heatmap(conf_matrix, annot = True, fmt = \".3f\", square = True, cmap = plt.cm.Blues)\n",
    "plt.ylabel('Actual')\n",
    "plt.xlabel('Predicted')\n",
    "plt.title('Confusion matrix')\n",
    "plt.tight_layout()"
   ]
  },
  {
   "cell_type": "markdown",
   "metadata": {},
   "source": [
    "We get a good F1_score sum using the above attributes which are 'school_survey_collaborative_teachers' and 'chronic_truancy_pct.' We can see from the confusion matrix, that it doesn't do a good job in predicting labels class 1(Average)."
   ]
  },
  {
   "cell_type": "code",
   "execution_count": 58,
   "metadata": {},
   "outputs": [
    {
     "name": "stdout",
     "output_type": "stream",
     "text": [
      "Precision:  [0.64285714 0.80769231 0.8125    ]\n",
      "Recall:  [0.94736842 0.6        0.8125    ]\n",
      "F1_score:  [0.76595745 0.68852459 0.8125    ]\n",
      "F1_score:  2.266982036972445\n",
      "[[18  1  0]\n",
      " [ 8 21  6]\n",
      " [ 2  4 26]]\n"
     ]
    },
    {
     "data": {
      "image/png": "[encoded data removed]",
      "text/plain": [
       "<Figure size 432x288 with 2 Axes>"
      ]
     },
     "metadata": {
      "needs_background": "light"
     },
     "output_type": "display_data"
    }
   ],
   "source": [
    "#Trying some more attributes with attribute 8 and 12 to see if we can improve our confusion matrix.\n",
    "predictor_indices = [0,2,3,4,6,8,9,11,12,13]\n",
    "x5_train_scaled = X_train_scaled[:,predictor_indices]\n",
    "x5_test_scaled = X_test_scaled[:,predictor_indices]\n",
    "y5_train = Y_train['student_attainment_rating']\n",
    "y5_test = Y_test['student_attainment_rating']\n",
    "\n",
    "classifier = GaussianNB()  \n",
    "classifier.fit(x5_train_scaled, y5_train)\n",
    "\n",
    "Y_pred = classifier.predict(x5_test_scaled)\n",
    "precision = metrics.precision_score(y5_test, Y_pred, average = None)\n",
    "recall = metrics.recall_score(y5_test, Y_pred, average = None)   \n",
    "F1_score = metrics.f1_score(y5_test, Y_pred, average = None )\n",
    "\n",
    "print(\"Precision: \", precision)\n",
    "print(\"Recall: \", recall)\n",
    "print(\"F1_score: \", F1_score)\n",
    "print(\"F1_score: \", sum(F1_score))\n",
    "\n",
    "# Plot confusion matrix\n",
    "# Compute confusion matrix\n",
    "conf_matrix = metrics.confusion_matrix(y5_test, Y_pred)\n",
    "print(conf_matrix)\n",
    "sns.heatmap(conf_matrix, annot = True, fmt = \".3f\", square = True, cmap = plt.cm.Blues)\n",
    "plt.ylabel('Actual')\n",
    "plt.xlabel('Predicted')\n",
    "plt.title('Confusion matrix')\n",
    "plt.tight_layout()"
   ]
  },
  {
   "cell_type": "code",
   "execution_count": 60,
   "metadata": {},
   "outputs": [
    {
     "name": "stdout",
     "output_type": "stream",
     "text": [
      "Precision:  [0.65384615 0.81481481 0.81818182]\n",
      "Recall:  [0.89473684 0.62857143 0.84375   ]\n",
      "F1_score:  [0.75555556 0.70967742 0.83076923]\n",
      "F1_score:  2.296002205679625\n",
      "[[17  2  0]\n",
      " [ 7 22  6]\n",
      " [ 2  3 27]]\n"
     ]
    },
    {
     "data": {
      "image/png": "[encoded data removed]",
      "text/plain": [
       "<Figure size 432x288 with 2 Axes>"
      ]
     },
     "metadata": {
      "needs_background": "light"
     },
     "output_type": "display_data"
    }
   ],
   "source": [
    "#Trying some more attributes with attribute 8 and 12 to see if we can improve our confusion matrix.\n",
    "predictor_indices = [0,2,3,4,6,7,8,10,11,12,13]\n",
    "x5_train_scaled = X_train_scaled[:,predictor_indices]\n",
    "x5_test_scaled = X_test_scaled[:,predictor_indices]\n",
    "y5_train = Y_train['student_attainment_rating']\n",
    "y5_test = Y_test['student_attainment_rating']\n",
    "\n",
    "classifier = GaussianNB()  \n",
    "classifier.fit(x5_train_scaled, y5_train)\n",
    "\n",
    "Y_pred = classifier.predict(x5_test_scaled)\n",
    "precision = metrics.precision_score(y5_test, Y_pred, average = None)\n",
    "recall = metrics.recall_score(y5_test, Y_pred, average = None)   \n",
    "F1_score = metrics.f1_score(y5_test, Y_pred, average = None )\n",
    "\n",
    "\n",
    "print(\"Precision: \", precision)\n",
    "print(\"Recall: \", recall)\n",
    "print(\"F1_score: \", F1_score)\n",
    "print(\"F1_score: \", sum(F1_score))\n",
    "\n",
    "# Plot confusion matrix\n",
    "# Compute confusion matrix\n",
    "conf_matrix = metrics.confusion_matrix(y5_test, Y_pred)\n",
    "print(conf_matrix)\n",
    "sns.heatmap(conf_matrix, annot = True, fmt = \".3f\", square = True, cmap = plt.cm.Blues)\n",
    "plt.ylabel('Actual')\n",
    "plt.xlabel('Predicted')\n",
    "plt.title('Confusion matrix')\n",
    "plt.tight_layout()"
   ]
  },
  {
   "cell_type": "markdown",
   "metadata": {},
   "source": [
    "### Building classification model using K Nearest Neighbors method"
   ]
  },
  {
   "cell_type": "code",
   "execution_count": 67,
   "metadata": {},
   "outputs": [
    {
     "name": "stdout",
     "output_type": "stream",
     "text": [
      "\n",
      "Best summed precision: 2.2542735042735043 \n",
      "Using neighbors = 5 \n",
      "From columns: [12, 22] \n",
      "With split: [0.61538462 0.72222222 0.91666667] \n",
      "And jump: 1\n",
      "\n",
      "Best summed recall: 2.2724624060150376 \n",
      "Using neighbors = 5 \n",
      "From columns: [12, 22] \n",
      "With split: [0.84210526 0.74285714 0.6875    ] \n",
      "And jump: 1\n",
      "\n",
      "Best tot f1_score: 2.22921976302258 \n",
      "Using neighbors = 5 \n",
      "From columns: [12, 22] \n",
      "With split: [0.71111111 0.73239437 0.78571429] \n",
      "And jump: 1\n"
     ]
    }
   ],
   "source": [
    "#isolate what we are interested in, which is the student_attainment_rating\n",
    "y5_train = Y_train['student_attainment_rating']\n",
    "y5_test = Y_test['student_attainment_rating']\n",
    "\n",
    "min_cols = 0\n",
    "max_cols = len(X_train.columns)\n",
    "\n",
    "max_precision = -100\n",
    "best_precision_cols = []\n",
    "best_precision_split = []\n",
    "best_precision_neighbors = -100\n",
    "best_precision_jump = -100\n",
    "\n",
    "max_recall = -100\n",
    "best_recall_cols = []\n",
    "best_recall_split = []\n",
    "best_recall_neighbors = -100\n",
    "best_recall_jump = -100\n",
    "\n",
    "max_f1_score = -100\n",
    "best_f1_split = []\n",
    "best_cols = []\n",
    "best_f1_neighbors = -100\n",
    "best_f1_jump = -100\n",
    "\n",
    "jump = 1\n",
    "#for every possible set of columns and neighbors 1-5, get their evaluation metrics\n",
    "for start_col in range(min_cols, max_cols-1): #from 0 to 22 in range\n",
    "    for end_col in range(start_col+1, max_cols):#from 1 to 23 in range\n",
    "        while jump != end_col: #we test intervals of variables too        \n",
    "            x5_train_scaled = X_train_scaled[:,start_col:end_col:jump]\n",
    "            x5_test_scaled = X_test_scaled[:,start_col:end_col:jump]\n",
    "\n",
    "            #for number of neighbors from 1 to 5\n",
    "            for neighbors in range(1,6):\n",
    "#                 print(start_col, end_col, jump, neighbors)\n",
    "                classifier = KNeighborsClassifier(n_neighbors = neighbors)  \n",
    "                classifier.fit(x5_train_scaled, y5_train)\n",
    "\n",
    "                y_pred = classifier.predict(x5_test_scaled)\n",
    "\n",
    "                #get some evaluation metrics for the classifier\n",
    "                accuracy = metrics.accuracy_score(y5_test, y_pred)\n",
    "                error = 1 - accuracy\n",
    "                #The labels that are not predicted at all are simply ignored by using 'labels = np.unique(y_pred)'\n",
    "                #Doing this helps us to get rid of warnings\n",
    "                precision = metrics.precision_score(y5_test, y_pred, average = None, labels = np.unique(y_pred))\n",
    "                recall = metrics.recall_score(y5_test, y_pred, average = None, labels = np.unique(y_pred))\n",
    "                F1_score = metrics.f1_score(y5_test, y_pred, average = None, labels = np.unique(y_pred))\n",
    "\n",
    "                if max_precision <= sum(precision): #returns the last instance of best prec\n",
    "                    max_precision = sum(precision)\n",
    "                    best_precision_split = precision\n",
    "                    best_precision_neighbors = neighbors\n",
    "                    best_precision_jump = jump\n",
    "                    best_precision_cols = [start_col, end_col]          \n",
    "\n",
    "                if max_recall <= sum(recall): #returns the last instance of best recall\n",
    "                    max_recall = sum(recall)\n",
    "                    best_recall_split = recall\n",
    "                    best_recall_neighbors = neighbors     \n",
    "                    best_recall_jump = jump                    \n",
    "                    best_recall_cols = [start_col, end_col]     \n",
    "\n",
    "                if max_f1_score <= sum(F1_score): #returns the last instance of best f1 score\n",
    "                    max_f1_score = sum(F1_score)\n",
    "                    best_f1_split = F1_score\n",
    "                    best_f1_neighbors = neighbors\n",
    "                    best_f1_jump = jump\n",
    "                    best_cols = [start_col, end_col]\n",
    "\n",
    "    #             print(\"\\nStart and end cols:\", [start_col, end_col],\n",
    "    #                   \"\\nAccuracy:\", accuracy,\n",
    "    #                   \"\\nError:\", error,\n",
    "    #                   \"\\nPrecision:\", precision,\n",
    "    #                   \"\\nRecall:\", recall,\n",
    "    #                   \"\\nF1:\", F1_score\n",
    "    #                  )\n",
    "            jump = jump + 1\n",
    "        jump = 1\n",
    "\n",
    "print(\"\\nBest summed precision:\",max_precision, \n",
    "      \"\\nUsing neighbors =\", best_precision_neighbors,\n",
    "      \"\\nFrom columns:\", best_precision_cols,\n",
    "      \"\\nWith split:\", best_precision_split,\n",
    "      \"\\nAnd jump:\", best_precision_jump     \n",
    "     )\n",
    "print(\"\\nBest summed recall:\",max_recall, \n",
    "      \"\\nUsing neighbors =\", best_recall_neighbors,      \n",
    "      \"\\nFrom columns:\", best_recall_cols,\n",
    "      \"\\nWith split:\", best_recall_split,\n",
    "      \"\\nAnd jump:\", best_recall_jump      \n",
    "     )\n",
    "print(\"\\nBest tot f1_score:\", max_f1_score,\n",
    "      \"\\nUsing neighbors =\", best_f1_neighbors,      \n",
    "      \"\\nFrom columns:\",best_cols,\n",
    "      \"\\nWith split:\",best_f1_split,\n",
    "      \"\\nAnd jump:\", best_f1_jump\n",
    "     )            \n",
    "\n"
   ]
  },
  {
   "cell_type": "code",
   "execution_count": 62,
   "metadata": {},
   "outputs": [
    {
     "name": "stdout",
     "output_type": "stream",
     "text": [
      "Precision:  [0.61538462 0.72222222 0.91666667]\n",
      "Recall:  [0.84210526 0.74285714 0.6875    ]\n",
      "F1_score:  [0.71111111 0.73239437 0.78571429]\n",
      "F1_score:  2.22921976302258\n",
      "[[16  3  0]\n",
      " [ 7 26  2]\n",
      " [ 3  7 22]]\n"
     ]
    },
    {
     "data": {
      "image/png": "[encoded data removed]",
      "text/plain": [
       "<Figure size 432x288 with 2 Axes>"
      ]
     },
     "metadata": {
      "needs_background": "light"
     },
     "output_type": "display_data"
    }
   ],
   "source": [
    "#Rebuilding the model with the best attributes in k-nearest-neighbors and printing its confusion matrix\n",
    "predictor_indices = [12,13,14,15,16,17,18,19,20,21]\n",
    "x5_train_scaled = X_train_scaled[:,predictor_indices]\n",
    "x5_test_scaled = X_test_scaled[:,predictor_indices]\n",
    "y5_train = Y_train['student_attainment_rating']\n",
    "y5_test = Y_test['student_attainment_rating']\n",
    "\n",
    "classifier = KNeighborsClassifier(n_neighbors = 5)  \n",
    "classifier.fit(x5_train_scaled, y5_train)\n",
    "\n",
    "Y_pred = classifier.predict(x5_test_scaled)\n",
    "precision = metrics.precision_score(y5_test, Y_pred, average = None)\n",
    "recall = metrics.recall_score(y5_test, Y_pred, average = None)\n",
    "F1_score = metrics.f1_score(y5_test, Y_pred, average = None)\n",
    "\n",
    "print(\"Precision: \", precision)\n",
    "print(\"Recall: \", recall)\n",
    "print(\"F1_score: \", F1_score)\n",
    "print(\"F1_score: \", sum(F1_score))\n",
    "\n",
    "# Plot confusion matrix\n",
    "# Compute confusion matrix\n",
    "conf_matrix = metrics.confusion_matrix(y5_test, Y_pred)\n",
    "print(conf_matrix)\n",
    "sns.heatmap(conf_matrix, annot = True, fmt = \".3f\", square = True, cmap = plt.cm.Blues)\n",
    "plt.ylabel('Actual')\n",
    "plt.xlabel('Predicted')\n",
    "plt.title('Confusion matrix')\n",
    "plt.tight_layout()"
   ]
  },
  {
   "cell_type": "code",
   "execution_count": 63,
   "metadata": {},
   "outputs": [
    {
     "name": "stdout",
     "output_type": "stream",
     "text": [
      "Precision:  [0.61538462 0.72222222 0.91666667]\n",
      "Recall:  [0.84210526 0.74285714 0.6875    ]\n",
      "F1_score:  [0.71111111 0.73239437 0.78571429]\n",
      "sum of F1_score:  2.22921976302258\n",
      "[[16  3  0]\n",
      " [ 7 26  2]\n",
      " [ 3  7 22]]\n"
     ]
    },
    {
     "data": {
      "image/png": "[encoded data removed]",
      "text/plain": [
       "<Figure size 432x288 with 2 Axes>"
      ]
     },
     "metadata": {
      "needs_background": "light"
     },
     "output_type": "display_data"
    }
   ],
   "source": [
    "#Using the attributes that gave the best result for Naive Baye's.\n",
    "predictor_indices = [0,1,2,3,4,6,8,9,11,12,13]\n",
    "x5_train_scaled = X_train_scaled[:,predictor_indices]\n",
    "x5_test_scaled = X_test_scaled[:,predictor_indices]\n",
    "y5_train = Y_train['student_attainment_rating']\n",
    "y5_test = Y_test['student_attainment_rating']\n",
    "\n",
    "classifier = KNeighborsClassifier(n_neighbors = 5)  \n",
    "classifier.fit(x5_train_scaled, y5_train)\n",
    "precision = metrics.precision_score(y5_test, Y_pred, average = None)\n",
    "recall = metrics.recall_score(y5_test, Y_pred, average = None)\n",
    "F1_score = metrics.f1_score(y5_test, Y_pred, average = None)\n",
    "\n",
    "print(\"Precision: \", precision)\n",
    "print(\"Recall: \", recall)\n",
    "print(\"F1_score: \", F1_score)\n",
    "print(\"sum of F1_score: \", sum(F1_score))\n",
    "\n",
    "# Plot confusion matrix\n",
    "# Compute confusion matrix\n",
    "conf_matrix = metrics.confusion_matrix(y5_test, Y_pred)\n",
    "print(conf_matrix)\n",
    "sns.heatmap(conf_matrix, annot = True, fmt = \".3f\", square = True, cmap = plt.cm.Blues)\n",
    "plt.ylabel('Actual')\n",
    "plt.xlabel('Predicted')\n",
    "plt.title('Confusion matrix')\n",
    "plt.tight_layout()"
   ]
  },
  {
   "cell_type": "markdown",
   "metadata": {},
   "source": [
    "       The two classification methods involved were Naive Baye's and K nearest neighbors. Of the models we observed, Naive Baye's, using indices: 'school_survey_collaborative_teachers'and 'chronic_truancy_pct' provided us with the best f1 score. We used f1 score as our main measurement for deciding which model had the best performance since it accounts for both the precision and recall. Additionally, we had a sum of the f1 score to find which provided a maximal return on deciding all the three labels in our 'student_attainment_rating.' The performance of our best model has an f1 score of 0.85 on 0's(BELOW AVERAGE), 0.6785 on 1's(AVERAGE) and 0.7894 on 2's(ABOVE AVERAGE) respectively. For our variables, we enumerated through many combinations and selected the combination that gave us the best f1 score.\n",
    "      \n",
    "       The parameters of our k-nearest neighbors was switching the values of k from 1-5. No changes were made to the distance parameter, so Minkowski with p=2 (Euclidean) was kept from default. For our variables, we enumerated through many combinations and selected the combination that gave us the best f1 score."
   ]
  },
  {
   "cell_type": "code",
   "execution_count": null,
   "metadata": {},
   "outputs": [],
   "source": []
  }
 ],
 "metadata": {
  "kernelspec": {
   "display_name": "Python 3",
   "language": "python",
   "name": "python3"
  },
  "language_info": {
   "codemirror_mode": {
    "name": "ipython",
    "version": 3
   },
   "file_extension": ".py",
   "mimetype": "text/x-python",
   "name": "python",
   "nbconvert_exporter": "python",
   "pygments_lexer": "ipython3",
   "version": "3.6.6"
  }
 },
 "nbformat": 4,
 "nbformat_minor": 2
}
