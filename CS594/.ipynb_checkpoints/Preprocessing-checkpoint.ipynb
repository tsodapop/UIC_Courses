{
 "cells": [
  {
   "cell_type": "code",
   "execution_count": 1,
   "metadata": {},
   "outputs": [],
   "source": [
    "import pandas as pd\n",
    "import numpy as np\n",
    "import re\n",
    "\n",
    "pd.set_option('display.max_columns', 999)"
   ]
  },
  {
   "cell_type": "code",
   "execution_count": 2,
   "metadata": {},
   "outputs": [],
   "source": [
    "# watch_csv = pd.read_csv('watch_data/watch_base_latest.csv')\n",
    "watch_csv = pd.read_csv('watch_data_final/final 2.csv')"
   ]
  },
  {
   "cell_type": "code",
   "execution_count": 3,
   "metadata": {},
   "outputs": [],
   "source": [
    "#columns we will drop because they are not visually advantageous to classify by\n",
    "drop_col = [\n",
    "    'brand',\n",
    "    'reference',\n",
    "    'name',\n",
    "    'produced',\n",
    "    'limited',\n",
    "    'caseDiameter',\n",
    "    'caseHeight',\n",
    "    'caseLugWidth',\n",
    "    'dialMaterial',\n",
    "    'movementBrand',\n",
    "    'movementCaliber',\n",
    "    'movementDiameter',\n",
    "    'movementJewels',\n",
    "    'movementReserve',\n",
    "    'movementFrequency',\n",
    "    'description'\n",
    "]\n",
    "\n",
    "watch_csv.drop(drop_col, \n",
    "               axis=1,\n",
    "               inplace=True\n",
    "              )"
   ]
  },
  {
   "cell_type": "code",
   "execution_count": 4,
   "metadata": {},
   "outputs": [],
   "source": [
    "watch_csv.drop('imagePath', axis=1, inplace=True)"
   ]
  },
  {
   "cell_type": "code",
   "execution_count": 5,
   "metadata": {},
   "outputs": [
    {
     "data": {
      "text/plain": [
       "array(['Analog', 'Digital', 'Analog/ Digital'], dtype=object)"
      ]
     },
     "execution_count": 5,
     "metadata": {},
     "output_type": "execute_result"
    }
   ],
   "source": [
    "# watch_csv.head()\n",
    "watch_csv.movementDisplay.unique()"
   ]
  },
  {
   "cell_type": "code",
   "execution_count": 6,
   "metadata": {},
   "outputs": [],
   "source": [
    "watch_csv['caseMaterial'] = 'case material - ' + watch_csv['caseMaterial']\n",
    "watch_csv['caseGlass'] = 'case glass - ' + watch_csv['caseGlass']\n",
    "watch_csv['caseBack'] = 'case back - ' + watch_csv['caseBack']\n",
    "watch_csv['dialColor'] = 'dial color - ' + watch_csv['dialColor']\n",
    "watch_csv['dialHands'] = 'dial hands - ' + watch_csv['dialHands']"
   ]
  },
  {
   "cell_type": "code",
   "execution_count": 7,
   "metadata": {},
   "outputs": [
    {
     "name": "stdout",
     "output_type": "stream",
     "text": [
      "max length\n",
      " 842\n",
      "\n",
      "Columns with NA values\n",
      " [['caseMaterial', 36], ['caseGlass', 18], ['caseBack', 10], ['caseShape', 47], ['dialIndexes', 2], ['dialHands', 6], ['movementTime', 1]]\n"
     ]
    }
   ],
   "source": [
    "print(\"max length\\n\", len(watch_csv))\n",
    "\n",
    "#shows the columns with NA values\n",
    "has_na_vals = []\n",
    "for column in watch_csv:\n",
    "    check_na = watch_csv[watch_csv[column].isna()]\n",
    "    if check_na.empty == False:\n",
    "        has_na_vals.append([column,len(check_na)])\n",
    "print(\"\\nColumns with NA values\\n\", has_na_vals)"
   ]
  },
  {
   "cell_type": "code",
   "execution_count": 8,
   "metadata": {},
   "outputs": [],
   "source": [
    "#we can actually input these missing labels into the dataset if we want.\n",
    "#however, to speed this up, i am omitting the rows with NA data\n",
    "\n",
    "for i in has_na_vals:\n",
    "    with_na = watch_csv[watch_csv[i[0]].isna()]\n",
    "    watch_csv.drop(with_na.index, axis=0, inplace=True)\n",
    "#     watch_csv.reset_index(inplace=True, drop=True)"
   ]
  },
  {
   "cell_type": "code",
   "execution_count": 9,
   "metadata": {},
   "outputs": [],
   "source": [
    "#clean up all special characters for all columns but image link\n",
    "for column in watch_csv:\n",
    "    if column != \"imageLink\":\n",
    "        watch_csv[column] = watch_csv[column].map(lambda x: re.sub('[^A-Za-z0-9-]+ ', '',x))    \n",
    "        watch_csv[column] = watch_csv[column].str.slice(0,31,1)"
   ]
  },
  {
   "cell_type": "code",
   "execution_count": 10,
   "metadata": {},
   "outputs": [],
   "source": [
    "#'update' the new set of rows we know we need to iterate over\n",
    "new_rows = []\n",
    "\n",
    "for index, row in watch_csv.iterrows():\n",
    "    new_rows.append(index)"
   ]
  },
  {
   "cell_type": "code",
   "execution_count": 11,
   "metadata": {},
   "outputs": [],
   "source": [
    "#update the url link\n",
    "for i in new_rows:\n",
    "    splitter = ' gs://ram594/final_images/' + watch_csv.loc[i,\"imageLink\"].split('/')[-1]\n",
    "#     splitter = 'gs://watches_draft_2/images_latest/' + watch_csv.loc[i,\"imageLink\"].split('/')[-1]\n",
    "    watch_csv.loc[i,'imageLink'] = splitter"
   ]
  },
  {
   "cell_type": "code",
   "execution_count": 12,
   "metadata": {},
   "outputs": [],
   "source": [
    "link = watch_csv['imageLink']\n",
    "watch_csv.drop('imageLink', axis=1, inplace=True)\n",
    "watch_csv.insert(0, 'googleLink', link)"
   ]
  },
  {
   "cell_type": "code",
   "execution_count": 13,
   "metadata": {},
   "outputs": [],
   "source": [
    "#unable to diagnose issue with duplicate google links pulling same watch, so we will need to \n",
    "#cut duplicates out of the dataset\n",
    "#remove any duplicates of google links\n",
    "\n",
    "watch_csv.drop_duplicates(subset='googleLink', keep='first', inplace=True)"
   ]
  },
  {
   "cell_type": "code",
   "execution_count": 14,
   "metadata": {},
   "outputs": [
    {
     "name": "stdout",
     "output_type": "stream",
     "text": [
      "DELETE THE FOLLOWING...\n",
      "\n",
      "NEW LINE:  family LABEL:  Engineer Hydrocarbon\n",
      "NEW LINE:  family LABEL:  Crash de Cartier\n",
      "NEW LINE:  caseMaterial LABEL:  case material - Yellow gold\n",
      "NEW LINE:  caseMaterial LABEL:  case material - Ceramic\n",
      "NEW LINE:  caseMaterial LABEL:  case material - Rose Gold\n",
      "NEW LINE:  caseMaterial LABEL:  case material - Honey Gold\n",
      "NEW LINE:  caseGlass LABEL:  case glass - Mineral\n",
      "NEW LINE:  caseBack LABEL:  case back - Hinged\n",
      "NEW LINE:  caseBack LABEL:  case back - Hunter\n",
      "NEW LINE:  caseShape LABEL:  Other\n",
      "NEW LINE:  dialColor LABEL:  dial color - Red\n",
      "NEW LINE:  dialColor LABEL:  dial color - Brown\n",
      "NEW LINE:  dialColor LABEL:  dial color - Cream\n",
      "NEW LINE:  dialColor LABEL:  dial color - Grey\n",
      "NEW LINE:  dialColor LABEL:  dial color - Sapphire\n",
      "NEW LINE:  dialColor LABEL:  dial color - Green\n",
      "NEW LINE:  dialColor LABEL:  dial color - Beige\n",
      "NEW LINE:  dialColor LABEL:  dial color - Paved\n",
      "NEW LINE:  dialColor LABEL:  dial color - Multi-Color\n",
      "NEW LINE:  dialColor LABEL:  dial color - Gold\n",
      "NEW LINE:  dialColor LABEL:  dial color - Anthracite\n",
      "NEW LINE:  dialColor LABEL:  dial color - Bronze\n",
      "NEW LINE:  dialIndexes LABEL:  None\n",
      "NEW LINE:  dialHands LABEL:  dial hands - Poire\n",
      "NEW LINE:  movementDisplay LABEL:  AnalogDigital\n",
      "NEW LINE:  movementTime LABEL:  HoursMinutesDayNight Indication\n",
      "NEW LINE:  movementTime LABEL:  Additional 24 Hour Hand (fixedH\n",
      "NEW LINE:  movementTime LABEL:  Additional 12 Hour Hand (adjust\n",
      "NEW LINE:  movementTime LABEL:  Hours\n",
      "NEW LINE:  movementTime LABEL:  MinutesAdditional 24 Hour Hand \n",
      "NEW LINE:  movementTime LABEL:  Additional 24 Hour Hand (adjust\n",
      "DELETE THE FOLLOWING...\n",
      "\n",
      "NEW LINE:  family LABEL:  1815\n",
      "NEW LINE:  caseMaterial LABEL:  case material - Titanium\n",
      "NEW LINE:  dialColor LABEL:  dial color - Skeleton\n",
      "DELETE THE FOLLOWING...\n",
      "\n",
      "NEW LINE:  caseMaterial LABEL:  case material - Platinum\n",
      "NEW LINE:  dialHands LABEL:  dial hands - Alpha\n",
      "DELETE THE FOLLOWING...\n",
      "\n",
      "NEW LINE:  family LABEL:  Millenary\n",
      "NEW LINE:  caseShape LABEL:  Oval\n",
      "DELETE THE FOLLOWING...\n",
      "\n",
      "NEW LINE:  caseMaterial LABEL:  case material - White gold\n",
      "NEW LINE:  dialIndexes LABEL:  Roman Numerals\n",
      "DELETE THE FOLLOWING...\n",
      "\n",
      "DELETE THE FOLLOWING...\n",
      "\n",
      "DELETE THE FOLLOWING...\n",
      "\n",
      "DELETE THE FOLLOWING...\n",
      "\n",
      "DELETE THE FOLLOWING...\n",
      "\n"
     ]
    }
   ],
   "source": [
    "##### need to loop this maybe 10 times\n",
    "#we are doing this loop to ensure that each label has at least 10 rows, otherwise autoML will deny\n",
    "\n",
    "for i in range(0,10):\n",
    "    items_count = {} #create the dictionary that will hold the columns\n",
    "    for column in watch_csv:\n",
    "        if column != 'googleLink':\n",
    "            items_count[column] = {} #create the second dictionary to hold the count of labels\n",
    "            for i in watch_csv[column]:\n",
    "                if i not in items_count[column]:\n",
    "                    items_count[column][i] = 1 #if label not already in dict, add\n",
    "                else:\n",
    "                    items_count[column][i] +=1 #else, add to the num\n",
    "\n",
    "    #figure out what needs to be removed\n",
    "    to_remove = []\n",
    "    for column in items_count:\n",
    "        for label in items_count[column]:\n",
    "            if items_count[column][label] < 10:\n",
    "                to_remove.append([column, label])\n",
    "\n",
    "    #do the actual removing\n",
    "    print(\"DELETE THE FOLLOWING...\\n\")\n",
    "    for i in to_remove:\n",
    "        print(\"NEW LINE: \",i[0], \"LABEL: \", i[1])\n",
    "        watch_csv = watch_csv[~watch_csv[i[0]].isin([i[1]])]"
   ]
  },
  {
   "cell_type": "code",
   "execution_count": 15,
   "metadata": {},
   "outputs": [],
   "source": [
    "watch_csv.to_csv(index=False, path_or_buf='watch_data_final/watch_csv.csv')"
   ]
  },
  {
   "cell_type": "code",
   "execution_count": 16,
   "metadata": {},
   "outputs": [
    {
     "data": {
      "text/plain": [
       "Int64Index([  0,   3,   4,   6,   8,   9,  10,  11,  12,  15,\n",
       "            ...\n",
       "            823, 824, 826, 827, 828, 830, 831, 834, 835, 841],\n",
       "           dtype='int64', length=404)"
      ]
     },
     "execution_count": 16,
     "metadata": {},
     "output_type": "execute_result"
    }
   ],
   "source": [
    "watch_csv.index"
   ]
  },
  {
   "cell_type": "markdown",
   "metadata": {},
   "source": [
    "## FINDING COSINE SIMILARITY FOR RECOMMENDATIONS"
   ]
  },
  {
   "cell_type": "code",
   "execution_count": 17,
   "metadata": {},
   "outputs": [],
   "source": [
    "#make a new copy df \n",
    "cos_df = watch_csv.copy(deep=True)"
   ]
  },
  {
   "cell_type": "code",
   "execution_count": 18,
   "metadata": {},
   "outputs": [],
   "source": [
    "#we arent going to use google link to find similarity, so drop it\n",
    "cos_df.drop('googleLink', axis=1, inplace=True)"
   ]
  },
  {
   "cell_type": "code",
   "execution_count": 19,
   "metadata": {},
   "outputs": [],
   "source": [
    "from sklearn.metrics.pairwise import cosine_similarity\n",
    "from sklearn.feature_extraction.text import TfidfVectorizer"
   ]
  },
  {
   "cell_type": "code",
   "execution_count": 20,
   "metadata": {},
   "outputs": [],
   "source": [
    "#have the watches as their set of labels and then make them a string for comparison\n",
    "watches = []\n",
    "\n",
    "cols = cos_df.columns\n",
    "\n",
    "for row in range(0,len(cos_df.index)): #go through the rows\n",
    "    watch = \"\"\n",
    "    for column in cols:\n",
    "        watch = watch + cos_df.iloc[row][column] + \" \"\n",
    "    watches.append(watch)\n",
    "    "
   ]
  },
  {
   "cell_type": "code",
   "execution_count": 21,
   "metadata": {},
   "outputs": [
    {
     "data": {
      "text/html": [
       "<div>\n",
       "<style scoped>\n",
       "    .dataframe tbody tr th:only-of-type {\n",
       "        vertical-align: middle;\n",
       "    }\n",
       "\n",
       "    .dataframe tbody tr th {\n",
       "        vertical-align: top;\n",
       "    }\n",
       "\n",
       "    .dataframe thead th {\n",
       "        text-align: right;\n",
       "    }\n",
       "</style>\n",
       "<table border=\"1\" class=\"dataframe\">\n",
       "  <thead>\n",
       "    <tr style=\"text-align: right;\">\n",
       "      <th></th>\n",
       "      <th>family</th>\n",
       "      <th>caseMaterial</th>\n",
       "      <th>caseGlass</th>\n",
       "      <th>caseBack</th>\n",
       "      <th>caseShape</th>\n",
       "      <th>dialColor</th>\n",
       "      <th>dialIndexes</th>\n",
       "      <th>dialHands</th>\n",
       "      <th>movementType</th>\n",
       "      <th>movementDisplay</th>\n",
       "      <th>movementTime</th>\n",
       "    </tr>\n",
       "  </thead>\n",
       "  <tbody>\n",
       "    <tr>\n",
       "      <th>0</th>\n",
       "      <td>Pilot</td>\n",
       "      <td>case material - Stainless steel</td>\n",
       "      <td>case glass - Sapphire</td>\n",
       "      <td>case back - Open</td>\n",
       "      <td>Round</td>\n",
       "      <td>dial color - Black</td>\n",
       "      <td>Arabic Numerals</td>\n",
       "      <td>dial hands - Sword</td>\n",
       "      <td>Automatic</td>\n",
       "      <td>Analog</td>\n",
       "      <td>HoursMinutesSmall Seconds</td>\n",
       "    </tr>\n",
       "    <tr>\n",
       "      <th>3</th>\n",
       "      <td>Instruments</td>\n",
       "      <td>case material - Stainless steel</td>\n",
       "      <td>case glass - Sapphire</td>\n",
       "      <td>case back - Closed</td>\n",
       "      <td>Square</td>\n",
       "      <td>dial color - Black</td>\n",
       "      <td>Mixed</td>\n",
       "      <td>dial hands - Sword</td>\n",
       "      <td>Automatic</td>\n",
       "      <td>Analog</td>\n",
       "      <td>HoursMinutesSmall Seconds</td>\n",
       "    </tr>\n",
       "    <tr>\n",
       "      <th>4</th>\n",
       "      <td>Transocean</td>\n",
       "      <td>case material - Stainless Steel</td>\n",
       "      <td>case glass - Sapphire</td>\n",
       "      <td>case back - Closed</td>\n",
       "      <td>Round</td>\n",
       "      <td>dial color - Black</td>\n",
       "      <td>StickDot</td>\n",
       "      <td>dial hands - Stick</td>\n",
       "      <td>Automatic</td>\n",
       "      <td>Analog</td>\n",
       "      <td>HoursMinutesSmall Seconds</td>\n",
       "    </tr>\n",
       "    <tr>\n",
       "      <th>6</th>\n",
       "      <td>Transocean</td>\n",
       "      <td>case material - Stainless Steel</td>\n",
       "      <td>case glass - Sapphire</td>\n",
       "      <td>case back - Closed</td>\n",
       "      <td>Round</td>\n",
       "      <td>dial color - Black</td>\n",
       "      <td>StickDot</td>\n",
       "      <td>dial hands - Stick</td>\n",
       "      <td>Automatic</td>\n",
       "      <td>Analog</td>\n",
       "      <td>HoursMinutesSeconds</td>\n",
       "    </tr>\n",
       "    <tr>\n",
       "      <th>8</th>\n",
       "      <td>Pilot</td>\n",
       "      <td>case material - Stainless steel</td>\n",
       "      <td>case glass - Sapphire</td>\n",
       "      <td>case back - Open</td>\n",
       "      <td>Round</td>\n",
       "      <td>dial color - Black</td>\n",
       "      <td>Arabic Numerals</td>\n",
       "      <td>dial hands - Sword</td>\n",
       "      <td>Automatic</td>\n",
       "      <td>Analog</td>\n",
       "      <td>HoursMinutesSmall Seconds</td>\n",
       "    </tr>\n",
       "  </tbody>\n",
       "</table>\n",
       "</div>"
      ],
      "text/plain": [
       "        family                     caseMaterial              caseGlass  \\\n",
       "0        Pilot  case material - Stainless steel  case glass - Sapphire   \n",
       "3  Instruments  case material - Stainless steel  case glass - Sapphire   \n",
       "4   Transocean  case material - Stainless Steel  case glass - Sapphire   \n",
       "6   Transocean  case material - Stainless Steel  case glass - Sapphire   \n",
       "8        Pilot  case material - Stainless steel  case glass - Sapphire   \n",
       "\n",
       "             caseBack caseShape           dialColor      dialIndexes  \\\n",
       "0    case back - Open     Round  dial color - Black  Arabic Numerals   \n",
       "3  case back - Closed    Square  dial color - Black            Mixed   \n",
       "4  case back - Closed     Round  dial color - Black         StickDot   \n",
       "6  case back - Closed     Round  dial color - Black         StickDot   \n",
       "8    case back - Open     Round  dial color - Black  Arabic Numerals   \n",
       "\n",
       "            dialHands movementType movementDisplay               movementTime  \n",
       "0  dial hands - Sword    Automatic          Analog  HoursMinutesSmall Seconds  \n",
       "3  dial hands - Sword    Automatic          Analog  HoursMinutesSmall Seconds  \n",
       "4  dial hands - Stick    Automatic          Analog  HoursMinutesSmall Seconds  \n",
       "6  dial hands - Stick    Automatic          Analog        HoursMinutesSeconds  \n",
       "8  dial hands - Sword    Automatic          Analog  HoursMinutesSmall Seconds  "
      ]
     },
     "execution_count": 21,
     "metadata": {},
     "output_type": "execute_result"
    }
   ],
   "source": [
    "cos_df.head()"
   ]
  },
  {
   "cell_type": "code",
   "execution_count": 22,
   "metadata": {},
   "outputs": [
    {
     "data": {
      "text/plain": [
       "'Pilot case material - Stainless steel case glass - Sapphire case back - Open Round dial color - Black Arabic Numerals dial hands - Sword Automatic Analog HoursMinutesSmall Seconds '"
      ]
     },
     "execution_count": 22,
     "metadata": {},
     "output_type": "execute_result"
    }
   ],
   "source": [
    "#example\n",
    "watches[0]"
   ]
  },
  {
   "cell_type": "code",
   "execution_count": 23,
   "metadata": {},
   "outputs": [],
   "source": [
    "#we are using tfidf vectorizer to find the count of words in each set of watch labels\n",
    "tvec = TfidfVectorizer(stop_words='english')\n",
    "sparse_matrix = tvec.fit_transform(watches)"
   ]
  },
  {
   "cell_type": "code",
   "execution_count": 24,
   "metadata": {},
   "outputs": [],
   "source": [
    "#this helps visualize the actual term frequency that we are looking at \n",
    "#using tfidf, we are accounting for frequency across all watches\n",
    "doc_frequency_matrix = sparse_matrix.todense()\n",
    "\n",
    "df = pd.DataFrame(\n",
    "    doc_frequency_matrix,\n",
    "    columns = tvec.get_feature_names(),    \n",
    "    index = watches\n",
    ")"
   ]
  },
  {
   "cell_type": "code",
   "execution_count": 25,
   "metadata": {},
   "outputs": [
    {
     "data": {
      "text/html": [
       "<div>\n",
       "<style scoped>\n",
       "    .dataframe tbody tr th:only-of-type {\n",
       "        vertical-align: middle;\n",
       "    }\n",
       "\n",
       "    .dataframe tbody tr th {\n",
       "        vertical-align: top;\n",
       "    }\n",
       "\n",
       "    .dataframe thead th {\n",
       "        text-align: right;\n",
       "    }\n",
       "</style>\n",
       "<table border=\"1\" class=\"dataframe\">\n",
       "  <thead>\n",
       "    <tr style=\"text-align: right;\">\n",
       "      <th></th>\n",
       "      <th>12</th>\n",
       "      <th>analog</th>\n",
       "      <th>arabic</th>\n",
       "      <th>audemars</th>\n",
       "      <th>automatic</th>\n",
       "      <th>baton</th>\n",
       "      <th>black</th>\n",
       "      <th>blue</th>\n",
       "      <th>case</th>\n",
       "      <th>closed</th>\n",
       "      <th>color</th>\n",
       "      <th>dauphine</th>\n",
       "      <th>dial</th>\n",
       "      <th>digital</th>\n",
       "      <th>double</th>\n",
       "      <th>feuille</th>\n",
       "      <th>glass</th>\n",
       "      <th>gold</th>\n",
       "      <th>hands</th>\n",
       "      <th>handwound</th>\n",
       "      <th>hour</th>\n",
       "      <th>hoursminutes</th>\n",
       "      <th>hoursminutesadditional</th>\n",
       "      <th>hoursminutesseconds</th>\n",
       "      <th>hoursminutessecondsworld</th>\n",
       "      <th>hoursminutessmall</th>\n",
       "      <th>instruments</th>\n",
       "      <th>jules</th>\n",
       "      <th>material</th>\n",
       "      <th>mixed</th>\n",
       "      <th>numerals</th>\n",
       "      <th>open</th>\n",
       "      <th>outdoor</th>\n",
       "      <th>pilot</th>\n",
       "      <th>pink</th>\n",
       "      <th>processor</th>\n",
       "      <th>proprietary</th>\n",
       "      <th>quartz</th>\n",
       "      <th>rectangular</th>\n",
       "      <th>red</th>\n",
       "      <th>reverso</th>\n",
       "      <th>round</th>\n",
       "      <th>sapphire</th>\n",
       "      <th>seconds</th>\n",
       "      <th>secondsworld</th>\n",
       "      <th>silver</th>\n",
       "      <th>square</th>\n",
       "      <th>stainless</th>\n",
       "      <th>steel</th>\n",
       "      <th>stick</th>\n",
       "      <th>stickdot</th>\n",
       "      <th>sword</th>\n",
       "      <th>time</th>\n",
       "      <th>transocean</th>\n",
       "      <th>watch</th>\n",
       "      <th>white</th>\n",
       "    </tr>\n",
       "  </thead>\n",
       "  <tbody>\n",
       "    <tr>\n",
       "      <th>Pilot case material - Stainless steel case glass - Sapphire case back - Open Round dial color - Black Arabic Numerals dial hands - Sword Automatic Analog HoursMinutesSmall Seconds</th>\n",
       "      <td>0.0</td>\n",
       "      <td>0.117168</td>\n",
       "      <td>0.261654</td>\n",
       "      <td>0.0</td>\n",
       "      <td>0.147606</td>\n",
       "      <td>0.0</td>\n",
       "      <td>0.19466</td>\n",
       "      <td>0.0</td>\n",
       "      <td>0.335389</td>\n",
       "      <td>0.0</td>\n",
       "      <td>0.111796</td>\n",
       "      <td>0.0</td>\n",
       "      <td>0.223593</td>\n",
       "      <td>0.0</td>\n",
       "      <td>0.0</td>\n",
       "      <td>0.0</td>\n",
       "      <td>0.111796</td>\n",
       "      <td>0.0</td>\n",
       "      <td>0.111796</td>\n",
       "      <td>0.0</td>\n",
       "      <td>0.0</td>\n",
       "      <td>0.0</td>\n",
       "      <td>0.0</td>\n",
       "      <td>0.0</td>\n",
       "      <td>0.0</td>\n",
       "      <td>0.222096</td>\n",
       "      <td>0.0</td>\n",
       "      <td>0.0</td>\n",
       "      <td>0.111796</td>\n",
       "      <td>0.0</td>\n",
       "      <td>0.261654</td>\n",
       "      <td>0.264863</td>\n",
       "      <td>0.0</td>\n",
       "      <td>0.487972</td>\n",
       "      <td>0.0</td>\n",
       "      <td>0.0</td>\n",
       "      <td>0.0</td>\n",
       "      <td>0.0</td>\n",
       "      <td>0.0</td>\n",
       "      <td>0.0</td>\n",
       "      <td>0.0</td>\n",
       "      <td>0.159216</td>\n",
       "      <td>0.111796</td>\n",
       "      <td>0.247785</td>\n",
       "      <td>0.0</td>\n",
       "      <td>0.0</td>\n",
       "      <td>0.0</td>\n",
       "      <td>0.147226</td>\n",
       "      <td>0.147226</td>\n",
       "      <td>0.0</td>\n",
       "      <td>0.0</td>\n",
       "      <td>0.27749</td>\n",
       "      <td>0.0</td>\n",
       "      <td>0.0</td>\n",
       "      <td>0.0</td>\n",
       "      <td>0.0</td>\n",
       "    </tr>\n",
       "  </tbody>\n",
       "</table>\n",
       "</div>"
      ],
      "text/plain": [
       "                                                     12    analog    arabic  \\\n",
       "Pilot case material - Stainless steel case glas...  0.0  0.117168  0.261654   \n",
       "\n",
       "                                                    audemars  automatic  \\\n",
       "Pilot case material - Stainless steel case glas...       0.0   0.147606   \n",
       "\n",
       "                                                    baton    black  blue  \\\n",
       "Pilot case material - Stainless steel case glas...    0.0  0.19466   0.0   \n",
       "\n",
       "                                                        case  closed  \\\n",
       "Pilot case material - Stainless steel case glas...  0.335389     0.0   \n",
       "\n",
       "                                                       color  dauphine  \\\n",
       "Pilot case material - Stainless steel case glas...  0.111796       0.0   \n",
       "\n",
       "                                                        dial  digital  double  \\\n",
       "Pilot case material - Stainless steel case glas...  0.223593      0.0     0.0   \n",
       "\n",
       "                                                    feuille     glass  gold  \\\n",
       "Pilot case material - Stainless steel case glas...      0.0  0.111796   0.0   \n",
       "\n",
       "                                                       hands  handwound  hour  \\\n",
       "Pilot case material - Stainless steel case glas...  0.111796        0.0   0.0   \n",
       "\n",
       "                                                    hoursminutes  \\\n",
       "Pilot case material - Stainless steel case glas...           0.0   \n",
       "\n",
       "                                                    hoursminutesadditional  \\\n",
       "Pilot case material - Stainless steel case glas...                     0.0   \n",
       "\n",
       "                                                    hoursminutesseconds  \\\n",
       "Pilot case material - Stainless steel case glas...                  0.0   \n",
       "\n",
       "                                                    hoursminutessecondsworld  \\\n",
       "Pilot case material - Stainless steel case glas...                       0.0   \n",
       "\n",
       "                                                    hoursminutessmall  \\\n",
       "Pilot case material - Stainless steel case glas...           0.222096   \n",
       "\n",
       "                                                    instruments  jules  \\\n",
       "Pilot case material - Stainless steel case glas...          0.0    0.0   \n",
       "\n",
       "                                                    material  mixed  numerals  \\\n",
       "Pilot case material - Stainless steel case glas...  0.111796    0.0  0.261654   \n",
       "\n",
       "                                                        open  outdoor  \\\n",
       "Pilot case material - Stainless steel case glas...  0.264863      0.0   \n",
       "\n",
       "                                                       pilot  pink  processor  \\\n",
       "Pilot case material - Stainless steel case glas...  0.487972   0.0        0.0   \n",
       "\n",
       "                                                    proprietary  quartz  \\\n",
       "Pilot case material - Stainless steel case glas...          0.0     0.0   \n",
       "\n",
       "                                                    rectangular  red  reverso  \\\n",
       "Pilot case material - Stainless steel case glas...          0.0  0.0      0.0   \n",
       "\n",
       "                                                       round  sapphire  \\\n",
       "Pilot case material - Stainless steel case glas...  0.159216  0.111796   \n",
       "\n",
       "                                                     seconds  secondsworld  \\\n",
       "Pilot case material - Stainless steel case glas...  0.247785           0.0   \n",
       "\n",
       "                                                    silver  square  stainless  \\\n",
       "Pilot case material - Stainless steel case glas...     0.0     0.0   0.147226   \n",
       "\n",
       "                                                       steel  stick  stickdot  \\\n",
       "Pilot case material - Stainless steel case glas...  0.147226    0.0       0.0   \n",
       "\n",
       "                                                      sword  time  transocean  \\\n",
       "Pilot case material - Stainless steel case glas...  0.27749   0.0         0.0   \n",
       "\n",
       "                                                    watch  white  \n",
       "Pilot case material - Stainless steel case glas...    0.0    0.0  "
      ]
     },
     "execution_count": 25,
     "metadata": {},
     "output_type": "execute_result"
    }
   ],
   "source": [
    "#example\n",
    "df.head(1)"
   ]
  },
  {
   "cell_type": "code",
   "execution_count": 26,
   "metadata": {},
   "outputs": [
    {
     "name": "stdout",
     "output_type": "stream",
     "text": [
      "[[1.         0.51652991 0.6228633  ... 0.41017278 0.40255642 0.68880296]\n",
      " [0.51652991 1.         0.60817492 ... 0.40058947 0.39322251 0.5548681 ]\n",
      " [0.6228633  0.60817492 1.         ... 0.69100983 0.70414016 0.92207973]\n",
      " ...\n",
      " [0.41017278 0.40058947 0.69100983 ... 1.         0.53426996 0.63124632]\n",
      " [0.40255642 0.39322251 0.70414016 ... 0.53426996 1.         0.63873199]\n",
      " [0.68880296 0.5548681  0.92207973 ... 0.63124632 0.63873199 1.        ]]\n"
     ]
    }
   ],
   "source": [
    "print(cosine_similarity(df,df))"
   ]
  },
  {
   "cell_type": "markdown",
   "metadata": {},
   "source": [
    "## WORKING ON ACTUAL TFIDF FROM NEW SAMPLE WHEN IT IS GIVEN"
   ]
  },
  {
   "cell_type": "markdown",
   "metadata": {},
   "source": [
    "### The code below is an example watch. the code under it is functions to assist"
   ]
  },
  {
   "cell_type": "code",
   "execution_count": 27,
   "metadata": {},
   "outputs": [],
   "source": [
    "#transforms the labels into tfidf values\n",
    "#returns a df of the tfidf values for each word\n",
    "def get_tfidf_of_watch(labels:list):\n",
    "    test_matrix = tvec.transform(test_watch)\n",
    "\n",
    "    test_frequency_matrix = test_matrix.todense()\n",
    "\n",
    "    test_df = pd.DataFrame(\n",
    "        test_frequency_matrix,\n",
    "        columns = tvec.get_feature_names(),    \n",
    "        index = test_watch\n",
    "    )\n",
    "    return test_df\n",
    "#     print(df)"
   ]
  },
  {
   "cell_type": "code",
   "execution_count": 28,
   "metadata": {},
   "outputs": [],
   "source": [
    "#this gets us the most similar watches by cosine similarity and their indices in 'cos_df' \n",
    "def find_indexes_of_similar(cos_sim):\n",
    "    \n",
    "    comparison_list = []\n",
    "    \n",
    "    for i in range(0, len(cos_sim)):\n",
    "        comparison_list.append((cos_sim[i], i))\n",
    "    comparison_list.sort(reverse=True)\n",
    "    \n",
    "    return comparison_list\n",
    "        "
   ]
  },
  {
   "cell_type": "code",
   "execution_count": 29,
   "metadata": {},
   "outputs": [],
   "source": [
    "#grab the top n watches based on similar labels\n",
    "def get_top_n_recommendations_indices(comparison_list, n):\n",
    "    recommended_indices = []\n",
    "    recommended_watches = []\n",
    "    i = 0\n",
    "\n",
    "    while (i < n):\n",
    "        index = comparison_list[i][1] #get the index of the watch we will refer to\n",
    "        \n",
    "        #if we are looking at ourselves as a watch, ignore it and go to another one\n",
    "        if index == 0:\n",
    "            n = n + 1\n",
    "            i = i + 1\n",
    "            continue\n",
    "        \n",
    "        recommended_indices.append(index)\n",
    "        i = i + 1\n",
    "    \n",
    "    original_csv = pd.read_csv('watch_data_final/final 2.csv')\n",
    "\n",
    "    for i in recommended_indices:\n",
    "        recommended_watches.append(original_csv.iloc[i]['name'])\n",
    "        \n",
    "    return recommended_watches"
   ]
  },
  {
   "cell_type": "code",
   "execution_count": 30,
   "metadata": {},
   "outputs": [
    {
     "name": "stdout",
     "output_type": "stream",
     "text": [
      "Watch labs: ['Pilot case material - Stainless steel case glass - Sapphire case back - Open Round dial color - Black Arabic Numerals dial hands - Sword Automatic Analog HoursMinutesSmall Seconds '] \n",
      "\n",
      "Recommended watch: Reverso Lady Quartz\n",
      "Recommended watch: Reverso Classic Large Duoface Small Seconds Stainless Steel / Silver\n",
      "Recommended watch: Reverso Classic Large Small Seconds Stainless Steel / Silver / Fagliano\n",
      "Recommended watch: Transocean Chronograph 1461 Stainless Steel / Black / Calf / Pin\n",
      "Recommended watch: BR 03 92 Type Aviation Steel\n"
     ]
    }
   ],
   "source": [
    "#an example about how the watch will work when it gets received \n",
    "test_watch = [watches[0]]\n",
    "print(\"Watch labs:\", test_watch,\"\\n\")\n",
    "\n",
    "#returns a df of the tfidf values for each word\n",
    "test_tfidf = get_tfidf_of_watch(test_watch)\n",
    "\n",
    "#get the cosine similarity between the new watch and all of our watches in the database\n",
    "cos_sim = cosine_similarity(df, test_tfidf)\n",
    "\n",
    "#this gets us the most similar watches by cosine similarity and their indices in 'cos_df' \n",
    "comparison_list = find_indexes_of_similar(cos_sim)\n",
    "\n",
    "#grab the top 5 watches based on similar labels\n",
    "recommended = get_top_n_recommendations_indices(comparison_list,5)\n",
    "\n",
    "#this shows us our recommended\n",
    "# print(\"\\n\\n\", recommended)\n",
    "for i in recommended:\n",
    "    print(\"Recommended watch:\",i)"
   ]
  },
  {
   "cell_type": "code",
   "execution_count": null,
   "metadata": {},
   "outputs": [],
   "source": []
  }
 ],
 "metadata": {
  "kernelspec": {
   "display_name": "Python 3",
   "language": "python",
   "name": "python3"
  },
  "language_info": {
   "codemirror_mode": {
    "name": "ipython",
    "version": 3
   },
   "file_extension": ".py",
   "mimetype": "text/x-python",
   "name": "python",
   "nbconvert_exporter": "python",
   "pygments_lexer": "ipython3",
   "version": "3.6.6"
  }
 },
 "nbformat": 4,
 "nbformat_minor": 2
}
