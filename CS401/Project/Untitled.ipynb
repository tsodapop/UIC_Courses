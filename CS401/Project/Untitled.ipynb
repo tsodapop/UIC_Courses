{
 "cells": [
  {
   "cell_type": "code",
   "execution_count": 294,
   "metadata": {},
   "outputs": [],
   "source": []
  },
  {
   "cell_type": "code",
   "execution_count": 298,
   "metadata": {
    "scrolled": true
   },
   "outputs": [
    {
     "name": "stdout",
     "output_type": "stream",
     "text": [
      "Found subsets.\n",
      "Number of subsets that sum to total 9  is  26\n",
      "Smallest subset size is 1\n",
      "Num of distinct smallest subsets is 14\n"
     ]
    }
   ],
   "source": [
    "projdata1 = open(\"Projdata1.txt\",\"r\")\n",
    "contents = projdata1.readlines()\n",
    "\n",
    "votes = []\n",
    "region = []\n",
    "\n",
    "for row in contents:\n",
    "    rowline = row.split(\" \")\n",
    "    votes.append(rowline[0])\n",
    "    region.append(rowline[1])\n",
    "\n",
    "for row in new_content:\n",
    "    rowline = row.split(\" \")\n",
    "    votes.append(rowline[0])\n",
    "    region.append(rowline[1])\n",
    "    \n",
    "votes_int = []\n",
    "    \n",
    "for row in votes:\n",
    "    votes_int.append(int(row))\n",
    "\n",
    "memoization = {} #the dictionary that we will use to store already saved values\n",
    "smallest_subset_size = 0\n",
    "min_subsets = 0\n",
    "\n",
    "\n",
    "def num_of_subsets(data, desired_total):\n",
    "    \n",
    "    num_subsets = recursive_call(data, desired_total, len(data)-1, memoization, smallest_subset_size)\n",
    "    if (num_subsets == 0):\n",
    "        print(\"Not Feasible\")\n",
    "    else:\n",
    "        print(\"Found subsets.\")\n",
    "        print(\"Number of subsets that sum to total\", desired_total, \" is \", num_subsets)\n",
    "        print(\"Smallest subset size is\", smallest_subset_size)\n",
    "        print(\"Num of distinct smallest subsets is\", min_subsets)\n",
    "\n",
    "\n",
    "def recursive_call(data, desired_total, i, memoization, smallest_subset):\n",
    "    \n",
    "    #we store to reduce runtime by not needing recursion \n",
    "    key = str(desired_total) + \"-\" + str(i)\n",
    "    \n",
    "    if (key in memoization):\n",
    "        return memoization[key]\n",
    "    \n",
    "    #the actual recursion\n",
    "    if (desired_total == 0): #the empty set is technically a total of 0  \n",
    "        global min_subsets\n",
    "        min_subsets= min_subsets + 1\n",
    "        calculate_smallest_subset(smallest_subset_size, smallest_subset)  \n",
    "        return 1 \n",
    "    \n",
    "    elif (desired_total < 0): #can't possibly have negatives in votes \n",
    "        return 0 \n",
    "    \n",
    "    elif (i < 0): #we've reached the end of the data list\n",
    "        return 0 \n",
    "    \n",
    "    elif (desired_total < data[i]): #we move on to the next one since data[i] is larger than our desired_total\n",
    "        to_memoize = recursive_call(data, desired_total, i-1, memoization, smallest_subset)\n",
    "        \n",
    "    else: #it is possibly in either tree branch, so we look at both of them                                                      \n",
    "        to_memoize = (recursive_call(data, desired_total, i-1, memoization,smallest_subset)\n",
    "                     + \n",
    "                      recursive_call(data, desired_total - data[i], i-1, memoization,smallest_subset+1))\n",
    "        \n",
    "    memoization[key] = to_memoize\n",
    "    return to_memoize\n",
    "\n",
    "def calculate_smallest_subset(curr_size, smallest_subset):\n",
    "    global smallest_subset_size     \n",
    "    \n",
    "    if (smallest_subset <= 0):\n",
    "        return\n",
    "    \n",
    "    elif ((curr_size != 0) & (curr_size < smallest_subset)):   \n",
    "        return\n",
    "    \n",
    "    else:      \n",
    "        smallest_subset_size = smallest_subset\n",
    "    \n",
    "\n",
    "\n",
    "num_of_subsets(votes_int, 9)"
   ]
  },
  {
   "cell_type": "code",
   "execution_count": null,
   "metadata": {},
   "outputs": [],
   "source": []
  }
 ],
 "metadata": {
  "kernelspec": {
   "display_name": "Python 3",
   "language": "python",
   "name": "python3"
  },
  "language_info": {
   "codemirror_mode": {
    "name": "ipython",
    "version": 3
   },
   "file_extension": ".py",
   "mimetype": "text/x-python",
   "name": "python",
   "nbconvert_exporter": "python",
   "pygments_lexer": "ipython3",
   "version": "3.6.4"
  }
 },
 "nbformat": 4,
 "nbformat_minor": 2
}
