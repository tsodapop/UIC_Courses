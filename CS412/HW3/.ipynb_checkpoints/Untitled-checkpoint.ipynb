{
 "cells": [
  {
   "cell_type": "code",
   "execution_count": 1,
   "metadata": {},
   "outputs": [],
   "source": [
    "import numpy as np\n",
    "import matplotlib.pyplot as plt\n",
    "\n",
    "#sigmoid and its derivative\n",
    "def sigmoid(t):\n",
    "    return 1 / (1 + np.exp(-t))\n",
    "    \n",
    "def sigmoid_derivative(p):\n",
    "    return p * (1 - p)\n",
    "\n",
    "np.random.seed(100)\n",
    "\n",
    "\n",
    "class NeuralNetwork:\n",
    "    def __init__(self,x=[[]],y=[],numLayers=2,numNodes=2,eta=0.1,maxIter=10000):\n",
    "\n",
    "\n",
    "        self.lr = eta\n",
    "        self.numLayers = numLayers\n",
    "        self.numNodes = numNodes\n",
    "        \n",
    "        self.weights = [np.random.uniform(-1,1,(x.shape[1],numNodes))] #create the weights from the inputs to the first layer\n",
    "        \n",
    "        for i in range(1,numLayers-1):\n",
    "            self.weights.append(np.random.uniform(-1,1,(numNodes,numNodes))) #create the random weights between internal layers\n",
    "            \n",
    "        self.weights.append(np.random.uniform(-1,1,(numNodes,1))) #create weights from final layer to output node\n",
    "        \n",
    "        self.outputs = np.zeros(y.shape)    #creates an output array of similar size to y \n",
    "        \n",
    "        self.bias = [np.ones(numNodes)] #create bias nodes to the first layer, all 1's\n",
    "        for i in range(numLayers-1):    #create bias in btwn hidden layers\n",
    "            self.bias.append(np.ones(numNodes))\n",
    "        self.bias.append(np.ones(y.shape))#create bias node to last layer, to output, all 1's        \n",
    "        \n",
    "        self.train(learningRate=eta,maxIterations=maxIter) \n",
    "\n",
    "    def train(self,learningRate,maxIterations):       \n",
    "        for i in range(1,maxIterations):\n",
    "            self.feedforward()\n",
    "            self.backprop()\n",
    "\n",
    "    def predict(self,x=[]):\n",
    "        test.feedforward()\n",
    "        return self.outputs\n",
    "\n",
    "\n",
    "    def feedforward(self):\n",
    "        self.layerdata = []\n",
    "        \n",
    "        #this adds in the input layer to the first hidden layer\n",
    "        self.to_first_layer = sigmoid(np.dot(x, self.weights[0]) + self.bias[0])\n",
    "        self.layerdata.append(self.to_first_layer) #\n",
    "        \n",
    "        #this adds from hidden layer to hidden layer\n",
    "        for i in range(1,self.numLayers-1):\n",
    "            self.layerdata.append(sigmoid(np.dot(self.layerdata[i-1], self.weights[i] + self.bias[i])))          \n",
    "            \n",
    "        #this adds from the last hidden layer to output\n",
    "        self.to_output_layer =  sigmoid(np.dot(self.layerdata[-1], self.weights[-1]) + self.bias[-1])\n",
    "        self.layerdata.append(self.to_output_layer) \n",
    "        self.outputs = (self.to_output_layer)\n",
    "\n",
    "\n",
    "    def backprop(self): \n",
    "\n",
    "        #error from the actual and predicted output\n",
    "        self.error = (y - self.layerdata[-1])\n",
    "        \n",
    "        #update the weights to output\n",
    "        self.output_layer_gradient = sigmoid_derivative(self.layerdata[-1])      \n",
    "        self.hidden_delta = self.error * self.output_layer_gradient #output delta\n",
    "        self.weights[-1] += np.dot(self.to_first_layer.T, self.hidden_delta) * self.lr  \n",
    "        \n",
    "        #loop the hidden layers  \n",
    "        j = -1\n",
    "        for i in range(1, self.numLayers-1,):\n",
    "            self.hidden_layer_gradient = sigmoid_derivative(self.layerdata[j-1])         \n",
    "            self.hidden_error = np.dot(self.hidden_delta,self.weights[j].T) \n",
    "            self.hidden_delta = self.hidden_error * self.hidden_layer_gradient\n",
    "            self.weights[j-1] += np.dot(self.layerdata[j].T, self.hidden_delta) * self.lr  \n",
    "            j = j-1\n",
    "            \n",
    "        #update the input's weights\n",
    "        self.hidden_layer_gradient = sigmoid_derivative(self.to_first_layer)         \n",
    "        self.hidden_error = np.dot(self.hidden_delta,self.weights[1].T)\n",
    "        self.hidden_delta = self.hidden_error * self.hidden_layer_gradient\n",
    "        self.weights[0] += np.dot(x.T, self.hidden_delta) * self.lr  "
   ]
  },
  {
   "cell_type": "code",
   "execution_count": 3,
   "metadata": {},
   "outputs": [
    {
     "ename": "ValueError",
     "evalue": "non-broadcastable output operand with shape (2,1) doesn't match the broadcast shape (2,4)",
     "output_type": "error",
     "traceback": [
      "\u001b[0;31m---------------------------------------------------------------------------\u001b[0m",
      "\u001b[0;31mValueError\u001b[0m                                Traceback (most recent call last)",
      "\u001b[0;32m<ipython-input-3-bfd05151a912>\u001b[0m in \u001b[0;36m<module>\u001b[0;34m()\u001b[0m\n\u001b[1;32m      5\u001b[0m \u001b[0my\u001b[0m \u001b[0;34m=\u001b[0m \u001b[0mnp\u001b[0m\u001b[0;34m.\u001b[0m\u001b[0marray\u001b[0m\u001b[0;34m(\u001b[0m\u001b[0;34m[\u001b[0m\u001b[0;36m1\u001b[0m\u001b[0;34m,\u001b[0m\u001b[0;36m0\u001b[0m\u001b[0;34m,\u001b[0m\u001b[0;36m1\u001b[0m\u001b[0;34m,\u001b[0m\u001b[0;36m0\u001b[0m\u001b[0;34m]\u001b[0m\u001b[0;34m)\u001b[0m\u001b[0;34m\u001b[0m\u001b[0m\n\u001b[1;32m      6\u001b[0m \u001b[0;34m\u001b[0m\u001b[0m\n\u001b[0;32m----> 7\u001b[0;31m \u001b[0mtest\u001b[0m \u001b[0;34m=\u001b[0m \u001b[0mNeuralNetwork\u001b[0m\u001b[0;34m(\u001b[0m\u001b[0mx\u001b[0m\u001b[0;34m,\u001b[0m\u001b[0my\u001b[0m\u001b[0;34m,\u001b[0m \u001b[0mnumLayers\u001b[0m\u001b[0;34m=\u001b[0m\u001b[0;36m2\u001b[0m\u001b[0;34m,\u001b[0m \u001b[0mnumNodes\u001b[0m\u001b[0;34m=\u001b[0m\u001b[0;36m2\u001b[0m\u001b[0;34m,\u001b[0m \u001b[0mmaxIter\u001b[0m\u001b[0;34m=\u001b[0m\u001b[0;36m100000\u001b[0m\u001b[0;34m)\u001b[0m\u001b[0;34m\u001b[0m\u001b[0m\n\u001b[0m\u001b[1;32m      8\u001b[0m \u001b[0mprint\u001b[0m\u001b[0;34m(\u001b[0m\u001b[0mtest\u001b[0m\u001b[0;34m.\u001b[0m\u001b[0mpredict\u001b[0m\u001b[0;34m(\u001b[0m\u001b[0my\u001b[0m\u001b[0;34m)\u001b[0m\u001b[0;34m)\u001b[0m\u001b[0;34m\u001b[0m\u001b[0m\n",
      "\u001b[0;32m<ipython-input-1-af3c87fa35d0>\u001b[0m in \u001b[0;36m__init__\u001b[0;34m(self, x, y, numLayers, numNodes, eta, maxIter)\u001b[0m\n\u001b[1;32m     34\u001b[0m         \u001b[0mself\u001b[0m\u001b[0;34m.\u001b[0m\u001b[0mbias\u001b[0m\u001b[0;34m.\u001b[0m\u001b[0mappend\u001b[0m\u001b[0;34m(\u001b[0m\u001b[0mnp\u001b[0m\u001b[0;34m.\u001b[0m\u001b[0mones\u001b[0m\u001b[0;34m(\u001b[0m\u001b[0my\u001b[0m\u001b[0;34m.\u001b[0m\u001b[0mshape\u001b[0m\u001b[0;34m)\u001b[0m\u001b[0;34m)\u001b[0m\u001b[0;31m#create bias node to last layer, to output, all 1's\u001b[0m\u001b[0;34m\u001b[0m\u001b[0m\n\u001b[1;32m     35\u001b[0m \u001b[0;34m\u001b[0m\u001b[0m\n\u001b[0;32m---> 36\u001b[0;31m         \u001b[0mself\u001b[0m\u001b[0;34m.\u001b[0m\u001b[0mtrain\u001b[0m\u001b[0;34m(\u001b[0m\u001b[0mlearningRate\u001b[0m\u001b[0;34m=\u001b[0m\u001b[0meta\u001b[0m\u001b[0;34m,\u001b[0m\u001b[0mmaxIterations\u001b[0m\u001b[0;34m=\u001b[0m\u001b[0mmaxIter\u001b[0m\u001b[0;34m)\u001b[0m\u001b[0;34m\u001b[0m\u001b[0m\n\u001b[0m\u001b[1;32m     37\u001b[0m \u001b[0;34m\u001b[0m\u001b[0m\n\u001b[1;32m     38\u001b[0m     \u001b[0;32mdef\u001b[0m \u001b[0mtrain\u001b[0m\u001b[0;34m(\u001b[0m\u001b[0mself\u001b[0m\u001b[0;34m,\u001b[0m\u001b[0mlearningRate\u001b[0m\u001b[0;34m,\u001b[0m\u001b[0mmaxIterations\u001b[0m\u001b[0;34m)\u001b[0m\u001b[0;34m:\u001b[0m\u001b[0;34m\u001b[0m\u001b[0m\n",
      "\u001b[0;32m<ipython-input-1-af3c87fa35d0>\u001b[0m in \u001b[0;36mtrain\u001b[0;34m(self, learningRate, maxIterations)\u001b[0m\n\u001b[1;32m     39\u001b[0m         \u001b[0;32mfor\u001b[0m \u001b[0mi\u001b[0m \u001b[0;32min\u001b[0m \u001b[0mrange\u001b[0m\u001b[0;34m(\u001b[0m\u001b[0;36m1\u001b[0m\u001b[0;34m,\u001b[0m\u001b[0mmaxIterations\u001b[0m\u001b[0;34m)\u001b[0m\u001b[0;34m:\u001b[0m\u001b[0;34m\u001b[0m\u001b[0m\n\u001b[1;32m     40\u001b[0m             \u001b[0mself\u001b[0m\u001b[0;34m.\u001b[0m\u001b[0mfeedforward\u001b[0m\u001b[0;34m(\u001b[0m\u001b[0;34m)\u001b[0m\u001b[0;34m\u001b[0m\u001b[0m\n\u001b[0;32m---> 41\u001b[0;31m             \u001b[0mself\u001b[0m\u001b[0;34m.\u001b[0m\u001b[0mbackprop\u001b[0m\u001b[0;34m(\u001b[0m\u001b[0;34m)\u001b[0m\u001b[0;34m\u001b[0m\u001b[0m\n\u001b[0m\u001b[1;32m     42\u001b[0m \u001b[0;34m\u001b[0m\u001b[0m\n\u001b[1;32m     43\u001b[0m     \u001b[0;32mdef\u001b[0m \u001b[0mpredict\u001b[0m\u001b[0;34m(\u001b[0m\u001b[0mself\u001b[0m\u001b[0;34m,\u001b[0m\u001b[0mx\u001b[0m\u001b[0;34m=\u001b[0m\u001b[0;34m[\u001b[0m\u001b[0;34m]\u001b[0m\u001b[0;34m)\u001b[0m\u001b[0;34m:\u001b[0m\u001b[0;34m\u001b[0m\u001b[0m\n",
      "\u001b[0;32m<ipython-input-1-af3c87fa35d0>\u001b[0m in \u001b[0;36mbackprop\u001b[0;34m(self)\u001b[0m\n\u001b[1;32m     71\u001b[0m         \u001b[0mself\u001b[0m\u001b[0;34m.\u001b[0m\u001b[0moutput_layer_gradient\u001b[0m \u001b[0;34m=\u001b[0m \u001b[0msigmoid_derivative\u001b[0m\u001b[0;34m(\u001b[0m\u001b[0mself\u001b[0m\u001b[0;34m.\u001b[0m\u001b[0mlayerdata\u001b[0m\u001b[0;34m[\u001b[0m\u001b[0;34m-\u001b[0m\u001b[0;36m1\u001b[0m\u001b[0;34m]\u001b[0m\u001b[0;34m)\u001b[0m\u001b[0;34m\u001b[0m\u001b[0m\n\u001b[1;32m     72\u001b[0m         \u001b[0mself\u001b[0m\u001b[0;34m.\u001b[0m\u001b[0mhidden_delta\u001b[0m \u001b[0;34m=\u001b[0m \u001b[0mself\u001b[0m\u001b[0;34m.\u001b[0m\u001b[0merror\u001b[0m \u001b[0;34m*\u001b[0m \u001b[0mself\u001b[0m\u001b[0;34m.\u001b[0m\u001b[0moutput_layer_gradient\u001b[0m \u001b[0;31m#output delta\u001b[0m\u001b[0;34m\u001b[0m\u001b[0m\n\u001b[0;32m---> 73\u001b[0;31m         \u001b[0mself\u001b[0m\u001b[0;34m.\u001b[0m\u001b[0mweights\u001b[0m\u001b[0;34m[\u001b[0m\u001b[0;34m-\u001b[0m\u001b[0;36m1\u001b[0m\u001b[0;34m]\u001b[0m \u001b[0;34m+=\u001b[0m \u001b[0mnp\u001b[0m\u001b[0;34m.\u001b[0m\u001b[0mdot\u001b[0m\u001b[0;34m(\u001b[0m\u001b[0mself\u001b[0m\u001b[0;34m.\u001b[0m\u001b[0mto_first_layer\u001b[0m\u001b[0;34m.\u001b[0m\u001b[0mT\u001b[0m\u001b[0;34m,\u001b[0m \u001b[0mself\u001b[0m\u001b[0;34m.\u001b[0m\u001b[0mhidden_delta\u001b[0m\u001b[0;34m)\u001b[0m \u001b[0;34m*\u001b[0m \u001b[0mself\u001b[0m\u001b[0;34m.\u001b[0m\u001b[0mlr\u001b[0m\u001b[0;34m\u001b[0m\u001b[0m\n\u001b[0m\u001b[1;32m     74\u001b[0m \u001b[0;34m\u001b[0m\u001b[0m\n\u001b[1;32m     75\u001b[0m         \u001b[0;31m#loop the hidden layers\u001b[0m\u001b[0;34m\u001b[0m\u001b[0;34m\u001b[0m\u001b[0m\n",
      "\u001b[0;31mValueError\u001b[0m: non-broadcastable output operand with shape (2,1) doesn't match the broadcast shape (2,4)"
     ]
    }
   ],
   "source": [
    "# x=np.array([[1,0,1,0],[1,0,1,1],[0,1,0,1]])\n",
    "# y=np.array([[1],[1],[0]])\n",
    "\n",
    "x = np.array([[0,1],[1,0],[0,0],[1,1]])\n",
    "y = np.array([1,0,1,0])\n",
    "\n",
    "test = NeuralNetwork(x,y, numLayers=2, numNodes=2, maxIter=100000)\n",
    "print(test.predict(y))\n"
   ]
  },
  {
   "cell_type": "markdown",
   "metadata": {},
   "source": [
    "# Question 2"
   ]
  },
  {
   "cell_type": "code",
   "execution_count": 1142,
   "metadata": {},
   "outputs": [],
   "source": [
    "from sklearn.neural_network import MLPClassifier\n",
    "import numpy as np\n",
    "from sklearn.model_selection import cross_val_score\n",
    "import pandas as pd\n",
    "import time\n",
    "import datetime\n",
    "import matplotlib.pyplot as mp\n",
    "from pylab import show"
   ]
  },
  {
   "cell_type": "code",
   "execution_count": 721,
   "metadata": {},
   "outputs": [],
   "source": [
    "data = np.loadtxt(\"transfusion.csv\",delimiter=\",\")\n",
    "\n",
    "features = []\n",
    "donated = []\n",
    "\n",
    "for row in data:\n",
    "    features.append(row[:4])\n",
    "    donated.append(row[-1])"
   ]
  },
  {
   "cell_type": "code",
   "execution_count": 800,
   "metadata": {},
   "outputs": [],
   "source": [
    "#The following parameters for layers and nodes were modified in accordance with a Piazza post stating to change for \n",
    "#both blood transfusion and digits data\n",
    "Neural_Networks = {} #create a dictionary of the neural network results\n",
    "\n",
    "mlp = MLPClassifier(activation=\"relu\", epsilon=.001, max_iter=2000, alpha=0, solver=\"adam\",\n",
    "                   hidden_layer_sizes=(2))\n",
    "Neural_Networks['Layers=1, Nodes=2'] = [cross_val_score(mlp, features, donated, cv=10).mean()]\n",
    "\n",
    "mlp = MLPClassifier(activation=\"relu\", epsilon=.001, max_iter=2000, alpha=0, solver=\"adam\",\n",
    "                   hidden_layer_sizes=(2,2))\n",
    "Neural_Networks['Layers=2, Nodes=2'] = [cross_val_score(mlp, features, donated, cv=10).mean()]\n",
    "\n",
    "mlp = MLPClassifier(activation=\"relu\", epsilon=.001, max_iter=2000, alpha=0, solver=\"adam\",\n",
    "                   hidden_layer_sizes=(2,2,2,2,2))\n",
    "Neural_Networks['Layers=5, Nodes=2'] = [cross_val_score(mlp, features, donated, cv=10).mean()]\n",
    "\n",
    "mlp = MLPClassifier(activation=\"relu\", epsilon=.001, max_iter=2000, alpha=0, solver=\"adam\",\n",
    "                   hidden_layer_sizes=(2,2,2,2,2,2,2,2,2,2))\n",
    "Neural_Networks['Layers=10, Nodes=2'] = [cross_val_score(mlp, features, donated, cv=10).mean()]\n",
    "\n",
    "#----------------------------------------------------------------------------------------        \n",
    "\n",
    "mlp = MLPClassifier(activation=\"relu\", epsilon=.001, max_iter=2000, alpha=0, solver=\"adam\",\n",
    "                   hidden_layer_sizes=(5))\n",
    "Neural_Networks['Layers=1, Nodes=5'] = [cross_val_score(mlp, features, donated, cv=10).mean()]\n",
    "\n",
    "mlp = MLPClassifier(activation=\"relu\", epsilon=.001, max_iter=2000, alpha=0, solver=\"adam\",\n",
    "                   hidden_layer_sizes=(5,5))\n",
    "Neural_Networks['Layers=2, Nodes=5'] = [cross_val_score(mlp, features, donated, cv=10).mean()]\n",
    "\n",
    "mlp = MLPClassifier(activation=\"relu\", epsilon=.001, max_iter=2000, alpha=0, solver=\"adam\",\n",
    "                   hidden_layer_sizes=(5,5,5,5,5))\n",
    "Neural_Networks['Layers=5, Nodes=5'] = [cross_val_score(mlp, features, donated, cv=10).mean()]\n",
    "\n",
    "mlp = MLPClassifier(activation=\"relu\", epsilon=.001, max_iter=2000, alpha=0, solver=\"adam\",\n",
    "                   hidden_layer_sizes=(5,5,5,5,5,5,5,5,5,5))\n",
    "Neural_Networks['Layers=10, Nodes=5'] = [cross_val_score(mlp, features, donated, cv=10).mean()]\n",
    "\n",
    "#----------------------------------------------------------------------------------------        \n",
    "\n",
    "mlp = MLPClassifier(activation=\"relu\", epsilon=.001, max_iter=2000, alpha=0, solver=\"adam\",\n",
    "                   hidden_layer_sizes=(10))\n",
    "Neural_Networks['Layers=1, Nodes=10'] = [cross_val_score(mlp, features, donated, cv=10).mean()]\n",
    "\n",
    "mlp = MLPClassifier(activation=\"relu\", epsilon=.001, max_iter=2000, alpha=0, solver=\"adam\",\n",
    "                   hidden_layer_sizes=(10,10))\n",
    "Neural_Networks['Layers=2, Nodes=10'] = [cross_val_score(mlp, features, donated, cv=10).mean()]\n",
    "\n",
    "mlp = MLPClassifier(activation=\"relu\", epsilon=.001, max_iter=2000, alpha=0, solver=\"adam\",\n",
    "                   hidden_layer_sizes=(10,10,10,10,10))\n",
    "Neural_Networks['Layers=5, Nodes=10'] = [cross_val_score(mlp, features, donated, cv=10).mean()]\n",
    "\n",
    "mlp = MLPClassifier(activation=\"relu\", epsilon=.001, max_iter=2000, alpha=0, solver=\"adam\",\n",
    "                   hidden_layer_sizes=(10,10,10,10,10,10,10,10,10,10))\n",
    "Neural_Networks['Layers=10, Nodes=10'] = [cross_val_score(mlp, features, donated, cv=10).mean()]\n",
    "\n",
    "#----------------------------------------------------------------------------------------        \n",
    "\n",
    "mlp = MLPClassifier(activation=\"relu\", epsilon=.001, max_iter=2000, alpha=0, solver=\"adam\",\n",
    "                   hidden_layer_sizes=(50))\n",
    "Neural_Networks['Layers=1, Nodes=50'] = [cross_val_score(mlp, features, donated, cv=10).mean()]\n",
    "\n",
    "mlp = MLPClassifier(activation=\"relu\", epsilon=.001, max_iter=2000, alpha=0, solver=\"adam\",\n",
    "                   hidden_layer_sizes=(50,50))\n",
    "Neural_Networks['Layers=2, Nodes=50'] = [cross_val_score(mlp, features, donated, cv=10).mean()]\n",
    "\n",
    "mlp = MLPClassifier(activation=\"relu\", epsilon=.001, max_iter=2000, alpha=0, solver=\"adam\",\n",
    "                   hidden_layer_sizes=(50,50,50,50,50))\n",
    "Neural_Networks['Layers=5, Nodes=50'] = [cross_val_score(mlp, features, donated, cv=10).mean()]\n",
    "\n",
    "mlp = MLPClassifier(activation=\"relu\", epsilon=.001, max_iter=2000, alpha=0, solver=\"adam\",\n",
    "                   hidden_layer_sizes=(50,50,50,50,50,50,50,50,50,50))\n",
    "Neural_Networks['Layers=10, Nodes=50'] = [cross_val_score(mlp, features, donated, cv=10).mean()]\n",
    "\n",
    "#----------------------------------------------------------------------------------------        \n",
    "\n",
    "mlp = MLPClassifier(activation=\"relu\", epsilon=.001, max_iter=2000, alpha=0, solver=\"adam\",\n",
    "                   hidden_layer_sizes=(100))\n",
    "Neural_Networks['Layers=1, Nodes=100'] = [cross_val_score(mlp, features, donated, cv=10).mean()]\n",
    "\n",
    "mlp = MLPClassifier(activation=\"relu\", epsilon=.001, max_iter=2000, alpha=0, solver=\"adam\",\n",
    "                   hidden_layer_sizes=(100,100))\n",
    "Neural_Networks['Layers=2, Nodes=100'] = [cross_val_score(mlp, features, donated, cv=10).mean()]\n",
    "\n",
    "mlp = MLPClassifier(activation=\"relu\", epsilon=.001, max_iter=2000, alpha=0, solver=\"adam\",\n",
    "                   hidden_layer_sizes=(100,100,100,100,100))\n",
    "Neural_Networks['Layers=5, Nodes=100'] = [cross_val_score(mlp, features, donated, cv=10).mean()]\n",
    "\n",
    "mlp = MLPClassifier(activation=\"relu\", epsilon=.001, max_iter=2000, alpha=0, solver=\"adam\",\n",
    "                   hidden_layer_sizes=(100,100,100,100,100,100,100,100,100,100))\n",
    "Neural_Networks['Layers=10, Nodes=100'] = [cross_val_score(mlp, features, donated, cv=10).mean()]"
   ]
  },
  {
   "cell_type": "code",
   "execution_count": 851,
   "metadata": {},
   "outputs": [
    {
     "name": "stdout",
     "output_type": "stream",
     "text": [
      "Parameters\t\tAccuracy\n",
      "Layers=1, Nodes=2\t[0.5]\n",
      "Layers=2, Nodes=2\t[0.653945945945946]\n",
      "Layers=5, Nodes=2\t[0.762054054054054]\n",
      "Layers=10, Nodes=2\t[0.762054054054054]\n",
      "Layers=1, Nodes=5\t[0.5453333333333333]\n",
      "Layers=2, Nodes=5\t[0.7348108108108108]\n",
      "Layers=5, Nodes=5\t[0.7340540540540541]\n",
      "Layers=10, Nodes=5\t[0.714054054054054]\n",
      "Layers=1, Nodes=10\t[0.654054054054054]\n",
      "Layers=2, Nodes=10\t[0.658054054054054]\n",
      "Layers=5, Nodes=10\t[0.6559999999999999]\n",
      "Layers=10, Nodes=10\t[0.7633873873873874]\n",
      "Layers=1, Nodes=50\t[0.41796396396396396]\n",
      "Layers=2, Nodes=50\t[0.7274414414414414]\n",
      "Layers=5, Nodes=50\t[0.7834054054054054]\n",
      "Layers=10, Nodes=50\t[0.7620720720720721]\n",
      "Layers=1, Nodes=100\t[0.7500540540540539]\n",
      "Layers=2, Nodes=100\t[0.5714234234234234]\n",
      "Layers=5, Nodes=100\t[0.714108108108108]\n",
      "Layers=10, Nodes=100\t[0.7327747747747747]\n",
      "Layers=1, Nodes=1\t[0.8872311827956988]\n"
     ]
    }
   ],
   "source": [
    "print(\"Parameters\\t\\tAccuracy\")\n",
    "for key,val in Neural_Networks.items():\n",
    "    print(\"{}\\t{}\".format(key,val))"
   ]
  },
  {
   "cell_type": "markdown",
   "metadata": {},
   "source": [
    "The neural network with the highest accuracy is the one with 5 layers and 50 nodes, coming in at 78.34%."
   ]
  },
  {
   "cell_type": "code",
   "execution_count": 843,
   "metadata": {},
   "outputs": [],
   "source": [
    "data = np.loadtxt(\"data.csv\")\n",
    "\n",
    "#shuffle the data and select training and test data\n",
    "np.random.seed(100)\n",
    "np.random.shuffle(data)\n",
    "\n",
    "features = []\n",
    "digits = []\n",
    "\n",
    "for row in data:\n",
    "    if(row[0]==1 or row[0]==5):\n",
    "        features.append(row[1:]) #add in remaining values past the first (this is a matrix)\n",
    "        digits.append(str(row[0])) #add the 1 or the 5 to digits\n",
    "\n",
    "#select the proportion of data to use for training\n",
    "numTrain = int(len(features)*.2) #we are training on 20% of the data\n",
    "\n",
    "trainFeatures = features[:numTrain] #we train on the first 20% of the data\n",
    "testFeatures = features[numTrain:]  #we test on the remaining 80%\n",
    "trainDigits = digits[:numTrain]     #we train on the first 20% of the data\n",
    "testDigits = digits[numTrain:]      #we test on the remaining 80%"
   ]
  },
  {
   "cell_type": "code",
   "execution_count": 844,
   "metadata": {},
   "outputs": [],
   "source": [
    "X = []\n",
    "Y = []\n",
    "simpleTrain = []\n",
    "colors = []\n",
    "for index in range(len(trainFeatures)):\n",
    "    X.append((sum(trainFeatures[index])/256)**2) #mean intensity squared\n",
    "    Y.append(sum((trainFeatures[index][:128]- trainFeatures[index][128:])**2)/256) #horiz symmetry\n",
    "    simpleTrain.append([(sum(trainFeatures[index])/256)**2,sum((trainFeatures[index][:128]- trainFeatures[index][128:])**2)/256])\n",
    "    if(trainDigits[index]==\"1.0\"): #if the digit is 1, it is blue. else, it is red (only 1's and 5's)\n",
    "        colors.append(\"b\")\n",
    "    else:\n",
    "        colors.append(\"r\")\n",
    "#normalization of X and Y\n",
    "normX = [2*((i - min(X)) / (max(X) - min(X)))-1 for i in X]\n",
    "normY = [2*((i - min(Y)) / (max(Y) - min(Y)))-1 for i in Y]\n",
    "\n",
    "normTrain = []\n",
    "for i in range(len(normX)):\n",
    "    normTrain.append([normX[i],normY[i]])"
   ]
  },
  {
   "cell_type": "code",
   "execution_count": 883,
   "metadata": {},
   "outputs": [],
   "source": [
    "HW1NN = {}\n",
    "runtimes = []\n",
    "# #Max iteration was brought up to 3000 from 2000 because it was stated that \n",
    "# #there was no convergence. This increase allowed it to find a convergence.\n",
    "\n",
    "nodes = [2,5,10,50,100]\n",
    "for i in nodes:\n",
    "    mlp = MLPClassifier(activation=\"relu\", epsilon=.001, max_iter=3000, alpha=0, solver=\"adam\",\n",
    "                   hidden_layer_sizes=(i))\n",
    "    key_name = ('Layers=1, Nodes:'+ str(i))\n",
    "    start = time.time()\n",
    "    HW1NN[key_name] = [cross_val_score(mlp, simpleTrain, trainDigits, cv=10).mean()]\n",
    "    end = time.time()\n",
    "    runtimes.append(end-start)\n"
   ]
  },
  {
   "cell_type": "code",
   "execution_count": 892,
   "metadata": {},
   "outputs": [],
   "source": [
    "for i in nodes:\n",
    "    mlp = MLPClassifier(activation=\"relu\", epsilon=.001, max_iter=3000, alpha=0, solver=\"adam\",\n",
    "                   hidden_layer_sizes=(i,i))\n",
    "    key_name = ('Layers=2, Nodes:'+ str(i))\n",
    "    start = time.time()\n",
    "    HW1NN[key_name] = [cross_val_score(mlp, simpleTrain, trainDigits, cv=10).mean()]\n",
    "    end = time.time()\n",
    "    runtimes.append(end-start)"
   ]
  },
  {
   "cell_type": "code",
   "execution_count": 893,
   "metadata": {},
   "outputs": [],
   "source": [
    "for i in nodes:\n",
    "    mlp = MLPClassifier(activation=\"relu\", epsilon=.001, max_iter=3000, alpha=0, solver=\"adam\",\n",
    "                   hidden_layer_sizes=(i,i,i,i,i))\n",
    "    key_name = ('Layers=5, Nodes:'+ str(i))\n",
    "    start = time.time()\n",
    "    HW1NN[key_name] = [cross_val_score(mlp, simpleTrain, trainDigits, cv=10).mean()]\n",
    "    end = time.time()\n",
    "    runtimes.append(end-start)"
   ]
  },
  {
   "cell_type": "code",
   "execution_count": 894,
   "metadata": {},
   "outputs": [],
   "source": [
    "for i in nodes:\n",
    "    mlp = MLPClassifier(activation=\"relu\", epsilon=.001, max_iter=3000, alpha=0, solver=\"adam\",\n",
    "                   hidden_layer_sizes=(i,i,i,i,i,i,i,i,i,i))\n",
    "    key_name = ('Layers=10, Nodes:'+ str(i))\n",
    "    start = time.time()\n",
    "    HW1NN[key_name] = [cross_val_score(mlp, simpleTrain, trainDigits, cv=10).mean()]\n",
    "    end = time.time()\n",
    "    runtimes.append(end-start)"
   ]
  },
  {
   "cell_type": "code",
   "execution_count": 895,
   "metadata": {
    "scrolled": false
   },
   "outputs": [
    {
     "name": "stdout",
     "output_type": "stream",
     "text": [
      "Parameters\t\t\tAccuracy\t\tRuntimes\n",
      "Layers=1, Nodes:2\t\t[0.8869758064516129] \t8.013168096542358\n",
      "Layers=1, Nodes:5\t\t[0.9612836021505377] \t5.71295428276062\n",
      "Layers=1, Nodes:10\t\t[0.9870900537634408] \t5.377238035202026\n",
      "Layers=1, Nodes:50\t\t[0.9902150537634409] \t4.6369359493255615\n",
      "Layers=1, Nodes:100\t\t[0.9902150537634409] \t5.18547511100769\n",
      "Layers=2, Nodes:2\t\t[0.8968077956989247] \t8.361129999160767\n",
      "Layers=2, Nodes:5\t\t[0.9838642473118279] \t8.287352085113525\n",
      "Layers=2, Nodes:10\t\t[0.9934408602150538] \t4.783476829528809\n",
      "Layers=2, Nodes:50\t\t[0.9902150537634409] \t4.840544939041138\n",
      "Layers=2, Nodes:100\t\t[0.9934408602150538] \t6.524170875549316\n",
      "Layers=5, Nodes:2\t\t[0.7356182795698925] \t3.6592350006103516\n",
      "Layers=5, Nodes:5\t\t[0.8634005376344085] \t6.459857940673828\n",
      "Layers=5, Nodes:10\t\t[0.9903158602150539] \t3.944851875305176\n",
      "Layers=5, Nodes:50\t\t[0.9902150537634409] \t4.232532978057861\n",
      "Layers=5, Nodes:100\t\t[0.9903158602150539] \t6.285758972167969\n",
      "Layers=10, Nodes:2\t\t[0.6699932795698925] \t6.671728849411011\n",
      "Layers=10, Nodes:5\t\t[0.7710013440860215] \t4.306555271148682\n",
      "Layers=10, Nodes:10\t\t[0.9580577956989247] \t6.438693046569824\n",
      "Layers=10, Nodes:50\t\t[0.9934408602150538] \t8.407313823699951\n",
      "Layers=10, Nodes:100\t\t[0.9579569892473119] \t14.461431980133057\n"
     ]
    }
   ],
   "source": [
    "index = 0\n",
    "print(\"Parameters\\t\\t\\tAccuracy\\t\\tRuntimes\")\n",
    "for key,val in HW1NN.items():\n",
    "    print(\"{}\\t\\t{}\".format(key,val),\"\\t{}\".format(runtimes[index]))\n",
    "    index +=1"
   ]
  },
  {
   "cell_type": "markdown",
   "metadata": {},
   "source": [
    "# Short Answer"
   ]
  },
  {
   "cell_type": "markdown",
   "metadata": {},
   "source": [
    "a: For the lower number of layers, as we increase the number of nodes, we see a decrease in the overall runtime up until we hit 100 nodes, where we see an increase. For the larger layer numbers such as 5 and 10, we actually see fluctuating runtimes. Examples like this are when we have an increase in layers=5 where when we go from 2 nodes to 5 nodes, we double the runtime, but increasing to 10 nodes halves it back down. We see a similar, but inversed effect with layers=10, where from 2 to 5 we lower the runtime, but from 5 to 10 we bring it back to the same runtime as 2. At all points, a node number of 100 looks to always increase the runtime."
   ]
  },
  {
   "cell_type": "markdown",
   "metadata": {},
   "source": [
    "b: The optimum result fom the above looks to be 99.34%. This is apparent at several levels of layers and nodes. The following are where this is present:\n",
    "\n",
    "Layers=2, nodes=10\n",
    "\n",
    "Layers=2, nodes=100\n",
    "\n",
    "Layers=10, Nodes=50"
   ]
  },
  {
   "cell_type": "markdown",
   "metadata": {},
   "source": [
    "c: For this question, we will choose Layers=2, nodes=10 as our optimal model. In the below, we can see that as we increase the learning rate to effectively 1, we have a dramatic drop in accuracy but a large drop off in the runtime. When we consider a very small epsilon, it does not look like it has adverse effects to the runtime (actually decreases) and gives the optimal accuracy at lower values of epsilon. \n",
    "\n",
    "The max iteration was increased due to the model not being able to find convergence at varying epsilon values."
   ]
  },
  {
   "cell_type": "code",
   "execution_count": 1312,
   "metadata": {},
   "outputs": [],
   "source": [
    "epsilons = [.001, .01, .1, 1, .0001, .00001]\n",
    "Q2C = {}\n",
    "Q2CRuntimes = []\n",
    "for i in epsilons:\n",
    "    mlp = MLPClassifier(activation=\"relu\", epsilon=i, max_iter=10000, alpha=0, solver=\"adam\",\n",
    "                   hidden_layer_sizes=(10,10))\n",
    "    key_name = ('Layers=2, Nodes:10, Epsilon:' + str(i))\n",
    "    start = time.time()\n",
    "    Q2C[key_name] = [cross_val_score(mlp, simpleTrain, trainDigits, cv=10).mean()]\n",
    "    end = time.time()\n",
    "    Q2CRuntimes.append(end-start)"
   ]
  },
  {
   "cell_type": "code",
   "execution_count": 908,
   "metadata": {},
   "outputs": [
    {
     "name": "stdout",
     "output_type": "stream",
     "text": [
      "Parameters\t\t\t\t\tAccuracy\t\tRuntimes\n",
      "Layers=2, Nodes:10, Epsilon:0.001\t\t[0.9869892473118279] \t4.519749164581299\n",
      "Layers=2, Nodes:10, Epsilon:0.01\t\t[0.9869892473118279] \t6.099369049072266\n",
      "Layers=2, Nodes:10, Epsilon:0.1\t\t[0.8998924731182795] \t9.76955795288086\n",
      "Layers=2, Nodes:10, Epsilon:1\t\t[0.4906922043010752] \t0.9823930263519287\n",
      "Layers=2, Nodes:10, Epsilon:0.0001\t\t[0.9869892473118279] \t4.4847471714019775\n",
      "Layers=2, Nodes:10, Epsilon:1e-05\t\t[0.9934408602150538] \t3.945981979370117\n"
     ]
    }
   ],
   "source": [
    "index = 0\n",
    "print(\"Parameters\\t\\t\\t\\t\\tAccuracy\\t\\tRuntimes\")\n",
    "for key,val in Q2C.items():\n",
    "    print(\"{}\\t\\t{}\".format(key,val),\"\\t{}\".format(Q2CRuntimes[index]))\n",
    "    index +=1"
   ]
  },
  {
   "cell_type": "markdown",
   "metadata": {},
   "source": [
    "d: It does look like the neural network is finding the same optimal solution, but the accuracy is consistently varying with each run. When rerunning the models, we can see that the accuracy will fluctuate. This will cause changes in the expected fit, as occasionally the runs will also find better results with different layers and different nodes per neuron."
   ]
  },
  {
   "cell_type": "code",
   "execution_count": 915,
   "metadata": {},
   "outputs": [],
   "source": [
    "Q2E = {}\n",
    "mlp = MLPClassifier(activation=\"relu\", epsilon=i, max_iter=10000, alpha=0, solver=\"adam\", early_stopping=True,\n",
    "        hidden_layer_sizes=(100,100,100,100,100))\n",
    "key_name = ('With EStop')\n",
    "Q2E[key_name] = [cross_val_score(mlp, simpleTrain, trainDigits, cv=10).mean()]\n",
    "\n",
    "mlp = MLPClassifier(activation=\"relu\", epsilon=i, max_iter=10000, alpha=0, solver=\"adam\",\n",
    "        hidden_layer_sizes=(100,100,100,100,100))\n",
    "key_name = ('No EStop')\n",
    "Q2E[key_name] = [cross_val_score(mlp, simpleTrain, trainDigits, cv=10).mean()]"
   ]
  },
  {
   "cell_type": "code",
   "execution_count": 919,
   "metadata": {},
   "outputs": [
    {
     "name": "stdout",
     "output_type": "stream",
     "text": [
      "Parameters\t\tAccuracy\n",
      "With EStop\t\t[0.707997311827957]\n",
      "No EStop\t\t[0.9934408602150538]\n"
     ]
    }
   ],
   "source": [
    "index = 0\n",
    "print(\"Parameters\\t\\tAccuracy\")\n",
    "for key,val in Q2E.items():\n",
    "    print(\"{}\\t\\t{}\".format(key,val))\n",
    "    index +=1"
   ]
  },
  {
   "cell_type": "markdown",
   "metadata": {},
   "source": [
    "e: With early stopping, it looks to cause an underfit on the data more than an overfit. From the above, we see that the early stopping hsa an accuracy of 70.7% while without, we have an accuracy of 99.34%. From the information provided in scikit-learn, what early stopping does is it sets a validation set to the side and tests against the validation set. When the validation set is no longer seeing improved results, the iterations of the model will stop. This means that without early stopping, we are actually prone to overfit while we will be closer to a better model with early stopping."
   ]
  },
  {
   "cell_type": "code",
   "execution_count": 1146,
   "metadata": {},
   "outputs": [
    {
     "data": {
      "image/png": "[encoded data removed]",
      "text/plain": [
       "<matplotlib.figure.Figure at 0x1a1986cac8>"
      ]
     },
     "metadata": {},
     "output_type": "display_data"
    }
   ],
   "source": [
    "model = mlp\n",
    "model.fit(simpleTrain,trainDigits)\n",
    "\n",
    "xPred = []\n",
    "yPred = []\n",
    "cPred = []\n",
    "for xP in range(-100,100):\n",
    "    xP = xP/100.0\n",
    "    for yP in range(-100,100):\n",
    "        yP = yP/100.0\n",
    "        xPred.append(xP)\n",
    "        yPred.append(yP)\n",
    "        if(model.predict([[xP,yP]])==\"1.0\"):\n",
    "            cPred.append(\"r\")\n",
    "        else:\n",
    "            cPred.append(\"b\")\n",
    "\n",
    "mp.scatter(xPred,yPred,s=3,c=cPred,alpha=.2, )\n",
    "mp.title(\"Figure 3.1\")\n",
    "show()"
   ]
  },
  {
   "cell_type": "markdown",
   "metadata": {},
   "source": [
    "# Extra Credit"
   ]
  },
  {
   "cell_type": "code",
   "execution_count": 1324,
   "metadata": {},
   "outputs": [],
   "source": [
    "import pandas\n",
    "from sklearn import model_selection\n",
    "from sklearn.ensemble import BaggingClassifier\n",
    "from sklearn.tree import DecisionTreeClassifier"
   ]
  },
  {
   "cell_type": "code",
   "execution_count": 1329,
   "metadata": {},
   "outputs": [
    {
     "name": "stdout",
     "output_type": "stream",
     "text": [
      "0.9934408602150538\n",
      "0.9967741935483871\n",
      "0.9611827956989247\n",
      "0.9904249871991808\n"
     ]
    }
   ],
   "source": [
    "#NN by itself\n",
    "mlp = MLPClassifier(activation=\"relu\", epsilon=i, max_iter=10000, alpha=0, solver=\"adam\",\n",
    "        hidden_layer_sizes=(100,100,100,100,100))\n",
    "print(cross_val_score(mlp, simpleTrain, trainDigits, cv=10).mean())\n",
    "\n",
    "#Bagged NN\n",
    "model = BaggingClassifier(base_estimator=mlp, n_estimators=10)\n",
    "results = model_selection.cross_val_score(model, trainFeatures, trainDigits, cv=kfold)\n",
    "print(results.mean())\n",
    "\n",
    "#simplifying the NN\n",
    "#NN by itself\n",
    "mlp = MLPClassifier(activation=\"relu\", epsilon=i, max_iter=10000, alpha=0, solver=\"adam\",\n",
    "        hidden_layer_sizes=(5,5))\n",
    "print(cross_val_score(mlp, simpleTrain, trainDigits, cv=10).mean())\n",
    "\n",
    "model = BaggingClassifier(base_estimator=mlp, n_estimators=5)\n",
    "results = model_selection.cross_val_score(model, trainFeatures, trainDigits, cv=kfold)\n",
    "print(results.mean())"
   ]
  },
  {
   "cell_type": "markdown",
   "metadata": {},
   "source": [
    "1: The number of bagged neural networks has a positive effect as we increase the total number of bagged neural networks (the n_estimators was increased from 5 to 10 which had a subtle but noticeable effect).\n",
    "\n",
    "2: The first NN above is more complex while the second is more simplified. The more simplified looks to have less overall accuracy on both fronts of without bagging and with bagging. Because of this, we conclude that more complex models have a better effect.\n",
    "\n",
    "3: Neural networks are prone to not converge when there are large datasets given a number of iterations and with the layers and neurons per layer. Because of this, sometimes there may be large variance in the results. Bagging helps accomodate for this by averaging out the results and providing a mean accuracy, providing more credibility to the results and not letting it just be based on chance that you come across favorable results.\n",
    "\n",
    "4: Bagging helps the neural networks achieve a higher percent accuracy, but the cost is a much longer overall runtime (you are running several neural networks and then finding the mean). Because of this, we consider the tradeoff and, if time were not an issue, I would choose this as an optimal neural network."
   ]
  },
  {
   "cell_type": "code",
   "execution_count": null,
   "metadata": {},
   "outputs": [],
   "source": []
  }
 ],
 "metadata": {
  "kernelspec": {
   "display_name": "Python 3",
   "language": "python",
   "name": "python3"
  },
  "language_info": {
   "codemirror_mode": {
    "name": "ipython",
    "version": 3
   },
   "file_extension": ".py",
   "mimetype": "text/x-python",
   "name": "python",
   "nbconvert_exporter": "python",
   "pygments_lexer": "ipython3",
   "version": "3.6.4"
  }
 },
 "nbformat": 4,
 "nbformat_minor": 2
}
