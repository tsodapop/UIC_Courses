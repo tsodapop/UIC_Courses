{
 "cells": [
  {
   "cell_type": "code",
   "execution_count": 291,
   "metadata": {},
   "outputs": [
    {
     "name": "stdout",
     "output_type": "stream",
     "text": [
      "[nltk_data] Downloading package punkt to\n",
      "[nltk_data]     /Users/jonathantso/nltk_data...\n",
      "[nltk_data]   Package punkt is already up-to-date!\n"
     ]
    }
   ],
   "source": [
    "nltk.download('punkt')\n",
    "\n",
    "import csv\n",
    "import numpy as np\n",
    "import nltk\n",
    "from nltk.util import ngrams\n",
    "from collections import Counter\n",
    "from nltk import word_tokenize\n",
    "from collections import defaultdict\n",
    "import random\n",
    "from random import randint"
   ]
  },
  {
   "cell_type": "code",
   "execution_count": 259,
   "metadata": {},
   "outputs": [],
   "source": [
    "convertedFile = []\n",
    "bigrams = []\n",
    "\n",
    "\n",
    "#parsing out the bad data and taking in the right lines into convertedFile\n",
    "#then creating a bigram list of the words\n",
    "data = open(\"data2.csv\",newline='', encoding='utf-8')\n",
    "my_list = data.readlines()\n",
    "for row in my_list:\n",
    "    newVec = row.split(\"|\")\n",
    "    if len(newVec) == 7 and newVec[5] == \"false\":\n",
    "        token = nltk.word_tokenize(newVec[1])\n",
    "        convertedFile.append(token)\n",
    "        bigrams.append(list(ngrams(token,2)))\n",
    "#         bigrams.append(list(ngrams(token,3)))\n",
    "            "
   ]
  },
  {
   "cell_type": "code",
   "execution_count": 270,
   "metadata": {},
   "outputs": [],
   "source": [
    "cfd = nltk.ConditionalFreqDist()\n",
    "\n",
    "for each_list_of_gram in bigrams:\n",
    "    for words in each_list_of_gram:\n",
    "        condition = words[0]\n",
    "        cfd[condition][words[1]]+=1\n",
    "        \n"
   ]
  },
  {
   "cell_type": "code",
   "execution_count": 389,
   "metadata": {},
   "outputs": [
    {
     "name": "stdout",
     "output_type": "stream",
     "text": [
      "CELEBRATE\n",
      "WITH\n",
      "52\n",
      "and\n",
      "communities\n",
      "best\n",
      "ties\n",
      "anywhere\n",
      "#\n",
      "2013JuniorPGA\n",
      "championship\n",
      ".\n",
      "WOW\n",
      "YOU\n",
      "gon\n",
      "na\n",
      "visit\n",
      "stage\n",
      "''\n"
     ]
    }
   ],
   "source": [
    "# word = 'Will'\n",
    "word = random.choice(list(cfd[word].keys()))\n",
    "\n",
    "# cfd[\"''\"]\n",
    "\n",
    "for i in range(1,20):\n",
    "    print(word)\n",
    "    if word in cfd:\n",
    "#         word = cfd[word].max()\n",
    "        word = random.choice(list(cfd[word].keys()))\n",
    "    else:\n",
    "#         word = random.choice(list(cfd[word].keys()))\n",
    "        break"
   ]
  },
  {
   "cell_type": "code",
   "execution_count": null,
   "metadata": {},
   "outputs": [],
   "source": []
  },
  {
   "cell_type": "code",
   "execution_count": null,
   "metadata": {},
   "outputs": [],
   "source": []
  }
 ],
 "metadata": {
  "kernelspec": {
   "display_name": "Python 3",
   "language": "python",
   "name": "python3"
  },
  "language_info": {
   "codemirror_mode": {
    "name": "ipython",
    "version": 3
   },
   "file_extension": ".py",
   "mimetype": "text/x-python",
   "name": "python",
   "nbconvert_exporter": "python",
   "pygments_lexer": "ipython3",
   "version": "3.6.4"
  }
 },
 "nbformat": 4,
 "nbformat_minor": 2
}
